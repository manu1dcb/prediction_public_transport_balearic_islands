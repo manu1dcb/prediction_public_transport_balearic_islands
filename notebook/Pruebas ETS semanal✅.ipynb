{
 "cells": [
  {
   "cell_type": "code",
   "execution_count": 1,
   "id": "090b2942",
   "metadata": {},
   "outputs": [
    {
     "data": {
      "text/plain": [
       "datetime.datetime(2024, 1, 9, 20, 29, 8, 696231)"
      ]
     },
     "execution_count": 1,
     "metadata": {},
     "output_type": "execute_result"
    }
   ],
   "source": [
    "import time\n",
    "import datetime\n",
    "principio = datetime.datetime.now()\n",
    "principio"
   ]
  },
  {
   "cell_type": "code",
   "execution_count": 2,
   "id": "0c72125f",
   "metadata": {},
   "outputs": [
    {
     "name": "stderr",
     "output_type": "stream",
     "text": [
      "\n",
      "Bad key savefig.frameon in file C:\\Users\\manue\\anaconda3\\envs\\TecnicasPrediccion\\lib\\site-packages\\matplotlib\\mpl-data\\stylelib\\_classic_test.mplstyle, line 421 ('savefig.frameon : True')\n",
      "You probably need to get an updated matplotlibrc file from\n",
      "https://github.com/matplotlib/matplotlib/blob/v3.4.3/matplotlibrc.template\n",
      "or from the matplotlib source distribution\n",
      "\n",
      "Bad key verbose.level in file C:\\Users\\manue\\anaconda3\\envs\\TecnicasPrediccion\\lib\\site-packages\\matplotlib\\mpl-data\\stylelib\\_classic_test.mplstyle, line 472 ('verbose.level  : silent      # one of silent, helpful, debug, debug-annoying')\n",
      "You probably need to get an updated matplotlibrc file from\n",
      "https://github.com/matplotlib/matplotlib/blob/v3.4.3/matplotlibrc.template\n",
      "or from the matplotlib source distribution\n",
      "\n",
      "Bad key verbose.fileo in file C:\\Users\\manue\\anaconda3\\envs\\TecnicasPrediccion\\lib\\site-packages\\matplotlib\\mpl-data\\stylelib\\_classic_test.mplstyle, line 473 ('verbose.fileo  : sys.stdout  # a log filename, sys.stdout or sys.stderr')\n",
      "You probably need to get an updated matplotlibrc file from\n",
      "https://github.com/matplotlib/matplotlib/blob/v3.4.3/matplotlibrc.template\n",
      "or from the matplotlib source distribution\n"
     ]
    },
    {
     "data": {
      "text/plain": [
       "Fecha\n",
       "2013-01-06/2013-01-12     62614.0\n",
       "2013-01-13/2013-01-19     59301.0\n",
       "2013-01-20/2013-01-26     56391.0\n",
       "2013-01-27/2013-02-02     62981.0\n",
       "2013-02-03/2013-02-09     65258.0\n",
       "                           ...   \n",
       "2016-11-27/2016-12-03    163841.0\n",
       "2016-12-04/2016-12-10    127511.0\n",
       "2016-12-11/2016-12-17    162260.0\n",
       "2016-12-18/2016-12-24    135565.0\n",
       "2016-12-25/2016-12-31    113289.0\n",
       "Freq: W-SAT, Name: Billetes, Length: 208, dtype: float64"
      ]
     },
     "execution_count": 2,
     "metadata": {},
     "output_type": "execute_result"
    }
   ],
   "source": [
    "import warnings\n",
    "warnings.filterwarnings('ignore')\n",
    "import pandas as pd\n",
    "import numpy as np\n",
    "import matplotlib.pyplot as plt\n",
    "from sklearn.metrics import r2_score\n",
    "from sktime.forecasting.base import ForecastingHorizon\n",
    "from sktime.forecasting.ets import AutoETS\n",
    "from sktime.utils.plotting import plot_series\n",
    "from sktime.performance_metrics.forecasting import mean_absolute_percentage_error\n",
    "from sktime.forecasting.model_selection import temporal_train_test_split\n",
    "from sktime.performance_metrics.forecasting import MeanSquaredError\n",
    "from sklearn.model_selection import GridSearchCV\n",
    "from sktime.transformations.series.boxcox import LogTransformer\n",
    "\n",
    "\n",
    "# Read Data\n",
    "data = pd.read_csv('../data/datos semanales.csv')\n",
    "data.set_index('Fecha', inplace=True)\n",
    "data['Billetes'] = data['Billetes'].astype('float64')\n",
    "data.index = pd.to_datetime(data['Billetes'].index)\n",
    "data['Billetes'].astype('float64').to_period('W-Sat')"
   ]
  },
  {
   "cell_type": "code",
   "execution_count": 3,
   "id": "0eaa14c6",
   "metadata": {},
   "outputs": [],
   "source": [
    "y_train, y_test = temporal_train_test_split(y = data['Billetes'].astype('float64').to_period('W'), test_size=5)"
   ]
  },
  {
   "cell_type": "code",
   "execution_count": 4,
   "id": "b1ceb8a1",
   "metadata": {},
   "outputs": [],
   "source": [
    "fh = np.arange(len(y_test)) + 1"
   ]
  },
  {
   "cell_type": "code",
   "execution_count": 5,
   "id": "7f759c13",
   "metadata": {},
   "outputs": [
    {
     "name": "stdout",
     "output_type": "stream",
     "text": [
      "Parameters: ('additive', 'additive', 'additive', 2), MAPE: 0.19397123710289804\n",
      "Parameters: ('additive', 'additive', 'additive', 3), MAPE: 0.19369260878815925\n",
      "Parameters: ('additive', 'additive', 'additive', 4), MAPE: 0.22310713415159428\n",
      "Parameters: ('additive', 'additive', 'additive', 5), MAPE: 0.20524783626289259\n",
      "Parameters: ('additive', 'additive', 'additive', 6), MAPE: 0.2241659869603871\n",
      "Parameters: ('additive', 'additive', 'additive', 7), MAPE: 0.1665902181065831\n",
      "Parameters: ('additive', 'additive', 'additive', 13), MAPE: 0.20828897723888\n",
      "Parameters: ('additive', 'additive', 'additive', 52), MAPE: 0.15388724811176324\n",
      "Parameters: ('additive', 'additive', 'multiplicative', 2), MAPE: 0.19956211640188304\n",
      "Parameters: ('additive', 'additive', 'multiplicative', 3), MAPE: 0.20267447641479214\n",
      "Parameters: ('additive', 'additive', 'multiplicative', 4), MAPE: 0.20944210404579797\n",
      "Parameters: ('additive', 'additive', 'multiplicative', 5), MAPE: 0.2033254333898573\n",
      "Parameters: ('additive', 'additive', 'multiplicative', 6), MAPE: 0.20036296141344226\n",
      "Parameters: ('additive', 'additive', 'multiplicative', 7), MAPE: 0.22291700343482232\n",
      "Parameters: ('additive', 'additive', 'multiplicative', 13), MAPE: 0.18785904935533282\n"
     ]
    },
    {
     "name": "stderr",
     "output_type": "stream",
     "text": [
      "C:\\Users\\manue\\anaconda3\\envs\\TecnicasPrediccion\\lib\\site-packages\\statsmodels\\base\\model.py:606: ConvergenceWarning: Maximum Likelihood optimization failed to converge. Check mle_retvals\n",
      "  ConvergenceWarning)\n"
     ]
    },
    {
     "name": "stdout",
     "output_type": "stream",
     "text": [
      "Parameters: ('additive', 'additive', 'multiplicative', 52), MAPE: 0.14585495608305593\n",
      "Parameters: ('additive', 'multiplicative', 'additive', 2), MAPE: 0.08958673699604407\n",
      "Parameters: ('additive', 'multiplicative', 'additive', 3), MAPE: 0.08373052736709026\n",
      "Parameters: ('additive', 'multiplicative', 'additive', 4), MAPE: 0.08212381044382028\n",
      "Parameters: ('additive', 'multiplicative', 'additive', 5), MAPE: 0.0874282669509576\n",
      "Parameters: ('additive', 'multiplicative', 'additive', 6), MAPE: 0.2061830512781418\n",
      "Parameters: ('additive', 'multiplicative', 'additive', 7), MAPE: 0.26567463619452136\n",
      "Parameters: ('additive', 'multiplicative', 'additive', 13), MAPE: 0.11372714408325246\n",
      "Parameters: ('additive', 'multiplicative', 'additive', 52), MAPE: 0.8154017664313928\n",
      "Parameters: ('additive', 'multiplicative', 'multiplicative', 2), MAPE: 0.08993697663583311\n",
      "Parameters: ('additive', 'multiplicative', 'multiplicative', 3), MAPE: 0.08965839409304187\n",
      "Parameters: ('additive', 'multiplicative', 'multiplicative', 4), MAPE: 0.08717291904727303\n",
      "Parameters: ('additive', 'multiplicative', 'multiplicative', 5), MAPE: 0.08984051834480855\n",
      "Parameters: ('additive', 'multiplicative', 'multiplicative', 6), MAPE: 0.23005361268288022\n",
      "Parameters: ('additive', 'multiplicative', 'multiplicative', 7), MAPE: 0.20462864705705158\n",
      "Parameters: ('additive', 'multiplicative', 'multiplicative', 13), MAPE: 0.09117376449884093\n"
     ]
    },
    {
     "name": "stderr",
     "output_type": "stream",
     "text": [
      "C:\\Users\\manue\\anaconda3\\envs\\TecnicasPrediccion\\lib\\site-packages\\statsmodels\\base\\model.py:606: ConvergenceWarning: Maximum Likelihood optimization failed to converge. Check mle_retvals\n",
      "  ConvergenceWarning)\n"
     ]
    },
    {
     "name": "stdout",
     "output_type": "stream",
     "text": [
      "Parameters: ('additive', 'multiplicative', 'multiplicative', 52), MAPE: 0.14763694249956658\n",
      "Parameters: ('multiplicative', 'additive', 'additive', 2), MAPE: 0.3385908411458377\n",
      "Parameters: ('multiplicative', 'additive', 'additive', 3), MAPE: 0.3293107118021201\n",
      "Parameters: ('multiplicative', 'additive', 'additive', 4), MAPE: 0.2675933234180521\n",
      "Parameters: ('multiplicative', 'additive', 'additive', 5), MAPE: 0.3386949605749637\n",
      "Parameters: ('multiplicative', 'additive', 'additive', 6), MAPE: 0.340477946566257\n",
      "Parameters: ('multiplicative', 'additive', 'additive', 7), MAPE: 0.37267460642021055\n",
      "Parameters: ('multiplicative', 'additive', 'additive', 13), MAPE: 0.29863643085977876\n",
      "Parameters: ('multiplicative', 'additive', 'additive', 52), MAPE: 0.17761833163470736\n",
      "Parameters: ('multiplicative', 'additive', 'multiplicative', 2), MAPE: 0.3309151646178862\n",
      "Parameters: ('multiplicative', 'additive', 'multiplicative', 3), MAPE: 0.31143425024333254\n",
      "Parameters: ('multiplicative', 'additive', 'multiplicative', 4), MAPE: 0.30498166486037687\n"
     ]
    },
    {
     "name": "stderr",
     "output_type": "stream",
     "text": [
      "C:\\Users\\manue\\anaconda3\\envs\\TecnicasPrediccion\\lib\\site-packages\\statsmodels\\base\\model.py:606: ConvergenceWarning: Maximum Likelihood optimization failed to converge. Check mle_retvals\n",
      "  ConvergenceWarning)\n"
     ]
    },
    {
     "name": "stdout",
     "output_type": "stream",
     "text": [
      "Parameters: ('multiplicative', 'additive', 'multiplicative', 5), MAPE: 3467.758089338582\n",
      "Parameters: ('multiplicative', 'additive', 'multiplicative', 6), MAPE: 0.24934354694804278\n",
      "Parameters: ('multiplicative', 'additive', 'multiplicative', 7), MAPE: 0.3244749327186917\n",
      "Parameters: ('multiplicative', 'additive', 'multiplicative', 13), MAPE: 0.39959691886225857\n"
     ]
    },
    {
     "name": "stderr",
     "output_type": "stream",
     "text": [
      "C:\\Users\\manue\\anaconda3\\envs\\TecnicasPrediccion\\lib\\site-packages\\statsmodels\\base\\model.py:606: ConvergenceWarning: Maximum Likelihood optimization failed to converge. Check mle_retvals\n",
      "  ConvergenceWarning)\n"
     ]
    },
    {
     "name": "stdout",
     "output_type": "stream",
     "text": [
      "Parameters: ('multiplicative', 'additive', 'multiplicative', 52), MAPE: 0.2808377851167556\n",
      "Parameters: ('multiplicative', 'multiplicative', 'additive', 2), MAPE: 0.08965335287566845\n",
      "Parameters: ('multiplicative', 'multiplicative', 'additive', 3), MAPE: 0.08357194627529499\n",
      "Parameters: ('multiplicative', 'multiplicative', 'additive', 4), MAPE: 0.11071309391830633\n",
      "Parameters: ('multiplicative', 'multiplicative', 'additive', 5), MAPE: 0.08658819047996164\n",
      "Parameters: ('multiplicative', 'multiplicative', 'additive', 6), MAPE: 0.08605884107003724\n",
      "Parameters: ('multiplicative', 'multiplicative', 'additive', 7), MAPE: 0.08371251412252592\n",
      "Parameters: ('multiplicative', 'multiplicative', 'additive', 13), MAPE: 0.11540459717418203\n",
      "Parameters: ('multiplicative', 'multiplicative', 'additive', 52), MAPE: 1786458.9035548414\n",
      "Parameters: ('multiplicative', 'multiplicative', 'multiplicative', 2), MAPE: 0.09044331566444419\n",
      "Parameters: ('multiplicative', 'multiplicative', 'multiplicative', 3), MAPE: 0.08127788825239447\n",
      "Parameters: ('multiplicative', 'multiplicative', 'multiplicative', 4), MAPE: 0.08530461416072983\n",
      "Parameters: ('multiplicative', 'multiplicative', 'multiplicative', 5), MAPE: 0.09596338911481737\n",
      "Parameters: ('multiplicative', 'multiplicative', 'multiplicative', 6), MAPE: 0.10649278802832114\n",
      "Parameters: ('multiplicative', 'multiplicative', 'multiplicative', 7), MAPE: 0.0801912159298448\n",
      "Parameters: ('multiplicative', 'multiplicative', 'multiplicative', 13), MAPE: 0.15135252156191287\n"
     ]
    },
    {
     "name": "stderr",
     "output_type": "stream",
     "text": [
      "C:\\Users\\manue\\anaconda3\\envs\\TecnicasPrediccion\\lib\\site-packages\\statsmodels\\base\\model.py:606: ConvergenceWarning: Maximum Likelihood optimization failed to converge. Check mle_retvals\n",
      "  ConvergenceWarning)\n"
     ]
    },
    {
     "name": "stdout",
     "output_type": "stream",
     "text": [
      "Parameters: ('multiplicative', 'multiplicative', 'multiplicative', 52), MAPE: 0.08735946053320053\n"
     ]
    }
   ],
   "source": [
    "from itertools import product\n",
    "# Definir las opciones para cada parámetro\n",
    "error_options = [\"additive\", \"multiplicative\"]\n",
    "trend_options = [\"additive\", \"multiplicative\"]\n",
    "seasonal_options = [\"additive\", \"multiplicative\"]\n",
    "sp = [2, 3, 4, 5, 6, 7, 13, 52]\n",
    "\n",
    "# Generar todas las combinaciones posibles\n",
    "param_combinations = list(product(error_options, trend_options, seasonal_options, sp))\n",
    "\n",
    "# Probar diferentes combinaciones\n",
    "for params in param_combinations:\n",
    "    autoETS_model = AutoETS(\n",
    "        error=params[0],\n",
    "        trend=params[1],\n",
    "        seasonal=params[2],\n",
    "        sp=params[3],\n",
    "        n_jobs=-1\n",
    "    )\n",
    "    autoETS_model.fit(y_train)\n",
    "    ETS_pred = autoETS_model.predict(fh)\n",
    "    mape = mean_absolute_percentage_error(y_test, ETS_pred)\n",
    "    print(f\"Parameters: {params}, MAPE: {mape}\")"
   ]
  },
  {
   "cell_type": "markdown",
   "id": "7f2a4af2",
   "metadata": {},
   "source": [
    "El mejor: Parameters: ('additive', 'multiplicative', 'additive', 4), MAPE: 0.08212381044382028"
   ]
  },
  {
   "cell_type": "code",
   "execution_count": 6,
   "id": "4cdff5a9",
   "metadata": {},
   "outputs": [],
   "source": [
    "data_auto_model = AutoETS(\n",
    "        error=\"additive\",\n",
    "        trend=\"multiplicative\",\n",
    "        seasonal=\"additive\",\n",
    "        sp=4,\n",
    "        n_jobs=1)"
   ]
  },
  {
   "cell_type": "code",
   "execution_count": 7,
   "id": "687ea74e",
   "metadata": {},
   "outputs": [
    {
     "data": {
      "text/plain": [
       "AutoETS(error='additive', n_jobs=1, seasonal='additive', sp=4,\n",
       "        trend='multiplicative')"
      ]
     },
     "execution_count": 7,
     "metadata": {},
     "output_type": "execute_result"
    }
   ],
   "source": [
    "data_auto_model.fit(y_train)"
   ]
  },
  {
   "cell_type": "code",
   "execution_count": 8,
   "id": "3a8e906a",
   "metadata": {},
   "outputs": [],
   "source": [
    "y_pred = data_auto_model.predict(fh)"
   ]
  },
  {
   "cell_type": "code",
   "execution_count": 9,
   "id": "dc4fcc9a",
   "metadata": {},
   "outputs": [
    {
     "name": "stdout",
     "output_type": "stream",
     "text": [
      "MAPE: 0.08212381044382028\n",
      "MSE: 189710073.75311643\n",
      "R2 Score: 0.5140141399257458\n"
     ]
    }
   ],
   "source": [
    "mape = mean_absolute_percentage_error(y_test[0:7], y_pred[0:7])\n",
    "mse = MeanSquaredError()\n",
    "mse = mse(y_test[0:7], y_pred[0:7])\n",
    "r2 = r2_score(list(y_test[0:7]), list(y_pred[0:7]))\n",
    "\n",
    "print(f'MAPE: {mape}')\n",
    "print(f'MSE: {mse}')\n",
    "print(f'R2 Score: {r2}')\n"
   ]
  },
  {
   "cell_type": "code",
   "execution_count": 10,
   "id": "354cd00a",
   "metadata": {},
   "outputs": [
    {
     "name": "stdout",
     "output_type": "stream",
     "text": [
      "2024-01-09 20:29:08.696231\n",
      "2024-01-09 20:29:27.741458\n",
      "0:00:19.045227\n"
     ]
    }
   ],
   "source": [
    "final = datetime.datetime.now()\n",
    "duracion = final-principio\n",
    "print(principio)\n",
    "print(final)\n",
    "print(duracion)"
   ]
  }
 ],
 "metadata": {
  "kernelspec": {
   "display_name": "TecnicasPrediccion",
   "language": "python",
   "name": "tecnicasprediccion"
  },
  "language_info": {
   "codemirror_mode": {
    "name": "ipython",
    "version": 3
   },
   "file_extension": ".py",
   "mimetype": "text/x-python",
   "name": "python",
   "nbconvert_exporter": "python",
   "pygments_lexer": "ipython3",
   "version": "3.7.12"
  }
 },
 "nbformat": 4,
 "nbformat_minor": 5
}
