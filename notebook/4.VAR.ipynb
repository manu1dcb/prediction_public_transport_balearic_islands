{
 "cells": [
  {
   "cell_type": "code",
   "execution_count": null,
   "id": "4ee92e37",
   "metadata": {},
   "outputs": [],
   "source": [
    "El VAR A"
   ]
  }
 ],
 "metadata": {
  "kernelspec": {
   "display_name": "TecnicasPrediccion",
   "language": "python",
   "name": "tecnicasprediccion"
  },
  "language_info": {
   "codemirror_mode": {
    "name": "ipython",
    "version": 3
   },
   "file_extension": ".py",
   "mimetype": "text/x-python",
   "name": "python",
   "nbconvert_exporter": "python",
   "pygments_lexer": "ipython3",
   "version": "3.7.12"
  }
 },
 "nbformat": 4,
 "nbformat_minor": 5
}
