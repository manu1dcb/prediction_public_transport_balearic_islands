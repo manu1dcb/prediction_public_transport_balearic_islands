{
 "cells": [
  {
   "cell_type": "markdown",
   "id": "f20fe72d",
   "metadata": {},
   "source": [
    "Tampoco tiene sentido para esta predicción"
   ]
  },
  {
   "cell_type": "code",
   "execution_count": null,
   "id": "b7f25615",
   "metadata": {},
   "outputs": [],
   "source": []
  }
 ],
 "metadata": {
  "kernelspec": {
   "display_name": "TecnicasPrediccion",
   "language": "python",
   "name": "tecnicasprediccion"
  },
  "language_info": {
   "codemirror_mode": {
    "name": "ipython",
    "version": 3
   },
   "file_extension": ".py",
   "mimetype": "text/x-python",
   "name": "python",
   "nbconvert_exporter": "python",
   "pygments_lexer": "ipython3",
   "version": "3.7.12"
  }
 },
 "nbformat": 4,
 "nbformat_minor": 5
}
