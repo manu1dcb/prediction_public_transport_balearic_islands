{
 "cells": [
  {
   "cell_type": "code",
   "execution_count": 1,
   "id": "2620755a",
   "metadata": {},
   "outputs": [
    {
     "data": {
      "text/plain": [
       "datetime.datetime(2024, 1, 9, 20, 24, 56, 33689)"
      ]
     },
     "execution_count": 1,
     "metadata": {},
     "output_type": "execute_result"
    }
   ],
   "source": [
    "import time\n",
    "import datetime\n",
    "principio = datetime.datetime.now()\n",
    "principio"
   ]
  },
  {
   "cell_type": "code",
   "execution_count": 2,
   "id": "80a0db58",
   "metadata": {},
   "outputs": [
    {
     "name": "stderr",
     "output_type": "stream",
     "text": [
      "\n",
      "Bad key savefig.frameon in file C:\\Users\\manue\\anaconda3\\envs\\TecnicasPrediccion\\lib\\site-packages\\matplotlib\\mpl-data\\stylelib\\_classic_test.mplstyle, line 421 ('savefig.frameon : True')\n",
      "You probably need to get an updated matplotlibrc file from\n",
      "https://github.com/matplotlib/matplotlib/blob/v3.4.3/matplotlibrc.template\n",
      "or from the matplotlib source distribution\n",
      "\n",
      "Bad key verbose.level in file C:\\Users\\manue\\anaconda3\\envs\\TecnicasPrediccion\\lib\\site-packages\\matplotlib\\mpl-data\\stylelib\\_classic_test.mplstyle, line 472 ('verbose.level  : silent      # one of silent, helpful, debug, debug-annoying')\n",
      "You probably need to get an updated matplotlibrc file from\n",
      "https://github.com/matplotlib/matplotlib/blob/v3.4.3/matplotlibrc.template\n",
      "or from the matplotlib source distribution\n",
      "\n",
      "Bad key verbose.fileo in file C:\\Users\\manue\\anaconda3\\envs\\TecnicasPrediccion\\lib\\site-packages\\matplotlib\\mpl-data\\stylelib\\_classic_test.mplstyle, line 473 ('verbose.fileo  : sys.stdout  # a log filename, sys.stdout or sys.stderr')\n",
      "You probably need to get an updated matplotlibrc file from\n",
      "https://github.com/matplotlib/matplotlib/blob/v3.4.3/matplotlibrc.template\n",
      "or from the matplotlib source distribution\n"
     ]
    },
    {
     "data": {
      "text/plain": [
       "Fecha\n",
       "2013-01-01     2338.0\n",
       "2013-01-02     9376.0\n",
       "2013-01-03     9190.0\n",
       "2013-01-04     9523.0\n",
       "2013-01-05     5492.0\n",
       "               ...   \n",
       "2016-12-27    23928.0\n",
       "2016-12-28    23960.0\n",
       "2016-12-29    24279.0\n",
       "2016-12-30    22763.0\n",
       "2016-12-31     5346.0\n",
       "Freq: D, Name: Billetes, Length: 1461, dtype: float64"
      ]
     },
     "execution_count": 2,
     "metadata": {},
     "output_type": "execute_result"
    }
   ],
   "source": [
    "import warnings\n",
    "warnings.filterwarnings('ignore')\n",
    "import pandas as pd\n",
    "import numpy as np\n",
    "import matplotlib.pyplot as plt\n",
    "from sklearn.metrics import r2_score\n",
    "from sktime.forecasting.base import ForecastingHorizon\n",
    "from sktime.forecasting.ets import AutoETS\n",
    "from sktime.utils.plotting import plot_series\n",
    "from sktime.performance_metrics.forecasting import mean_absolute_percentage_error\n",
    "from sktime.forecasting.model_selection import temporal_train_test_split\n",
    "from sktime.performance_metrics.forecasting import MeanSquaredError\n",
    "from sklearn.model_selection import GridSearchCV\n",
    "from sktime.transformations.series.boxcox import LogTransformer\n",
    "\n",
    "\n",
    "# Read Data\n",
    "data = pd.read_csv('../data/datos sin días.csv')\n",
    "data.set_index('Fecha', inplace=True)\n",
    "data['Billetes'] = data['Billetes'].astype('float64')\n",
    "data.index = pd.to_datetime(data['Billetes'].index)\n",
    "data['Billetes'].astype('float64').to_period('D')"
   ]
  },
  {
   "cell_type": "code",
   "execution_count": 3,
   "id": "efa67137",
   "metadata": {
    "scrolled": true
   },
   "outputs": [],
   "source": [
    "# transformer = LogTransformer()\n",
    "# log_data = transformer.fit_transform(data)\n",
    "# log_data.tail()"
   ]
  },
  {
   "cell_type": "code",
   "execution_count": 4,
   "id": "5ab87987",
   "metadata": {},
   "outputs": [],
   "source": [
    "y_train, y_test = temporal_train_test_split(y = data['Billetes'].astype('float64').to_period('d'), test_size=31)"
   ]
  },
  {
   "cell_type": "code",
   "execution_count": 5,
   "id": "5f57e813",
   "metadata": {},
   "outputs": [
    {
     "name": "stdout",
     "output_type": "stream",
     "text": [
      "Parameters: ('additive', 'additive', 'additive'), MAPE: 0.4398070727518802\n",
      "Parameters: ('additive', 'additive', 'multiplicative'), MAPE: 0.40567354907664943\n",
      "Parameters: ('additive', 'multiplicative', 'additive'), MAPE: 0.2646999682186132\n",
      "Parameters: ('additive', 'multiplicative', 'multiplicative'), MAPE: 0.37231152448117677\n",
      "Parameters: ('multiplicative', 'additive', 'additive'), MAPE: 0.3796339606793976\n",
      "Parameters: ('multiplicative', 'additive', 'multiplicative'), MAPE: 0.3006750719106111\n",
      "Parameters: ('multiplicative', 'multiplicative', 'additive'), MAPE: 0.2785370661003324\n",
      "Parameters: ('multiplicative', 'multiplicative', 'multiplicative'), MAPE: 0.30171913471604667\n"
     ]
    }
   ],
   "source": [
    "from itertools import product\n",
    "\n",
    "fh = np.arange(len(y_test)) + 1\n",
    "\n",
    "# Definir las opciones para cada parámetro\n",
    "error_options = [\"additive\", \"multiplicative\"]\n",
    "trend_options = [\"additive\", \"multiplicative\"]\n",
    "seasonal_options = [\"additive\", \"multiplicative\"]\n",
    "\n",
    "# Generar todas las combinaciones posibles\n",
    "param_combinations = list(product(error_options, trend_options, seasonal_options))\n",
    "\n",
    "# Probar diferentes combinaciones\n",
    "for params in param_combinations:\n",
    "    autoETS_model = AutoETS(\n",
    "        error=params[0],\n",
    "        trend=params[1],\n",
    "        seasonal=params[2],\n",
    "        sp=7,\n",
    "        n_jobs=-1\n",
    "    )\n",
    "    autoETS_model.fit(y_train)\n",
    "    ETS_pred = autoETS_model.predict(fh)\n",
    "    mape = mean_absolute_percentage_error(y_test, ETS_pred)\n",
    "    print(f\"Parameters: {params}, MAPE: {mape}\")"
   ]
  },
  {
   "cell_type": "code",
   "execution_count": 6,
   "id": "4eb85344",
   "metadata": {},
   "outputs": [],
   "source": [
    "fh = np.arange(1, 32)\n",
    "data_auto_model = AutoETS(\n",
    "        error=\"additive\",\n",
    "        trend=\"multiplicative\",\n",
    "        seasonal=\"additive\",\n",
    "        sp=7,\n",
    "        n_jobs=-1\n",
    "    )"
   ]
  },
  {
   "cell_type": "code",
   "execution_count": 7,
   "id": "fffd0b1b",
   "metadata": {},
   "outputs": [
    {
     "data": {
      "text/plain": [
       "AutoETS(error='additive', n_jobs=-1, seasonal='additive', sp=7,\n",
       "        trend='multiplicative')"
      ]
     },
     "execution_count": 7,
     "metadata": {},
     "output_type": "execute_result"
    }
   ],
   "source": [
    "data_auto_model.fit(y_train)"
   ]
  },
  {
   "cell_type": "code",
   "execution_count": 8,
   "id": "39f926d5",
   "metadata": {},
   "outputs": [],
   "source": [
    "y_pred = data_auto_model.predict(fh)"
   ]
  },
  {
   "cell_type": "code",
   "execution_count": 9,
   "id": "d3dbd43e",
   "metadata": {},
   "outputs": [
    {
     "name": "stdout",
     "output_type": "stream",
     "text": [
      "MAPE: 0.2646999682186132\n",
      "MSE: 27020314.698644344\n",
      "R2 Score: 0.5927001089375472\n"
     ]
    }
   ],
   "source": [
    "mape = mean_absolute_percentage_error(y_test[0:31], y_pred[0:31])\n",
    "mse = MeanSquaredError()\n",
    "mse = mse(y_test[0:31], y_pred[0:31])\n",
    "r2 = r2_score(list(y_test[0:31]), list(y_pred[0:31]))\n",
    "\n",
    "print(f'MAPE: {mape}')\n",
    "print(f'MSE: {mse}')\n",
    "print(f'R2 Score: {r2}')\n"
   ]
  },
  {
   "cell_type": "code",
   "execution_count": 10,
   "id": "ea8dba76",
   "metadata": {},
   "outputs": [
    {
     "name": "stdout",
     "output_type": "stream",
     "text": [
      "2024-01-09 20:24:56.033689\n",
      "2024-01-09 20:24:59.843762\n",
      "0:00:03.810073\n"
     ]
    }
   ],
   "source": [
    "final = datetime.datetime.now()\n",
    "duracion = final-principio\n",
    "print(principio)\n",
    "print(final)\n",
    "print(duracion)"
   ]
  }
 ],
 "metadata": {
  "kernelspec": {
   "display_name": "TecnicasPrediccion",
   "language": "python",
   "name": "tecnicasprediccion"
  },
  "language_info": {
   "codemirror_mode": {
    "name": "ipython",
    "version": 3
   },
   "file_extension": ".py",
   "mimetype": "text/x-python",
   "name": "python",
   "nbconvert_exporter": "python",
   "pygments_lexer": "ipython3",
   "version": "3.7.12"
  }
 },
 "nbformat": 4,
 "nbformat_minor": 5
}
