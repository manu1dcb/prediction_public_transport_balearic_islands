{
 "cells": [
  {
   "cell_type": "code",
   "execution_count": 1,
   "id": "49cc662d",
   "metadata": {},
   "outputs": [
    {
     "data": {
      "text/plain": [
       "datetime.datetime(2024, 1, 5, 11, 40, 40, 235243)"
      ]
     },
     "execution_count": 1,
     "metadata": {},
     "output_type": "execute_result"
    }
   ],
   "source": [
    "import time\n",
    "import datetime\n",
    "principio = datetime.datetime.now()\n",
    "principio"
   ]
  },
  {
   "cell_type": "code",
   "execution_count": 2,
   "id": "49dc6d6a",
   "metadata": {},
   "outputs": [
    {
     "name": "stderr",
     "output_type": "stream",
     "text": [
      "\n",
      "Bad key savefig.frameon in file C:\\Users\\manue\\anaconda3\\envs\\TecnicasPrediccion\\lib\\site-packages\\matplotlib\\mpl-data\\stylelib\\_classic_test.mplstyle, line 421 ('savefig.frameon : True')\n",
      "You probably need to get an updated matplotlibrc file from\n",
      "https://github.com/matplotlib/matplotlib/blob/v3.4.3/matplotlibrc.template\n",
      "or from the matplotlib source distribution\n",
      "\n",
      "Bad key verbose.level in file C:\\Users\\manue\\anaconda3\\envs\\TecnicasPrediccion\\lib\\site-packages\\matplotlib\\mpl-data\\stylelib\\_classic_test.mplstyle, line 472 ('verbose.level  : silent      # one of silent, helpful, debug, debug-annoying')\n",
      "You probably need to get an updated matplotlibrc file from\n",
      "https://github.com/matplotlib/matplotlib/blob/v3.4.3/matplotlibrc.template\n",
      "or from the matplotlib source distribution\n",
      "\n",
      "Bad key verbose.fileo in file C:\\Users\\manue\\anaconda3\\envs\\TecnicasPrediccion\\lib\\site-packages\\matplotlib\\mpl-data\\stylelib\\_classic_test.mplstyle, line 473 ('verbose.fileo  : sys.stdout  # a log filename, sys.stdout or sys.stderr')\n",
      "You probably need to get an updated matplotlibrc file from\n",
      "https://github.com/matplotlib/matplotlib/blob/v3.4.3/matplotlibrc.template\n",
      "or from the matplotlib source distribution\n",
      "In C:\\Users\\manue\\anaconda3\\envs\\TecnicasPrediccion\\lib\\site-packages\\matplotlib\\mpl-data\\stylelib\\_classic_test.mplstyle: \n",
      "The text.latex.preview rcparam was deprecated in Matplotlib 3.3 and will be removed two minor releases later.\n",
      "In C:\\Users\\manue\\anaconda3\\envs\\TecnicasPrediccion\\lib\\site-packages\\matplotlib\\mpl-data\\stylelib\\_classic_test.mplstyle: \n",
      "The mathtext.fallback_to_cm rcparam was deprecated in Matplotlib 3.3 and will be removed two minor releases later.\n",
      "In C:\\Users\\manue\\anaconda3\\envs\\TecnicasPrediccion\\lib\\site-packages\\matplotlib\\mpl-data\\stylelib\\_classic_test.mplstyle: Support for setting the 'mathtext.fallback_to_cm' rcParam is deprecated since 3.3 and will be removed two minor releases later; use 'mathtext.fallback : 'cm' instead.\n",
      "In C:\\Users\\manue\\anaconda3\\envs\\TecnicasPrediccion\\lib\\site-packages\\matplotlib\\mpl-data\\stylelib\\_classic_test.mplstyle: \n",
      "The validate_bool_maybe_none function was deprecated in Matplotlib 3.3 and will be removed two minor releases later.\n",
      "In C:\\Users\\manue\\anaconda3\\envs\\TecnicasPrediccion\\lib\\site-packages\\matplotlib\\mpl-data\\stylelib\\_classic_test.mplstyle: \n",
      "The savefig.jpeg_quality rcparam was deprecated in Matplotlib 3.3 and will be removed two minor releases later.\n",
      "In C:\\Users\\manue\\anaconda3\\envs\\TecnicasPrediccion\\lib\\site-packages\\matplotlib\\mpl-data\\stylelib\\_classic_test.mplstyle: \n",
      "The keymap.all_axes rcparam was deprecated in Matplotlib 3.3 and will be removed two minor releases later.\n",
      "In C:\\Users\\manue\\anaconda3\\envs\\TecnicasPrediccion\\lib\\site-packages\\matplotlib\\mpl-data\\stylelib\\_classic_test.mplstyle: \n",
      "The animation.avconv_path rcparam was deprecated in Matplotlib 3.3 and will be removed two minor releases later.\n",
      "In C:\\Users\\manue\\anaconda3\\envs\\TecnicasPrediccion\\lib\\site-packages\\matplotlib\\mpl-data\\stylelib\\_classic_test.mplstyle: \n",
      "The animation.avconv_args rcparam was deprecated in Matplotlib 3.3 and will be removed two minor releases later.\n"
     ]
    }
   ],
   "source": [
    "# Packages\n",
    "import pandas as pd\n",
    "import numpy as np\n",
    "import matplotlib.pyplot as plt\n",
    "from sktime.utils.plotting import plot_series\n",
    "import seaborn as sns\n",
    "from sktime.transformations.series.boxcox import LogTransformer\n",
    "from sktime.transformations.series.difference import Differencer\n",
    "from sktime.forecasting.base import ForecastingHorizon\n",
    "from sktime.forecasting.model_selection import temporal_train_test_split\n",
    "from sktime.forecasting.arima import AutoARIMA\n",
    "from sktime.performance_metrics.forecasting import mean_absolute_percentage_error\n",
    "from sktime.performance_metrics.forecasting import MeanSquaredError\n",
    "from sklearn.metrics import r2_score\n",
    "\n",
    "\n",
    "\n",
    "# Read Data\n",
    "data = pd.read_csv('../data/datos sin días.csv')\n",
    "data.set_index('Fecha', inplace=True)\n",
    "data_festivos_dias_semana = pd.read_csv('../data/datos con días.csv')\n",
    "data_festivos_dias_semana.set_index('Fecha', inplace=True)\n",
    "transformer = LogTransformer()\n",
    "data.index = pd.to_datetime(data.index)\n",
    "log_data = transformer.fit_transform(data)"
   ]
  },
  {
   "cell_type": "code",
   "execution_count": 3,
   "id": "ea2d952d",
   "metadata": {},
   "outputs": [],
   "source": [
    "transf_diff=Differencer(lags=[1])"
   ]
  },
  {
   "cell_type": "code",
   "execution_count": 4,
   "id": "4cb7e36f",
   "metadata": {},
   "outputs": [],
   "source": [
    "y_train, y_test = temporal_train_test_split(y =data.astype('float64').to_period('d'), test_size=31)\n",
    "log_y_train, log_y_test = temporal_train_test_split(y = log_data.astype('float64').to_period('d'), test_size=31)\n"
   ]
  },
  {
   "cell_type": "code",
   "execution_count": 5,
   "id": "60e89a38",
   "metadata": {},
   "outputs": [],
   "source": [
    "fh = np.arange(len(y_test)) + 1"
   ]
  },
  {
   "cell_type": "code",
   "execution_count": 6,
   "id": "11e9896f",
   "metadata": {
    "scrolled": true
   },
   "outputs": [],
   "source": [
    "# sp_values = [1, 2, 3, 4, 5, 6, 7, 8, 9, 10, 11, 12, 30, 31]\n",
    "# for i in sp_values:\n",
    "#     forecaster = AutoARIMA(sp=i, suppress_warnings=True)\n",
    "#     forecaster.fit(log_y_train)\n",
    "#     log_y_pred = forecaster.predict(fh)\n",
    "#     y_pred = np.exp(log_y_pred)\n",
    "    \n",
    "#     mape = mean_absolute_percentage_error(y_test[0:31], y_pred[0:31])\n",
    "    \n",
    "#     mse = MeanSquaredError()\n",
    "#     mse_value = mse(y_test[0:31], y_pred[0:31])\n",
    "    \n",
    "#     r2 = r2_score(y_test[0:31], y_pred[0:31])\n",
    "\n",
    "#     print(f'MAPE con sp={i}: {mape}')\n",
    "#     print(f'MSE con sp={i}: {mse_value}')\n",
    "#     print(f'R2 Score con sp={i}: {r2}')"
   ]
  },
  {
   "cell_type": "markdown",
   "id": "07653d1a",
   "metadata": {},
   "source": [
    "Confirmamos que el mejor valor con transformación logarítmica es sp=7"
   ]
  },
  {
   "cell_type": "code",
   "execution_count": 9,
   "id": "8c47ba07",
   "metadata": {},
   "outputs": [
    {
     "name": "stdout",
     "output_type": "stream",
     "text": [
      "con seasonal True, stationary True, ic aic, scoring mse, MAPE: 0.3051574107940964\n",
      "con seasonal True, stationary True, ic aic, scoring mae, MAPE: 0.3051574107940964\n",
      "con seasonal True, stationary True, ic bic, scoring mse, MAPE: 0.3348993290246156\n",
      "con seasonal True, stationary True, ic bic, scoring mae, MAPE: 0.3348993290246156\n",
      "con seasonal True, stationary True, ic hqic, scoring mse, MAPE: 0.3051574107940964\n",
      "con seasonal True, stationary True, ic hqic, scoring mae, MAPE: 0.3051574107940964\n"
     ]
    },
    {
     "name": "stderr",
     "output_type": "stream",
     "text": [
      "C:\\Users\\manue\\anaconda3\\envs\\TecnicasPrediccion\\lib\\site-packages\\pmdarima\\arima\\_validation.py:35: UserWarning: information_criterion cannot be 'oob' with out_of_sample_size = 0. Falling back to information criterion = aic.\n",
      "  warnings.warn('information_criterion cannot be \\'oob\\' with '\n"
     ]
    },
    {
     "name": "stdout",
     "output_type": "stream",
     "text": [
      "con seasonal True, stationary True, ic oob, scoring mse, MAPE: 0.3051574107940964\n"
     ]
    },
    {
     "name": "stderr",
     "output_type": "stream",
     "text": [
      "C:\\Users\\manue\\anaconda3\\envs\\TecnicasPrediccion\\lib\\site-packages\\pmdarima\\arima\\_validation.py:35: UserWarning: information_criterion cannot be 'oob' with out_of_sample_size = 0. Falling back to information criterion = aic.\n",
      "  warnings.warn('information_criterion cannot be \\'oob\\' with '\n"
     ]
    },
    {
     "name": "stdout",
     "output_type": "stream",
     "text": [
      "con seasonal True, stationary True, ic oob, scoring mae, MAPE: 0.3051574107940964\n",
      "con seasonal True, stationary False, ic aic, scoring mse, MAPE: 0.3270840313072271\n",
      "con seasonal True, stationary False, ic aic, scoring mae, MAPE: 0.3270840313072271\n",
      "con seasonal True, stationary False, ic bic, scoring mse, MAPE: 0.3270840313072271\n",
      "con seasonal True, stationary False, ic bic, scoring mae, MAPE: 0.3270840313072271\n",
      "con seasonal True, stationary False, ic hqic, scoring mse, MAPE: 0.3270840313072271\n",
      "con seasonal True, stationary False, ic hqic, scoring mae, MAPE: 0.3270840313072271\n"
     ]
    },
    {
     "name": "stderr",
     "output_type": "stream",
     "text": [
      "C:\\Users\\manue\\anaconda3\\envs\\TecnicasPrediccion\\lib\\site-packages\\pmdarima\\arima\\_validation.py:35: UserWarning: information_criterion cannot be 'oob' with out_of_sample_size = 0. Falling back to information criterion = aic.\n",
      "  warnings.warn('information_criterion cannot be \\'oob\\' with '\n"
     ]
    },
    {
     "name": "stdout",
     "output_type": "stream",
     "text": [
      "con seasonal True, stationary False, ic oob, scoring mse, MAPE: 0.3270840313072271\n"
     ]
    },
    {
     "name": "stderr",
     "output_type": "stream",
     "text": [
      "C:\\Users\\manue\\anaconda3\\envs\\TecnicasPrediccion\\lib\\site-packages\\pmdarima\\arima\\_validation.py:35: UserWarning: information_criterion cannot be 'oob' with out_of_sample_size = 0. Falling back to information criterion = aic.\n",
      "  warnings.warn('information_criterion cannot be \\'oob\\' with '\n"
     ]
    },
    {
     "name": "stdout",
     "output_type": "stream",
     "text": [
      "con seasonal True, stationary False, ic oob, scoring mae, MAPE: 0.3270840313072271\n"
     ]
    },
    {
     "name": "stderr",
     "output_type": "stream",
     "text": [
      "C:\\Users\\manue\\anaconda3\\envs\\TecnicasPrediccion\\lib\\site-packages\\pmdarima\\arima\\_validation.py:62: UserWarning: m (7) set for non-seasonal fit. Setting to 0\n",
      "  warnings.warn(\"m (%i) set for non-seasonal fit. Setting to 0\" % m)\n"
     ]
    },
    {
     "name": "stdout",
     "output_type": "stream",
     "text": [
      "con seasonal False, stationary True, ic aic, scoring mse, MAPE: 0.5008937876516164\n"
     ]
    },
    {
     "name": "stderr",
     "output_type": "stream",
     "text": [
      "C:\\Users\\manue\\anaconda3\\envs\\TecnicasPrediccion\\lib\\site-packages\\pmdarima\\arima\\_validation.py:62: UserWarning: m (7) set for non-seasonal fit. Setting to 0\n",
      "  warnings.warn(\"m (%i) set for non-seasonal fit. Setting to 0\" % m)\n"
     ]
    },
    {
     "name": "stdout",
     "output_type": "stream",
     "text": [
      "con seasonal False, stationary True, ic aic, scoring mae, MAPE: 0.5008937876516164\n"
     ]
    },
    {
     "name": "stderr",
     "output_type": "stream",
     "text": [
      "C:\\Users\\manue\\anaconda3\\envs\\TecnicasPrediccion\\lib\\site-packages\\pmdarima\\arima\\_validation.py:62: UserWarning: m (7) set for non-seasonal fit. Setting to 0\n",
      "  warnings.warn(\"m (%i) set for non-seasonal fit. Setting to 0\" % m)\n"
     ]
    },
    {
     "name": "stdout",
     "output_type": "stream",
     "text": [
      "con seasonal False, stationary True, ic bic, scoring mse, MAPE: 0.5008937876516164\n"
     ]
    },
    {
     "name": "stderr",
     "output_type": "stream",
     "text": [
      "C:\\Users\\manue\\anaconda3\\envs\\TecnicasPrediccion\\lib\\site-packages\\pmdarima\\arima\\_validation.py:62: UserWarning: m (7) set for non-seasonal fit. Setting to 0\n",
      "  warnings.warn(\"m (%i) set for non-seasonal fit. Setting to 0\" % m)\n"
     ]
    },
    {
     "name": "stdout",
     "output_type": "stream",
     "text": [
      "con seasonal False, stationary True, ic bic, scoring mae, MAPE: 0.5008937876516164\n"
     ]
    },
    {
     "name": "stderr",
     "output_type": "stream",
     "text": [
      "C:\\Users\\manue\\anaconda3\\envs\\TecnicasPrediccion\\lib\\site-packages\\pmdarima\\arima\\_validation.py:62: UserWarning: m (7) set for non-seasonal fit. Setting to 0\n",
      "  warnings.warn(\"m (%i) set for non-seasonal fit. Setting to 0\" % m)\n"
     ]
    },
    {
     "name": "stdout",
     "output_type": "stream",
     "text": [
      "con seasonal False, stationary True, ic hqic, scoring mse, MAPE: 0.5008937876516164\n"
     ]
    },
    {
     "name": "stderr",
     "output_type": "stream",
     "text": [
      "C:\\Users\\manue\\anaconda3\\envs\\TecnicasPrediccion\\lib\\site-packages\\pmdarima\\arima\\_validation.py:62: UserWarning: m (7) set for non-seasonal fit. Setting to 0\n",
      "  warnings.warn(\"m (%i) set for non-seasonal fit. Setting to 0\" % m)\n"
     ]
    },
    {
     "name": "stdout",
     "output_type": "stream",
     "text": [
      "con seasonal False, stationary True, ic hqic, scoring mae, MAPE: 0.5008937876516164\n"
     ]
    },
    {
     "name": "stderr",
     "output_type": "stream",
     "text": [
      "C:\\Users\\manue\\anaconda3\\envs\\TecnicasPrediccion\\lib\\site-packages\\pmdarima\\arima\\_validation.py:62: UserWarning: m (7) set for non-seasonal fit. Setting to 0\n",
      "  warnings.warn(\"m (%i) set for non-seasonal fit. Setting to 0\" % m)\n",
      "C:\\Users\\manue\\anaconda3\\envs\\TecnicasPrediccion\\lib\\site-packages\\pmdarima\\arima\\_validation.py:35: UserWarning: information_criterion cannot be 'oob' with out_of_sample_size = 0. Falling back to information criterion = aic.\n",
      "  warnings.warn('information_criterion cannot be \\'oob\\' with '\n"
     ]
    },
    {
     "name": "stdout",
     "output_type": "stream",
     "text": [
      "con seasonal False, stationary True, ic oob, scoring mse, MAPE: 0.5008937876516164\n"
     ]
    },
    {
     "name": "stderr",
     "output_type": "stream",
     "text": [
      "C:\\Users\\manue\\anaconda3\\envs\\TecnicasPrediccion\\lib\\site-packages\\pmdarima\\arima\\_validation.py:62: UserWarning: m (7) set for non-seasonal fit. Setting to 0\n",
      "  warnings.warn(\"m (%i) set for non-seasonal fit. Setting to 0\" % m)\n",
      "C:\\Users\\manue\\anaconda3\\envs\\TecnicasPrediccion\\lib\\site-packages\\pmdarima\\arima\\_validation.py:35: UserWarning: information_criterion cannot be 'oob' with out_of_sample_size = 0. Falling back to information criterion = aic.\n",
      "  warnings.warn('information_criterion cannot be \\'oob\\' with '\n"
     ]
    },
    {
     "name": "stdout",
     "output_type": "stream",
     "text": [
      "con seasonal False, stationary True, ic oob, scoring mae, MAPE: 0.5008937876516164\n"
     ]
    },
    {
     "name": "stderr",
     "output_type": "stream",
     "text": [
      "C:\\Users\\manue\\anaconda3\\envs\\TecnicasPrediccion\\lib\\site-packages\\pmdarima\\arima\\_validation.py:62: UserWarning: m (7) set for non-seasonal fit. Setting to 0\n",
      "  warnings.warn(\"m (%i) set for non-seasonal fit. Setting to 0\" % m)\n"
     ]
    },
    {
     "name": "stdout",
     "output_type": "stream",
     "text": [
      "con seasonal False, stationary False, ic aic, scoring mse, MAPE: 0.42704603151977555\n"
     ]
    },
    {
     "name": "stderr",
     "output_type": "stream",
     "text": [
      "C:\\Users\\manue\\anaconda3\\envs\\TecnicasPrediccion\\lib\\site-packages\\pmdarima\\arima\\_validation.py:62: UserWarning: m (7) set for non-seasonal fit. Setting to 0\n",
      "  warnings.warn(\"m (%i) set for non-seasonal fit. Setting to 0\" % m)\n"
     ]
    },
    {
     "name": "stdout",
     "output_type": "stream",
     "text": [
      "con seasonal False, stationary False, ic aic, scoring mae, MAPE: 0.42704603151977555\n"
     ]
    },
    {
     "name": "stderr",
     "output_type": "stream",
     "text": [
      "C:\\Users\\manue\\anaconda3\\envs\\TecnicasPrediccion\\lib\\site-packages\\pmdarima\\arima\\_validation.py:62: UserWarning: m (7) set for non-seasonal fit. Setting to 0\n",
      "  warnings.warn(\"m (%i) set for non-seasonal fit. Setting to 0\" % m)\n"
     ]
    },
    {
     "name": "stdout",
     "output_type": "stream",
     "text": [
      "con seasonal False, stationary False, ic bic, scoring mse, MAPE: 0.4906409449393137\n"
     ]
    },
    {
     "name": "stderr",
     "output_type": "stream",
     "text": [
      "C:\\Users\\manue\\anaconda3\\envs\\TecnicasPrediccion\\lib\\site-packages\\pmdarima\\arima\\_validation.py:62: UserWarning: m (7) set for non-seasonal fit. Setting to 0\n",
      "  warnings.warn(\"m (%i) set for non-seasonal fit. Setting to 0\" % m)\n"
     ]
    },
    {
     "name": "stdout",
     "output_type": "stream",
     "text": [
      "con seasonal False, stationary False, ic bic, scoring mae, MAPE: 0.4906409449393137\n"
     ]
    },
    {
     "name": "stderr",
     "output_type": "stream",
     "text": [
      "C:\\Users\\manue\\anaconda3\\envs\\TecnicasPrediccion\\lib\\site-packages\\pmdarima\\arima\\_validation.py:62: UserWarning: m (7) set for non-seasonal fit. Setting to 0\n",
      "  warnings.warn(\"m (%i) set for non-seasonal fit. Setting to 0\" % m)\n"
     ]
    },
    {
     "name": "stdout",
     "output_type": "stream",
     "text": [
      "con seasonal False, stationary False, ic hqic, scoring mse, MAPE: 0.4906409449393137\n"
     ]
    },
    {
     "name": "stderr",
     "output_type": "stream",
     "text": [
      "C:\\Users\\manue\\anaconda3\\envs\\TecnicasPrediccion\\lib\\site-packages\\pmdarima\\arima\\_validation.py:62: UserWarning: m (7) set for non-seasonal fit. Setting to 0\n",
      "  warnings.warn(\"m (%i) set for non-seasonal fit. Setting to 0\" % m)\n"
     ]
    },
    {
     "name": "stdout",
     "output_type": "stream",
     "text": [
      "con seasonal False, stationary False, ic hqic, scoring mae, MAPE: 0.4906409449393137\n"
     ]
    },
    {
     "name": "stderr",
     "output_type": "stream",
     "text": [
      "C:\\Users\\manue\\anaconda3\\envs\\TecnicasPrediccion\\lib\\site-packages\\pmdarima\\arima\\_validation.py:62: UserWarning: m (7) set for non-seasonal fit. Setting to 0\n",
      "  warnings.warn(\"m (%i) set for non-seasonal fit. Setting to 0\" % m)\n",
      "C:\\Users\\manue\\anaconda3\\envs\\TecnicasPrediccion\\lib\\site-packages\\pmdarima\\arima\\_validation.py:35: UserWarning: information_criterion cannot be 'oob' with out_of_sample_size = 0. Falling back to information criterion = aic.\n",
      "  warnings.warn('information_criterion cannot be \\'oob\\' with '\n"
     ]
    },
    {
     "name": "stdout",
     "output_type": "stream",
     "text": [
      "con seasonal False, stationary False, ic oob, scoring mse, MAPE: 0.42704603151977555\n"
     ]
    },
    {
     "name": "stderr",
     "output_type": "stream",
     "text": [
      "C:\\Users\\manue\\anaconda3\\envs\\TecnicasPrediccion\\lib\\site-packages\\pmdarima\\arima\\_validation.py:62: UserWarning: m (7) set for non-seasonal fit. Setting to 0\n",
      "  warnings.warn(\"m (%i) set for non-seasonal fit. Setting to 0\" % m)\n",
      "C:\\Users\\manue\\anaconda3\\envs\\TecnicasPrediccion\\lib\\site-packages\\pmdarima\\arima\\_validation.py:35: UserWarning: information_criterion cannot be 'oob' with out_of_sample_size = 0. Falling back to information criterion = aic.\n",
      "  warnings.warn('information_criterion cannot be \\'oob\\' with '\n"
     ]
    },
    {
     "name": "stdout",
     "output_type": "stream",
     "text": [
      "con seasonal False, stationary False, ic oob, scoring mae, MAPE: 0.42704603151977555\n"
     ]
    }
   ],
   "source": [
    "from itertools import product\n",
    "error_action=\"ignore\"\n",
    "\n",
    "seasonal = [True, False]\n",
    "stationary = [True, False]\n",
    "information_criterion = [\"aic\", \"bic\", \"hqic\", \"oob\"]\n",
    "# method = [\"newton\", \"nm\", \"bfgs\", \"lbfgs\", \"powell\", \"cg\", \"ncg\", \"basinhopping\"]\n",
    "scoring = ['mse', 'mae']\n",
    "\n",
    "param_combinations = list(product(seasonal, stationary, information_criterion, scoring))\n",
    "\n",
    "for params in param_combinations:\n",
    "    forecaster = AutoARIMA(\n",
    "        seasonal=params[0],\n",
    "        stationary=params[1],\n",
    "        information_criterion=params[2],\n",
    "#         method=params[3],\n",
    "        scoring=params[3],\n",
    "        sp=7,\n",
    "        suppress_warnings=True)\n",
    "    forecaster.fit(log_y_train)\n",
    "    log_y_pred = forecaster.predict(fh)\n",
    "    y_pred=np.exp(log_y_pred)\n",
    "    mape = mean_absolute_percentage_error(y_test[0:31], y_pred[0:31])\n",
    "#     mse = MeanSquaredError()\n",
    "#     mse = mse(y_test[0:31], y_pred[0:31])\n",
    "#     r2 = r2_score(y_test, y_pred)\n",
    "\n",
    "    print(f'con seasonal {params[0]}, stationary {params[1]}, ic {params[2]}, scoring {params[3]}, MAPE: {mape}')\n",
    "#     print(f'MSE: {mse}')\n",
    "#     print(f'R2 Score: {r2}')"
   ]
  },
  {
   "cell_type": "markdown",
   "id": "38e38020",
   "metadata": {},
   "source": [
    "con seasonal True, stationary True, ic aic, scoring mse, MAPE: 0.3051574107940964\n",
    "\n",
    "con seasonal True, stationary True, ic aic, scoring mae, MAPE: 0.3051574107940964\n",
    "\n",
    "con seasonal True, stationary True, ic hqic, scoring mse, MAPE: 0.3051574107940964\n",
    "\n",
    "con seasonal True, stationary True, ic hqic, scoring mae, MAPE: 0.3051574107940964\n",
    "\n",
    "con seasonal True, stationary True, ic oob, scoring mae, MAPE: 0.3051574107940964\n"
   ]
  },
  {
   "cell_type": "code",
   "execution_count": 11,
   "id": "fd2981ac",
   "metadata": {},
   "outputs": [
    {
     "data": {
      "text/plain": [
       "AutoARIMA(sp=7, stationary=True, suppress_warnings=True)"
      ]
     },
     "execution_count": 11,
     "metadata": {},
     "output_type": "execute_result"
    }
   ],
   "source": [
    "forecaster = AutoARIMA(\n",
    "    seasonal=True,\n",
    "    stationary=True,\n",
    "    information_criterion=\"aic\",\n",
    "    scoring=\"mse\",\n",
    "    sp=7,\n",
    "    suppress_warnings=True)\n",
    "forecaster.fit(log_y_train)"
   ]
  },
  {
   "cell_type": "code",
   "execution_count": 12,
   "id": "20d543bc",
   "metadata": {},
   "outputs": [],
   "source": [
    "log_y_pred = forecaster.predict(fh)"
   ]
  },
  {
   "cell_type": "code",
   "execution_count": 13,
   "id": "945fa26a",
   "metadata": {},
   "outputs": [],
   "source": [
    "y_pred=np.exp(log_y_pred)"
   ]
  },
  {
   "cell_type": "code",
   "execution_count": 14,
   "id": "7ad30a40",
   "metadata": {},
   "outputs": [
    {
     "name": "stdout",
     "output_type": "stream",
     "text": [
      "MAPE: 0.3051574107940964\n",
      "MSE: 26153315.84357026\n",
      "R2 Score: 0.6057691106557495\n"
     ]
    }
   ],
   "source": [
    "mape = mean_absolute_percentage_error(y_test[0:31], y_pred[0:31])\n",
    "mse = MeanSquaredError()\n",
    "mse = mse(y_test[0:31], y_pred[0:31])\n",
    "r2 = r2_score(y_test, y_pred)\n",
    "\n",
    "print(f'MAPE: {mape}')\n",
    "print(f'MSE: {mse}')\n",
    "print(f'R2 Score: {r2}')"
   ]
  },
  {
   "cell_type": "markdown",
   "id": "db7dcc08",
   "metadata": {},
   "source": [
    "Ahora sin log"
   ]
  },
  {
   "cell_type": "code",
   "execution_count": 15,
   "id": "bc0c5ab2",
   "metadata": {},
   "outputs": [],
   "source": [
    "# forecaster = AutoARIMA(sp=7,suppress_warnings=True)\n",
    "# forecaster.fit(y_train)"
   ]
  },
  {
   "cell_type": "code",
   "execution_count": 16,
   "id": "f6c2ee38",
   "metadata": {},
   "outputs": [],
   "source": [
    "# y_pred = forecaster.predict(fh)"
   ]
  },
  {
   "cell_type": "code",
   "execution_count": 17,
   "id": "43719e44",
   "metadata": {},
   "outputs": [],
   "source": [
    "# mape = mean_absolute_percentage_error(y_test[0:31], y_pred[0:31])\n",
    "# mse = MeanSquaredError()\n",
    "# mse = mse(y_test[0:31], y_pred[0:31])\n",
    "# r2 = r2_score(y_test, y_pred)\n",
    "\n",
    "# print(f'MAPE: {mape}')\n",
    "# print(f'MSE: {mse}')\n",
    "# print(f'R2 Score: {r2}')"
   ]
  },
  {
   "cell_type": "code",
   "execution_count": 18,
   "id": "7fc56271",
   "metadata": {},
   "outputs": [],
   "source": [
    "# sp_values = [1, 2, 3, 4, 5, 6, 7, 8, 9, 10, 11, 12, 30, 31]\n",
    "# for i in sp_values:\n",
    "#     forecaster = AutoARIMA(sp=i, suppress_warnings=True)\n",
    "#     forecaster.fit(y_train)\n",
    "#     y_pred = forecaster.predict(fh)\n",
    "    \n",
    "#     mape = mean_absolute_percentage_error(y_test[0:31], y_pred[0:31])\n",
    "    \n",
    "#     mse = MeanSquaredError()\n",
    "#     mse_value = mse(y_test[0:31], y_pred[0:31])\n",
    "    \n",
    "#     r2 = r2_score(y_test[0:31], y_pred[0:31])\n",
    "\n",
    "#     print(f'MAPE con sp={i}: {mape}')\n",
    "#     print(f'MSE con sp={i}: {mse_value}')\n",
    "#     print(f'R2 Score con sp={i}: {r2}')"
   ]
  },
  {
   "cell_type": "code",
   "execution_count": 19,
   "id": "d8835e3d",
   "metadata": {},
   "outputs": [
    {
     "name": "stdout",
     "output_type": "stream",
     "text": [
      "2024-01-05 11:40:40.235243\n",
      "2024-01-05 13:25:52.530800\n",
      "1:45:12.295557\n"
     ]
    }
   ],
   "source": [
    "final = datetime.datetime.now()\n",
    "duracion = final-principio\n",
    "print(principio)\n",
    "print(final)\n",
    "print(duracion)"
   ]
  },
  {
   "cell_type": "code",
   "execution_count": null,
   "id": "4211f5df",
   "metadata": {},
   "outputs": [],
   "source": []
  }
 ],
 "metadata": {
  "kernelspec": {
   "display_name": "TecnicasPrediccion",
   "language": "python",
   "name": "tecnicasprediccion"
  },
  "language_info": {
   "codemirror_mode": {
    "name": "ipython",
    "version": 3
   },
   "file_extension": ".py",
   "mimetype": "text/x-python",
   "name": "python",
   "nbconvert_exporter": "python",
   "pygments_lexer": "ipython3",
   "version": "3.7.12"
  }
 },
 "nbformat": 4,
 "nbformat_minor": 5
}
