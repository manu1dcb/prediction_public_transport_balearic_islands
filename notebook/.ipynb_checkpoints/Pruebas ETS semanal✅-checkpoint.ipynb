{
 "cells": [
  {
   "cell_type": "code",
   "execution_count": 1,
   "id": "0c72125f",
   "metadata": {},
   "outputs": [
    {
     "name": "stderr",
     "output_type": "stream",
     "text": [
      "\n",
      "Bad key savefig.frameon in file C:\\Users\\manue\\anaconda3\\envs\\TecnicasPrediccion\\lib\\site-packages\\matplotlib\\mpl-data\\stylelib\\_classic_test.mplstyle, line 421 ('savefig.frameon : True')\n",
      "You probably need to get an updated matplotlibrc file from\n",
      "https://github.com/matplotlib/matplotlib/blob/v3.4.3/matplotlibrc.template\n",
      "or from the matplotlib source distribution\n",
      "\n",
      "Bad key verbose.level in file C:\\Users\\manue\\anaconda3\\envs\\TecnicasPrediccion\\lib\\site-packages\\matplotlib\\mpl-data\\stylelib\\_classic_test.mplstyle, line 472 ('verbose.level  : silent      # one of silent, helpful, debug, debug-annoying')\n",
      "You probably need to get an updated matplotlibrc file from\n",
      "https://github.com/matplotlib/matplotlib/blob/v3.4.3/matplotlibrc.template\n",
      "or from the matplotlib source distribution\n",
      "\n",
      "Bad key verbose.fileo in file C:\\Users\\manue\\anaconda3\\envs\\TecnicasPrediccion\\lib\\site-packages\\matplotlib\\mpl-data\\stylelib\\_classic_test.mplstyle, line 473 ('verbose.fileo  : sys.stdout  # a log filename, sys.stdout or sys.stderr')\n",
      "You probably need to get an updated matplotlibrc file from\n",
      "https://github.com/matplotlib/matplotlib/blob/v3.4.3/matplotlibrc.template\n",
      "or from the matplotlib source distribution\n"
     ]
    },
    {
     "data": {
      "text/plain": [
       "Fecha\n",
       "2013-01-06/2013-01-12     62614.0\n",
       "2013-01-13/2013-01-19     59301.0\n",
       "2013-01-20/2013-01-26     56391.0\n",
       "2013-01-27/2013-02-02     62981.0\n",
       "2013-02-03/2013-02-09     65258.0\n",
       "                           ...   \n",
       "2016-11-27/2016-12-03    163841.0\n",
       "2016-12-04/2016-12-10    127511.0\n",
       "2016-12-11/2016-12-17    162260.0\n",
       "2016-12-18/2016-12-24    135565.0\n",
       "2016-12-25/2016-12-31    113289.0\n",
       "Freq: W-SAT, Name: Billetes, Length: 208, dtype: float64"
      ]
     },
     "execution_count": 1,
     "metadata": {},
     "output_type": "execute_result"
    }
   ],
   "source": [
    "import warnings\n",
    "warnings.filterwarnings('ignore')\n",
    "import pandas as pd\n",
    "import numpy as np\n",
    "import matplotlib.pyplot as plt\n",
    "from sklearn.metrics import r2_score\n",
    "from sktime.forecasting.base import ForecastingHorizon\n",
    "from sktime.forecasting.ets import AutoETS\n",
    "from sktime.utils.plotting import plot_series\n",
    "from sktime.performance_metrics.forecasting import mean_absolute_percentage_error\n",
    "from sktime.forecasting.model_selection import temporal_train_test_split\n",
    "from sktime.performance_metrics.forecasting import MeanSquaredError\n",
    "from sklearn.model_selection import GridSearchCV\n",
    "from sktime.transformations.series.boxcox import LogTransformer\n",
    "\n",
    "\n",
    "# Read Data\n",
    "data = pd.read_csv('../data/datos semanales.csv')\n",
    "data.set_index('Fecha', inplace=True)\n",
    "data['Billetes'] = data['Billetes'].astype('float64')\n",
    "data.index = pd.to_datetime(data['Billetes'].index)\n",
    "data['Billetes'].astype('float64').to_period('W-Sat')"
   ]
  },
  {
   "cell_type": "code",
   "execution_count": 4,
   "id": "0eaa14c6",
   "metadata": {},
   "outputs": [],
   "source": [
    "y_train, y_test = temporal_train_test_split(y = data['Billetes'].astype('float64').to_period('W'), test_size=5)"
   ]
  },
  {
   "cell_type": "code",
   "execution_count": 5,
   "id": "7f759c13",
   "metadata": {},
   "outputs": [
    {
     "name": "stdout",
     "output_type": "stream",
     "text": [
      "Parameters: ('additive', 'additive', 'additive', 2), MAPE: 161.19599210091624\n",
      "Parameters: ('additive', 'additive', 'additive', 3), MAPE: 160.79815660368914\n",
      "Parameters: ('additive', 'additive', 'additive', 4), MAPE: 168.01856700873435\n",
      "Parameters: ('additive', 'additive', 'additive', 5), MAPE: 164.727061795451\n",
      "Parameters: ('additive', 'additive', 'additive', 6), MAPE: 167.1491081099279\n",
      "Parameters: ('additive', 'additive', 'additive', 7), MAPE: 153.0324764907532\n",
      "Parameters: ('additive', 'additive', 'additive', 13), MAPE: 159.9488503382519\n",
      "Parameters: ('additive', 'additive', 'additive', 52), MAPE: 1.6540139366011821\n",
      "Parameters: ('additive', 'additive', 'additive', 53), MAPE: 1.2838325496571383\n",
      "Parameters: ('additive', 'additive', 'multiplicative', 2), MAPE: 162.2638665602861\n",
      "Parameters: ('additive', 'additive', 'multiplicative', 3), MAPE: 162.522279751781\n",
      "Parameters: ('additive', 'additive', 'multiplicative', 4), MAPE: 165.65404017659998\n",
      "Parameters: ('additive', 'additive', 'multiplicative', 5), MAPE: 163.18411513438315\n",
      "Parameters: ('additive', 'additive', 'multiplicative', 6), MAPE: 162.309426838303\n",
      "Parameters: ('additive', 'additive', 'multiplicative', 7), MAPE: 166.78293599185812\n",
      "Parameters: ('additive', 'additive', 'multiplicative', 13), MAPE: 159.25011035617393\n"
     ]
    },
    {
     "name": "stderr",
     "output_type": "stream",
     "text": [
      "C:\\Users\\manue\\anaconda3\\envs\\TecnicasPrediccion\\lib\\site-packages\\statsmodels\\base\\model.py:606: ConvergenceWarning: Maximum Likelihood optimization failed to converge. Check mle_retvals\n",
      "  ConvergenceWarning)\n"
     ]
    },
    {
     "name": "stdout",
     "output_type": "stream",
     "text": [
      "Parameters: ('additive', 'additive', 'multiplicative', 52), MAPE: 1.1132456125746593\n"
     ]
    },
    {
     "name": "stderr",
     "output_type": "stream",
     "text": [
      "C:\\Users\\manue\\anaconda3\\envs\\TecnicasPrediccion\\lib\\site-packages\\statsmodels\\base\\model.py:606: ConvergenceWarning: Maximum Likelihood optimization failed to converge. Check mle_retvals\n",
      "  ConvergenceWarning)\n"
     ]
    },
    {
     "name": "stdout",
     "output_type": "stream",
     "text": [
      "Parameters: ('additive', 'additive', 'multiplicative', 53), MAPE: 3.1363273443404767\n",
      "Parameters: ('additive', 'multiplicative', 'additive', 2), MAPE: 0.9925665509427674\n",
      "Parameters: ('additive', 'multiplicative', 'additive', 3), MAPE: 0.9930302339885314\n",
      "Parameters: ('additive', 'multiplicative', 'additive', 4), MAPE: 0.9940365734519828\n",
      "Parameters: ('additive', 'multiplicative', 'additive', 5), MAPE: 1.0566606635401141\n",
      "Parameters: ('additive', 'multiplicative', 'additive', 6), MAPE: 0.9592377496007657\n",
      "Parameters: ('additive', 'multiplicative', 'additive', 7), MAPE: 0.9615823379336493\n",
      "Parameters: ('additive', 'multiplicative', 'additive', 13), MAPE: 1.0235007041212079\n",
      "Parameters: ('additive', 'multiplicative', 'additive', 52), MAPE: 15.876238832038286\n"
     ]
    },
    {
     "name": "stderr",
     "output_type": "stream",
     "text": [
      "C:\\Users\\manue\\anaconda3\\envs\\TecnicasPrediccion\\lib\\site-packages\\statsmodels\\base\\model.py:606: ConvergenceWarning: Maximum Likelihood optimization failed to converge. Check mle_retvals\n",
      "  ConvergenceWarning)\n"
     ]
    },
    {
     "name": "stdout",
     "output_type": "stream",
     "text": [
      "Parameters: ('additive', 'multiplicative', 'additive', 53), MAPE: 2.9347339406326247\n",
      "Parameters: ('additive', 'multiplicative', 'multiplicative', 2), MAPE: 1.0\n",
      "Parameters: ('additive', 'multiplicative', 'multiplicative', 3), MAPE: 1.0\n",
      "Parameters: ('additive', 'multiplicative', 'multiplicative', 4), MAPE: 1.0\n",
      "Parameters: ('additive', 'multiplicative', 'multiplicative', 5), MAPE: 1.0\n",
      "Parameters: ('additive', 'multiplicative', 'multiplicative', 6), MAPE: 0.9524162439751803\n",
      "Parameters: ('additive', 'multiplicative', 'multiplicative', 7), MAPE: 0.9553373036619401\n",
      "Parameters: ('additive', 'multiplicative', 'multiplicative', 13), MAPE: 1.0\n"
     ]
    },
    {
     "name": "stderr",
     "output_type": "stream",
     "text": [
      "C:\\Users\\manue\\anaconda3\\envs\\TecnicasPrediccion\\lib\\site-packages\\statsmodels\\base\\model.py:606: ConvergenceWarning: Maximum Likelihood optimization failed to converge. Check mle_retvals\n",
      "  ConvergenceWarning)\n"
     ]
    },
    {
     "name": "stdout",
     "output_type": "stream",
     "text": [
      "Parameters: ('additive', 'multiplicative', 'multiplicative', 52), MAPE: 27281456406167.703\n"
     ]
    },
    {
     "name": "stderr",
     "output_type": "stream",
     "text": [
      "C:\\Users\\manue\\anaconda3\\envs\\TecnicasPrediccion\\lib\\site-packages\\statsmodels\\base\\model.py:606: ConvergenceWarning: Maximum Likelihood optimization failed to converge. Check mle_retvals\n",
      "  ConvergenceWarning)\n"
     ]
    },
    {
     "name": "stdout",
     "output_type": "stream",
     "text": [
      "Parameters: ('additive', 'multiplicative', 'multiplicative', 53), MAPE: 1.9618500468832463e+23\n",
      "Parameters: ('multiplicative', 'additive', 'additive', 2), MAPE: 38.4714089881372\n",
      "Parameters: ('multiplicative', 'additive', 'additive', 3), MAPE: 36.75190553753957\n",
      "Parameters: ('multiplicative', 'additive', 'additive', 4), MAPE: 25.993729061607144\n",
      "Parameters: ('multiplicative', 'additive', 'additive', 5), MAPE: 40.9936027923941\n",
      "Parameters: ('multiplicative', 'additive', 'additive', 6), MAPE: 43.40671430074314\n",
      "Parameters: ('multiplicative', 'additive', 'additive', 7), MAPE: 33.786434109392076\n",
      "Parameters: ('multiplicative', 'additive', 'additive', 13), MAPE: 19.42324351337094\n",
      "Parameters: ('multiplicative', 'additive', 'additive', 52), MAPE: 1.7071496564584325\n",
      "Parameters: ('multiplicative', 'additive', 'additive', 53), MAPE: 1.500956840218085\n",
      "Parameters: ('multiplicative', 'additive', 'multiplicative', 2), MAPE: 38.42707148488535\n",
      "Parameters: ('multiplicative', 'additive', 'multiplicative', 3), MAPE: 38.22588056417127\n",
      "Parameters: ('multiplicative', 'additive', 'multiplicative', 4), MAPE: 28.86145025367768\n"
     ]
    },
    {
     "name": "stderr",
     "output_type": "stream",
     "text": [
      "C:\\Users\\manue\\anaconda3\\envs\\TecnicasPrediccion\\lib\\site-packages\\statsmodels\\base\\model.py:606: ConvergenceWarning: Maximum Likelihood optimization failed to converge. Check mle_retvals\n",
      "  ConvergenceWarning)\n"
     ]
    },
    {
     "name": "stdout",
     "output_type": "stream",
     "text": [
      "Parameters: ('multiplicative', 'additive', 'multiplicative', 5), MAPE: 599360.4150404995\n",
      "Parameters: ('multiplicative', 'additive', 'multiplicative', 6), MAPE: 23.796060636857288\n",
      "Parameters: ('multiplicative', 'additive', 'multiplicative', 7), MAPE: 26.075713851295085\n",
      "Parameters: ('multiplicative', 'additive', 'multiplicative', 13), MAPE: 2.052552138903016\n"
     ]
    },
    {
     "name": "stderr",
     "output_type": "stream",
     "text": [
      "C:\\Users\\manue\\anaconda3\\envs\\TecnicasPrediccion\\lib\\site-packages\\statsmodels\\base\\model.py:606: ConvergenceWarning: Maximum Likelihood optimization failed to converge. Check mle_retvals\n",
      "  ConvergenceWarning)\n"
     ]
    },
    {
     "name": "stdout",
     "output_type": "stream",
     "text": [
      "Parameters: ('multiplicative', 'additive', 'multiplicative', 52), MAPE: 170.1258474859411\n",
      "Parameters: ('multiplicative', 'additive', 'multiplicative', 53), MAPE: 3.0766013597260526\n",
      "Parameters: ('multiplicative', 'multiplicative', 'additive', 2), MAPE: 1.0117221531263996\n",
      "Parameters: ('multiplicative', 'multiplicative', 'additive', 3), MAPE: 0.9928487539630998\n",
      "Parameters: ('multiplicative', 'multiplicative', 'additive', 4), MAPE: 1.098384376996093\n",
      "Parameters: ('multiplicative', 'multiplicative', 'additive', 5), MAPE: 1.0979554328391885\n",
      "Parameters: ('multiplicative', 'multiplicative', 'additive', 6), MAPE: 1.0787560176668578\n",
      "Parameters: ('multiplicative', 'multiplicative', 'additive', 7), MAPE: 1.0129692505125565\n",
      "Parameters: ('multiplicative', 'multiplicative', 'additive', 13), MAPE: 1.0164836463774312\n",
      "Parameters: ('multiplicative', 'multiplicative', 'additive', 52), MAPE: 3.063388400941075e+47\n"
     ]
    },
    {
     "name": "stderr",
     "output_type": "stream",
     "text": [
      "C:\\Users\\manue\\anaconda3\\envs\\TecnicasPrediccion\\lib\\site-packages\\statsmodels\\base\\model.py:606: ConvergenceWarning: Maximum Likelihood optimization failed to converge. Check mle_retvals\n",
      "  ConvergenceWarning)\n"
     ]
    },
    {
     "ename": "ValueError",
     "evalue": "Input contains NaN, infinity or a value too large for dtype('float64').",
     "output_type": "error",
     "traceback": [
      "\u001b[1;31m---------------------------------------------------------------------------\u001b[0m",
      "\u001b[1;31mValueError\u001b[0m                                Traceback (most recent call last)",
      "\u001b[1;32m~\\AppData\\Local\\Temp\\ipykernel_21196\\1913745053.py\u001b[0m in \u001b[0;36m<module>\u001b[1;34m\u001b[0m\n\u001b[0;32m     23\u001b[0m     \u001b[0mautoETS_model\u001b[0m\u001b[1;33m.\u001b[0m\u001b[0mfit\u001b[0m\u001b[1;33m(\u001b[0m\u001b[0my_train\u001b[0m\u001b[1;33m)\u001b[0m\u001b[1;33m\u001b[0m\u001b[1;33m\u001b[0m\u001b[0m\n\u001b[0;32m     24\u001b[0m     \u001b[0mETS_pred\u001b[0m \u001b[1;33m=\u001b[0m \u001b[0mautoETS_model\u001b[0m\u001b[1;33m.\u001b[0m\u001b[0mpredict\u001b[0m\u001b[1;33m(\u001b[0m\u001b[0mfh\u001b[0m\u001b[1;33m)\u001b[0m\u001b[1;33m\u001b[0m\u001b[1;33m\u001b[0m\u001b[0m\n\u001b[1;32m---> 25\u001b[1;33m     \u001b[0mmape\u001b[0m \u001b[1;33m=\u001b[0m \u001b[0mmean_absolute_percentage_error\u001b[0m\u001b[1;33m(\u001b[0m\u001b[0my_test\u001b[0m\u001b[1;33m,\u001b[0m \u001b[0mETS_pred\u001b[0m\u001b[1;33m)\u001b[0m\u001b[1;33m\u001b[0m\u001b[1;33m\u001b[0m\u001b[0m\n\u001b[0m\u001b[0;32m     26\u001b[0m     \u001b[0mprint\u001b[0m\u001b[1;33m(\u001b[0m\u001b[1;34mf\"Parameters: {params}, MAPE: {mape}\"\u001b[0m\u001b[1;33m)\u001b[0m\u001b[1;33m\u001b[0m\u001b[1;33m\u001b[0m\u001b[0m\n",
      "\u001b[1;32m~\\anaconda3\\envs\\TecnicasPrediccion\\lib\\site-packages\\sktime\\performance_metrics\\forecasting\\_functions.py\u001b[0m in \u001b[0;36mmean_absolute_percentage_error\u001b[1;34m(y_true, y_pred, horizon_weight, multioutput, symmetric, **kwargs)\u001b[0m\n\u001b[0;32m   1541\u001b[0m     \u001b[1;36m0.5668686868686869\u001b[0m\u001b[1;33m\u001b[0m\u001b[1;33m\u001b[0m\u001b[0m\n\u001b[0;32m   1542\u001b[0m     \"\"\"\n\u001b[1;32m-> 1543\u001b[1;33m     \u001b[0m_\u001b[0m\u001b[1;33m,\u001b[0m \u001b[0my_true\u001b[0m\u001b[1;33m,\u001b[0m \u001b[0my_pred\u001b[0m\u001b[1;33m,\u001b[0m \u001b[0mmultioutput\u001b[0m \u001b[1;33m=\u001b[0m \u001b[0m_check_reg_targets\u001b[0m\u001b[1;33m(\u001b[0m\u001b[0my_true\u001b[0m\u001b[1;33m,\u001b[0m \u001b[0my_pred\u001b[0m\u001b[1;33m,\u001b[0m \u001b[0mmultioutput\u001b[0m\u001b[1;33m)\u001b[0m\u001b[1;33m\u001b[0m\u001b[1;33m\u001b[0m\u001b[0m\n\u001b[0m\u001b[0;32m   1544\u001b[0m     \u001b[1;32mif\u001b[0m \u001b[0mhorizon_weight\u001b[0m \u001b[1;32mis\u001b[0m \u001b[1;32mnot\u001b[0m \u001b[1;32mNone\u001b[0m\u001b[1;33m:\u001b[0m\u001b[1;33m\u001b[0m\u001b[1;33m\u001b[0m\u001b[0m\n\u001b[0;32m   1545\u001b[0m         \u001b[0mcheck_consistent_length\u001b[0m\u001b[1;33m(\u001b[0m\u001b[0my_true\u001b[0m\u001b[1;33m,\u001b[0m \u001b[0mhorizon_weight\u001b[0m\u001b[1;33m)\u001b[0m\u001b[1;33m\u001b[0m\u001b[1;33m\u001b[0m\u001b[0m\n",
      "\u001b[1;32m~\\anaconda3\\envs\\TecnicasPrediccion\\lib\\site-packages\\sklearn\\metrics\\_regression.py\u001b[0m in \u001b[0;36m_check_reg_targets\u001b[1;34m(y_true, y_pred, multioutput, dtype)\u001b[0m\n\u001b[0;32m     94\u001b[0m     \u001b[0mcheck_consistent_length\u001b[0m\u001b[1;33m(\u001b[0m\u001b[0my_true\u001b[0m\u001b[1;33m,\u001b[0m \u001b[0my_pred\u001b[0m\u001b[1;33m)\u001b[0m\u001b[1;33m\u001b[0m\u001b[1;33m\u001b[0m\u001b[0m\n\u001b[0;32m     95\u001b[0m     \u001b[0my_true\u001b[0m \u001b[1;33m=\u001b[0m \u001b[0mcheck_array\u001b[0m\u001b[1;33m(\u001b[0m\u001b[0my_true\u001b[0m\u001b[1;33m,\u001b[0m \u001b[0mensure_2d\u001b[0m\u001b[1;33m=\u001b[0m\u001b[1;32mFalse\u001b[0m\u001b[1;33m,\u001b[0m \u001b[0mdtype\u001b[0m\u001b[1;33m=\u001b[0m\u001b[0mdtype\u001b[0m\u001b[1;33m)\u001b[0m\u001b[1;33m\u001b[0m\u001b[1;33m\u001b[0m\u001b[0m\n\u001b[1;32m---> 96\u001b[1;33m     \u001b[0my_pred\u001b[0m \u001b[1;33m=\u001b[0m \u001b[0mcheck_array\u001b[0m\u001b[1;33m(\u001b[0m\u001b[0my_pred\u001b[0m\u001b[1;33m,\u001b[0m \u001b[0mensure_2d\u001b[0m\u001b[1;33m=\u001b[0m\u001b[1;32mFalse\u001b[0m\u001b[1;33m,\u001b[0m \u001b[0mdtype\u001b[0m\u001b[1;33m=\u001b[0m\u001b[0mdtype\u001b[0m\u001b[1;33m)\u001b[0m\u001b[1;33m\u001b[0m\u001b[1;33m\u001b[0m\u001b[0m\n\u001b[0m\u001b[0;32m     97\u001b[0m \u001b[1;33m\u001b[0m\u001b[0m\n\u001b[0;32m     98\u001b[0m     \u001b[1;32mif\u001b[0m \u001b[0my_true\u001b[0m\u001b[1;33m.\u001b[0m\u001b[0mndim\u001b[0m \u001b[1;33m==\u001b[0m \u001b[1;36m1\u001b[0m\u001b[1;33m:\u001b[0m\u001b[1;33m\u001b[0m\u001b[1;33m\u001b[0m\u001b[0m\n",
      "\u001b[1;32m~\\anaconda3\\envs\\TecnicasPrediccion\\lib\\site-packages\\sklearn\\utils\\validation.py\u001b[0m in \u001b[0;36mcheck_array\u001b[1;34m(array, accept_sparse, accept_large_sparse, dtype, order, copy, force_all_finite, ensure_2d, allow_nd, ensure_min_samples, ensure_min_features, estimator)\u001b[0m\n\u001b[0;32m    798\u001b[0m \u001b[1;33m\u001b[0m\u001b[0m\n\u001b[0;32m    799\u001b[0m         \u001b[1;32mif\u001b[0m \u001b[0mforce_all_finite\u001b[0m\u001b[1;33m:\u001b[0m\u001b[1;33m\u001b[0m\u001b[1;33m\u001b[0m\u001b[0m\n\u001b[1;32m--> 800\u001b[1;33m             \u001b[0m_assert_all_finite\u001b[0m\u001b[1;33m(\u001b[0m\u001b[0marray\u001b[0m\u001b[1;33m,\u001b[0m \u001b[0mallow_nan\u001b[0m\u001b[1;33m=\u001b[0m\u001b[0mforce_all_finite\u001b[0m \u001b[1;33m==\u001b[0m \u001b[1;34m\"allow-nan\"\u001b[0m\u001b[1;33m)\u001b[0m\u001b[1;33m\u001b[0m\u001b[1;33m\u001b[0m\u001b[0m\n\u001b[0m\u001b[0;32m    801\u001b[0m \u001b[1;33m\u001b[0m\u001b[0m\n\u001b[0;32m    802\u001b[0m     \u001b[1;32mif\u001b[0m \u001b[0mensure_min_samples\u001b[0m \u001b[1;33m>\u001b[0m \u001b[1;36m0\u001b[0m\u001b[1;33m:\u001b[0m\u001b[1;33m\u001b[0m\u001b[1;33m\u001b[0m\u001b[0m\n",
      "\u001b[1;32m~\\anaconda3\\envs\\TecnicasPrediccion\\lib\\site-packages\\sklearn\\utils\\validation.py\u001b[0m in \u001b[0;36m_assert_all_finite\u001b[1;34m(X, allow_nan, msg_dtype)\u001b[0m\n\u001b[0;32m    114\u001b[0m             raise ValueError(\n\u001b[0;32m    115\u001b[0m                 msg_err.format(\n\u001b[1;32m--> 116\u001b[1;33m                     \u001b[0mtype_err\u001b[0m\u001b[1;33m,\u001b[0m \u001b[0mmsg_dtype\u001b[0m \u001b[1;32mif\u001b[0m \u001b[0mmsg_dtype\u001b[0m \u001b[1;32mis\u001b[0m \u001b[1;32mnot\u001b[0m \u001b[1;32mNone\u001b[0m \u001b[1;32melse\u001b[0m \u001b[0mX\u001b[0m\u001b[1;33m.\u001b[0m\u001b[0mdtype\u001b[0m\u001b[1;33m\u001b[0m\u001b[1;33m\u001b[0m\u001b[0m\n\u001b[0m\u001b[0;32m    117\u001b[0m                 )\n\u001b[0;32m    118\u001b[0m             )\n",
      "\u001b[1;31mValueError\u001b[0m: Input contains NaN, infinity or a value too large for dtype('float64')."
     ]
    }
   ],
   "source": [
    "from itertools import product\n",
    "\n",
    "fh = np.arange(len(y_test)) + 1\n",
    "\n",
    "# Definir las opciones para cada parámetro\n",
    "error_options = [\"additive\", \"multiplicative\"]\n",
    "trend_options = [\"additive\", \"multiplicative\"]\n",
    "seasonal_options = [\"additive\", \"multiplicative\"]\n",
    "sp = [2, 3, 4, 5, 6, 7, 13, 52, 53]\n",
    "\n",
    "# Generar todas las combinaciones posibles\n",
    "param_combinations = list(product(error_options, trend_options, seasonal_options, sp))\n",
    "\n",
    "# Probar diferentes combinaciones\n",
    "for params in param_combinations:\n",
    "    autoETS_model = AutoETS(\n",
    "        error=params[0],\n",
    "        trend=params[1],\n",
    "        seasonal=params[2],\n",
    "        sp=params[3],\n",
    "        n_jobs=-1\n",
    "    )\n",
    "    autoETS_model.fit(y_train)\n",
    "    ETS_pred = autoETS_model.predict(fh)\n",
    "    mape = mean_absolute_percentage_error(y_test, ETS_pred)\n",
    "    print(f\"Parameters: {params}, MAPE: {mape}\")"
   ]
  },
  {
   "cell_type": "markdown",
   "id": "7f2a4af2",
   "metadata": {},
   "source": [
    "El mejor: Parameters: ('additive', 'multiplicative', 'additive', 4), MAPE: 0.08212381044382028"
   ]
  },
  {
   "cell_type": "code",
   "execution_count": null,
   "id": "4cdff5a9",
   "metadata": {},
   "outputs": [],
   "source": [
    "fh = np.arange(1, 6)\n",
    "data_auto_model = AutoETS(\n",
    "    data_auto_model = AutoETS(\n",
    "        error=\"additive\",\n",
    "        trend=\"multiplicative\",\n",
    "        seasonal=\"additive\",\n",
    "        sp=4,\n",
    "        n_jobs=-1))"
   ]
  },
  {
   "cell_type": "code",
   "execution_count": null,
   "id": "687ea74e",
   "metadata": {},
   "outputs": [],
   "source": [
    "data_auto_model.fit(y_train)"
   ]
  },
  {
   "cell_type": "code",
   "execution_count": null,
   "id": "3a8e906a",
   "metadata": {},
   "outputs": [],
   "source": [
    "y_pred = data_auto_model.predict(fh)"
   ]
  },
  {
   "cell_type": "code",
   "execution_count": null,
   "id": "dc4fcc9a",
   "metadata": {},
   "outputs": [],
   "source": [
    "mape = mean_absolute_percentage_error(y_test[0:7], y_pred[0:7])\n",
    "mse = MeanSquaredError()\n",
    "mse = mse(y_test[0:7], y_pred[0:7])\n",
    "r2 = r2_score(list(y_test[0:7]), list(y_pred[0:7]))\n",
    "\n",
    "print(f'MAPE: {mape}')\n",
    "print(f'MSE: {mse}')\n",
    "print(f'R2 Score: {r2}')\n"
   ]
  }
 ],
 "metadata": {
  "kernelspec": {
   "display_name": "TecnicasPrediccion",
   "language": "python",
   "name": "tecnicasprediccion"
  },
  "language_info": {
   "codemirror_mode": {
    "name": "ipython",
    "version": 3
   },
   "file_extension": ".py",
   "mimetype": "text/x-python",
   "name": "python",
   "nbconvert_exporter": "python",
   "pygments_lexer": "ipython3",
   "version": "3.7.12"
  }
 },
 "nbformat": 4,
 "nbformat_minor": 5
}
