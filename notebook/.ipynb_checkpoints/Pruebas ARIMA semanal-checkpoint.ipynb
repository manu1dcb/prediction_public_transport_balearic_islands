{
 "cells": [
  {
   "cell_type": "code",
   "execution_count": 1,
   "id": "98a46bb5",
   "metadata": {},
   "outputs": [
    {
     "data": {
      "text/plain": [
       "datetime.datetime(2024, 1, 5, 12, 46, 3, 406311)"
      ]
     },
     "execution_count": 1,
     "metadata": {},
     "output_type": "execute_result"
    }
   ],
   "source": [
    "import time\n",
    "import datetime\n",
    "principio = datetime.datetime.now()\n",
    "principio"
   ]
  },
  {
   "cell_type": "code",
   "execution_count": 2,
   "id": "8e33f0e9",
   "metadata": {},
   "outputs": [
    {
     "name": "stderr",
     "output_type": "stream",
     "text": [
      "\n",
      "Bad key savefig.frameon in file C:\\Users\\manue\\anaconda3\\envs\\TecnicasPrediccion\\lib\\site-packages\\matplotlib\\mpl-data\\stylelib\\_classic_test.mplstyle, line 421 ('savefig.frameon : True')\n",
      "You probably need to get an updated matplotlibrc file from\n",
      "https://github.com/matplotlib/matplotlib/blob/v3.4.3/matplotlibrc.template\n",
      "or from the matplotlib source distribution\n",
      "\n",
      "Bad key verbose.level in file C:\\Users\\manue\\anaconda3\\envs\\TecnicasPrediccion\\lib\\site-packages\\matplotlib\\mpl-data\\stylelib\\_classic_test.mplstyle, line 472 ('verbose.level  : silent      # one of silent, helpful, debug, debug-annoying')\n",
      "You probably need to get an updated matplotlibrc file from\n",
      "https://github.com/matplotlib/matplotlib/blob/v3.4.3/matplotlibrc.template\n",
      "or from the matplotlib source distribution\n",
      "\n",
      "Bad key verbose.fileo in file C:\\Users\\manue\\anaconda3\\envs\\TecnicasPrediccion\\lib\\site-packages\\matplotlib\\mpl-data\\stylelib\\_classic_test.mplstyle, line 473 ('verbose.fileo  : sys.stdout  # a log filename, sys.stdout or sys.stderr')\n",
      "You probably need to get an updated matplotlibrc file from\n",
      "https://github.com/matplotlib/matplotlib/blob/v3.4.3/matplotlibrc.template\n",
      "or from the matplotlib source distribution\n",
      "In C:\\Users\\manue\\anaconda3\\envs\\TecnicasPrediccion\\lib\\site-packages\\matplotlib\\mpl-data\\stylelib\\_classic_test.mplstyle: \n",
      "The text.latex.preview rcparam was deprecated in Matplotlib 3.3 and will be removed two minor releases later.\n",
      "In C:\\Users\\manue\\anaconda3\\envs\\TecnicasPrediccion\\lib\\site-packages\\matplotlib\\mpl-data\\stylelib\\_classic_test.mplstyle: \n",
      "The mathtext.fallback_to_cm rcparam was deprecated in Matplotlib 3.3 and will be removed two minor releases later.\n",
      "In C:\\Users\\manue\\anaconda3\\envs\\TecnicasPrediccion\\lib\\site-packages\\matplotlib\\mpl-data\\stylelib\\_classic_test.mplstyle: Support for setting the 'mathtext.fallback_to_cm' rcParam is deprecated since 3.3 and will be removed two minor releases later; use 'mathtext.fallback : 'cm' instead.\n",
      "In C:\\Users\\manue\\anaconda3\\envs\\TecnicasPrediccion\\lib\\site-packages\\matplotlib\\mpl-data\\stylelib\\_classic_test.mplstyle: \n",
      "The validate_bool_maybe_none function was deprecated in Matplotlib 3.3 and will be removed two minor releases later.\n",
      "In C:\\Users\\manue\\anaconda3\\envs\\TecnicasPrediccion\\lib\\site-packages\\matplotlib\\mpl-data\\stylelib\\_classic_test.mplstyle: \n",
      "The savefig.jpeg_quality rcparam was deprecated in Matplotlib 3.3 and will be removed two minor releases later.\n",
      "In C:\\Users\\manue\\anaconda3\\envs\\TecnicasPrediccion\\lib\\site-packages\\matplotlib\\mpl-data\\stylelib\\_classic_test.mplstyle: \n",
      "The keymap.all_axes rcparam was deprecated in Matplotlib 3.3 and will be removed two minor releases later.\n",
      "In C:\\Users\\manue\\anaconda3\\envs\\TecnicasPrediccion\\lib\\site-packages\\matplotlib\\mpl-data\\stylelib\\_classic_test.mplstyle: \n",
      "The animation.avconv_path rcparam was deprecated in Matplotlib 3.3 and will be removed two minor releases later.\n",
      "In C:\\Users\\manue\\anaconda3\\envs\\TecnicasPrediccion\\lib\\site-packages\\matplotlib\\mpl-data\\stylelib\\_classic_test.mplstyle: \n",
      "The animation.avconv_args rcparam was deprecated in Matplotlib 3.3 and will be removed two minor releases later.\n"
     ]
    }
   ],
   "source": [
    "# Packages\n",
    "import pandas as pd\n",
    "import numpy as np\n",
    "import matplotlib.pyplot as plt\n",
    "from sktime.utils.plotting import plot_series\n",
    "import seaborn as sns\n",
    "from sktime.transformations.series.boxcox import LogTransformer\n",
    "from sktime.transformations.series.difference import Differencer\n",
    "from sktime.forecasting.base import ForecastingHorizon\n",
    "from sktime.forecasting.model_selection import temporal_train_test_split\n",
    "from sktime.forecasting.arima import AutoARIMA\n",
    "from sktime.performance_metrics.forecasting import mean_absolute_percentage_error\n",
    "from sktime.performance_metrics.forecasting import MeanSquaredError\n",
    "from sklearn.metrics import r2_score\n",
    "\n",
    "\n",
    "\n",
    "# Read Data\n",
    "data = pd.read_csv('../data/datos semanales.csv')\n",
    "data.set_index('Fecha', inplace=True)\n",
    "transformer = LogTransformer()\n",
    "data.index = pd.to_datetime(data.index)\n",
    "log_data = transformer.fit_transform(data)"
   ]
  },
  {
   "cell_type": "code",
   "execution_count": 3,
   "id": "35aaa29a",
   "metadata": {},
   "outputs": [],
   "source": [
    "transf_diff=Differencer(lags=[1])"
   ]
  },
  {
   "cell_type": "code",
   "execution_count": 4,
   "id": "a1c5bcfa",
   "metadata": {},
   "outputs": [],
   "source": [
    "y_train, y_test = temporal_train_test_split(y =data.astype('float64').to_period('w'), test_size=5)\n",
    "log_y_train, log_y_test = temporal_train_test_split(y = log_data.astype('float64').to_period('w'), test_size=5)"
   ]
  },
  {
   "cell_type": "code",
   "execution_count": 5,
   "id": "c066a027",
   "metadata": {},
   "outputs": [],
   "source": [
    "fh = np.arange(len(y_test)) + 1"
   ]
  },
  {
   "cell_type": "code",
   "execution_count": 6,
   "id": "bd141514",
   "metadata": {},
   "outputs": [
    {
     "name": "stdout",
     "output_type": "stream",
     "text": [
      "Parameters: (True, True, 'aic', 'mse', 2), MAPE: 0.15907492522823077\n",
      "Parameters: (True, True, 'aic', 'mse', 3), MAPE: 0.109135804490582\n",
      "Parameters: (True, True, 'aic', 'mse', 4), MAPE: 0.16219122892627946\n",
      "Parameters: (True, True, 'aic', 'mse', 5), MAPE: 0.09332367493851344\n",
      "Parameters: (True, True, 'aic', 'mse', 6), MAPE: 0.09482445526001101\n",
      "Parameters: (True, True, 'aic', 'mse', 7), MAPE: 0.09482445526001101\n",
      "Parameters: (True, True, 'aic', 'mse', 13), MAPE: 0.09482445526001101\n",
      "Parameters: (True, True, 'aic', 'mse', 52), MAPE: 0.07619962947454136\n",
      "Parameters: (True, True, 'aic', 'mse', 53), MAPE: 0.09291666321560728\n",
      "Parameters: (True, True, 'aic', 'mae', 2), MAPE: 0.15907492522823077\n",
      "Parameters: (True, True, 'aic', 'mae', 3), MAPE: 0.109135804490582\n",
      "Parameters: (True, True, 'aic', 'mae', 4), MAPE: 0.16219122892627946\n",
      "Parameters: (True, True, 'aic', 'mae', 5), MAPE: 0.09332367493851344\n",
      "Parameters: (True, True, 'aic', 'mae', 6), MAPE: 0.09482445526001101\n",
      "Parameters: (True, True, 'aic', 'mae', 7), MAPE: 0.09482445526001101\n",
      "Parameters: (True, True, 'aic', 'mae', 13), MAPE: 0.09482445526001101\n",
      "Parameters: (True, True, 'aic', 'mae', 52), MAPE: 0.07619962947454136\n",
      "Parameters: (True, True, 'aic', 'mae', 53), MAPE: 0.09291666321560728\n",
      "Parameters: (True, True, 'bic', 'mse', 2), MAPE: 0.15053102624979406\n",
      "Parameters: (True, True, 'bic', 'mse', 3), MAPE: 0.109135804490582\n",
      "Parameters: (True, True, 'bic', 'mse', 4), MAPE: 0.109135804490582\n",
      "Parameters: (True, True, 'bic', 'mse', 5), MAPE: 0.109135804490582\n",
      "Parameters: (True, True, 'bic', 'mse', 6), MAPE: 0.109135804490582\n",
      "Parameters: (True, True, 'bic', 'mse', 7), MAPE: 0.109135804490582\n",
      "Parameters: (True, True, 'bic', 'mse', 13), MAPE: 0.109135804490582\n",
      "Parameters: (True, True, 'bic', 'mse', 52), MAPE: 0.08599279955754846\n",
      "Parameters: (True, True, 'bic', 'mse', 53), MAPE: 0.109135804490582\n",
      "Parameters: (True, True, 'bic', 'mae', 2), MAPE: 0.15053102624979406\n",
      "Parameters: (True, True, 'bic', 'mae', 3), MAPE: 0.109135804490582\n",
      "Parameters: (True, True, 'bic', 'mae', 4), MAPE: 0.109135804490582\n",
      "Parameters: (True, True, 'bic', 'mae', 5), MAPE: 0.109135804490582\n",
      "Parameters: (True, True, 'bic', 'mae', 6), MAPE: 0.109135804490582\n",
      "Parameters: (True, True, 'bic', 'mae', 7), MAPE: 0.109135804490582\n",
      "Parameters: (True, True, 'bic', 'mae', 13), MAPE: 0.109135804490582\n",
      "Parameters: (True, True, 'bic', 'mae', 52), MAPE: 0.08599279955754846\n",
      "Parameters: (True, True, 'bic', 'mae', 53), MAPE: 0.109135804490582\n",
      "Parameters: (True, True, 'hqic', 'mse', 2), MAPE: 0.15907492522823077\n",
      "Parameters: (True, True, 'hqic', 'mse', 3), MAPE: 0.109135804490582\n",
      "Parameters: (True, True, 'hqic', 'mse', 4), MAPE: 0.109135804490582\n",
      "Parameters: (True, True, 'hqic', 'mse', 5), MAPE: 0.109135804490582\n",
      "Parameters: (True, True, 'hqic', 'mse', 6), MAPE: 0.09482445526001101\n",
      "Parameters: (True, True, 'hqic', 'mse', 7), MAPE: 0.109135804490582\n",
      "Parameters: (True, True, 'hqic', 'mse', 13), MAPE: 0.09482445526001101\n",
      "Parameters: (True, True, 'hqic', 'mse', 52), MAPE: 0.08599279955754846\n",
      "Parameters: (True, True, 'hqic', 'mse', 53), MAPE: 0.09291666321560728\n",
      "Parameters: (True, True, 'hqic', 'mae', 2), MAPE: 0.15907492522823077\n",
      "Parameters: (True, True, 'hqic', 'mae', 3), MAPE: 0.109135804490582\n",
      "Parameters: (True, True, 'hqic', 'mae', 4), MAPE: 0.109135804490582\n",
      "Parameters: (True, True, 'hqic', 'mae', 5), MAPE: 0.109135804490582\n",
      "Parameters: (True, True, 'hqic', 'mae', 6), MAPE: 0.09482445526001101\n",
      "Parameters: (True, True, 'hqic', 'mae', 7), MAPE: 0.109135804490582\n",
      "Parameters: (True, True, 'hqic', 'mae', 13), MAPE: 0.09482445526001101\n",
      "Parameters: (True, True, 'hqic', 'mae', 52), MAPE: 0.08599279955754846\n",
      "Parameters: (True, True, 'hqic', 'mae', 53), MAPE: 0.09291666321560728\n"
     ]
    },
    {
     "name": "stderr",
     "output_type": "stream",
     "text": [
      "C:\\Users\\manue\\anaconda3\\envs\\TecnicasPrediccion\\lib\\site-packages\\pmdarima\\arima\\_validation.py:35: UserWarning: information_criterion cannot be 'oob' with out_of_sample_size = 0. Falling back to information criterion = aic.\n",
      "  warnings.warn('information_criterion cannot be \\'oob\\' with '\n"
     ]
    },
    {
     "name": "stdout",
     "output_type": "stream",
     "text": [
      "Parameters: (True, True, 'oob', 'mse', 2), MAPE: 0.15907492522823077\n"
     ]
    },
    {
     "name": "stderr",
     "output_type": "stream",
     "text": [
      "C:\\Users\\manue\\anaconda3\\envs\\TecnicasPrediccion\\lib\\site-packages\\pmdarima\\arima\\_validation.py:35: UserWarning: information_criterion cannot be 'oob' with out_of_sample_size = 0. Falling back to information criterion = aic.\n",
      "  warnings.warn('information_criterion cannot be \\'oob\\' with '\n"
     ]
    },
    {
     "name": "stdout",
     "output_type": "stream",
     "text": [
      "Parameters: (True, True, 'oob', 'mse', 3), MAPE: 0.109135804490582\n"
     ]
    },
    {
     "name": "stderr",
     "output_type": "stream",
     "text": [
      "C:\\Users\\manue\\anaconda3\\envs\\TecnicasPrediccion\\lib\\site-packages\\pmdarima\\arima\\_validation.py:35: UserWarning: information_criterion cannot be 'oob' with out_of_sample_size = 0. Falling back to information criterion = aic.\n",
      "  warnings.warn('information_criterion cannot be \\'oob\\' with '\n"
     ]
    },
    {
     "name": "stdout",
     "output_type": "stream",
     "text": [
      "Parameters: (True, True, 'oob', 'mse', 4), MAPE: 0.16219122892627946\n"
     ]
    },
    {
     "name": "stderr",
     "output_type": "stream",
     "text": [
      "C:\\Users\\manue\\anaconda3\\envs\\TecnicasPrediccion\\lib\\site-packages\\pmdarima\\arima\\_validation.py:35: UserWarning: information_criterion cannot be 'oob' with out_of_sample_size = 0. Falling back to information criterion = aic.\n",
      "  warnings.warn('information_criterion cannot be \\'oob\\' with '\n"
     ]
    },
    {
     "name": "stdout",
     "output_type": "stream",
     "text": [
      "Parameters: (True, True, 'oob', 'mse', 5), MAPE: 0.09332367493851344\n"
     ]
    },
    {
     "name": "stderr",
     "output_type": "stream",
     "text": [
      "C:\\Users\\manue\\anaconda3\\envs\\TecnicasPrediccion\\lib\\site-packages\\pmdarima\\arima\\_validation.py:35: UserWarning: information_criterion cannot be 'oob' with out_of_sample_size = 0. Falling back to information criterion = aic.\n",
      "  warnings.warn('information_criterion cannot be \\'oob\\' with '\n"
     ]
    },
    {
     "name": "stdout",
     "output_type": "stream",
     "text": [
      "Parameters: (True, True, 'oob', 'mse', 6), MAPE: 0.09482445526001101\n"
     ]
    },
    {
     "name": "stderr",
     "output_type": "stream",
     "text": [
      "C:\\Users\\manue\\anaconda3\\envs\\TecnicasPrediccion\\lib\\site-packages\\pmdarima\\arima\\_validation.py:35: UserWarning: information_criterion cannot be 'oob' with out_of_sample_size = 0. Falling back to information criterion = aic.\n",
      "  warnings.warn('information_criterion cannot be \\'oob\\' with '\n"
     ]
    },
    {
     "name": "stdout",
     "output_type": "stream",
     "text": [
      "Parameters: (True, True, 'oob', 'mse', 7), MAPE: 0.09482445526001101\n"
     ]
    },
    {
     "name": "stderr",
     "output_type": "stream",
     "text": [
      "C:\\Users\\manue\\anaconda3\\envs\\TecnicasPrediccion\\lib\\site-packages\\pmdarima\\arima\\_validation.py:35: UserWarning: information_criterion cannot be 'oob' with out_of_sample_size = 0. Falling back to information criterion = aic.\n",
      "  warnings.warn('information_criterion cannot be \\'oob\\' with '\n"
     ]
    },
    {
     "name": "stdout",
     "output_type": "stream",
     "text": [
      "Parameters: (True, True, 'oob', 'mse', 13), MAPE: 0.09482445526001101\n"
     ]
    },
    {
     "name": "stderr",
     "output_type": "stream",
     "text": [
      "C:\\Users\\manue\\anaconda3\\envs\\TecnicasPrediccion\\lib\\site-packages\\pmdarima\\arima\\_validation.py:35: UserWarning: information_criterion cannot be 'oob' with out_of_sample_size = 0. Falling back to information criterion = aic.\n",
      "  warnings.warn('information_criterion cannot be \\'oob\\' with '\n"
     ]
    },
    {
     "name": "stdout",
     "output_type": "stream",
     "text": [
      "Parameters: (True, True, 'oob', 'mse', 52), MAPE: 0.07619962947454136\n"
     ]
    },
    {
     "name": "stderr",
     "output_type": "stream",
     "text": [
      "C:\\Users\\manue\\anaconda3\\envs\\TecnicasPrediccion\\lib\\site-packages\\pmdarima\\arima\\_validation.py:35: UserWarning: information_criterion cannot be 'oob' with out_of_sample_size = 0. Falling back to information criterion = aic.\n",
      "  warnings.warn('information_criterion cannot be \\'oob\\' with '\n"
     ]
    },
    {
     "name": "stdout",
     "output_type": "stream",
     "text": [
      "Parameters: (True, True, 'oob', 'mse', 53), MAPE: 0.09291666321560728\n"
     ]
    },
    {
     "name": "stderr",
     "output_type": "stream",
     "text": [
      "C:\\Users\\manue\\anaconda3\\envs\\TecnicasPrediccion\\lib\\site-packages\\pmdarima\\arima\\_validation.py:35: UserWarning: information_criterion cannot be 'oob' with out_of_sample_size = 0. Falling back to information criterion = aic.\n",
      "  warnings.warn('information_criterion cannot be \\'oob\\' with '\n"
     ]
    },
    {
     "name": "stdout",
     "output_type": "stream",
     "text": [
      "Parameters: (True, True, 'oob', 'mae', 2), MAPE: 0.15907492522823077\n"
     ]
    },
    {
     "name": "stderr",
     "output_type": "stream",
     "text": [
      "C:\\Users\\manue\\anaconda3\\envs\\TecnicasPrediccion\\lib\\site-packages\\pmdarima\\arima\\_validation.py:35: UserWarning: information_criterion cannot be 'oob' with out_of_sample_size = 0. Falling back to information criterion = aic.\n",
      "  warnings.warn('information_criterion cannot be \\'oob\\' with '\n"
     ]
    },
    {
     "name": "stdout",
     "output_type": "stream",
     "text": [
      "Parameters: (True, True, 'oob', 'mae', 3), MAPE: 0.109135804490582\n"
     ]
    },
    {
     "name": "stderr",
     "output_type": "stream",
     "text": [
      "C:\\Users\\manue\\anaconda3\\envs\\TecnicasPrediccion\\lib\\site-packages\\pmdarima\\arima\\_validation.py:35: UserWarning: information_criterion cannot be 'oob' with out_of_sample_size = 0. Falling back to information criterion = aic.\n",
      "  warnings.warn('information_criterion cannot be \\'oob\\' with '\n"
     ]
    },
    {
     "name": "stdout",
     "output_type": "stream",
     "text": [
      "Parameters: (True, True, 'oob', 'mae', 4), MAPE: 0.16219122892627946\n"
     ]
    },
    {
     "name": "stderr",
     "output_type": "stream",
     "text": [
      "C:\\Users\\manue\\anaconda3\\envs\\TecnicasPrediccion\\lib\\site-packages\\pmdarima\\arima\\_validation.py:35: UserWarning: information_criterion cannot be 'oob' with out_of_sample_size = 0. Falling back to information criterion = aic.\n",
      "  warnings.warn('information_criterion cannot be \\'oob\\' with '\n"
     ]
    },
    {
     "name": "stdout",
     "output_type": "stream",
     "text": [
      "Parameters: (True, True, 'oob', 'mae', 5), MAPE: 0.09332367493851344\n"
     ]
    },
    {
     "name": "stderr",
     "output_type": "stream",
     "text": [
      "C:\\Users\\manue\\anaconda3\\envs\\TecnicasPrediccion\\lib\\site-packages\\pmdarima\\arima\\_validation.py:35: UserWarning: information_criterion cannot be 'oob' with out_of_sample_size = 0. Falling back to information criterion = aic.\n",
      "  warnings.warn('information_criterion cannot be \\'oob\\' with '\n"
     ]
    },
    {
     "name": "stdout",
     "output_type": "stream",
     "text": [
      "Parameters: (True, True, 'oob', 'mae', 6), MAPE: 0.09482445526001101\n"
     ]
    },
    {
     "name": "stderr",
     "output_type": "stream",
     "text": [
      "C:\\Users\\manue\\anaconda3\\envs\\TecnicasPrediccion\\lib\\site-packages\\pmdarima\\arima\\_validation.py:35: UserWarning: information_criterion cannot be 'oob' with out_of_sample_size = 0. Falling back to information criterion = aic.\n",
      "  warnings.warn('information_criterion cannot be \\'oob\\' with '\n"
     ]
    },
    {
     "name": "stdout",
     "output_type": "stream",
     "text": [
      "Parameters: (True, True, 'oob', 'mae', 7), MAPE: 0.09482445526001101\n"
     ]
    },
    {
     "name": "stderr",
     "output_type": "stream",
     "text": [
      "C:\\Users\\manue\\anaconda3\\envs\\TecnicasPrediccion\\lib\\site-packages\\pmdarima\\arima\\_validation.py:35: UserWarning: information_criterion cannot be 'oob' with out_of_sample_size = 0. Falling back to information criterion = aic.\n",
      "  warnings.warn('information_criterion cannot be \\'oob\\' with '\n"
     ]
    },
    {
     "name": "stdout",
     "output_type": "stream",
     "text": [
      "Parameters: (True, True, 'oob', 'mae', 13), MAPE: 0.09482445526001101\n"
     ]
    },
    {
     "name": "stderr",
     "output_type": "stream",
     "text": [
      "C:\\Users\\manue\\anaconda3\\envs\\TecnicasPrediccion\\lib\\site-packages\\pmdarima\\arima\\_validation.py:35: UserWarning: information_criterion cannot be 'oob' with out_of_sample_size = 0. Falling back to information criterion = aic.\n",
      "  warnings.warn('information_criterion cannot be \\'oob\\' with '\n"
     ]
    },
    {
     "name": "stdout",
     "output_type": "stream",
     "text": [
      "Parameters: (True, True, 'oob', 'mae', 52), MAPE: 0.07619962947454136\n"
     ]
    },
    {
     "name": "stderr",
     "output_type": "stream",
     "text": [
      "C:\\Users\\manue\\anaconda3\\envs\\TecnicasPrediccion\\lib\\site-packages\\pmdarima\\arima\\_validation.py:35: UserWarning: information_criterion cannot be 'oob' with out_of_sample_size = 0. Falling back to information criterion = aic.\n",
      "  warnings.warn('information_criterion cannot be \\'oob\\' with '\n"
     ]
    },
    {
     "name": "stdout",
     "output_type": "stream",
     "text": [
      "Parameters: (True, True, 'oob', 'mae', 53), MAPE: 0.09291666321560728\n",
      "Parameters: (True, False, 'aic', 'mse', 2), MAPE: 0.1256808918888077\n",
      "Parameters: (True, False, 'aic', 'mse', 3), MAPE: 0.11836101404665986\n",
      "Parameters: (True, False, 'aic', 'mse', 4), MAPE: 0.11836101404665986\n",
      "Parameters: (True, False, 'aic', 'mse', 5), MAPE: 0.11587570857852567\n",
      "Parameters: (True, False, 'aic', 'mse', 6), MAPE: 0.11836101404665986\n",
      "Parameters: (True, False, 'aic', 'mse', 7), MAPE: 0.11836101404665986\n",
      "Parameters: (True, False, 'aic', 'mse', 13), MAPE: 0.11836101404665986\n",
      "Parameters: (True, False, 'aic', 'mse', 52), MAPE: 0.10095543847587211\n",
      "Parameters: (True, False, 'aic', 'mse', 53), MAPE: 0.11836101404665986\n",
      "Parameters: (True, False, 'aic', 'mae', 2), MAPE: 0.1256808918888077\n",
      "Parameters: (True, False, 'aic', 'mae', 3), MAPE: 0.11836101404665986\n",
      "Parameters: (True, False, 'aic', 'mae', 4), MAPE: 0.11836101404665986\n",
      "Parameters: (True, False, 'aic', 'mae', 5), MAPE: 0.11587570857852567\n",
      "Parameters: (True, False, 'aic', 'mae', 6), MAPE: 0.11836101404665986\n",
      "Parameters: (True, False, 'aic', 'mae', 7), MAPE: 0.11836101404665986\n",
      "Parameters: (True, False, 'aic', 'mae', 13), MAPE: 0.11836101404665986\n",
      "Parameters: (True, False, 'aic', 'mae', 52), MAPE: 0.10095543847587211\n",
      "Parameters: (True, False, 'aic', 'mae', 53), MAPE: 0.11836101404665986\n",
      "Parameters: (True, False, 'bic', 'mse', 2), MAPE: 0.1256808918888077\n",
      "Parameters: (True, False, 'bic', 'mse', 3), MAPE: 0.11836101404665986\n",
      "Parameters: (True, False, 'bic', 'mse', 4), MAPE: 0.11836101404665986\n",
      "Parameters: (True, False, 'bic', 'mse', 5), MAPE: 0.11836101404665986\n",
      "Parameters: (True, False, 'bic', 'mse', 6), MAPE: 0.11836101404665986\n",
      "Parameters: (True, False, 'bic', 'mse', 7), MAPE: 0.11836101404665986\n",
      "Parameters: (True, False, 'bic', 'mse', 13), MAPE: 0.11836101404665986\n",
      "Parameters: (True, False, 'bic', 'mse', 52), MAPE: 0.10095543847587211\n",
      "Parameters: (True, False, 'bic', 'mse', 53), MAPE: 0.17607249336348532\n",
      "Parameters: (True, False, 'bic', 'mae', 2), MAPE: 0.1256808918888077\n",
      "Parameters: (True, False, 'bic', 'mae', 3), MAPE: 0.11836101404665986\n",
      "Parameters: (True, False, 'bic', 'mae', 4), MAPE: 0.11836101404665986\n",
      "Parameters: (True, False, 'bic', 'mae', 5), MAPE: 0.11836101404665986\n",
      "Parameters: (True, False, 'bic', 'mae', 6), MAPE: 0.11836101404665986\n",
      "Parameters: (True, False, 'bic', 'mae', 7), MAPE: 0.11836101404665986\n",
      "Parameters: (True, False, 'bic', 'mae', 13), MAPE: 0.11836101404665986\n",
      "Parameters: (True, False, 'bic', 'mae', 52), MAPE: 0.10095543847587211\n",
      "Parameters: (True, False, 'bic', 'mae', 53), MAPE: 0.17607249336348532\n",
      "Parameters: (True, False, 'hqic', 'mse', 2), MAPE: 0.1256808918888077\n",
      "Parameters: (True, False, 'hqic', 'mse', 3), MAPE: 0.11836101404665986\n",
      "Parameters: (True, False, 'hqic', 'mse', 4), MAPE: 0.11836101404665986\n",
      "Parameters: (True, False, 'hqic', 'mse', 5), MAPE: 0.11587570857852567\n",
      "Parameters: (True, False, 'hqic', 'mse', 6), MAPE: 0.11836101404665986\n",
      "Parameters: (True, False, 'hqic', 'mse', 7), MAPE: 0.11836101404665986\n",
      "Parameters: (True, False, 'hqic', 'mse', 13), MAPE: 0.11836101404665986\n",
      "Parameters: (True, False, 'hqic', 'mse', 52), MAPE: 0.10095543847587211\n",
      "Parameters: (True, False, 'hqic', 'mse', 53), MAPE: 0.13331933304310453\n",
      "Parameters: (True, False, 'hqic', 'mae', 2), MAPE: 0.1256808918888077\n",
      "Parameters: (True, False, 'hqic', 'mae', 3), MAPE: 0.11836101404665986\n",
      "Parameters: (True, False, 'hqic', 'mae', 4), MAPE: 0.11836101404665986\n",
      "Parameters: (True, False, 'hqic', 'mae', 5), MAPE: 0.11587570857852567\n",
      "Parameters: (True, False, 'hqic', 'mae', 6), MAPE: 0.11836101404665986\n",
      "Parameters: (True, False, 'hqic', 'mae', 7), MAPE: 0.11836101404665986\n",
      "Parameters: (True, False, 'hqic', 'mae', 13), MAPE: 0.11836101404665986\n",
      "Parameters: (True, False, 'hqic', 'mae', 52), MAPE: 0.10095543847587211\n",
      "Parameters: (True, False, 'hqic', 'mae', 53), MAPE: 0.13331933304310453\n"
     ]
    },
    {
     "name": "stderr",
     "output_type": "stream",
     "text": [
      "C:\\Users\\manue\\anaconda3\\envs\\TecnicasPrediccion\\lib\\site-packages\\pmdarima\\arima\\_validation.py:35: UserWarning: information_criterion cannot be 'oob' with out_of_sample_size = 0. Falling back to information criterion = aic.\n",
      "  warnings.warn('information_criterion cannot be \\'oob\\' with '\n"
     ]
    },
    {
     "name": "stdout",
     "output_type": "stream",
     "text": [
      "Parameters: (True, False, 'oob', 'mse', 2), MAPE: 0.1256808918888077\n"
     ]
    },
    {
     "name": "stderr",
     "output_type": "stream",
     "text": [
      "C:\\Users\\manue\\anaconda3\\envs\\TecnicasPrediccion\\lib\\site-packages\\pmdarima\\arima\\_validation.py:35: UserWarning: information_criterion cannot be 'oob' with out_of_sample_size = 0. Falling back to information criterion = aic.\n",
      "  warnings.warn('information_criterion cannot be \\'oob\\' with '\n"
     ]
    },
    {
     "name": "stdout",
     "output_type": "stream",
     "text": [
      "Parameters: (True, False, 'oob', 'mse', 3), MAPE: 0.11836101404665986\n"
     ]
    },
    {
     "name": "stderr",
     "output_type": "stream",
     "text": [
      "C:\\Users\\manue\\anaconda3\\envs\\TecnicasPrediccion\\lib\\site-packages\\pmdarima\\arima\\_validation.py:35: UserWarning: information_criterion cannot be 'oob' with out_of_sample_size = 0. Falling back to information criterion = aic.\n",
      "  warnings.warn('information_criterion cannot be \\'oob\\' with '\n"
     ]
    },
    {
     "name": "stdout",
     "output_type": "stream",
     "text": [
      "Parameters: (True, False, 'oob', 'mse', 4), MAPE: 0.11836101404665986\n"
     ]
    },
    {
     "name": "stderr",
     "output_type": "stream",
     "text": [
      "C:\\Users\\manue\\anaconda3\\envs\\TecnicasPrediccion\\lib\\site-packages\\pmdarima\\arima\\_validation.py:35: UserWarning: information_criterion cannot be 'oob' with out_of_sample_size = 0. Falling back to information criterion = aic.\n",
      "  warnings.warn('information_criterion cannot be \\'oob\\' with '\n"
     ]
    },
    {
     "name": "stdout",
     "output_type": "stream",
     "text": [
      "Parameters: (True, False, 'oob', 'mse', 5), MAPE: 0.11587570857852567\n"
     ]
    },
    {
     "name": "stderr",
     "output_type": "stream",
     "text": [
      "C:\\Users\\manue\\anaconda3\\envs\\TecnicasPrediccion\\lib\\site-packages\\pmdarima\\arima\\_validation.py:35: UserWarning: information_criterion cannot be 'oob' with out_of_sample_size = 0. Falling back to information criterion = aic.\n",
      "  warnings.warn('information_criterion cannot be \\'oob\\' with '\n"
     ]
    },
    {
     "name": "stdout",
     "output_type": "stream",
     "text": [
      "Parameters: (True, False, 'oob', 'mse', 6), MAPE: 0.11836101404665986\n"
     ]
    },
    {
     "name": "stderr",
     "output_type": "stream",
     "text": [
      "C:\\Users\\manue\\anaconda3\\envs\\TecnicasPrediccion\\lib\\site-packages\\pmdarima\\arima\\_validation.py:35: UserWarning: information_criterion cannot be 'oob' with out_of_sample_size = 0. Falling back to information criterion = aic.\n",
      "  warnings.warn('information_criterion cannot be \\'oob\\' with '\n"
     ]
    },
    {
     "name": "stdout",
     "output_type": "stream",
     "text": [
      "Parameters: (True, False, 'oob', 'mse', 7), MAPE: 0.11836101404665986\n"
     ]
    },
    {
     "name": "stderr",
     "output_type": "stream",
     "text": [
      "C:\\Users\\manue\\anaconda3\\envs\\TecnicasPrediccion\\lib\\site-packages\\pmdarima\\arima\\_validation.py:35: UserWarning: information_criterion cannot be 'oob' with out_of_sample_size = 0. Falling back to information criterion = aic.\n",
      "  warnings.warn('information_criterion cannot be \\'oob\\' with '\n"
     ]
    },
    {
     "name": "stdout",
     "output_type": "stream",
     "text": [
      "Parameters: (True, False, 'oob', 'mse', 13), MAPE: 0.11836101404665986\n"
     ]
    },
    {
     "name": "stderr",
     "output_type": "stream",
     "text": [
      "C:\\Users\\manue\\anaconda3\\envs\\TecnicasPrediccion\\lib\\site-packages\\pmdarima\\arima\\_validation.py:35: UserWarning: information_criterion cannot be 'oob' with out_of_sample_size = 0. Falling back to information criterion = aic.\n",
      "  warnings.warn('information_criterion cannot be \\'oob\\' with '\n"
     ]
    },
    {
     "name": "stdout",
     "output_type": "stream",
     "text": [
      "Parameters: (True, False, 'oob', 'mse', 52), MAPE: 0.10095543847587211\n"
     ]
    },
    {
     "name": "stderr",
     "output_type": "stream",
     "text": [
      "C:\\Users\\manue\\anaconda3\\envs\\TecnicasPrediccion\\lib\\site-packages\\pmdarima\\arima\\_validation.py:35: UserWarning: information_criterion cannot be 'oob' with out_of_sample_size = 0. Falling back to information criterion = aic.\n",
      "  warnings.warn('information_criterion cannot be \\'oob\\' with '\n"
     ]
    },
    {
     "name": "stdout",
     "output_type": "stream",
     "text": [
      "Parameters: (True, False, 'oob', 'mse', 53), MAPE: 0.11836101404665986\n"
     ]
    },
    {
     "name": "stderr",
     "output_type": "stream",
     "text": [
      "C:\\Users\\manue\\anaconda3\\envs\\TecnicasPrediccion\\lib\\site-packages\\pmdarima\\arima\\_validation.py:35: UserWarning: information_criterion cannot be 'oob' with out_of_sample_size = 0. Falling back to information criterion = aic.\n",
      "  warnings.warn('information_criterion cannot be \\'oob\\' with '\n"
     ]
    },
    {
     "name": "stdout",
     "output_type": "stream",
     "text": [
      "Parameters: (True, False, 'oob', 'mae', 2), MAPE: 0.1256808918888077\n"
     ]
    },
    {
     "name": "stderr",
     "output_type": "stream",
     "text": [
      "C:\\Users\\manue\\anaconda3\\envs\\TecnicasPrediccion\\lib\\site-packages\\pmdarima\\arima\\_validation.py:35: UserWarning: information_criterion cannot be 'oob' with out_of_sample_size = 0. Falling back to information criterion = aic.\n",
      "  warnings.warn('information_criterion cannot be \\'oob\\' with '\n"
     ]
    },
    {
     "name": "stdout",
     "output_type": "stream",
     "text": [
      "Parameters: (True, False, 'oob', 'mae', 3), MAPE: 0.11836101404665986\n"
     ]
    },
    {
     "name": "stderr",
     "output_type": "stream",
     "text": [
      "C:\\Users\\manue\\anaconda3\\envs\\TecnicasPrediccion\\lib\\site-packages\\pmdarima\\arima\\_validation.py:35: UserWarning: information_criterion cannot be 'oob' with out_of_sample_size = 0. Falling back to information criterion = aic.\n",
      "  warnings.warn('information_criterion cannot be \\'oob\\' with '\n"
     ]
    },
    {
     "name": "stdout",
     "output_type": "stream",
     "text": [
      "Parameters: (True, False, 'oob', 'mae', 4), MAPE: 0.11836101404665986\n"
     ]
    },
    {
     "name": "stderr",
     "output_type": "stream",
     "text": [
      "C:\\Users\\manue\\anaconda3\\envs\\TecnicasPrediccion\\lib\\site-packages\\pmdarima\\arima\\_validation.py:35: UserWarning: information_criterion cannot be 'oob' with out_of_sample_size = 0. Falling back to information criterion = aic.\n",
      "  warnings.warn('information_criterion cannot be \\'oob\\' with '\n"
     ]
    },
    {
     "name": "stdout",
     "output_type": "stream",
     "text": [
      "Parameters: (True, False, 'oob', 'mae', 5), MAPE: 0.11587570857852567\n"
     ]
    },
    {
     "name": "stderr",
     "output_type": "stream",
     "text": [
      "C:\\Users\\manue\\anaconda3\\envs\\TecnicasPrediccion\\lib\\site-packages\\pmdarima\\arima\\_validation.py:35: UserWarning: information_criterion cannot be 'oob' with out_of_sample_size = 0. Falling back to information criterion = aic.\n",
      "  warnings.warn('information_criterion cannot be \\'oob\\' with '\n"
     ]
    },
    {
     "name": "stdout",
     "output_type": "stream",
     "text": [
      "Parameters: (True, False, 'oob', 'mae', 6), MAPE: 0.11836101404665986\n"
     ]
    },
    {
     "name": "stderr",
     "output_type": "stream",
     "text": [
      "C:\\Users\\manue\\anaconda3\\envs\\TecnicasPrediccion\\lib\\site-packages\\pmdarima\\arima\\_validation.py:35: UserWarning: information_criterion cannot be 'oob' with out_of_sample_size = 0. Falling back to information criterion = aic.\n",
      "  warnings.warn('information_criterion cannot be \\'oob\\' with '\n"
     ]
    },
    {
     "name": "stdout",
     "output_type": "stream",
     "text": [
      "Parameters: (True, False, 'oob', 'mae', 7), MAPE: 0.11836101404665986\n"
     ]
    },
    {
     "name": "stderr",
     "output_type": "stream",
     "text": [
      "C:\\Users\\manue\\anaconda3\\envs\\TecnicasPrediccion\\lib\\site-packages\\pmdarima\\arima\\_validation.py:35: UserWarning: information_criterion cannot be 'oob' with out_of_sample_size = 0. Falling back to information criterion = aic.\n",
      "  warnings.warn('information_criterion cannot be \\'oob\\' with '\n"
     ]
    },
    {
     "name": "stdout",
     "output_type": "stream",
     "text": [
      "Parameters: (True, False, 'oob', 'mae', 13), MAPE: 0.11836101404665986\n"
     ]
    },
    {
     "name": "stderr",
     "output_type": "stream",
     "text": [
      "C:\\Users\\manue\\anaconda3\\envs\\TecnicasPrediccion\\lib\\site-packages\\pmdarima\\arima\\_validation.py:35: UserWarning: information_criterion cannot be 'oob' with out_of_sample_size = 0. Falling back to information criterion = aic.\n",
      "  warnings.warn('information_criterion cannot be \\'oob\\' with '\n"
     ]
    },
    {
     "name": "stdout",
     "output_type": "stream",
     "text": [
      "Parameters: (True, False, 'oob', 'mae', 52), MAPE: 0.10095543847587211\n"
     ]
    },
    {
     "name": "stderr",
     "output_type": "stream",
     "text": [
      "C:\\Users\\manue\\anaconda3\\envs\\TecnicasPrediccion\\lib\\site-packages\\pmdarima\\arima\\_validation.py:35: UserWarning: information_criterion cannot be 'oob' with out_of_sample_size = 0. Falling back to information criterion = aic.\n",
      "  warnings.warn('information_criterion cannot be \\'oob\\' with '\n"
     ]
    },
    {
     "name": "stdout",
     "output_type": "stream",
     "text": [
      "Parameters: (True, False, 'oob', 'mae', 53), MAPE: 0.11836101404665986\n"
     ]
    },
    {
     "name": "stderr",
     "output_type": "stream",
     "text": [
      "C:\\Users\\manue\\anaconda3\\envs\\TecnicasPrediccion\\lib\\site-packages\\pmdarima\\arima\\_validation.py:62: UserWarning: m (2) set for non-seasonal fit. Setting to 0\n",
      "  warnings.warn(\"m (%i) set for non-seasonal fit. Setting to 0\" % m)\n"
     ]
    },
    {
     "name": "stdout",
     "output_type": "stream",
     "text": [
      "Parameters: (False, True, 'aic', 'mse', 2), MAPE: 0.1775901440289396\n"
     ]
    },
    {
     "name": "stderr",
     "output_type": "stream",
     "text": [
      "C:\\Users\\manue\\anaconda3\\envs\\TecnicasPrediccion\\lib\\site-packages\\pmdarima\\arima\\_validation.py:62: UserWarning: m (3) set for non-seasonal fit. Setting to 0\n",
      "  warnings.warn(\"m (%i) set for non-seasonal fit. Setting to 0\" % m)\n"
     ]
    },
    {
     "name": "stdout",
     "output_type": "stream",
     "text": [
      "Parameters: (False, True, 'aic', 'mse', 3), MAPE: 0.1775901440289396\n"
     ]
    },
    {
     "name": "stderr",
     "output_type": "stream",
     "text": [
      "C:\\Users\\manue\\anaconda3\\envs\\TecnicasPrediccion\\lib\\site-packages\\pmdarima\\arima\\_validation.py:62: UserWarning: m (4) set for non-seasonal fit. Setting to 0\n",
      "  warnings.warn(\"m (%i) set for non-seasonal fit. Setting to 0\" % m)\n"
     ]
    },
    {
     "name": "stdout",
     "output_type": "stream",
     "text": [
      "Parameters: (False, True, 'aic', 'mse', 4), MAPE: 0.1775901440289396\n"
     ]
    },
    {
     "name": "stderr",
     "output_type": "stream",
     "text": [
      "C:\\Users\\manue\\anaconda3\\envs\\TecnicasPrediccion\\lib\\site-packages\\pmdarima\\arima\\_validation.py:62: UserWarning: m (5) set for non-seasonal fit. Setting to 0\n",
      "  warnings.warn(\"m (%i) set for non-seasonal fit. Setting to 0\" % m)\n"
     ]
    },
    {
     "name": "stdout",
     "output_type": "stream",
     "text": [
      "Parameters: (False, True, 'aic', 'mse', 5), MAPE: 0.1775901440289396\n"
     ]
    },
    {
     "name": "stderr",
     "output_type": "stream",
     "text": [
      "C:\\Users\\manue\\anaconda3\\envs\\TecnicasPrediccion\\lib\\site-packages\\pmdarima\\arima\\_validation.py:62: UserWarning: m (6) set for non-seasonal fit. Setting to 0\n",
      "  warnings.warn(\"m (%i) set for non-seasonal fit. Setting to 0\" % m)\n"
     ]
    },
    {
     "name": "stdout",
     "output_type": "stream",
     "text": [
      "Parameters: (False, True, 'aic', 'mse', 6), MAPE: 0.1775901440289396\n"
     ]
    },
    {
     "name": "stderr",
     "output_type": "stream",
     "text": [
      "C:\\Users\\manue\\anaconda3\\envs\\TecnicasPrediccion\\lib\\site-packages\\pmdarima\\arima\\_validation.py:62: UserWarning: m (7) set for non-seasonal fit. Setting to 0\n",
      "  warnings.warn(\"m (%i) set for non-seasonal fit. Setting to 0\" % m)\n"
     ]
    },
    {
     "name": "stdout",
     "output_type": "stream",
     "text": [
      "Parameters: (False, True, 'aic', 'mse', 7), MAPE: 0.1775901440289396\n"
     ]
    },
    {
     "name": "stderr",
     "output_type": "stream",
     "text": [
      "C:\\Users\\manue\\anaconda3\\envs\\TecnicasPrediccion\\lib\\site-packages\\pmdarima\\arima\\_validation.py:62: UserWarning: m (13) set for non-seasonal fit. Setting to 0\n",
      "  warnings.warn(\"m (%i) set for non-seasonal fit. Setting to 0\" % m)\n"
     ]
    },
    {
     "name": "stdout",
     "output_type": "stream",
     "text": [
      "Parameters: (False, True, 'aic', 'mse', 13), MAPE: 0.1775901440289396\n"
     ]
    },
    {
     "name": "stderr",
     "output_type": "stream",
     "text": [
      "C:\\Users\\manue\\anaconda3\\envs\\TecnicasPrediccion\\lib\\site-packages\\pmdarima\\arima\\_validation.py:62: UserWarning: m (52) set for non-seasonal fit. Setting to 0\n",
      "  warnings.warn(\"m (%i) set for non-seasonal fit. Setting to 0\" % m)\n"
     ]
    },
    {
     "name": "stdout",
     "output_type": "stream",
     "text": [
      "Parameters: (False, True, 'aic', 'mse', 52), MAPE: 0.1775901440289396\n"
     ]
    },
    {
     "name": "stderr",
     "output_type": "stream",
     "text": [
      "C:\\Users\\manue\\anaconda3\\envs\\TecnicasPrediccion\\lib\\site-packages\\pmdarima\\arima\\_validation.py:62: UserWarning: m (53) set for non-seasonal fit. Setting to 0\n",
      "  warnings.warn(\"m (%i) set for non-seasonal fit. Setting to 0\" % m)\n"
     ]
    },
    {
     "name": "stdout",
     "output_type": "stream",
     "text": [
      "Parameters: (False, True, 'aic', 'mse', 53), MAPE: 0.1775901440289396\n"
     ]
    },
    {
     "name": "stderr",
     "output_type": "stream",
     "text": [
      "C:\\Users\\manue\\anaconda3\\envs\\TecnicasPrediccion\\lib\\site-packages\\pmdarima\\arima\\_validation.py:62: UserWarning: m (2) set for non-seasonal fit. Setting to 0\n",
      "  warnings.warn(\"m (%i) set for non-seasonal fit. Setting to 0\" % m)\n"
     ]
    },
    {
     "name": "stdout",
     "output_type": "stream",
     "text": [
      "Parameters: (False, True, 'aic', 'mae', 2), MAPE: 0.1775901440289396\n"
     ]
    },
    {
     "name": "stderr",
     "output_type": "stream",
     "text": [
      "C:\\Users\\manue\\anaconda3\\envs\\TecnicasPrediccion\\lib\\site-packages\\pmdarima\\arima\\_validation.py:62: UserWarning: m (3) set for non-seasonal fit. Setting to 0\n",
      "  warnings.warn(\"m (%i) set for non-seasonal fit. Setting to 0\" % m)\n"
     ]
    },
    {
     "name": "stdout",
     "output_type": "stream",
     "text": [
      "Parameters: (False, True, 'aic', 'mae', 3), MAPE: 0.1775901440289396\n"
     ]
    },
    {
     "name": "stderr",
     "output_type": "stream",
     "text": [
      "C:\\Users\\manue\\anaconda3\\envs\\TecnicasPrediccion\\lib\\site-packages\\pmdarima\\arima\\_validation.py:62: UserWarning: m (4) set for non-seasonal fit. Setting to 0\n",
      "  warnings.warn(\"m (%i) set for non-seasonal fit. Setting to 0\" % m)\n"
     ]
    },
    {
     "name": "stdout",
     "output_type": "stream",
     "text": [
      "Parameters: (False, True, 'aic', 'mae', 4), MAPE: 0.1775901440289396\n"
     ]
    },
    {
     "name": "stderr",
     "output_type": "stream",
     "text": [
      "C:\\Users\\manue\\anaconda3\\envs\\TecnicasPrediccion\\lib\\site-packages\\pmdarima\\arima\\_validation.py:62: UserWarning: m (5) set for non-seasonal fit. Setting to 0\n",
      "  warnings.warn(\"m (%i) set for non-seasonal fit. Setting to 0\" % m)\n"
     ]
    },
    {
     "name": "stdout",
     "output_type": "stream",
     "text": [
      "Parameters: (False, True, 'aic', 'mae', 5), MAPE: 0.1775901440289396\n"
     ]
    },
    {
     "name": "stderr",
     "output_type": "stream",
     "text": [
      "C:\\Users\\manue\\anaconda3\\envs\\TecnicasPrediccion\\lib\\site-packages\\pmdarima\\arima\\_validation.py:62: UserWarning: m (6) set for non-seasonal fit. Setting to 0\n",
      "  warnings.warn(\"m (%i) set for non-seasonal fit. Setting to 0\" % m)\n"
     ]
    },
    {
     "name": "stdout",
     "output_type": "stream",
     "text": [
      "Parameters: (False, True, 'aic', 'mae', 6), MAPE: 0.1775901440289396\n"
     ]
    },
    {
     "name": "stderr",
     "output_type": "stream",
     "text": [
      "C:\\Users\\manue\\anaconda3\\envs\\TecnicasPrediccion\\lib\\site-packages\\pmdarima\\arima\\_validation.py:62: UserWarning: m (7) set for non-seasonal fit. Setting to 0\n",
      "  warnings.warn(\"m (%i) set for non-seasonal fit. Setting to 0\" % m)\n"
     ]
    },
    {
     "name": "stdout",
     "output_type": "stream",
     "text": [
      "Parameters: (False, True, 'aic', 'mae', 7), MAPE: 0.1775901440289396\n"
     ]
    },
    {
     "name": "stderr",
     "output_type": "stream",
     "text": [
      "C:\\Users\\manue\\anaconda3\\envs\\TecnicasPrediccion\\lib\\site-packages\\pmdarima\\arima\\_validation.py:62: UserWarning: m (13) set for non-seasonal fit. Setting to 0\n",
      "  warnings.warn(\"m (%i) set for non-seasonal fit. Setting to 0\" % m)\n"
     ]
    },
    {
     "name": "stdout",
     "output_type": "stream",
     "text": [
      "Parameters: (False, True, 'aic', 'mae', 13), MAPE: 0.1775901440289396\n"
     ]
    },
    {
     "name": "stderr",
     "output_type": "stream",
     "text": [
      "C:\\Users\\manue\\anaconda3\\envs\\TecnicasPrediccion\\lib\\site-packages\\pmdarima\\arima\\_validation.py:62: UserWarning: m (52) set for non-seasonal fit. Setting to 0\n",
      "  warnings.warn(\"m (%i) set for non-seasonal fit. Setting to 0\" % m)\n"
     ]
    },
    {
     "name": "stdout",
     "output_type": "stream",
     "text": [
      "Parameters: (False, True, 'aic', 'mae', 52), MAPE: 0.1775901440289396\n"
     ]
    },
    {
     "name": "stderr",
     "output_type": "stream",
     "text": [
      "C:\\Users\\manue\\anaconda3\\envs\\TecnicasPrediccion\\lib\\site-packages\\pmdarima\\arima\\_validation.py:62: UserWarning: m (53) set for non-seasonal fit. Setting to 0\n",
      "  warnings.warn(\"m (%i) set for non-seasonal fit. Setting to 0\" % m)\n"
     ]
    },
    {
     "name": "stdout",
     "output_type": "stream",
     "text": [
      "Parameters: (False, True, 'aic', 'mae', 53), MAPE: 0.1775901440289396\n"
     ]
    },
    {
     "name": "stderr",
     "output_type": "stream",
     "text": [
      "C:\\Users\\manue\\anaconda3\\envs\\TecnicasPrediccion\\lib\\site-packages\\pmdarima\\arima\\_validation.py:62: UserWarning: m (2) set for non-seasonal fit. Setting to 0\n",
      "  warnings.warn(\"m (%i) set for non-seasonal fit. Setting to 0\" % m)\n"
     ]
    },
    {
     "name": "stdout",
     "output_type": "stream",
     "text": [
      "Parameters: (False, True, 'bic', 'mse', 2), MAPE: 0.109135804490582\n"
     ]
    },
    {
     "name": "stderr",
     "output_type": "stream",
     "text": [
      "C:\\Users\\manue\\anaconda3\\envs\\TecnicasPrediccion\\lib\\site-packages\\pmdarima\\arima\\_validation.py:62: UserWarning: m (3) set for non-seasonal fit. Setting to 0\n",
      "  warnings.warn(\"m (%i) set for non-seasonal fit. Setting to 0\" % m)\n"
     ]
    },
    {
     "name": "stdout",
     "output_type": "stream",
     "text": [
      "Parameters: (False, True, 'bic', 'mse', 3), MAPE: 0.109135804490582\n"
     ]
    },
    {
     "name": "stderr",
     "output_type": "stream",
     "text": [
      "C:\\Users\\manue\\anaconda3\\envs\\TecnicasPrediccion\\lib\\site-packages\\pmdarima\\arima\\_validation.py:62: UserWarning: m (4) set for non-seasonal fit. Setting to 0\n",
      "  warnings.warn(\"m (%i) set for non-seasonal fit. Setting to 0\" % m)\n"
     ]
    },
    {
     "name": "stdout",
     "output_type": "stream",
     "text": [
      "Parameters: (False, True, 'bic', 'mse', 4), MAPE: 0.109135804490582\n"
     ]
    },
    {
     "name": "stderr",
     "output_type": "stream",
     "text": [
      "C:\\Users\\manue\\anaconda3\\envs\\TecnicasPrediccion\\lib\\site-packages\\pmdarima\\arima\\_validation.py:62: UserWarning: m (5) set for non-seasonal fit. Setting to 0\n",
      "  warnings.warn(\"m (%i) set for non-seasonal fit. Setting to 0\" % m)\n"
     ]
    },
    {
     "name": "stdout",
     "output_type": "stream",
     "text": [
      "Parameters: (False, True, 'bic', 'mse', 5), MAPE: 0.109135804490582\n"
     ]
    },
    {
     "name": "stderr",
     "output_type": "stream",
     "text": [
      "C:\\Users\\manue\\anaconda3\\envs\\TecnicasPrediccion\\lib\\site-packages\\pmdarima\\arima\\_validation.py:62: UserWarning: m (6) set for non-seasonal fit. Setting to 0\n",
      "  warnings.warn(\"m (%i) set for non-seasonal fit. Setting to 0\" % m)\n"
     ]
    },
    {
     "name": "stdout",
     "output_type": "stream",
     "text": [
      "Parameters: (False, True, 'bic', 'mse', 6), MAPE: 0.109135804490582\n"
     ]
    },
    {
     "name": "stderr",
     "output_type": "stream",
     "text": [
      "C:\\Users\\manue\\anaconda3\\envs\\TecnicasPrediccion\\lib\\site-packages\\pmdarima\\arima\\_validation.py:62: UserWarning: m (7) set for non-seasonal fit. Setting to 0\n",
      "  warnings.warn(\"m (%i) set for non-seasonal fit. Setting to 0\" % m)\n"
     ]
    },
    {
     "name": "stdout",
     "output_type": "stream",
     "text": [
      "Parameters: (False, True, 'bic', 'mse', 7), MAPE: 0.109135804490582\n"
     ]
    },
    {
     "name": "stderr",
     "output_type": "stream",
     "text": [
      "C:\\Users\\manue\\anaconda3\\envs\\TecnicasPrediccion\\lib\\site-packages\\pmdarima\\arima\\_validation.py:62: UserWarning: m (13) set for non-seasonal fit. Setting to 0\n",
      "  warnings.warn(\"m (%i) set for non-seasonal fit. Setting to 0\" % m)\n"
     ]
    },
    {
     "name": "stdout",
     "output_type": "stream",
     "text": [
      "Parameters: (False, True, 'bic', 'mse', 13), MAPE: 0.109135804490582\n"
     ]
    },
    {
     "name": "stderr",
     "output_type": "stream",
     "text": [
      "C:\\Users\\manue\\anaconda3\\envs\\TecnicasPrediccion\\lib\\site-packages\\pmdarima\\arima\\_validation.py:62: UserWarning: m (52) set for non-seasonal fit. Setting to 0\n",
      "  warnings.warn(\"m (%i) set for non-seasonal fit. Setting to 0\" % m)\n"
     ]
    },
    {
     "name": "stdout",
     "output_type": "stream",
     "text": [
      "Parameters: (False, True, 'bic', 'mse', 52), MAPE: 0.109135804490582\n"
     ]
    },
    {
     "name": "stderr",
     "output_type": "stream",
     "text": [
      "C:\\Users\\manue\\anaconda3\\envs\\TecnicasPrediccion\\lib\\site-packages\\pmdarima\\arima\\_validation.py:62: UserWarning: m (53) set for non-seasonal fit. Setting to 0\n",
      "  warnings.warn(\"m (%i) set for non-seasonal fit. Setting to 0\" % m)\n"
     ]
    },
    {
     "name": "stdout",
     "output_type": "stream",
     "text": [
      "Parameters: (False, True, 'bic', 'mse', 53), MAPE: 0.109135804490582\n"
     ]
    },
    {
     "name": "stderr",
     "output_type": "stream",
     "text": [
      "C:\\Users\\manue\\anaconda3\\envs\\TecnicasPrediccion\\lib\\site-packages\\pmdarima\\arima\\_validation.py:62: UserWarning: m (2) set for non-seasonal fit. Setting to 0\n",
      "  warnings.warn(\"m (%i) set for non-seasonal fit. Setting to 0\" % m)\n"
     ]
    },
    {
     "name": "stdout",
     "output_type": "stream",
     "text": [
      "Parameters: (False, True, 'bic', 'mae', 2), MAPE: 0.109135804490582\n"
     ]
    },
    {
     "name": "stderr",
     "output_type": "stream",
     "text": [
      "C:\\Users\\manue\\anaconda3\\envs\\TecnicasPrediccion\\lib\\site-packages\\pmdarima\\arima\\_validation.py:62: UserWarning: m (3) set for non-seasonal fit. Setting to 0\n",
      "  warnings.warn(\"m (%i) set for non-seasonal fit. Setting to 0\" % m)\n"
     ]
    },
    {
     "name": "stdout",
     "output_type": "stream",
     "text": [
      "Parameters: (False, True, 'bic', 'mae', 3), MAPE: 0.109135804490582\n"
     ]
    },
    {
     "name": "stderr",
     "output_type": "stream",
     "text": [
      "C:\\Users\\manue\\anaconda3\\envs\\TecnicasPrediccion\\lib\\site-packages\\pmdarima\\arima\\_validation.py:62: UserWarning: m (4) set for non-seasonal fit. Setting to 0\n",
      "  warnings.warn(\"m (%i) set for non-seasonal fit. Setting to 0\" % m)\n"
     ]
    },
    {
     "name": "stdout",
     "output_type": "stream",
     "text": [
      "Parameters: (False, True, 'bic', 'mae', 4), MAPE: 0.109135804490582\n"
     ]
    },
    {
     "name": "stderr",
     "output_type": "stream",
     "text": [
      "C:\\Users\\manue\\anaconda3\\envs\\TecnicasPrediccion\\lib\\site-packages\\pmdarima\\arima\\_validation.py:62: UserWarning: m (5) set for non-seasonal fit. Setting to 0\n",
      "  warnings.warn(\"m (%i) set for non-seasonal fit. Setting to 0\" % m)\n"
     ]
    },
    {
     "name": "stdout",
     "output_type": "stream",
     "text": [
      "Parameters: (False, True, 'bic', 'mae', 5), MAPE: 0.109135804490582\n"
     ]
    },
    {
     "name": "stderr",
     "output_type": "stream",
     "text": [
      "C:\\Users\\manue\\anaconda3\\envs\\TecnicasPrediccion\\lib\\site-packages\\pmdarima\\arima\\_validation.py:62: UserWarning: m (6) set for non-seasonal fit. Setting to 0\n",
      "  warnings.warn(\"m (%i) set for non-seasonal fit. Setting to 0\" % m)\n"
     ]
    },
    {
     "name": "stdout",
     "output_type": "stream",
     "text": [
      "Parameters: (False, True, 'bic', 'mae', 6), MAPE: 0.109135804490582\n"
     ]
    },
    {
     "name": "stderr",
     "output_type": "stream",
     "text": [
      "C:\\Users\\manue\\anaconda3\\envs\\TecnicasPrediccion\\lib\\site-packages\\pmdarima\\arima\\_validation.py:62: UserWarning: m (7) set for non-seasonal fit. Setting to 0\n",
      "  warnings.warn(\"m (%i) set for non-seasonal fit. Setting to 0\" % m)\n"
     ]
    },
    {
     "name": "stdout",
     "output_type": "stream",
     "text": [
      "Parameters: (False, True, 'bic', 'mae', 7), MAPE: 0.109135804490582\n"
     ]
    },
    {
     "name": "stderr",
     "output_type": "stream",
     "text": [
      "C:\\Users\\manue\\anaconda3\\envs\\TecnicasPrediccion\\lib\\site-packages\\pmdarima\\arima\\_validation.py:62: UserWarning: m (13) set for non-seasonal fit. Setting to 0\n",
      "  warnings.warn(\"m (%i) set for non-seasonal fit. Setting to 0\" % m)\n"
     ]
    },
    {
     "name": "stdout",
     "output_type": "stream",
     "text": [
      "Parameters: (False, True, 'bic', 'mae', 13), MAPE: 0.109135804490582\n"
     ]
    },
    {
     "name": "stderr",
     "output_type": "stream",
     "text": [
      "C:\\Users\\manue\\anaconda3\\envs\\TecnicasPrediccion\\lib\\site-packages\\pmdarima\\arima\\_validation.py:62: UserWarning: m (52) set for non-seasonal fit. Setting to 0\n",
      "  warnings.warn(\"m (%i) set for non-seasonal fit. Setting to 0\" % m)\n"
     ]
    },
    {
     "name": "stdout",
     "output_type": "stream",
     "text": [
      "Parameters: (False, True, 'bic', 'mae', 52), MAPE: 0.109135804490582\n"
     ]
    },
    {
     "name": "stderr",
     "output_type": "stream",
     "text": [
      "C:\\Users\\manue\\anaconda3\\envs\\TecnicasPrediccion\\lib\\site-packages\\pmdarima\\arima\\_validation.py:62: UserWarning: m (53) set for non-seasonal fit. Setting to 0\n",
      "  warnings.warn(\"m (%i) set for non-seasonal fit. Setting to 0\" % m)\n"
     ]
    },
    {
     "name": "stdout",
     "output_type": "stream",
     "text": [
      "Parameters: (False, True, 'bic', 'mae', 53), MAPE: 0.109135804490582\n"
     ]
    },
    {
     "name": "stderr",
     "output_type": "stream",
     "text": [
      "C:\\Users\\manue\\anaconda3\\envs\\TecnicasPrediccion\\lib\\site-packages\\pmdarima\\arima\\_validation.py:62: UserWarning: m (2) set for non-seasonal fit. Setting to 0\n",
      "  warnings.warn(\"m (%i) set for non-seasonal fit. Setting to 0\" % m)\n"
     ]
    },
    {
     "name": "stdout",
     "output_type": "stream",
     "text": [
      "Parameters: (False, True, 'hqic', 'mse', 2), MAPE: 0.09482445526001101\n"
     ]
    },
    {
     "name": "stderr",
     "output_type": "stream",
     "text": [
      "C:\\Users\\manue\\anaconda3\\envs\\TecnicasPrediccion\\lib\\site-packages\\pmdarima\\arima\\_validation.py:62: UserWarning: m (3) set for non-seasonal fit. Setting to 0\n",
      "  warnings.warn(\"m (%i) set for non-seasonal fit. Setting to 0\" % m)\n"
     ]
    },
    {
     "name": "stdout",
     "output_type": "stream",
     "text": [
      "Parameters: (False, True, 'hqic', 'mse', 3), MAPE: 0.09482445526001101\n"
     ]
    },
    {
     "name": "stderr",
     "output_type": "stream",
     "text": [
      "C:\\Users\\manue\\anaconda3\\envs\\TecnicasPrediccion\\lib\\site-packages\\pmdarima\\arima\\_validation.py:62: UserWarning: m (4) set for non-seasonal fit. Setting to 0\n",
      "  warnings.warn(\"m (%i) set for non-seasonal fit. Setting to 0\" % m)\n"
     ]
    },
    {
     "name": "stdout",
     "output_type": "stream",
     "text": [
      "Parameters: (False, True, 'hqic', 'mse', 4), MAPE: 0.09482445526001101\n"
     ]
    },
    {
     "name": "stderr",
     "output_type": "stream",
     "text": [
      "C:\\Users\\manue\\anaconda3\\envs\\TecnicasPrediccion\\lib\\site-packages\\pmdarima\\arima\\_validation.py:62: UserWarning: m (5) set for non-seasonal fit. Setting to 0\n",
      "  warnings.warn(\"m (%i) set for non-seasonal fit. Setting to 0\" % m)\n"
     ]
    },
    {
     "name": "stdout",
     "output_type": "stream",
     "text": [
      "Parameters: (False, True, 'hqic', 'mse', 5), MAPE: 0.09482445526001101\n"
     ]
    },
    {
     "name": "stderr",
     "output_type": "stream",
     "text": [
      "C:\\Users\\manue\\anaconda3\\envs\\TecnicasPrediccion\\lib\\site-packages\\pmdarima\\arima\\_validation.py:62: UserWarning: m (6) set for non-seasonal fit. Setting to 0\n",
      "  warnings.warn(\"m (%i) set for non-seasonal fit. Setting to 0\" % m)\n"
     ]
    },
    {
     "name": "stdout",
     "output_type": "stream",
     "text": [
      "Parameters: (False, True, 'hqic', 'mse', 6), MAPE: 0.09482445526001101\n"
     ]
    },
    {
     "name": "stderr",
     "output_type": "stream",
     "text": [
      "C:\\Users\\manue\\anaconda3\\envs\\TecnicasPrediccion\\lib\\site-packages\\pmdarima\\arima\\_validation.py:62: UserWarning: m (7) set for non-seasonal fit. Setting to 0\n",
      "  warnings.warn(\"m (%i) set for non-seasonal fit. Setting to 0\" % m)\n"
     ]
    },
    {
     "name": "stdout",
     "output_type": "stream",
     "text": [
      "Parameters: (False, True, 'hqic', 'mse', 7), MAPE: 0.09482445526001101\n"
     ]
    },
    {
     "name": "stderr",
     "output_type": "stream",
     "text": [
      "C:\\Users\\manue\\anaconda3\\envs\\TecnicasPrediccion\\lib\\site-packages\\pmdarima\\arima\\_validation.py:62: UserWarning: m (13) set for non-seasonal fit. Setting to 0\n",
      "  warnings.warn(\"m (%i) set for non-seasonal fit. Setting to 0\" % m)\n"
     ]
    },
    {
     "name": "stdout",
     "output_type": "stream",
     "text": [
      "Parameters: (False, True, 'hqic', 'mse', 13), MAPE: 0.09482445526001101\n"
     ]
    },
    {
     "name": "stderr",
     "output_type": "stream",
     "text": [
      "C:\\Users\\manue\\anaconda3\\envs\\TecnicasPrediccion\\lib\\site-packages\\pmdarima\\arima\\_validation.py:62: UserWarning: m (52) set for non-seasonal fit. Setting to 0\n",
      "  warnings.warn(\"m (%i) set for non-seasonal fit. Setting to 0\" % m)\n"
     ]
    },
    {
     "name": "stdout",
     "output_type": "stream",
     "text": [
      "Parameters: (False, True, 'hqic', 'mse', 52), MAPE: 0.09482445526001101\n"
     ]
    },
    {
     "name": "stderr",
     "output_type": "stream",
     "text": [
      "C:\\Users\\manue\\anaconda3\\envs\\TecnicasPrediccion\\lib\\site-packages\\pmdarima\\arima\\_validation.py:62: UserWarning: m (53) set for non-seasonal fit. Setting to 0\n",
      "  warnings.warn(\"m (%i) set for non-seasonal fit. Setting to 0\" % m)\n"
     ]
    },
    {
     "name": "stdout",
     "output_type": "stream",
     "text": [
      "Parameters: (False, True, 'hqic', 'mse', 53), MAPE: 0.09482445526001101\n"
     ]
    },
    {
     "name": "stderr",
     "output_type": "stream",
     "text": [
      "C:\\Users\\manue\\anaconda3\\envs\\TecnicasPrediccion\\lib\\site-packages\\pmdarima\\arima\\_validation.py:62: UserWarning: m (2) set for non-seasonal fit. Setting to 0\n",
      "  warnings.warn(\"m (%i) set for non-seasonal fit. Setting to 0\" % m)\n"
     ]
    },
    {
     "name": "stdout",
     "output_type": "stream",
     "text": [
      "Parameters: (False, True, 'hqic', 'mae', 2), MAPE: 0.09482445526001101\n"
     ]
    },
    {
     "name": "stderr",
     "output_type": "stream",
     "text": [
      "C:\\Users\\manue\\anaconda3\\envs\\TecnicasPrediccion\\lib\\site-packages\\pmdarima\\arima\\_validation.py:62: UserWarning: m (3) set for non-seasonal fit. Setting to 0\n",
      "  warnings.warn(\"m (%i) set for non-seasonal fit. Setting to 0\" % m)\n"
     ]
    },
    {
     "name": "stdout",
     "output_type": "stream",
     "text": [
      "Parameters: (False, True, 'hqic', 'mae', 3), MAPE: 0.09482445526001101\n"
     ]
    },
    {
     "name": "stderr",
     "output_type": "stream",
     "text": [
      "C:\\Users\\manue\\anaconda3\\envs\\TecnicasPrediccion\\lib\\site-packages\\pmdarima\\arima\\_validation.py:62: UserWarning: m (4) set for non-seasonal fit. Setting to 0\n",
      "  warnings.warn(\"m (%i) set for non-seasonal fit. Setting to 0\" % m)\n"
     ]
    },
    {
     "name": "stdout",
     "output_type": "stream",
     "text": [
      "Parameters: (False, True, 'hqic', 'mae', 4), MAPE: 0.09482445526001101\n"
     ]
    },
    {
     "name": "stderr",
     "output_type": "stream",
     "text": [
      "C:\\Users\\manue\\anaconda3\\envs\\TecnicasPrediccion\\lib\\site-packages\\pmdarima\\arima\\_validation.py:62: UserWarning: m (5) set for non-seasonal fit. Setting to 0\n",
      "  warnings.warn(\"m (%i) set for non-seasonal fit. Setting to 0\" % m)\n"
     ]
    },
    {
     "name": "stdout",
     "output_type": "stream",
     "text": [
      "Parameters: (False, True, 'hqic', 'mae', 5), MAPE: 0.09482445526001101\n"
     ]
    },
    {
     "name": "stderr",
     "output_type": "stream",
     "text": [
      "C:\\Users\\manue\\anaconda3\\envs\\TecnicasPrediccion\\lib\\site-packages\\pmdarima\\arima\\_validation.py:62: UserWarning: m (6) set for non-seasonal fit. Setting to 0\n",
      "  warnings.warn(\"m (%i) set for non-seasonal fit. Setting to 0\" % m)\n"
     ]
    },
    {
     "name": "stdout",
     "output_type": "stream",
     "text": [
      "Parameters: (False, True, 'hqic', 'mae', 6), MAPE: 0.09482445526001101\n"
     ]
    },
    {
     "name": "stderr",
     "output_type": "stream",
     "text": [
      "C:\\Users\\manue\\anaconda3\\envs\\TecnicasPrediccion\\lib\\site-packages\\pmdarima\\arima\\_validation.py:62: UserWarning: m (7) set for non-seasonal fit. Setting to 0\n",
      "  warnings.warn(\"m (%i) set for non-seasonal fit. Setting to 0\" % m)\n"
     ]
    },
    {
     "name": "stdout",
     "output_type": "stream",
     "text": [
      "Parameters: (False, True, 'hqic', 'mae', 7), MAPE: 0.09482445526001101\n"
     ]
    },
    {
     "name": "stderr",
     "output_type": "stream",
     "text": [
      "C:\\Users\\manue\\anaconda3\\envs\\TecnicasPrediccion\\lib\\site-packages\\pmdarima\\arima\\_validation.py:62: UserWarning: m (13) set for non-seasonal fit. Setting to 0\n",
      "  warnings.warn(\"m (%i) set for non-seasonal fit. Setting to 0\" % m)\n"
     ]
    },
    {
     "name": "stdout",
     "output_type": "stream",
     "text": [
      "Parameters: (False, True, 'hqic', 'mae', 13), MAPE: 0.09482445526001101\n"
     ]
    },
    {
     "name": "stderr",
     "output_type": "stream",
     "text": [
      "C:\\Users\\manue\\anaconda3\\envs\\TecnicasPrediccion\\lib\\site-packages\\pmdarima\\arima\\_validation.py:62: UserWarning: m (52) set for non-seasonal fit. Setting to 0\n",
      "  warnings.warn(\"m (%i) set for non-seasonal fit. Setting to 0\" % m)\n"
     ]
    },
    {
     "name": "stdout",
     "output_type": "stream",
     "text": [
      "Parameters: (False, True, 'hqic', 'mae', 52), MAPE: 0.09482445526001101\n"
     ]
    },
    {
     "name": "stderr",
     "output_type": "stream",
     "text": [
      "C:\\Users\\manue\\anaconda3\\envs\\TecnicasPrediccion\\lib\\site-packages\\pmdarima\\arima\\_validation.py:62: UserWarning: m (53) set for non-seasonal fit. Setting to 0\n",
      "  warnings.warn(\"m (%i) set for non-seasonal fit. Setting to 0\" % m)\n"
     ]
    },
    {
     "name": "stdout",
     "output_type": "stream",
     "text": [
      "Parameters: (False, True, 'hqic', 'mae', 53), MAPE: 0.09482445526001101\n"
     ]
    },
    {
     "name": "stderr",
     "output_type": "stream",
     "text": [
      "C:\\Users\\manue\\anaconda3\\envs\\TecnicasPrediccion\\lib\\site-packages\\pmdarima\\arima\\_validation.py:62: UserWarning: m (2) set for non-seasonal fit. Setting to 0\n",
      "  warnings.warn(\"m (%i) set for non-seasonal fit. Setting to 0\" % m)\n",
      "C:\\Users\\manue\\anaconda3\\envs\\TecnicasPrediccion\\lib\\site-packages\\pmdarima\\arima\\_validation.py:35: UserWarning: information_criterion cannot be 'oob' with out_of_sample_size = 0. Falling back to information criterion = aic.\n",
      "  warnings.warn('information_criterion cannot be \\'oob\\' with '\n"
     ]
    },
    {
     "name": "stdout",
     "output_type": "stream",
     "text": [
      "Parameters: (False, True, 'oob', 'mse', 2), MAPE: 0.1775901440289396\n"
     ]
    },
    {
     "name": "stderr",
     "output_type": "stream",
     "text": [
      "C:\\Users\\manue\\anaconda3\\envs\\TecnicasPrediccion\\lib\\site-packages\\pmdarima\\arima\\_validation.py:62: UserWarning: m (3) set for non-seasonal fit. Setting to 0\n",
      "  warnings.warn(\"m (%i) set for non-seasonal fit. Setting to 0\" % m)\n",
      "C:\\Users\\manue\\anaconda3\\envs\\TecnicasPrediccion\\lib\\site-packages\\pmdarima\\arima\\_validation.py:35: UserWarning: information_criterion cannot be 'oob' with out_of_sample_size = 0. Falling back to information criterion = aic.\n",
      "  warnings.warn('information_criterion cannot be \\'oob\\' with '\n"
     ]
    },
    {
     "name": "stdout",
     "output_type": "stream",
     "text": [
      "Parameters: (False, True, 'oob', 'mse', 3), MAPE: 0.1775901440289396\n"
     ]
    },
    {
     "name": "stderr",
     "output_type": "stream",
     "text": [
      "C:\\Users\\manue\\anaconda3\\envs\\TecnicasPrediccion\\lib\\site-packages\\pmdarima\\arima\\_validation.py:62: UserWarning: m (4) set for non-seasonal fit. Setting to 0\n",
      "  warnings.warn(\"m (%i) set for non-seasonal fit. Setting to 0\" % m)\n",
      "C:\\Users\\manue\\anaconda3\\envs\\TecnicasPrediccion\\lib\\site-packages\\pmdarima\\arima\\_validation.py:35: UserWarning: information_criterion cannot be 'oob' with out_of_sample_size = 0. Falling back to information criterion = aic.\n",
      "  warnings.warn('information_criterion cannot be \\'oob\\' with '\n"
     ]
    },
    {
     "name": "stdout",
     "output_type": "stream",
     "text": [
      "Parameters: (False, True, 'oob', 'mse', 4), MAPE: 0.1775901440289396\n"
     ]
    },
    {
     "name": "stderr",
     "output_type": "stream",
     "text": [
      "C:\\Users\\manue\\anaconda3\\envs\\TecnicasPrediccion\\lib\\site-packages\\pmdarima\\arima\\_validation.py:62: UserWarning: m (5) set for non-seasonal fit. Setting to 0\n",
      "  warnings.warn(\"m (%i) set for non-seasonal fit. Setting to 0\" % m)\n",
      "C:\\Users\\manue\\anaconda3\\envs\\TecnicasPrediccion\\lib\\site-packages\\pmdarima\\arima\\_validation.py:35: UserWarning: information_criterion cannot be 'oob' with out_of_sample_size = 0. Falling back to information criterion = aic.\n",
      "  warnings.warn('information_criterion cannot be \\'oob\\' with '\n"
     ]
    },
    {
     "name": "stdout",
     "output_type": "stream",
     "text": [
      "Parameters: (False, True, 'oob', 'mse', 5), MAPE: 0.1775901440289396\n"
     ]
    },
    {
     "name": "stderr",
     "output_type": "stream",
     "text": [
      "C:\\Users\\manue\\anaconda3\\envs\\TecnicasPrediccion\\lib\\site-packages\\pmdarima\\arima\\_validation.py:62: UserWarning: m (6) set for non-seasonal fit. Setting to 0\n",
      "  warnings.warn(\"m (%i) set for non-seasonal fit. Setting to 0\" % m)\n",
      "C:\\Users\\manue\\anaconda3\\envs\\TecnicasPrediccion\\lib\\site-packages\\pmdarima\\arima\\_validation.py:35: UserWarning: information_criterion cannot be 'oob' with out_of_sample_size = 0. Falling back to information criterion = aic.\n",
      "  warnings.warn('information_criterion cannot be \\'oob\\' with '\n"
     ]
    },
    {
     "name": "stdout",
     "output_type": "stream",
     "text": [
      "Parameters: (False, True, 'oob', 'mse', 6), MAPE: 0.1775901440289396\n"
     ]
    },
    {
     "name": "stderr",
     "output_type": "stream",
     "text": [
      "C:\\Users\\manue\\anaconda3\\envs\\TecnicasPrediccion\\lib\\site-packages\\pmdarima\\arima\\_validation.py:62: UserWarning: m (7) set for non-seasonal fit. Setting to 0\n",
      "  warnings.warn(\"m (%i) set for non-seasonal fit. Setting to 0\" % m)\n",
      "C:\\Users\\manue\\anaconda3\\envs\\TecnicasPrediccion\\lib\\site-packages\\pmdarima\\arima\\_validation.py:35: UserWarning: information_criterion cannot be 'oob' with out_of_sample_size = 0. Falling back to information criterion = aic.\n",
      "  warnings.warn('information_criterion cannot be \\'oob\\' with '\n"
     ]
    },
    {
     "name": "stdout",
     "output_type": "stream",
     "text": [
      "Parameters: (False, True, 'oob', 'mse', 7), MAPE: 0.1775901440289396\n"
     ]
    },
    {
     "name": "stderr",
     "output_type": "stream",
     "text": [
      "C:\\Users\\manue\\anaconda3\\envs\\TecnicasPrediccion\\lib\\site-packages\\pmdarima\\arima\\_validation.py:62: UserWarning: m (13) set for non-seasonal fit. Setting to 0\n",
      "  warnings.warn(\"m (%i) set for non-seasonal fit. Setting to 0\" % m)\n",
      "C:\\Users\\manue\\anaconda3\\envs\\TecnicasPrediccion\\lib\\site-packages\\pmdarima\\arima\\_validation.py:35: UserWarning: information_criterion cannot be 'oob' with out_of_sample_size = 0. Falling back to information criterion = aic.\n",
      "  warnings.warn('information_criterion cannot be \\'oob\\' with '\n"
     ]
    },
    {
     "name": "stdout",
     "output_type": "stream",
     "text": [
      "Parameters: (False, True, 'oob', 'mse', 13), MAPE: 0.1775901440289396\n"
     ]
    },
    {
     "name": "stderr",
     "output_type": "stream",
     "text": [
      "C:\\Users\\manue\\anaconda3\\envs\\TecnicasPrediccion\\lib\\site-packages\\pmdarima\\arima\\_validation.py:62: UserWarning: m (52) set for non-seasonal fit. Setting to 0\n",
      "  warnings.warn(\"m (%i) set for non-seasonal fit. Setting to 0\" % m)\n",
      "C:\\Users\\manue\\anaconda3\\envs\\TecnicasPrediccion\\lib\\site-packages\\pmdarima\\arima\\_validation.py:35: UserWarning: information_criterion cannot be 'oob' with out_of_sample_size = 0. Falling back to information criterion = aic.\n",
      "  warnings.warn('information_criterion cannot be \\'oob\\' with '\n"
     ]
    },
    {
     "name": "stdout",
     "output_type": "stream",
     "text": [
      "Parameters: (False, True, 'oob', 'mse', 52), MAPE: 0.1775901440289396\n"
     ]
    },
    {
     "name": "stderr",
     "output_type": "stream",
     "text": [
      "C:\\Users\\manue\\anaconda3\\envs\\TecnicasPrediccion\\lib\\site-packages\\pmdarima\\arima\\_validation.py:62: UserWarning: m (53) set for non-seasonal fit. Setting to 0\n",
      "  warnings.warn(\"m (%i) set for non-seasonal fit. Setting to 0\" % m)\n",
      "C:\\Users\\manue\\anaconda3\\envs\\TecnicasPrediccion\\lib\\site-packages\\pmdarima\\arima\\_validation.py:35: UserWarning: information_criterion cannot be 'oob' with out_of_sample_size = 0. Falling back to information criterion = aic.\n",
      "  warnings.warn('information_criterion cannot be \\'oob\\' with '\n"
     ]
    },
    {
     "name": "stdout",
     "output_type": "stream",
     "text": [
      "Parameters: (False, True, 'oob', 'mse', 53), MAPE: 0.1775901440289396\n"
     ]
    },
    {
     "name": "stderr",
     "output_type": "stream",
     "text": [
      "C:\\Users\\manue\\anaconda3\\envs\\TecnicasPrediccion\\lib\\site-packages\\pmdarima\\arima\\_validation.py:62: UserWarning: m (2) set for non-seasonal fit. Setting to 0\n",
      "  warnings.warn(\"m (%i) set for non-seasonal fit. Setting to 0\" % m)\n",
      "C:\\Users\\manue\\anaconda3\\envs\\TecnicasPrediccion\\lib\\site-packages\\pmdarima\\arima\\_validation.py:35: UserWarning: information_criterion cannot be 'oob' with out_of_sample_size = 0. Falling back to information criterion = aic.\n",
      "  warnings.warn('information_criterion cannot be \\'oob\\' with '\n"
     ]
    },
    {
     "name": "stdout",
     "output_type": "stream",
     "text": [
      "Parameters: (False, True, 'oob', 'mae', 2), MAPE: 0.1775901440289396\n"
     ]
    },
    {
     "name": "stderr",
     "output_type": "stream",
     "text": [
      "C:\\Users\\manue\\anaconda3\\envs\\TecnicasPrediccion\\lib\\site-packages\\pmdarima\\arima\\_validation.py:62: UserWarning: m (3) set for non-seasonal fit. Setting to 0\n",
      "  warnings.warn(\"m (%i) set for non-seasonal fit. Setting to 0\" % m)\n",
      "C:\\Users\\manue\\anaconda3\\envs\\TecnicasPrediccion\\lib\\site-packages\\pmdarima\\arima\\_validation.py:35: UserWarning: information_criterion cannot be 'oob' with out_of_sample_size = 0. Falling back to information criterion = aic.\n",
      "  warnings.warn('information_criterion cannot be \\'oob\\' with '\n"
     ]
    },
    {
     "name": "stdout",
     "output_type": "stream",
     "text": [
      "Parameters: (False, True, 'oob', 'mae', 3), MAPE: 0.1775901440289396\n"
     ]
    },
    {
     "name": "stderr",
     "output_type": "stream",
     "text": [
      "C:\\Users\\manue\\anaconda3\\envs\\TecnicasPrediccion\\lib\\site-packages\\pmdarima\\arima\\_validation.py:62: UserWarning: m (4) set for non-seasonal fit. Setting to 0\n",
      "  warnings.warn(\"m (%i) set for non-seasonal fit. Setting to 0\" % m)\n",
      "C:\\Users\\manue\\anaconda3\\envs\\TecnicasPrediccion\\lib\\site-packages\\pmdarima\\arima\\_validation.py:35: UserWarning: information_criterion cannot be 'oob' with out_of_sample_size = 0. Falling back to information criterion = aic.\n",
      "  warnings.warn('information_criterion cannot be \\'oob\\' with '\n"
     ]
    },
    {
     "name": "stdout",
     "output_type": "stream",
     "text": [
      "Parameters: (False, True, 'oob', 'mae', 4), MAPE: 0.1775901440289396\n"
     ]
    },
    {
     "name": "stderr",
     "output_type": "stream",
     "text": [
      "C:\\Users\\manue\\anaconda3\\envs\\TecnicasPrediccion\\lib\\site-packages\\pmdarima\\arima\\_validation.py:62: UserWarning: m (5) set for non-seasonal fit. Setting to 0\n",
      "  warnings.warn(\"m (%i) set for non-seasonal fit. Setting to 0\" % m)\n",
      "C:\\Users\\manue\\anaconda3\\envs\\TecnicasPrediccion\\lib\\site-packages\\pmdarima\\arima\\_validation.py:35: UserWarning: information_criterion cannot be 'oob' with out_of_sample_size = 0. Falling back to information criterion = aic.\n",
      "  warnings.warn('information_criterion cannot be \\'oob\\' with '\n"
     ]
    },
    {
     "name": "stdout",
     "output_type": "stream",
     "text": [
      "Parameters: (False, True, 'oob', 'mae', 5), MAPE: 0.1775901440289396\n"
     ]
    },
    {
     "name": "stderr",
     "output_type": "stream",
     "text": [
      "C:\\Users\\manue\\anaconda3\\envs\\TecnicasPrediccion\\lib\\site-packages\\pmdarima\\arima\\_validation.py:62: UserWarning: m (6) set for non-seasonal fit. Setting to 0\n",
      "  warnings.warn(\"m (%i) set for non-seasonal fit. Setting to 0\" % m)\n",
      "C:\\Users\\manue\\anaconda3\\envs\\TecnicasPrediccion\\lib\\site-packages\\pmdarima\\arima\\_validation.py:35: UserWarning: information_criterion cannot be 'oob' with out_of_sample_size = 0. Falling back to information criterion = aic.\n",
      "  warnings.warn('information_criterion cannot be \\'oob\\' with '\n"
     ]
    },
    {
     "name": "stdout",
     "output_type": "stream",
     "text": [
      "Parameters: (False, True, 'oob', 'mae', 6), MAPE: 0.1775901440289396\n"
     ]
    },
    {
     "name": "stderr",
     "output_type": "stream",
     "text": [
      "C:\\Users\\manue\\anaconda3\\envs\\TecnicasPrediccion\\lib\\site-packages\\pmdarima\\arima\\_validation.py:62: UserWarning: m (7) set for non-seasonal fit. Setting to 0\n",
      "  warnings.warn(\"m (%i) set for non-seasonal fit. Setting to 0\" % m)\n",
      "C:\\Users\\manue\\anaconda3\\envs\\TecnicasPrediccion\\lib\\site-packages\\pmdarima\\arima\\_validation.py:35: UserWarning: information_criterion cannot be 'oob' with out_of_sample_size = 0. Falling back to information criterion = aic.\n",
      "  warnings.warn('information_criterion cannot be \\'oob\\' with '\n"
     ]
    },
    {
     "name": "stdout",
     "output_type": "stream",
     "text": [
      "Parameters: (False, True, 'oob', 'mae', 7), MAPE: 0.1775901440289396\n"
     ]
    },
    {
     "name": "stderr",
     "output_type": "stream",
     "text": [
      "C:\\Users\\manue\\anaconda3\\envs\\TecnicasPrediccion\\lib\\site-packages\\pmdarima\\arima\\_validation.py:62: UserWarning: m (13) set for non-seasonal fit. Setting to 0\n",
      "  warnings.warn(\"m (%i) set for non-seasonal fit. Setting to 0\" % m)\n",
      "C:\\Users\\manue\\anaconda3\\envs\\TecnicasPrediccion\\lib\\site-packages\\pmdarima\\arima\\_validation.py:35: UserWarning: information_criterion cannot be 'oob' with out_of_sample_size = 0. Falling back to information criterion = aic.\n",
      "  warnings.warn('information_criterion cannot be \\'oob\\' with '\n"
     ]
    },
    {
     "name": "stdout",
     "output_type": "stream",
     "text": [
      "Parameters: (False, True, 'oob', 'mae', 13), MAPE: 0.1775901440289396\n"
     ]
    },
    {
     "name": "stderr",
     "output_type": "stream",
     "text": [
      "C:\\Users\\manue\\anaconda3\\envs\\TecnicasPrediccion\\lib\\site-packages\\pmdarima\\arima\\_validation.py:62: UserWarning: m (52) set for non-seasonal fit. Setting to 0\n",
      "  warnings.warn(\"m (%i) set for non-seasonal fit. Setting to 0\" % m)\n",
      "C:\\Users\\manue\\anaconda3\\envs\\TecnicasPrediccion\\lib\\site-packages\\pmdarima\\arima\\_validation.py:35: UserWarning: information_criterion cannot be 'oob' with out_of_sample_size = 0. Falling back to information criterion = aic.\n",
      "  warnings.warn('information_criterion cannot be \\'oob\\' with '\n"
     ]
    },
    {
     "name": "stdout",
     "output_type": "stream",
     "text": [
      "Parameters: (False, True, 'oob', 'mae', 52), MAPE: 0.1775901440289396\n"
     ]
    },
    {
     "name": "stderr",
     "output_type": "stream",
     "text": [
      "C:\\Users\\manue\\anaconda3\\envs\\TecnicasPrediccion\\lib\\site-packages\\pmdarima\\arima\\_validation.py:62: UserWarning: m (53) set for non-seasonal fit. Setting to 0\n",
      "  warnings.warn(\"m (%i) set for non-seasonal fit. Setting to 0\" % m)\n",
      "C:\\Users\\manue\\anaconda3\\envs\\TecnicasPrediccion\\lib\\site-packages\\pmdarima\\arima\\_validation.py:35: UserWarning: information_criterion cannot be 'oob' with out_of_sample_size = 0. Falling back to information criterion = aic.\n",
      "  warnings.warn('information_criterion cannot be \\'oob\\' with '\n"
     ]
    },
    {
     "name": "stdout",
     "output_type": "stream",
     "text": [
      "Parameters: (False, True, 'oob', 'mae', 53), MAPE: 0.1775901440289396\n"
     ]
    },
    {
     "name": "stderr",
     "output_type": "stream",
     "text": [
      "C:\\Users\\manue\\anaconda3\\envs\\TecnicasPrediccion\\lib\\site-packages\\pmdarima\\arima\\_validation.py:62: UserWarning: m (2) set for non-seasonal fit. Setting to 0\n",
      "  warnings.warn(\"m (%i) set for non-seasonal fit. Setting to 0\" % m)\n"
     ]
    },
    {
     "name": "stdout",
     "output_type": "stream",
     "text": [
      "Parameters: (False, False, 'aic', 'mse', 2), MAPE: 0.11836101404665986\n"
     ]
    },
    {
     "name": "stderr",
     "output_type": "stream",
     "text": [
      "C:\\Users\\manue\\anaconda3\\envs\\TecnicasPrediccion\\lib\\site-packages\\pmdarima\\arima\\_validation.py:62: UserWarning: m (3) set for non-seasonal fit. Setting to 0\n",
      "  warnings.warn(\"m (%i) set for non-seasonal fit. Setting to 0\" % m)\n"
     ]
    },
    {
     "name": "stdout",
     "output_type": "stream",
     "text": [
      "Parameters: (False, False, 'aic', 'mse', 3), MAPE: 0.11836101404665986\n"
     ]
    },
    {
     "name": "stderr",
     "output_type": "stream",
     "text": [
      "C:\\Users\\manue\\anaconda3\\envs\\TecnicasPrediccion\\lib\\site-packages\\pmdarima\\arima\\_validation.py:62: UserWarning: m (4) set for non-seasonal fit. Setting to 0\n",
      "  warnings.warn(\"m (%i) set for non-seasonal fit. Setting to 0\" % m)\n"
     ]
    },
    {
     "name": "stdout",
     "output_type": "stream",
     "text": [
      "Parameters: (False, False, 'aic', 'mse', 4), MAPE: 0.11836101404665986\n"
     ]
    },
    {
     "name": "stderr",
     "output_type": "stream",
     "text": [
      "C:\\Users\\manue\\anaconda3\\envs\\TecnicasPrediccion\\lib\\site-packages\\pmdarima\\arima\\_validation.py:62: UserWarning: m (5) set for non-seasonal fit. Setting to 0\n",
      "  warnings.warn(\"m (%i) set for non-seasonal fit. Setting to 0\" % m)\n"
     ]
    },
    {
     "name": "stdout",
     "output_type": "stream",
     "text": [
      "Parameters: (False, False, 'aic', 'mse', 5), MAPE: 0.11836101404665986\n"
     ]
    },
    {
     "name": "stderr",
     "output_type": "stream",
     "text": [
      "C:\\Users\\manue\\anaconda3\\envs\\TecnicasPrediccion\\lib\\site-packages\\pmdarima\\arima\\_validation.py:62: UserWarning: m (6) set for non-seasonal fit. Setting to 0\n",
      "  warnings.warn(\"m (%i) set for non-seasonal fit. Setting to 0\" % m)\n"
     ]
    },
    {
     "name": "stdout",
     "output_type": "stream",
     "text": [
      "Parameters: (False, False, 'aic', 'mse', 6), MAPE: 0.11836101404665986\n"
     ]
    },
    {
     "name": "stderr",
     "output_type": "stream",
     "text": [
      "C:\\Users\\manue\\anaconda3\\envs\\TecnicasPrediccion\\lib\\site-packages\\pmdarima\\arima\\_validation.py:62: UserWarning: m (7) set for non-seasonal fit. Setting to 0\n",
      "  warnings.warn(\"m (%i) set for non-seasonal fit. Setting to 0\" % m)\n"
     ]
    },
    {
     "name": "stdout",
     "output_type": "stream",
     "text": [
      "Parameters: (False, False, 'aic', 'mse', 7), MAPE: 0.11836101404665986\n"
     ]
    },
    {
     "name": "stderr",
     "output_type": "stream",
     "text": [
      "C:\\Users\\manue\\anaconda3\\envs\\TecnicasPrediccion\\lib\\site-packages\\pmdarima\\arima\\_validation.py:62: UserWarning: m (13) set for non-seasonal fit. Setting to 0\n",
      "  warnings.warn(\"m (%i) set for non-seasonal fit. Setting to 0\" % m)\n"
     ]
    },
    {
     "name": "stdout",
     "output_type": "stream",
     "text": [
      "Parameters: (False, False, 'aic', 'mse', 13), MAPE: 0.11836101404665986\n"
     ]
    },
    {
     "name": "stderr",
     "output_type": "stream",
     "text": [
      "C:\\Users\\manue\\anaconda3\\envs\\TecnicasPrediccion\\lib\\site-packages\\pmdarima\\arima\\_validation.py:62: UserWarning: m (52) set for non-seasonal fit. Setting to 0\n",
      "  warnings.warn(\"m (%i) set for non-seasonal fit. Setting to 0\" % m)\n"
     ]
    },
    {
     "name": "stdout",
     "output_type": "stream",
     "text": [
      "Parameters: (False, False, 'aic', 'mse', 52), MAPE: 0.11836101404665986\n"
     ]
    },
    {
     "name": "stderr",
     "output_type": "stream",
     "text": [
      "C:\\Users\\manue\\anaconda3\\envs\\TecnicasPrediccion\\lib\\site-packages\\pmdarima\\arima\\_validation.py:62: UserWarning: m (53) set for non-seasonal fit. Setting to 0\n",
      "  warnings.warn(\"m (%i) set for non-seasonal fit. Setting to 0\" % m)\n"
     ]
    },
    {
     "name": "stdout",
     "output_type": "stream",
     "text": [
      "Parameters: (False, False, 'aic', 'mse', 53), MAPE: 0.11836101404665986\n"
     ]
    },
    {
     "name": "stderr",
     "output_type": "stream",
     "text": [
      "C:\\Users\\manue\\anaconda3\\envs\\TecnicasPrediccion\\lib\\site-packages\\pmdarima\\arima\\_validation.py:62: UserWarning: m (2) set for non-seasonal fit. Setting to 0\n",
      "  warnings.warn(\"m (%i) set for non-seasonal fit. Setting to 0\" % m)\n"
     ]
    },
    {
     "name": "stdout",
     "output_type": "stream",
     "text": [
      "Parameters: (False, False, 'aic', 'mae', 2), MAPE: 0.11836101404665986\n"
     ]
    },
    {
     "name": "stderr",
     "output_type": "stream",
     "text": [
      "C:\\Users\\manue\\anaconda3\\envs\\TecnicasPrediccion\\lib\\site-packages\\pmdarima\\arima\\_validation.py:62: UserWarning: m (3) set for non-seasonal fit. Setting to 0\n",
      "  warnings.warn(\"m (%i) set for non-seasonal fit. Setting to 0\" % m)\n"
     ]
    },
    {
     "name": "stdout",
     "output_type": "stream",
     "text": [
      "Parameters: (False, False, 'aic', 'mae', 3), MAPE: 0.11836101404665986\n"
     ]
    },
    {
     "name": "stderr",
     "output_type": "stream",
     "text": [
      "C:\\Users\\manue\\anaconda3\\envs\\TecnicasPrediccion\\lib\\site-packages\\pmdarima\\arima\\_validation.py:62: UserWarning: m (4) set for non-seasonal fit. Setting to 0\n",
      "  warnings.warn(\"m (%i) set for non-seasonal fit. Setting to 0\" % m)\n"
     ]
    },
    {
     "name": "stdout",
     "output_type": "stream",
     "text": [
      "Parameters: (False, False, 'aic', 'mae', 4), MAPE: 0.11836101404665986\n"
     ]
    },
    {
     "name": "stderr",
     "output_type": "stream",
     "text": [
      "C:\\Users\\manue\\anaconda3\\envs\\TecnicasPrediccion\\lib\\site-packages\\pmdarima\\arima\\_validation.py:62: UserWarning: m (5) set for non-seasonal fit. Setting to 0\n",
      "  warnings.warn(\"m (%i) set for non-seasonal fit. Setting to 0\" % m)\n"
     ]
    },
    {
     "name": "stdout",
     "output_type": "stream",
     "text": [
      "Parameters: (False, False, 'aic', 'mae', 5), MAPE: 0.11836101404665986\n"
     ]
    },
    {
     "name": "stderr",
     "output_type": "stream",
     "text": [
      "C:\\Users\\manue\\anaconda3\\envs\\TecnicasPrediccion\\lib\\site-packages\\pmdarima\\arima\\_validation.py:62: UserWarning: m (6) set for non-seasonal fit. Setting to 0\n",
      "  warnings.warn(\"m (%i) set for non-seasonal fit. Setting to 0\" % m)\n"
     ]
    },
    {
     "name": "stdout",
     "output_type": "stream",
     "text": [
      "Parameters: (False, False, 'aic', 'mae', 6), MAPE: 0.11836101404665986\n"
     ]
    },
    {
     "name": "stderr",
     "output_type": "stream",
     "text": [
      "C:\\Users\\manue\\anaconda3\\envs\\TecnicasPrediccion\\lib\\site-packages\\pmdarima\\arima\\_validation.py:62: UserWarning: m (7) set for non-seasonal fit. Setting to 0\n",
      "  warnings.warn(\"m (%i) set for non-seasonal fit. Setting to 0\" % m)\n"
     ]
    },
    {
     "name": "stdout",
     "output_type": "stream",
     "text": [
      "Parameters: (False, False, 'aic', 'mae', 7), MAPE: 0.11836101404665986\n"
     ]
    },
    {
     "name": "stderr",
     "output_type": "stream",
     "text": [
      "C:\\Users\\manue\\anaconda3\\envs\\TecnicasPrediccion\\lib\\site-packages\\pmdarima\\arima\\_validation.py:62: UserWarning: m (13) set for non-seasonal fit. Setting to 0\n",
      "  warnings.warn(\"m (%i) set for non-seasonal fit. Setting to 0\" % m)\n"
     ]
    },
    {
     "name": "stdout",
     "output_type": "stream",
     "text": [
      "Parameters: (False, False, 'aic', 'mae', 13), MAPE: 0.11836101404665986\n"
     ]
    },
    {
     "name": "stderr",
     "output_type": "stream",
     "text": [
      "C:\\Users\\manue\\anaconda3\\envs\\TecnicasPrediccion\\lib\\site-packages\\pmdarima\\arima\\_validation.py:62: UserWarning: m (52) set for non-seasonal fit. Setting to 0\n",
      "  warnings.warn(\"m (%i) set for non-seasonal fit. Setting to 0\" % m)\n"
     ]
    },
    {
     "name": "stdout",
     "output_type": "stream",
     "text": [
      "Parameters: (False, False, 'aic', 'mae', 52), MAPE: 0.11836101404665986\n"
     ]
    },
    {
     "name": "stderr",
     "output_type": "stream",
     "text": [
      "C:\\Users\\manue\\anaconda3\\envs\\TecnicasPrediccion\\lib\\site-packages\\pmdarima\\arima\\_validation.py:62: UserWarning: m (53) set for non-seasonal fit. Setting to 0\n",
      "  warnings.warn(\"m (%i) set for non-seasonal fit. Setting to 0\" % m)\n"
     ]
    },
    {
     "name": "stdout",
     "output_type": "stream",
     "text": [
      "Parameters: (False, False, 'aic', 'mae', 53), MAPE: 0.11836101404665986\n"
     ]
    },
    {
     "name": "stderr",
     "output_type": "stream",
     "text": [
      "C:\\Users\\manue\\anaconda3\\envs\\TecnicasPrediccion\\lib\\site-packages\\pmdarima\\arima\\_validation.py:62: UserWarning: m (2) set for non-seasonal fit. Setting to 0\n",
      "  warnings.warn(\"m (%i) set for non-seasonal fit. Setting to 0\" % m)\n"
     ]
    },
    {
     "name": "stdout",
     "output_type": "stream",
     "text": [
      "Parameters: (False, False, 'bic', 'mse', 2), MAPE: 0.11836101404665986\n"
     ]
    },
    {
     "name": "stderr",
     "output_type": "stream",
     "text": [
      "C:\\Users\\manue\\anaconda3\\envs\\TecnicasPrediccion\\lib\\site-packages\\pmdarima\\arima\\_validation.py:62: UserWarning: m (3) set for non-seasonal fit. Setting to 0\n",
      "  warnings.warn(\"m (%i) set for non-seasonal fit. Setting to 0\" % m)\n"
     ]
    },
    {
     "name": "stdout",
     "output_type": "stream",
     "text": [
      "Parameters: (False, False, 'bic', 'mse', 3), MAPE: 0.11836101404665986\n"
     ]
    },
    {
     "name": "stderr",
     "output_type": "stream",
     "text": [
      "C:\\Users\\manue\\anaconda3\\envs\\TecnicasPrediccion\\lib\\site-packages\\pmdarima\\arima\\_validation.py:62: UserWarning: m (4) set for non-seasonal fit. Setting to 0\n",
      "  warnings.warn(\"m (%i) set for non-seasonal fit. Setting to 0\" % m)\n"
     ]
    },
    {
     "name": "stdout",
     "output_type": "stream",
     "text": [
      "Parameters: (False, False, 'bic', 'mse', 4), MAPE: 0.11836101404665986\n"
     ]
    },
    {
     "name": "stderr",
     "output_type": "stream",
     "text": [
      "C:\\Users\\manue\\anaconda3\\envs\\TecnicasPrediccion\\lib\\site-packages\\pmdarima\\arima\\_validation.py:62: UserWarning: m (5) set for non-seasonal fit. Setting to 0\n",
      "  warnings.warn(\"m (%i) set for non-seasonal fit. Setting to 0\" % m)\n"
     ]
    },
    {
     "name": "stdout",
     "output_type": "stream",
     "text": [
      "Parameters: (False, False, 'bic', 'mse', 5), MAPE: 0.11836101404665986\n"
     ]
    },
    {
     "name": "stderr",
     "output_type": "stream",
     "text": [
      "C:\\Users\\manue\\anaconda3\\envs\\TecnicasPrediccion\\lib\\site-packages\\pmdarima\\arima\\_validation.py:62: UserWarning: m (6) set for non-seasonal fit. Setting to 0\n",
      "  warnings.warn(\"m (%i) set for non-seasonal fit. Setting to 0\" % m)\n"
     ]
    },
    {
     "name": "stdout",
     "output_type": "stream",
     "text": [
      "Parameters: (False, False, 'bic', 'mse', 6), MAPE: 0.11836101404665986\n"
     ]
    },
    {
     "name": "stderr",
     "output_type": "stream",
     "text": [
      "C:\\Users\\manue\\anaconda3\\envs\\TecnicasPrediccion\\lib\\site-packages\\pmdarima\\arima\\_validation.py:62: UserWarning: m (7) set for non-seasonal fit. Setting to 0\n",
      "  warnings.warn(\"m (%i) set for non-seasonal fit. Setting to 0\" % m)\n"
     ]
    },
    {
     "name": "stdout",
     "output_type": "stream",
     "text": [
      "Parameters: (False, False, 'bic', 'mse', 7), MAPE: 0.11836101404665986\n"
     ]
    },
    {
     "name": "stderr",
     "output_type": "stream",
     "text": [
      "C:\\Users\\manue\\anaconda3\\envs\\TecnicasPrediccion\\lib\\site-packages\\pmdarima\\arima\\_validation.py:62: UserWarning: m (13) set for non-seasonal fit. Setting to 0\n",
      "  warnings.warn(\"m (%i) set for non-seasonal fit. Setting to 0\" % m)\n"
     ]
    },
    {
     "name": "stdout",
     "output_type": "stream",
     "text": [
      "Parameters: (False, False, 'bic', 'mse', 13), MAPE: 0.11836101404665986\n"
     ]
    },
    {
     "name": "stderr",
     "output_type": "stream",
     "text": [
      "C:\\Users\\manue\\anaconda3\\envs\\TecnicasPrediccion\\lib\\site-packages\\pmdarima\\arima\\_validation.py:62: UserWarning: m (52) set for non-seasonal fit. Setting to 0\n",
      "  warnings.warn(\"m (%i) set for non-seasonal fit. Setting to 0\" % m)\n"
     ]
    },
    {
     "name": "stdout",
     "output_type": "stream",
     "text": [
      "Parameters: (False, False, 'bic', 'mse', 52), MAPE: 0.11836101404665986\n"
     ]
    },
    {
     "name": "stderr",
     "output_type": "stream",
     "text": [
      "C:\\Users\\manue\\anaconda3\\envs\\TecnicasPrediccion\\lib\\site-packages\\pmdarima\\arima\\_validation.py:62: UserWarning: m (53) set for non-seasonal fit. Setting to 0\n",
      "  warnings.warn(\"m (%i) set for non-seasonal fit. Setting to 0\" % m)\n"
     ]
    },
    {
     "name": "stdout",
     "output_type": "stream",
     "text": [
      "Parameters: (False, False, 'bic', 'mse', 53), MAPE: 0.11836101404665986\n"
     ]
    },
    {
     "name": "stderr",
     "output_type": "stream",
     "text": [
      "C:\\Users\\manue\\anaconda3\\envs\\TecnicasPrediccion\\lib\\site-packages\\pmdarima\\arima\\_validation.py:62: UserWarning: m (2) set for non-seasonal fit. Setting to 0\n",
      "  warnings.warn(\"m (%i) set for non-seasonal fit. Setting to 0\" % m)\n"
     ]
    },
    {
     "name": "stdout",
     "output_type": "stream",
     "text": [
      "Parameters: (False, False, 'bic', 'mae', 2), MAPE: 0.11836101404665986\n"
     ]
    },
    {
     "name": "stderr",
     "output_type": "stream",
     "text": [
      "C:\\Users\\manue\\anaconda3\\envs\\TecnicasPrediccion\\lib\\site-packages\\pmdarima\\arima\\_validation.py:62: UserWarning: m (3) set for non-seasonal fit. Setting to 0\n",
      "  warnings.warn(\"m (%i) set for non-seasonal fit. Setting to 0\" % m)\n"
     ]
    },
    {
     "name": "stdout",
     "output_type": "stream",
     "text": [
      "Parameters: (False, False, 'bic', 'mae', 3), MAPE: 0.11836101404665986\n"
     ]
    },
    {
     "name": "stderr",
     "output_type": "stream",
     "text": [
      "C:\\Users\\manue\\anaconda3\\envs\\TecnicasPrediccion\\lib\\site-packages\\pmdarima\\arima\\_validation.py:62: UserWarning: m (4) set for non-seasonal fit. Setting to 0\n",
      "  warnings.warn(\"m (%i) set for non-seasonal fit. Setting to 0\" % m)\n"
     ]
    },
    {
     "name": "stdout",
     "output_type": "stream",
     "text": [
      "Parameters: (False, False, 'bic', 'mae', 4), MAPE: 0.11836101404665986\n"
     ]
    },
    {
     "name": "stderr",
     "output_type": "stream",
     "text": [
      "C:\\Users\\manue\\anaconda3\\envs\\TecnicasPrediccion\\lib\\site-packages\\pmdarima\\arima\\_validation.py:62: UserWarning: m (5) set for non-seasonal fit. Setting to 0\n",
      "  warnings.warn(\"m (%i) set for non-seasonal fit. Setting to 0\" % m)\n"
     ]
    },
    {
     "name": "stdout",
     "output_type": "stream",
     "text": [
      "Parameters: (False, False, 'bic', 'mae', 5), MAPE: 0.11836101404665986\n"
     ]
    },
    {
     "name": "stderr",
     "output_type": "stream",
     "text": [
      "C:\\Users\\manue\\anaconda3\\envs\\TecnicasPrediccion\\lib\\site-packages\\pmdarima\\arima\\_validation.py:62: UserWarning: m (6) set for non-seasonal fit. Setting to 0\n",
      "  warnings.warn(\"m (%i) set for non-seasonal fit. Setting to 0\" % m)\n"
     ]
    },
    {
     "name": "stdout",
     "output_type": "stream",
     "text": [
      "Parameters: (False, False, 'bic', 'mae', 6), MAPE: 0.11836101404665986\n"
     ]
    },
    {
     "name": "stderr",
     "output_type": "stream",
     "text": [
      "C:\\Users\\manue\\anaconda3\\envs\\TecnicasPrediccion\\lib\\site-packages\\pmdarima\\arima\\_validation.py:62: UserWarning: m (7) set for non-seasonal fit. Setting to 0\n",
      "  warnings.warn(\"m (%i) set for non-seasonal fit. Setting to 0\" % m)\n"
     ]
    },
    {
     "name": "stdout",
     "output_type": "stream",
     "text": [
      "Parameters: (False, False, 'bic', 'mae', 7), MAPE: 0.11836101404665986\n"
     ]
    },
    {
     "name": "stderr",
     "output_type": "stream",
     "text": [
      "C:\\Users\\manue\\anaconda3\\envs\\TecnicasPrediccion\\lib\\site-packages\\pmdarima\\arima\\_validation.py:62: UserWarning: m (13) set for non-seasonal fit. Setting to 0\n",
      "  warnings.warn(\"m (%i) set for non-seasonal fit. Setting to 0\" % m)\n"
     ]
    },
    {
     "name": "stdout",
     "output_type": "stream",
     "text": [
      "Parameters: (False, False, 'bic', 'mae', 13), MAPE: 0.11836101404665986\n"
     ]
    },
    {
     "name": "stderr",
     "output_type": "stream",
     "text": [
      "C:\\Users\\manue\\anaconda3\\envs\\TecnicasPrediccion\\lib\\site-packages\\pmdarima\\arima\\_validation.py:62: UserWarning: m (52) set for non-seasonal fit. Setting to 0\n",
      "  warnings.warn(\"m (%i) set for non-seasonal fit. Setting to 0\" % m)\n"
     ]
    },
    {
     "name": "stdout",
     "output_type": "stream",
     "text": [
      "Parameters: (False, False, 'bic', 'mae', 52), MAPE: 0.11836101404665986\n"
     ]
    },
    {
     "name": "stderr",
     "output_type": "stream",
     "text": [
      "C:\\Users\\manue\\anaconda3\\envs\\TecnicasPrediccion\\lib\\site-packages\\pmdarima\\arima\\_validation.py:62: UserWarning: m (53) set for non-seasonal fit. Setting to 0\n",
      "  warnings.warn(\"m (%i) set for non-seasonal fit. Setting to 0\" % m)\n"
     ]
    },
    {
     "name": "stdout",
     "output_type": "stream",
     "text": [
      "Parameters: (False, False, 'bic', 'mae', 53), MAPE: 0.11836101404665986\n"
     ]
    },
    {
     "name": "stderr",
     "output_type": "stream",
     "text": [
      "C:\\Users\\manue\\anaconda3\\envs\\TecnicasPrediccion\\lib\\site-packages\\pmdarima\\arima\\_validation.py:62: UserWarning: m (2) set for non-seasonal fit. Setting to 0\n",
      "  warnings.warn(\"m (%i) set for non-seasonal fit. Setting to 0\" % m)\n"
     ]
    },
    {
     "name": "stdout",
     "output_type": "stream",
     "text": [
      "Parameters: (False, False, 'hqic', 'mse', 2), MAPE: 0.11836101404665986\n"
     ]
    },
    {
     "name": "stderr",
     "output_type": "stream",
     "text": [
      "C:\\Users\\manue\\anaconda3\\envs\\TecnicasPrediccion\\lib\\site-packages\\pmdarima\\arima\\_validation.py:62: UserWarning: m (3) set for non-seasonal fit. Setting to 0\n",
      "  warnings.warn(\"m (%i) set for non-seasonal fit. Setting to 0\" % m)\n"
     ]
    },
    {
     "name": "stdout",
     "output_type": "stream",
     "text": [
      "Parameters: (False, False, 'hqic', 'mse', 3), MAPE: 0.11836101404665986\n"
     ]
    },
    {
     "name": "stderr",
     "output_type": "stream",
     "text": [
      "C:\\Users\\manue\\anaconda3\\envs\\TecnicasPrediccion\\lib\\site-packages\\pmdarima\\arima\\_validation.py:62: UserWarning: m (4) set for non-seasonal fit. Setting to 0\n",
      "  warnings.warn(\"m (%i) set for non-seasonal fit. Setting to 0\" % m)\n"
     ]
    },
    {
     "name": "stdout",
     "output_type": "stream",
     "text": [
      "Parameters: (False, False, 'hqic', 'mse', 4), MAPE: 0.11836101404665986\n"
     ]
    },
    {
     "name": "stderr",
     "output_type": "stream",
     "text": [
      "C:\\Users\\manue\\anaconda3\\envs\\TecnicasPrediccion\\lib\\site-packages\\pmdarima\\arima\\_validation.py:62: UserWarning: m (5) set for non-seasonal fit. Setting to 0\n",
      "  warnings.warn(\"m (%i) set for non-seasonal fit. Setting to 0\" % m)\n"
     ]
    },
    {
     "name": "stdout",
     "output_type": "stream",
     "text": [
      "Parameters: (False, False, 'hqic', 'mse', 5), MAPE: 0.11836101404665986\n"
     ]
    },
    {
     "name": "stderr",
     "output_type": "stream",
     "text": [
      "C:\\Users\\manue\\anaconda3\\envs\\TecnicasPrediccion\\lib\\site-packages\\pmdarima\\arima\\_validation.py:62: UserWarning: m (6) set for non-seasonal fit. Setting to 0\n",
      "  warnings.warn(\"m (%i) set for non-seasonal fit. Setting to 0\" % m)\n"
     ]
    },
    {
     "name": "stdout",
     "output_type": "stream",
     "text": [
      "Parameters: (False, False, 'hqic', 'mse', 6), MAPE: 0.11836101404665986\n"
     ]
    },
    {
     "name": "stderr",
     "output_type": "stream",
     "text": [
      "C:\\Users\\manue\\anaconda3\\envs\\TecnicasPrediccion\\lib\\site-packages\\pmdarima\\arima\\_validation.py:62: UserWarning: m (7) set for non-seasonal fit. Setting to 0\n",
      "  warnings.warn(\"m (%i) set for non-seasonal fit. Setting to 0\" % m)\n"
     ]
    },
    {
     "name": "stdout",
     "output_type": "stream",
     "text": [
      "Parameters: (False, False, 'hqic', 'mse', 7), MAPE: 0.11836101404665986\n"
     ]
    },
    {
     "name": "stderr",
     "output_type": "stream",
     "text": [
      "C:\\Users\\manue\\anaconda3\\envs\\TecnicasPrediccion\\lib\\site-packages\\pmdarima\\arima\\_validation.py:62: UserWarning: m (13) set for non-seasonal fit. Setting to 0\n",
      "  warnings.warn(\"m (%i) set for non-seasonal fit. Setting to 0\" % m)\n"
     ]
    },
    {
     "name": "stdout",
     "output_type": "stream",
     "text": [
      "Parameters: (False, False, 'hqic', 'mse', 13), MAPE: 0.11836101404665986\n"
     ]
    },
    {
     "name": "stderr",
     "output_type": "stream",
     "text": [
      "C:\\Users\\manue\\anaconda3\\envs\\TecnicasPrediccion\\lib\\site-packages\\pmdarima\\arima\\_validation.py:62: UserWarning: m (52) set for non-seasonal fit. Setting to 0\n",
      "  warnings.warn(\"m (%i) set for non-seasonal fit. Setting to 0\" % m)\n"
     ]
    },
    {
     "name": "stdout",
     "output_type": "stream",
     "text": [
      "Parameters: (False, False, 'hqic', 'mse', 52), MAPE: 0.11836101404665986\n"
     ]
    },
    {
     "name": "stderr",
     "output_type": "stream",
     "text": [
      "C:\\Users\\manue\\anaconda3\\envs\\TecnicasPrediccion\\lib\\site-packages\\pmdarima\\arima\\_validation.py:62: UserWarning: m (53) set for non-seasonal fit. Setting to 0\n",
      "  warnings.warn(\"m (%i) set for non-seasonal fit. Setting to 0\" % m)\n"
     ]
    },
    {
     "name": "stdout",
     "output_type": "stream",
     "text": [
      "Parameters: (False, False, 'hqic', 'mse', 53), MAPE: 0.11836101404665986\n"
     ]
    },
    {
     "name": "stderr",
     "output_type": "stream",
     "text": [
      "C:\\Users\\manue\\anaconda3\\envs\\TecnicasPrediccion\\lib\\site-packages\\pmdarima\\arima\\_validation.py:62: UserWarning: m (2) set for non-seasonal fit. Setting to 0\n",
      "  warnings.warn(\"m (%i) set for non-seasonal fit. Setting to 0\" % m)\n"
     ]
    },
    {
     "name": "stdout",
     "output_type": "stream",
     "text": [
      "Parameters: (False, False, 'hqic', 'mae', 2), MAPE: 0.11836101404665986\n"
     ]
    },
    {
     "name": "stderr",
     "output_type": "stream",
     "text": [
      "C:\\Users\\manue\\anaconda3\\envs\\TecnicasPrediccion\\lib\\site-packages\\pmdarima\\arima\\_validation.py:62: UserWarning: m (3) set for non-seasonal fit. Setting to 0\n",
      "  warnings.warn(\"m (%i) set for non-seasonal fit. Setting to 0\" % m)\n"
     ]
    },
    {
     "name": "stdout",
     "output_type": "stream",
     "text": [
      "Parameters: (False, False, 'hqic', 'mae', 3), MAPE: 0.11836101404665986\n"
     ]
    },
    {
     "name": "stderr",
     "output_type": "stream",
     "text": [
      "C:\\Users\\manue\\anaconda3\\envs\\TecnicasPrediccion\\lib\\site-packages\\pmdarima\\arima\\_validation.py:62: UserWarning: m (4) set for non-seasonal fit. Setting to 0\n",
      "  warnings.warn(\"m (%i) set for non-seasonal fit. Setting to 0\" % m)\n"
     ]
    },
    {
     "name": "stdout",
     "output_type": "stream",
     "text": [
      "Parameters: (False, False, 'hqic', 'mae', 4), MAPE: 0.11836101404665986\n"
     ]
    },
    {
     "name": "stderr",
     "output_type": "stream",
     "text": [
      "C:\\Users\\manue\\anaconda3\\envs\\TecnicasPrediccion\\lib\\site-packages\\pmdarima\\arima\\_validation.py:62: UserWarning: m (5) set for non-seasonal fit. Setting to 0\n",
      "  warnings.warn(\"m (%i) set for non-seasonal fit. Setting to 0\" % m)\n"
     ]
    },
    {
     "name": "stdout",
     "output_type": "stream",
     "text": [
      "Parameters: (False, False, 'hqic', 'mae', 5), MAPE: 0.11836101404665986\n"
     ]
    },
    {
     "name": "stderr",
     "output_type": "stream",
     "text": [
      "C:\\Users\\manue\\anaconda3\\envs\\TecnicasPrediccion\\lib\\site-packages\\pmdarima\\arima\\_validation.py:62: UserWarning: m (6) set for non-seasonal fit. Setting to 0\n",
      "  warnings.warn(\"m (%i) set for non-seasonal fit. Setting to 0\" % m)\n"
     ]
    },
    {
     "name": "stdout",
     "output_type": "stream",
     "text": [
      "Parameters: (False, False, 'hqic', 'mae', 6), MAPE: 0.11836101404665986\n"
     ]
    },
    {
     "name": "stderr",
     "output_type": "stream",
     "text": [
      "C:\\Users\\manue\\anaconda3\\envs\\TecnicasPrediccion\\lib\\site-packages\\pmdarima\\arima\\_validation.py:62: UserWarning: m (7) set for non-seasonal fit. Setting to 0\n",
      "  warnings.warn(\"m (%i) set for non-seasonal fit. Setting to 0\" % m)\n"
     ]
    },
    {
     "name": "stdout",
     "output_type": "stream",
     "text": [
      "Parameters: (False, False, 'hqic', 'mae', 7), MAPE: 0.11836101404665986\n"
     ]
    },
    {
     "name": "stderr",
     "output_type": "stream",
     "text": [
      "C:\\Users\\manue\\anaconda3\\envs\\TecnicasPrediccion\\lib\\site-packages\\pmdarima\\arima\\_validation.py:62: UserWarning: m (13) set for non-seasonal fit. Setting to 0\n",
      "  warnings.warn(\"m (%i) set for non-seasonal fit. Setting to 0\" % m)\n"
     ]
    },
    {
     "name": "stdout",
     "output_type": "stream",
     "text": [
      "Parameters: (False, False, 'hqic', 'mae', 13), MAPE: 0.11836101404665986\n"
     ]
    },
    {
     "name": "stderr",
     "output_type": "stream",
     "text": [
      "C:\\Users\\manue\\anaconda3\\envs\\TecnicasPrediccion\\lib\\site-packages\\pmdarima\\arima\\_validation.py:62: UserWarning: m (52) set for non-seasonal fit. Setting to 0\n",
      "  warnings.warn(\"m (%i) set for non-seasonal fit. Setting to 0\" % m)\n"
     ]
    },
    {
     "name": "stdout",
     "output_type": "stream",
     "text": [
      "Parameters: (False, False, 'hqic', 'mae', 52), MAPE: 0.11836101404665986\n"
     ]
    },
    {
     "name": "stderr",
     "output_type": "stream",
     "text": [
      "C:\\Users\\manue\\anaconda3\\envs\\TecnicasPrediccion\\lib\\site-packages\\pmdarima\\arima\\_validation.py:62: UserWarning: m (53) set for non-seasonal fit. Setting to 0\n",
      "  warnings.warn(\"m (%i) set for non-seasonal fit. Setting to 0\" % m)\n"
     ]
    },
    {
     "name": "stdout",
     "output_type": "stream",
     "text": [
      "Parameters: (False, False, 'hqic', 'mae', 53), MAPE: 0.11836101404665986\n"
     ]
    },
    {
     "name": "stderr",
     "output_type": "stream",
     "text": [
      "C:\\Users\\manue\\anaconda3\\envs\\TecnicasPrediccion\\lib\\site-packages\\pmdarima\\arima\\_validation.py:62: UserWarning: m (2) set for non-seasonal fit. Setting to 0\n",
      "  warnings.warn(\"m (%i) set for non-seasonal fit. Setting to 0\" % m)\n",
      "C:\\Users\\manue\\anaconda3\\envs\\TecnicasPrediccion\\lib\\site-packages\\pmdarima\\arima\\_validation.py:35: UserWarning: information_criterion cannot be 'oob' with out_of_sample_size = 0. Falling back to information criterion = aic.\n",
      "  warnings.warn('information_criterion cannot be \\'oob\\' with '\n"
     ]
    },
    {
     "name": "stdout",
     "output_type": "stream",
     "text": [
      "Parameters: (False, False, 'oob', 'mse', 2), MAPE: 0.11836101404665986\n"
     ]
    },
    {
     "name": "stderr",
     "output_type": "stream",
     "text": [
      "C:\\Users\\manue\\anaconda3\\envs\\TecnicasPrediccion\\lib\\site-packages\\pmdarima\\arima\\_validation.py:62: UserWarning: m (3) set for non-seasonal fit. Setting to 0\n",
      "  warnings.warn(\"m (%i) set for non-seasonal fit. Setting to 0\" % m)\n",
      "C:\\Users\\manue\\anaconda3\\envs\\TecnicasPrediccion\\lib\\site-packages\\pmdarima\\arima\\_validation.py:35: UserWarning: information_criterion cannot be 'oob' with out_of_sample_size = 0. Falling back to information criterion = aic.\n",
      "  warnings.warn('information_criterion cannot be \\'oob\\' with '\n"
     ]
    },
    {
     "name": "stdout",
     "output_type": "stream",
     "text": [
      "Parameters: (False, False, 'oob', 'mse', 3), MAPE: 0.11836101404665986\n"
     ]
    },
    {
     "name": "stderr",
     "output_type": "stream",
     "text": [
      "C:\\Users\\manue\\anaconda3\\envs\\TecnicasPrediccion\\lib\\site-packages\\pmdarima\\arima\\_validation.py:62: UserWarning: m (4) set for non-seasonal fit. Setting to 0\n",
      "  warnings.warn(\"m (%i) set for non-seasonal fit. Setting to 0\" % m)\n",
      "C:\\Users\\manue\\anaconda3\\envs\\TecnicasPrediccion\\lib\\site-packages\\pmdarima\\arima\\_validation.py:35: UserWarning: information_criterion cannot be 'oob' with out_of_sample_size = 0. Falling back to information criterion = aic.\n",
      "  warnings.warn('information_criterion cannot be \\'oob\\' with '\n"
     ]
    },
    {
     "name": "stdout",
     "output_type": "stream",
     "text": [
      "Parameters: (False, False, 'oob', 'mse', 4), MAPE: 0.11836101404665986\n"
     ]
    },
    {
     "name": "stderr",
     "output_type": "stream",
     "text": [
      "C:\\Users\\manue\\anaconda3\\envs\\TecnicasPrediccion\\lib\\site-packages\\pmdarima\\arima\\_validation.py:62: UserWarning: m (5) set for non-seasonal fit. Setting to 0\n",
      "  warnings.warn(\"m (%i) set for non-seasonal fit. Setting to 0\" % m)\n",
      "C:\\Users\\manue\\anaconda3\\envs\\TecnicasPrediccion\\lib\\site-packages\\pmdarima\\arima\\_validation.py:35: UserWarning: information_criterion cannot be 'oob' with out_of_sample_size = 0. Falling back to information criterion = aic.\n",
      "  warnings.warn('information_criterion cannot be \\'oob\\' with '\n"
     ]
    },
    {
     "name": "stdout",
     "output_type": "stream",
     "text": [
      "Parameters: (False, False, 'oob', 'mse', 5), MAPE: 0.11836101404665986\n"
     ]
    },
    {
     "name": "stderr",
     "output_type": "stream",
     "text": [
      "C:\\Users\\manue\\anaconda3\\envs\\TecnicasPrediccion\\lib\\site-packages\\pmdarima\\arima\\_validation.py:62: UserWarning: m (6) set for non-seasonal fit. Setting to 0\n",
      "  warnings.warn(\"m (%i) set for non-seasonal fit. Setting to 0\" % m)\n",
      "C:\\Users\\manue\\anaconda3\\envs\\TecnicasPrediccion\\lib\\site-packages\\pmdarima\\arima\\_validation.py:35: UserWarning: information_criterion cannot be 'oob' with out_of_sample_size = 0. Falling back to information criterion = aic.\n",
      "  warnings.warn('information_criterion cannot be \\'oob\\' with '\n"
     ]
    },
    {
     "name": "stdout",
     "output_type": "stream",
     "text": [
      "Parameters: (False, False, 'oob', 'mse', 6), MAPE: 0.11836101404665986\n"
     ]
    },
    {
     "name": "stderr",
     "output_type": "stream",
     "text": [
      "C:\\Users\\manue\\anaconda3\\envs\\TecnicasPrediccion\\lib\\site-packages\\pmdarima\\arima\\_validation.py:62: UserWarning: m (7) set for non-seasonal fit. Setting to 0\n",
      "  warnings.warn(\"m (%i) set for non-seasonal fit. Setting to 0\" % m)\n",
      "C:\\Users\\manue\\anaconda3\\envs\\TecnicasPrediccion\\lib\\site-packages\\pmdarima\\arima\\_validation.py:35: UserWarning: information_criterion cannot be 'oob' with out_of_sample_size = 0. Falling back to information criterion = aic.\n",
      "  warnings.warn('information_criterion cannot be \\'oob\\' with '\n"
     ]
    },
    {
     "name": "stdout",
     "output_type": "stream",
     "text": [
      "Parameters: (False, False, 'oob', 'mse', 7), MAPE: 0.11836101404665986\n"
     ]
    },
    {
     "name": "stderr",
     "output_type": "stream",
     "text": [
      "C:\\Users\\manue\\anaconda3\\envs\\TecnicasPrediccion\\lib\\site-packages\\pmdarima\\arima\\_validation.py:62: UserWarning: m (13) set for non-seasonal fit. Setting to 0\n",
      "  warnings.warn(\"m (%i) set for non-seasonal fit. Setting to 0\" % m)\n",
      "C:\\Users\\manue\\anaconda3\\envs\\TecnicasPrediccion\\lib\\site-packages\\pmdarima\\arima\\_validation.py:35: UserWarning: information_criterion cannot be 'oob' with out_of_sample_size = 0. Falling back to information criterion = aic.\n",
      "  warnings.warn('information_criterion cannot be \\'oob\\' with '\n"
     ]
    },
    {
     "name": "stdout",
     "output_type": "stream",
     "text": [
      "Parameters: (False, False, 'oob', 'mse', 13), MAPE: 0.11836101404665986\n"
     ]
    },
    {
     "name": "stderr",
     "output_type": "stream",
     "text": [
      "C:\\Users\\manue\\anaconda3\\envs\\TecnicasPrediccion\\lib\\site-packages\\pmdarima\\arima\\_validation.py:62: UserWarning: m (52) set for non-seasonal fit. Setting to 0\n",
      "  warnings.warn(\"m (%i) set for non-seasonal fit. Setting to 0\" % m)\n",
      "C:\\Users\\manue\\anaconda3\\envs\\TecnicasPrediccion\\lib\\site-packages\\pmdarima\\arima\\_validation.py:35: UserWarning: information_criterion cannot be 'oob' with out_of_sample_size = 0. Falling back to information criterion = aic.\n",
      "  warnings.warn('information_criterion cannot be \\'oob\\' with '\n"
     ]
    },
    {
     "name": "stdout",
     "output_type": "stream",
     "text": [
      "Parameters: (False, False, 'oob', 'mse', 52), MAPE: 0.11836101404665986\n"
     ]
    },
    {
     "name": "stderr",
     "output_type": "stream",
     "text": [
      "C:\\Users\\manue\\anaconda3\\envs\\TecnicasPrediccion\\lib\\site-packages\\pmdarima\\arima\\_validation.py:62: UserWarning: m (53) set for non-seasonal fit. Setting to 0\n",
      "  warnings.warn(\"m (%i) set for non-seasonal fit. Setting to 0\" % m)\n",
      "C:\\Users\\manue\\anaconda3\\envs\\TecnicasPrediccion\\lib\\site-packages\\pmdarima\\arima\\_validation.py:35: UserWarning: information_criterion cannot be 'oob' with out_of_sample_size = 0. Falling back to information criterion = aic.\n",
      "  warnings.warn('information_criterion cannot be \\'oob\\' with '\n"
     ]
    },
    {
     "name": "stdout",
     "output_type": "stream",
     "text": [
      "Parameters: (False, False, 'oob', 'mse', 53), MAPE: 0.11836101404665986\n"
     ]
    },
    {
     "name": "stderr",
     "output_type": "stream",
     "text": [
      "C:\\Users\\manue\\anaconda3\\envs\\TecnicasPrediccion\\lib\\site-packages\\pmdarima\\arima\\_validation.py:62: UserWarning: m (2) set for non-seasonal fit. Setting to 0\n",
      "  warnings.warn(\"m (%i) set for non-seasonal fit. Setting to 0\" % m)\n",
      "C:\\Users\\manue\\anaconda3\\envs\\TecnicasPrediccion\\lib\\site-packages\\pmdarima\\arima\\_validation.py:35: UserWarning: information_criterion cannot be 'oob' with out_of_sample_size = 0. Falling back to information criterion = aic.\n",
      "  warnings.warn('information_criterion cannot be \\'oob\\' with '\n"
     ]
    },
    {
     "name": "stdout",
     "output_type": "stream",
     "text": [
      "Parameters: (False, False, 'oob', 'mae', 2), MAPE: 0.11836101404665986\n"
     ]
    },
    {
     "name": "stderr",
     "output_type": "stream",
     "text": [
      "C:\\Users\\manue\\anaconda3\\envs\\TecnicasPrediccion\\lib\\site-packages\\pmdarima\\arima\\_validation.py:62: UserWarning: m (3) set for non-seasonal fit. Setting to 0\n",
      "  warnings.warn(\"m (%i) set for non-seasonal fit. Setting to 0\" % m)\n",
      "C:\\Users\\manue\\anaconda3\\envs\\TecnicasPrediccion\\lib\\site-packages\\pmdarima\\arima\\_validation.py:35: UserWarning: information_criterion cannot be 'oob' with out_of_sample_size = 0. Falling back to information criterion = aic.\n",
      "  warnings.warn('information_criterion cannot be \\'oob\\' with '\n"
     ]
    },
    {
     "name": "stdout",
     "output_type": "stream",
     "text": [
      "Parameters: (False, False, 'oob', 'mae', 3), MAPE: 0.11836101404665986\n"
     ]
    },
    {
     "name": "stderr",
     "output_type": "stream",
     "text": [
      "C:\\Users\\manue\\anaconda3\\envs\\TecnicasPrediccion\\lib\\site-packages\\pmdarima\\arima\\_validation.py:62: UserWarning: m (4) set for non-seasonal fit. Setting to 0\n",
      "  warnings.warn(\"m (%i) set for non-seasonal fit. Setting to 0\" % m)\n",
      "C:\\Users\\manue\\anaconda3\\envs\\TecnicasPrediccion\\lib\\site-packages\\pmdarima\\arima\\_validation.py:35: UserWarning: information_criterion cannot be 'oob' with out_of_sample_size = 0. Falling back to information criterion = aic.\n",
      "  warnings.warn('information_criterion cannot be \\'oob\\' with '\n"
     ]
    },
    {
     "name": "stdout",
     "output_type": "stream",
     "text": [
      "Parameters: (False, False, 'oob', 'mae', 4), MAPE: 0.11836101404665986\n"
     ]
    },
    {
     "name": "stderr",
     "output_type": "stream",
     "text": [
      "C:\\Users\\manue\\anaconda3\\envs\\TecnicasPrediccion\\lib\\site-packages\\pmdarima\\arima\\_validation.py:62: UserWarning: m (5) set for non-seasonal fit. Setting to 0\n",
      "  warnings.warn(\"m (%i) set for non-seasonal fit. Setting to 0\" % m)\n",
      "C:\\Users\\manue\\anaconda3\\envs\\TecnicasPrediccion\\lib\\site-packages\\pmdarima\\arima\\_validation.py:35: UserWarning: information_criterion cannot be 'oob' with out_of_sample_size = 0. Falling back to information criterion = aic.\n",
      "  warnings.warn('information_criterion cannot be \\'oob\\' with '\n"
     ]
    },
    {
     "name": "stdout",
     "output_type": "stream",
     "text": [
      "Parameters: (False, False, 'oob', 'mae', 5), MAPE: 0.11836101404665986\n"
     ]
    },
    {
     "name": "stderr",
     "output_type": "stream",
     "text": [
      "C:\\Users\\manue\\anaconda3\\envs\\TecnicasPrediccion\\lib\\site-packages\\pmdarima\\arima\\_validation.py:62: UserWarning: m (6) set for non-seasonal fit. Setting to 0\n",
      "  warnings.warn(\"m (%i) set for non-seasonal fit. Setting to 0\" % m)\n",
      "C:\\Users\\manue\\anaconda3\\envs\\TecnicasPrediccion\\lib\\site-packages\\pmdarima\\arima\\_validation.py:35: UserWarning: information_criterion cannot be 'oob' with out_of_sample_size = 0. Falling back to information criterion = aic.\n",
      "  warnings.warn('information_criterion cannot be \\'oob\\' with '\n"
     ]
    },
    {
     "name": "stdout",
     "output_type": "stream",
     "text": [
      "Parameters: (False, False, 'oob', 'mae', 6), MAPE: 0.11836101404665986\n"
     ]
    },
    {
     "name": "stderr",
     "output_type": "stream",
     "text": [
      "C:\\Users\\manue\\anaconda3\\envs\\TecnicasPrediccion\\lib\\site-packages\\pmdarima\\arima\\_validation.py:62: UserWarning: m (7) set for non-seasonal fit. Setting to 0\n",
      "  warnings.warn(\"m (%i) set for non-seasonal fit. Setting to 0\" % m)\n",
      "C:\\Users\\manue\\anaconda3\\envs\\TecnicasPrediccion\\lib\\site-packages\\pmdarima\\arima\\_validation.py:35: UserWarning: information_criterion cannot be 'oob' with out_of_sample_size = 0. Falling back to information criterion = aic.\n",
      "  warnings.warn('information_criterion cannot be \\'oob\\' with '\n"
     ]
    },
    {
     "name": "stdout",
     "output_type": "stream",
     "text": [
      "Parameters: (False, False, 'oob', 'mae', 7), MAPE: 0.11836101404665986\n"
     ]
    },
    {
     "name": "stderr",
     "output_type": "stream",
     "text": [
      "C:\\Users\\manue\\anaconda3\\envs\\TecnicasPrediccion\\lib\\site-packages\\pmdarima\\arima\\_validation.py:62: UserWarning: m (13) set for non-seasonal fit. Setting to 0\n",
      "  warnings.warn(\"m (%i) set for non-seasonal fit. Setting to 0\" % m)\n",
      "C:\\Users\\manue\\anaconda3\\envs\\TecnicasPrediccion\\lib\\site-packages\\pmdarima\\arima\\_validation.py:35: UserWarning: information_criterion cannot be 'oob' with out_of_sample_size = 0. Falling back to information criterion = aic.\n",
      "  warnings.warn('information_criterion cannot be \\'oob\\' with '\n"
     ]
    },
    {
     "name": "stdout",
     "output_type": "stream",
     "text": [
      "Parameters: (False, False, 'oob', 'mae', 13), MAPE: 0.11836101404665986\n"
     ]
    },
    {
     "name": "stderr",
     "output_type": "stream",
     "text": [
      "C:\\Users\\manue\\anaconda3\\envs\\TecnicasPrediccion\\lib\\site-packages\\pmdarima\\arima\\_validation.py:62: UserWarning: m (52) set for non-seasonal fit. Setting to 0\n",
      "  warnings.warn(\"m (%i) set for non-seasonal fit. Setting to 0\" % m)\n",
      "C:\\Users\\manue\\anaconda3\\envs\\TecnicasPrediccion\\lib\\site-packages\\pmdarima\\arima\\_validation.py:35: UserWarning: information_criterion cannot be 'oob' with out_of_sample_size = 0. Falling back to information criterion = aic.\n",
      "  warnings.warn('information_criterion cannot be \\'oob\\' with '\n"
     ]
    },
    {
     "name": "stdout",
     "output_type": "stream",
     "text": [
      "Parameters: (False, False, 'oob', 'mae', 52), MAPE: 0.11836101404665986\n"
     ]
    },
    {
     "name": "stderr",
     "output_type": "stream",
     "text": [
      "C:\\Users\\manue\\anaconda3\\envs\\TecnicasPrediccion\\lib\\site-packages\\pmdarima\\arima\\_validation.py:62: UserWarning: m (53) set for non-seasonal fit. Setting to 0\n",
      "  warnings.warn(\"m (%i) set for non-seasonal fit. Setting to 0\" % m)\n",
      "C:\\Users\\manue\\anaconda3\\envs\\TecnicasPrediccion\\lib\\site-packages\\pmdarima\\arima\\_validation.py:35: UserWarning: information_criterion cannot be 'oob' with out_of_sample_size = 0. Falling back to information criterion = aic.\n",
      "  warnings.warn('information_criterion cannot be \\'oob\\' with '\n"
     ]
    },
    {
     "name": "stdout",
     "output_type": "stream",
     "text": [
      "Parameters: (False, False, 'oob', 'mae', 53), MAPE: 0.11836101404665986\n"
     ]
    }
   ],
   "source": [
    "from itertools import product\n",
    "error_action=\"ignore\"\n",
    "\n",
    "seasonal = [True, False]\n",
    "stationary = [True, False]\n",
    "information_criterion = [\"aic\", \"bic\", \"hqic\", \"oob\"]\n",
    "method = [\"newton\", \"nm\", \"bfgs\", \"lbfgs\", \"powell\", \"cg\", \"ncg\", \"basinhopping\"]\n",
    "scoring = ['mse', 'mae']\n",
    "sp = [2, 3, 4, 5, 6, 7, 13, 52, 53]\n",
    "\n",
    "param_combinations = list(product(seasonal, stationary, information_criterion, scoring, sp))\n",
    "\n",
    "for params in param_combinations:\n",
    "    forecaster = AutoARIMA(\n",
    "        seasonal=params[0],\n",
    "        stationary=params[1],\n",
    "        information_criterion=params[2],\n",
    "#         method=params[3],\n",
    "        scoring=params[3],\n",
    "        sp=params[4],\n",
    "        suppress_warnings=True)\n",
    "    forecaster.fit(log_y_train)\n",
    "    log_y_pred = forecaster.predict(fh)\n",
    "    y_pred=np.exp(log_y_pred)\n",
    "    mape = mean_absolute_percentage_error(y_test[0:5], y_pred[0:5])\n",
    "#     mse = MeanSquaredError()\n",
    "#     mse = mse(y_test[0:5], y_pred[0:5])\n",
    "#     r2 = r2_score(y_test, y_pred)\n",
    "\n",
    "    print(f\"Parameters: {params}, MAPE: {mape}\")\n",
    "#     print(f'MSE: {mse}')\n",
    "#     print(f'R2 Score: {r2}')"
   ]
  },
  {
   "cell_type": "markdown",
   "id": "fbae16b8",
   "metadata": {},
   "source": [
    "Confirmamos que el mejor valor con transformación logarítmica es sp=???"
   ]
  },
  {
   "cell_type": "code",
   "execution_count": 7,
   "id": "98c22556",
   "metadata": {},
   "outputs": [
    {
     "data": {
      "text/plain": [
       "AutoARIMA(sp=7, suppress_warnings=True)"
      ]
     },
     "execution_count": 7,
     "metadata": {},
     "output_type": "execute_result"
    }
   ],
   "source": [
    "forecaster = AutoARIMA(sp=7, suppress_warnings=True)\n",
    "forecaster.fit(log_y_train)"
   ]
  },
  {
   "cell_type": "code",
   "execution_count": 8,
   "id": "a156a565",
   "metadata": {},
   "outputs": [],
   "source": [
    "log_y_pred = forecaster.predict(fh)"
   ]
  },
  {
   "cell_type": "code",
   "execution_count": 9,
   "id": "dc297783",
   "metadata": {},
   "outputs": [],
   "source": [
    "y_pred=np.exp(log_y_pred)"
   ]
  },
  {
   "cell_type": "code",
   "execution_count": 10,
   "id": "b4704e42",
   "metadata": {},
   "outputs": [
    {
     "name": "stdout",
     "output_type": "stream",
     "text": [
      "MAPE: 0.11836101404665986\n",
      "MSE: 327156449.96652156\n",
      "R2 Score: 0.1619137267179105\n"
     ]
    }
   ],
   "source": [
    "mape = mean_absolute_percentage_error(y_test[0:5], y_pred[0:5])\n",
    "mse = MeanSquaredError()\n",
    "mse = mse(y_test[0:5], y_pred[0:5])\n",
    "r2 = r2_score(y_test, y_pred)\n",
    "\n",
    "print(f'MAPE: {mape}')\n",
    "print(f'MSE: {mse}')\n",
    "print(f'R2 Score: {r2}')"
   ]
  },
  {
   "cell_type": "markdown",
   "id": "c5872dd9",
   "metadata": {},
   "source": [
    "Ahora sin log"
   ]
  },
  {
   "cell_type": "code",
   "execution_count": 11,
   "id": "58e087af",
   "metadata": {},
   "outputs": [
    {
     "name": "stdout",
     "output_type": "stream",
     "text": [
      "Parameters: (True, True, 'aic', 'mse', 2), MAPE: 0.12117932972259587\n",
      "Parameters: (True, True, 'aic', 'mse', 3), MAPE: 0.20166784089996653\n",
      "Parameters: (True, True, 'aic', 'mse', 4), MAPE: 0.12354844482311407\n",
      "Parameters: (True, True, 'aic', 'mse', 5), MAPE: 0.12119834342271146\n",
      "Parameters: (True, True, 'aic', 'mse', 6), MAPE: 0.10646701531010522\n"
     ]
    },
    {
     "name": "stderr",
     "output_type": "stream",
     "text": [
      "C:\\Users\\manue\\anaconda3\\envs\\TecnicasPrediccion\\lib\\site-packages\\pmdarima\\arima\\_auto_solvers.py:524: ModelFitWarning: Error fitting  ARIMA(4,0,1)(2,0,1)[7]           (if you do not want to see these warnings, run with error_action=\"ignore\").\n",
      "  warnings.warn(warning_str, ModelFitWarning)\n"
     ]
    },
    {
     "name": "stdout",
     "output_type": "stream",
     "text": [
      "Parameters: (True, True, 'aic', 'mse', 7), MAPE: 0.1430782687134868\n",
      "Parameters: (True, True, 'aic', 'mse', 13), MAPE: 0.10646701531010522\n",
      "Parameters: (True, True, 'aic', 'mse', 52), MAPE: 0.06151921241919101\n",
      "Parameters: (True, True, 'aic', 'mse', 53), MAPE: 0.132147580532418\n",
      "Parameters: (True, True, 'aic', 'mae', 2), MAPE: 0.12117932972259587\n",
      "Parameters: (True, True, 'aic', 'mae', 3), MAPE: 0.20166784089996653\n",
      "Parameters: (True, True, 'aic', 'mae', 4), MAPE: 0.12354844482311407\n",
      "Parameters: (True, True, 'aic', 'mae', 5), MAPE: 0.12119834342271146\n",
      "Parameters: (True, True, 'aic', 'mae', 6), MAPE: 0.10646701531010522\n"
     ]
    },
    {
     "name": "stderr",
     "output_type": "stream",
     "text": [
      "C:\\Users\\manue\\anaconda3\\envs\\TecnicasPrediccion\\lib\\site-packages\\pmdarima\\arima\\_auto_solvers.py:524: ModelFitWarning: Error fitting  ARIMA(4,0,1)(2,0,1)[7]           (if you do not want to see these warnings, run with error_action=\"ignore\").\n",
      "  warnings.warn(warning_str, ModelFitWarning)\n"
     ]
    },
    {
     "name": "stdout",
     "output_type": "stream",
     "text": [
      "Parameters: (True, True, 'aic', 'mae', 7), MAPE: 0.1430782687134868\n",
      "Parameters: (True, True, 'aic', 'mae', 13), MAPE: 0.10646701531010522\n",
      "Parameters: (True, True, 'aic', 'mae', 52), MAPE: 0.06151921241919101\n",
      "Parameters: (True, True, 'aic', 'mae', 53), MAPE: 0.132147580532418\n",
      "Parameters: (True, True, 'bic', 'mse', 2), MAPE: 0.134528722470673\n"
     ]
    },
    {
     "name": "stderr",
     "output_type": "stream",
     "text": [
      "C:\\Users\\manue\\anaconda3\\envs\\TecnicasPrediccion\\lib\\site-packages\\pmdarima\\arima\\_auto_solvers.py:524: ModelFitWarning: Error fitting  ARIMA(1,0,0)(1,0,0)[3]           (if you do not want to see these warnings, run with error_action=\"ignore\").\n",
      "  warnings.warn(warning_str, ModelFitWarning)\n"
     ]
    },
    {
     "name": "stdout",
     "output_type": "stream",
     "text": [
      "Parameters: (True, True, 'bic', 'mse', 3), MAPE: 0.1518851288439963\n",
      "Parameters: (True, True, 'bic', 'mse', 4), MAPE: 0.12350132219416243\n",
      "Parameters: (True, True, 'bic', 'mse', 5), MAPE: 0.12119834342271146\n",
      "Parameters: (True, True, 'bic', 'mse', 6), MAPE: 0.12350132219416243\n",
      "Parameters: (True, True, 'bic', 'mse', 7), MAPE: 0.12350132219416243\n",
      "Parameters: (True, True, 'bic', 'mse', 13), MAPE: 0.12350132219416243\n",
      "Parameters: (True, True, 'bic', 'mse', 52), MAPE: 0.0787388512765756\n",
      "Parameters: (True, True, 'bic', 'mse', 53), MAPE: 0.14875748250366375\n",
      "Parameters: (True, True, 'bic', 'mae', 2), MAPE: 0.134528722470673\n"
     ]
    },
    {
     "name": "stderr",
     "output_type": "stream",
     "text": [
      "C:\\Users\\manue\\anaconda3\\envs\\TecnicasPrediccion\\lib\\site-packages\\pmdarima\\arima\\_auto_solvers.py:524: ModelFitWarning: Error fitting  ARIMA(1,0,0)(1,0,0)[3]           (if you do not want to see these warnings, run with error_action=\"ignore\").\n",
      "  warnings.warn(warning_str, ModelFitWarning)\n"
     ]
    },
    {
     "name": "stdout",
     "output_type": "stream",
     "text": [
      "Parameters: (True, True, 'bic', 'mae', 3), MAPE: 0.1518851288439963\n",
      "Parameters: (True, True, 'bic', 'mae', 4), MAPE: 0.12350132219416243\n",
      "Parameters: (True, True, 'bic', 'mae', 5), MAPE: 0.12119834342271146\n",
      "Parameters: (True, True, 'bic', 'mae', 6), MAPE: 0.12350132219416243\n",
      "Parameters: (True, True, 'bic', 'mae', 7), MAPE: 0.12350132219416243\n",
      "Parameters: (True, True, 'bic', 'mae', 13), MAPE: 0.12350132219416243\n",
      "Parameters: (True, True, 'bic', 'mae', 52), MAPE: 0.0787388512765756\n",
      "Parameters: (True, True, 'bic', 'mae', 53), MAPE: 0.14875748250366375\n",
      "Parameters: (True, True, 'hqic', 'mse', 2), MAPE: 0.134528722470673\n",
      "Parameters: (True, True, 'hqic', 'mse', 3), MAPE: 0.20166784089996653\n",
      "Parameters: (True, True, 'hqic', 'mse', 4), MAPE: 0.12350132219416243\n",
      "Parameters: (True, True, 'hqic', 'mse', 5), MAPE: 0.1544595993061315\n",
      "Parameters: (True, True, 'hqic', 'mse', 6), MAPE: 0.1544595993061315\n",
      "Parameters: (True, True, 'hqic', 'mse', 7), MAPE: 0.1544595993061315\n",
      "Parameters: (True, True, 'hqic', 'mse', 13), MAPE: 0.12350132219416243\n",
      "Parameters: (True, True, 'hqic', 'mse', 52), MAPE: 0.06151921241919101\n",
      "Parameters: (True, True, 'hqic', 'mse', 53), MAPE: 0.14875748250366375\n",
      "Parameters: (True, True, 'hqic', 'mae', 2), MAPE: 0.134528722470673\n",
      "Parameters: (True, True, 'hqic', 'mae', 3), MAPE: 0.20166784089996653\n",
      "Parameters: (True, True, 'hqic', 'mae', 4), MAPE: 0.12350132219416243\n",
      "Parameters: (True, True, 'hqic', 'mae', 5), MAPE: 0.1544595993061315\n",
      "Parameters: (True, True, 'hqic', 'mae', 6), MAPE: 0.1544595993061315\n",
      "Parameters: (True, True, 'hqic', 'mae', 7), MAPE: 0.1544595993061315\n",
      "Parameters: (True, True, 'hqic', 'mae', 13), MAPE: 0.12350132219416243\n",
      "Parameters: (True, True, 'hqic', 'mae', 52), MAPE: 0.06151921241919101\n",
      "Parameters: (True, True, 'hqic', 'mae', 53), MAPE: 0.14875748250366375\n"
     ]
    },
    {
     "name": "stderr",
     "output_type": "stream",
     "text": [
      "C:\\Users\\manue\\anaconda3\\envs\\TecnicasPrediccion\\lib\\site-packages\\pmdarima\\arima\\_validation.py:35: UserWarning: information_criterion cannot be 'oob' with out_of_sample_size = 0. Falling back to information criterion = aic.\n",
      "  warnings.warn('information_criterion cannot be \\'oob\\' with '\n"
     ]
    },
    {
     "name": "stdout",
     "output_type": "stream",
     "text": [
      "Parameters: (True, True, 'oob', 'mse', 2), MAPE: 0.12117932972259587\n"
     ]
    },
    {
     "name": "stderr",
     "output_type": "stream",
     "text": [
      "C:\\Users\\manue\\anaconda3\\envs\\TecnicasPrediccion\\lib\\site-packages\\pmdarima\\arima\\_validation.py:35: UserWarning: information_criterion cannot be 'oob' with out_of_sample_size = 0. Falling back to information criterion = aic.\n",
      "  warnings.warn('information_criterion cannot be \\'oob\\' with '\n"
     ]
    },
    {
     "name": "stdout",
     "output_type": "stream",
     "text": [
      "Parameters: (True, True, 'oob', 'mse', 3), MAPE: 0.20166784089996653\n"
     ]
    },
    {
     "name": "stderr",
     "output_type": "stream",
     "text": [
      "C:\\Users\\manue\\anaconda3\\envs\\TecnicasPrediccion\\lib\\site-packages\\pmdarima\\arima\\_validation.py:35: UserWarning: information_criterion cannot be 'oob' with out_of_sample_size = 0. Falling back to information criterion = aic.\n",
      "  warnings.warn('information_criterion cannot be \\'oob\\' with '\n"
     ]
    },
    {
     "name": "stdout",
     "output_type": "stream",
     "text": [
      "Parameters: (True, True, 'oob', 'mse', 4), MAPE: 0.12354844482311407\n"
     ]
    },
    {
     "name": "stderr",
     "output_type": "stream",
     "text": [
      "C:\\Users\\manue\\anaconda3\\envs\\TecnicasPrediccion\\lib\\site-packages\\pmdarima\\arima\\_validation.py:35: UserWarning: information_criterion cannot be 'oob' with out_of_sample_size = 0. Falling back to information criterion = aic.\n",
      "  warnings.warn('information_criterion cannot be \\'oob\\' with '\n"
     ]
    },
    {
     "name": "stdout",
     "output_type": "stream",
     "text": [
      "Parameters: (True, True, 'oob', 'mse', 5), MAPE: 0.12119834342271146\n"
     ]
    },
    {
     "name": "stderr",
     "output_type": "stream",
     "text": [
      "C:\\Users\\manue\\anaconda3\\envs\\TecnicasPrediccion\\lib\\site-packages\\pmdarima\\arima\\_validation.py:35: UserWarning: information_criterion cannot be 'oob' with out_of_sample_size = 0. Falling back to information criterion = aic.\n",
      "  warnings.warn('information_criterion cannot be \\'oob\\' with '\n"
     ]
    },
    {
     "name": "stdout",
     "output_type": "stream",
     "text": [
      "Parameters: (True, True, 'oob', 'mse', 6), MAPE: 0.10646701531010522\n"
     ]
    },
    {
     "name": "stderr",
     "output_type": "stream",
     "text": [
      "C:\\Users\\manue\\anaconda3\\envs\\TecnicasPrediccion\\lib\\site-packages\\pmdarima\\arima\\_validation.py:35: UserWarning: information_criterion cannot be 'oob' with out_of_sample_size = 0. Falling back to information criterion = aic.\n",
      "  warnings.warn('information_criterion cannot be \\'oob\\' with '\n",
      "C:\\Users\\manue\\anaconda3\\envs\\TecnicasPrediccion\\lib\\site-packages\\pmdarima\\arima\\_auto_solvers.py:524: ModelFitWarning: Error fitting  ARIMA(4,0,1)(2,0,1)[7]           (if you do not want to see these warnings, run with error_action=\"ignore\").\n",
      "  warnings.warn(warning_str, ModelFitWarning)\n",
      "C:\\Users\\manue\\anaconda3\\envs\\TecnicasPrediccion\\lib\\site-packages\\pmdarima\\arima\\_validation.py:35: UserWarning: information_criterion cannot be 'oob' with out_of_sample_size = 0. Falling back to information criterion = aic.\n",
      "  warnings.warn('information_criterion cannot be \\'oob\\' with '\n"
     ]
    },
    {
     "name": "stdout",
     "output_type": "stream",
     "text": [
      "Parameters: (True, True, 'oob', 'mse', 7), MAPE: 0.1430782687134868\n",
      "Parameters: (True, True, 'oob', 'mse', 13), MAPE: 0.10646701531010522\n"
     ]
    },
    {
     "name": "stderr",
     "output_type": "stream",
     "text": [
      "C:\\Users\\manue\\anaconda3\\envs\\TecnicasPrediccion\\lib\\site-packages\\pmdarima\\arima\\_validation.py:35: UserWarning: information_criterion cannot be 'oob' with out_of_sample_size = 0. Falling back to information criterion = aic.\n",
      "  warnings.warn('information_criterion cannot be \\'oob\\' with '\n"
     ]
    },
    {
     "name": "stdout",
     "output_type": "stream",
     "text": [
      "Parameters: (True, True, 'oob', 'mse', 52), MAPE: 0.06151921241919101\n"
     ]
    },
    {
     "name": "stderr",
     "output_type": "stream",
     "text": [
      "C:\\Users\\manue\\anaconda3\\envs\\TecnicasPrediccion\\lib\\site-packages\\pmdarima\\arima\\_validation.py:35: UserWarning: information_criterion cannot be 'oob' with out_of_sample_size = 0. Falling back to information criterion = aic.\n",
      "  warnings.warn('information_criterion cannot be \\'oob\\' with '\n"
     ]
    },
    {
     "name": "stdout",
     "output_type": "stream",
     "text": [
      "Parameters: (True, True, 'oob', 'mse', 53), MAPE: 0.132147580532418\n"
     ]
    },
    {
     "name": "stderr",
     "output_type": "stream",
     "text": [
      "C:\\Users\\manue\\anaconda3\\envs\\TecnicasPrediccion\\lib\\site-packages\\pmdarima\\arima\\_validation.py:35: UserWarning: information_criterion cannot be 'oob' with out_of_sample_size = 0. Falling back to information criterion = aic.\n",
      "  warnings.warn('information_criterion cannot be \\'oob\\' with '\n"
     ]
    },
    {
     "name": "stdout",
     "output_type": "stream",
     "text": [
      "Parameters: (True, True, 'oob', 'mae', 2), MAPE: 0.12117932972259587\n"
     ]
    },
    {
     "name": "stderr",
     "output_type": "stream",
     "text": [
      "C:\\Users\\manue\\anaconda3\\envs\\TecnicasPrediccion\\lib\\site-packages\\pmdarima\\arima\\_validation.py:35: UserWarning: information_criterion cannot be 'oob' with out_of_sample_size = 0. Falling back to information criterion = aic.\n",
      "  warnings.warn('information_criterion cannot be \\'oob\\' with '\n"
     ]
    },
    {
     "name": "stdout",
     "output_type": "stream",
     "text": [
      "Parameters: (True, True, 'oob', 'mae', 3), MAPE: 0.20166784089996653\n"
     ]
    },
    {
     "name": "stderr",
     "output_type": "stream",
     "text": [
      "C:\\Users\\manue\\anaconda3\\envs\\TecnicasPrediccion\\lib\\site-packages\\pmdarima\\arima\\_validation.py:35: UserWarning: information_criterion cannot be 'oob' with out_of_sample_size = 0. Falling back to information criterion = aic.\n",
      "  warnings.warn('information_criterion cannot be \\'oob\\' with '\n"
     ]
    },
    {
     "name": "stdout",
     "output_type": "stream",
     "text": [
      "Parameters: (True, True, 'oob', 'mae', 4), MAPE: 0.12354844482311407\n"
     ]
    },
    {
     "name": "stderr",
     "output_type": "stream",
     "text": [
      "C:\\Users\\manue\\anaconda3\\envs\\TecnicasPrediccion\\lib\\site-packages\\pmdarima\\arima\\_validation.py:35: UserWarning: information_criterion cannot be 'oob' with out_of_sample_size = 0. Falling back to information criterion = aic.\n",
      "  warnings.warn('information_criterion cannot be \\'oob\\' with '\n"
     ]
    },
    {
     "name": "stdout",
     "output_type": "stream",
     "text": [
      "Parameters: (True, True, 'oob', 'mae', 5), MAPE: 0.12119834342271146\n"
     ]
    },
    {
     "name": "stderr",
     "output_type": "stream",
     "text": [
      "C:\\Users\\manue\\anaconda3\\envs\\TecnicasPrediccion\\lib\\site-packages\\pmdarima\\arima\\_validation.py:35: UserWarning: information_criterion cannot be 'oob' with out_of_sample_size = 0. Falling back to information criterion = aic.\n",
      "  warnings.warn('information_criterion cannot be \\'oob\\' with '\n"
     ]
    },
    {
     "name": "stdout",
     "output_type": "stream",
     "text": [
      "Parameters: (True, True, 'oob', 'mae', 6), MAPE: 0.10646701531010522\n"
     ]
    },
    {
     "name": "stderr",
     "output_type": "stream",
     "text": [
      "C:\\Users\\manue\\anaconda3\\envs\\TecnicasPrediccion\\lib\\site-packages\\pmdarima\\arima\\_validation.py:35: UserWarning: information_criterion cannot be 'oob' with out_of_sample_size = 0. Falling back to information criterion = aic.\n",
      "  warnings.warn('information_criterion cannot be \\'oob\\' with '\n",
      "C:\\Users\\manue\\anaconda3\\envs\\TecnicasPrediccion\\lib\\site-packages\\pmdarima\\arima\\_auto_solvers.py:524: ModelFitWarning: Error fitting  ARIMA(4,0,1)(2,0,1)[7]           (if you do not want to see these warnings, run with error_action=\"ignore\").\n",
      "  warnings.warn(warning_str, ModelFitWarning)\n",
      "C:\\Users\\manue\\anaconda3\\envs\\TecnicasPrediccion\\lib\\site-packages\\pmdarima\\arima\\_validation.py:35: UserWarning: information_criterion cannot be 'oob' with out_of_sample_size = 0. Falling back to information criterion = aic.\n",
      "  warnings.warn('information_criterion cannot be \\'oob\\' with '\n"
     ]
    },
    {
     "name": "stdout",
     "output_type": "stream",
     "text": [
      "Parameters: (True, True, 'oob', 'mae', 7), MAPE: 0.1430782687134868\n",
      "Parameters: (True, True, 'oob', 'mae', 13), MAPE: 0.10646701531010522\n"
     ]
    },
    {
     "name": "stderr",
     "output_type": "stream",
     "text": [
      "C:\\Users\\manue\\anaconda3\\envs\\TecnicasPrediccion\\lib\\site-packages\\pmdarima\\arima\\_validation.py:35: UserWarning: information_criterion cannot be 'oob' with out_of_sample_size = 0. Falling back to information criterion = aic.\n",
      "  warnings.warn('information_criterion cannot be \\'oob\\' with '\n"
     ]
    },
    {
     "name": "stdout",
     "output_type": "stream",
     "text": [
      "Parameters: (True, True, 'oob', 'mae', 52), MAPE: 0.06151921241919101\n"
     ]
    },
    {
     "name": "stderr",
     "output_type": "stream",
     "text": [
      "C:\\Users\\manue\\anaconda3\\envs\\TecnicasPrediccion\\lib\\site-packages\\pmdarima\\arima\\_validation.py:35: UserWarning: information_criterion cannot be 'oob' with out_of_sample_size = 0. Falling back to information criterion = aic.\n",
      "  warnings.warn('information_criterion cannot be \\'oob\\' with '\n"
     ]
    },
    {
     "name": "stdout",
     "output_type": "stream",
     "text": [
      "Parameters: (True, True, 'oob', 'mae', 53), MAPE: 0.132147580532418\n",
      "Parameters: (True, False, 'aic', 'mse', 2), MAPE: 0.08613343086193079\n",
      "Parameters: (True, False, 'aic', 'mse', 3), MAPE: 0.08613343086193079\n",
      "Parameters: (True, False, 'aic', 'mse', 4), MAPE: 0.08613343086193079\n",
      "Parameters: (True, False, 'aic', 'mse', 5), MAPE: 0.08613343086193079\n",
      "Parameters: (True, False, 'aic', 'mse', 6), MAPE: 0.08613343086193079\n",
      "Parameters: (True, False, 'aic', 'mse', 7), MAPE: 0.08613343086193079\n",
      "Parameters: (True, False, 'aic', 'mse', 13), MAPE: 0.09296675867542087\n",
      "Parameters: (True, False, 'aic', 'mse', 52), MAPE: 0.050223996299127306\n",
      "Parameters: (True, False, 'aic', 'mse', 53), MAPE: 0.10254744317528416\n",
      "Parameters: (True, False, 'aic', 'mae', 2), MAPE: 0.08613343086193079\n",
      "Parameters: (True, False, 'aic', 'mae', 3), MAPE: 0.08613343086193079\n",
      "Parameters: (True, False, 'aic', 'mae', 4), MAPE: 0.08613343086193079\n",
      "Parameters: (True, False, 'aic', 'mae', 5), MAPE: 0.08613343086193079\n",
      "Parameters: (True, False, 'aic', 'mae', 6), MAPE: 0.08613343086193079\n",
      "Parameters: (True, False, 'aic', 'mae', 7), MAPE: 0.08613343086193079\n",
      "Parameters: (True, False, 'aic', 'mae', 13), MAPE: 0.09296675867542087\n",
      "Parameters: (True, False, 'aic', 'mae', 52), MAPE: 0.050223996299127306\n",
      "Parameters: (True, False, 'aic', 'mae', 53), MAPE: 0.10254744317528416\n",
      "Parameters: (True, False, 'bic', 'mse', 2), MAPE: 0.08613343086193079\n",
      "Parameters: (True, False, 'bic', 'mse', 3), MAPE: 0.17447862415463922\n",
      "Parameters: (True, False, 'bic', 'mse', 4), MAPE: 0.08613343086193079\n",
      "Parameters: (True, False, 'bic', 'mse', 5), MAPE: 0.08613343086193079\n",
      "Parameters: (True, False, 'bic', 'mse', 6), MAPE: 0.08613343086193079\n",
      "Parameters: (True, False, 'bic', 'mse', 7), MAPE: 0.08613343086193079\n",
      "Parameters: (True, False, 'bic', 'mse', 13), MAPE: 0.08613343086193079\n",
      "Parameters: (True, False, 'bic', 'mse', 52), MAPE: 0.09280917408091689\n",
      "Parameters: (True, False, 'bic', 'mse', 53), MAPE: 0.1400772149447163\n",
      "Parameters: (True, False, 'bic', 'mae', 2), MAPE: 0.08613343086193079\n",
      "Parameters: (True, False, 'bic', 'mae', 3), MAPE: 0.17447862415463922\n",
      "Parameters: (True, False, 'bic', 'mae', 4), MAPE: 0.08613343086193079\n",
      "Parameters: (True, False, 'bic', 'mae', 5), MAPE: 0.08613343086193079\n",
      "Parameters: (True, False, 'bic', 'mae', 6), MAPE: 0.08613343086193079\n",
      "Parameters: (True, False, 'bic', 'mae', 7), MAPE: 0.08613343086193079\n",
      "Parameters: (True, False, 'bic', 'mae', 13), MAPE: 0.08613343086193079\n",
      "Parameters: (True, False, 'bic', 'mae', 52), MAPE: 0.09280917408091689\n",
      "Parameters: (True, False, 'bic', 'mae', 53), MAPE: 0.1400772149447163\n",
      "Parameters: (True, False, 'hqic', 'mse', 2), MAPE: 0.08613343086193079\n",
      "Parameters: (True, False, 'hqic', 'mse', 3), MAPE: 0.08613343086193079\n",
      "Parameters: (True, False, 'hqic', 'mse', 4), MAPE: 0.08613343086193079\n",
      "Parameters: (True, False, 'hqic', 'mse', 5), MAPE: 0.08613343086193079\n",
      "Parameters: (True, False, 'hqic', 'mse', 6), MAPE: 0.08613343086193079\n",
      "Parameters: (True, False, 'hqic', 'mse', 7), MAPE: 0.08613343086193079\n",
      "Parameters: (True, False, 'hqic', 'mse', 13), MAPE: 0.08613343086193079\n",
      "Parameters: (True, False, 'hqic', 'mse', 52), MAPE: 0.0619947992792261\n",
      "Parameters: (True, False, 'hqic', 'mse', 53), MAPE: 0.10254744317528416\n",
      "Parameters: (True, False, 'hqic', 'mae', 2), MAPE: 0.08613343086193079\n",
      "Parameters: (True, False, 'hqic', 'mae', 3), MAPE: 0.08613343086193079\n",
      "Parameters: (True, False, 'hqic', 'mae', 4), MAPE: 0.08613343086193079\n",
      "Parameters: (True, False, 'hqic', 'mae', 5), MAPE: 0.08613343086193079\n",
      "Parameters: (True, False, 'hqic', 'mae', 6), MAPE: 0.08613343086193079\n",
      "Parameters: (True, False, 'hqic', 'mae', 7), MAPE: 0.08613343086193079\n",
      "Parameters: (True, False, 'hqic', 'mae', 13), MAPE: 0.08613343086193079\n",
      "Parameters: (True, False, 'hqic', 'mae', 52), MAPE: 0.0619947992792261\n",
      "Parameters: (True, False, 'hqic', 'mae', 53), MAPE: 0.10254744317528416\n"
     ]
    },
    {
     "name": "stderr",
     "output_type": "stream",
     "text": [
      "C:\\Users\\manue\\anaconda3\\envs\\TecnicasPrediccion\\lib\\site-packages\\pmdarima\\arima\\_validation.py:35: UserWarning: information_criterion cannot be 'oob' with out_of_sample_size = 0. Falling back to information criterion = aic.\n",
      "  warnings.warn('information_criterion cannot be \\'oob\\' with '\n"
     ]
    },
    {
     "name": "stdout",
     "output_type": "stream",
     "text": [
      "Parameters: (True, False, 'oob', 'mse', 2), MAPE: 0.08613343086193079\n"
     ]
    },
    {
     "name": "stderr",
     "output_type": "stream",
     "text": [
      "C:\\Users\\manue\\anaconda3\\envs\\TecnicasPrediccion\\lib\\site-packages\\pmdarima\\arima\\_validation.py:35: UserWarning: information_criterion cannot be 'oob' with out_of_sample_size = 0. Falling back to information criterion = aic.\n",
      "  warnings.warn('information_criterion cannot be \\'oob\\' with '\n"
     ]
    },
    {
     "name": "stdout",
     "output_type": "stream",
     "text": [
      "Parameters: (True, False, 'oob', 'mse', 3), MAPE: 0.08613343086193079\n"
     ]
    },
    {
     "name": "stderr",
     "output_type": "stream",
     "text": [
      "C:\\Users\\manue\\anaconda3\\envs\\TecnicasPrediccion\\lib\\site-packages\\pmdarima\\arima\\_validation.py:35: UserWarning: information_criterion cannot be 'oob' with out_of_sample_size = 0. Falling back to information criterion = aic.\n",
      "  warnings.warn('information_criterion cannot be \\'oob\\' with '\n"
     ]
    },
    {
     "name": "stdout",
     "output_type": "stream",
     "text": [
      "Parameters: (True, False, 'oob', 'mse', 4), MAPE: 0.08613343086193079\n"
     ]
    },
    {
     "name": "stderr",
     "output_type": "stream",
     "text": [
      "C:\\Users\\manue\\anaconda3\\envs\\TecnicasPrediccion\\lib\\site-packages\\pmdarima\\arima\\_validation.py:35: UserWarning: information_criterion cannot be 'oob' with out_of_sample_size = 0. Falling back to information criterion = aic.\n",
      "  warnings.warn('information_criterion cannot be \\'oob\\' with '\n"
     ]
    },
    {
     "name": "stdout",
     "output_type": "stream",
     "text": [
      "Parameters: (True, False, 'oob', 'mse', 5), MAPE: 0.08613343086193079\n"
     ]
    },
    {
     "name": "stderr",
     "output_type": "stream",
     "text": [
      "C:\\Users\\manue\\anaconda3\\envs\\TecnicasPrediccion\\lib\\site-packages\\pmdarima\\arima\\_validation.py:35: UserWarning: information_criterion cannot be 'oob' with out_of_sample_size = 0. Falling back to information criterion = aic.\n",
      "  warnings.warn('information_criterion cannot be \\'oob\\' with '\n"
     ]
    },
    {
     "name": "stdout",
     "output_type": "stream",
     "text": [
      "Parameters: (True, False, 'oob', 'mse', 6), MAPE: 0.08613343086193079\n"
     ]
    },
    {
     "name": "stderr",
     "output_type": "stream",
     "text": [
      "C:\\Users\\manue\\anaconda3\\envs\\TecnicasPrediccion\\lib\\site-packages\\pmdarima\\arima\\_validation.py:35: UserWarning: information_criterion cannot be 'oob' with out_of_sample_size = 0. Falling back to information criterion = aic.\n",
      "  warnings.warn('information_criterion cannot be \\'oob\\' with '\n"
     ]
    },
    {
     "name": "stdout",
     "output_type": "stream",
     "text": [
      "Parameters: (True, False, 'oob', 'mse', 7), MAPE: 0.08613343086193079\n"
     ]
    },
    {
     "name": "stderr",
     "output_type": "stream",
     "text": [
      "C:\\Users\\manue\\anaconda3\\envs\\TecnicasPrediccion\\lib\\site-packages\\pmdarima\\arima\\_validation.py:35: UserWarning: information_criterion cannot be 'oob' with out_of_sample_size = 0. Falling back to information criterion = aic.\n",
      "  warnings.warn('information_criterion cannot be \\'oob\\' with '\n"
     ]
    },
    {
     "name": "stdout",
     "output_type": "stream",
     "text": [
      "Parameters: (True, False, 'oob', 'mse', 13), MAPE: 0.09296675867542087\n"
     ]
    },
    {
     "name": "stderr",
     "output_type": "stream",
     "text": [
      "C:\\Users\\manue\\anaconda3\\envs\\TecnicasPrediccion\\lib\\site-packages\\pmdarima\\arima\\_validation.py:35: UserWarning: information_criterion cannot be 'oob' with out_of_sample_size = 0. Falling back to information criterion = aic.\n",
      "  warnings.warn('information_criterion cannot be \\'oob\\' with '\n"
     ]
    },
    {
     "name": "stdout",
     "output_type": "stream",
     "text": [
      "Parameters: (True, False, 'oob', 'mse', 52), MAPE: 0.050223996299127306\n"
     ]
    },
    {
     "name": "stderr",
     "output_type": "stream",
     "text": [
      "C:\\Users\\manue\\anaconda3\\envs\\TecnicasPrediccion\\lib\\site-packages\\pmdarima\\arima\\_validation.py:35: UserWarning: information_criterion cannot be 'oob' with out_of_sample_size = 0. Falling back to information criterion = aic.\n",
      "  warnings.warn('information_criterion cannot be \\'oob\\' with '\n"
     ]
    },
    {
     "name": "stdout",
     "output_type": "stream",
     "text": [
      "Parameters: (True, False, 'oob', 'mse', 53), MAPE: 0.10254744317528416\n"
     ]
    },
    {
     "name": "stderr",
     "output_type": "stream",
     "text": [
      "C:\\Users\\manue\\anaconda3\\envs\\TecnicasPrediccion\\lib\\site-packages\\pmdarima\\arima\\_validation.py:35: UserWarning: information_criterion cannot be 'oob' with out_of_sample_size = 0. Falling back to information criterion = aic.\n",
      "  warnings.warn('information_criterion cannot be \\'oob\\' with '\n"
     ]
    },
    {
     "name": "stdout",
     "output_type": "stream",
     "text": [
      "Parameters: (True, False, 'oob', 'mae', 2), MAPE: 0.08613343086193079\n"
     ]
    },
    {
     "name": "stderr",
     "output_type": "stream",
     "text": [
      "C:\\Users\\manue\\anaconda3\\envs\\TecnicasPrediccion\\lib\\site-packages\\pmdarima\\arima\\_validation.py:35: UserWarning: information_criterion cannot be 'oob' with out_of_sample_size = 0. Falling back to information criterion = aic.\n",
      "  warnings.warn('information_criterion cannot be \\'oob\\' with '\n"
     ]
    },
    {
     "name": "stdout",
     "output_type": "stream",
     "text": [
      "Parameters: (True, False, 'oob', 'mae', 3), MAPE: 0.08613343086193079\n"
     ]
    },
    {
     "name": "stderr",
     "output_type": "stream",
     "text": [
      "C:\\Users\\manue\\anaconda3\\envs\\TecnicasPrediccion\\lib\\site-packages\\pmdarima\\arima\\_validation.py:35: UserWarning: information_criterion cannot be 'oob' with out_of_sample_size = 0. Falling back to information criterion = aic.\n",
      "  warnings.warn('information_criterion cannot be \\'oob\\' with '\n"
     ]
    },
    {
     "name": "stdout",
     "output_type": "stream",
     "text": [
      "Parameters: (True, False, 'oob', 'mae', 4), MAPE: 0.08613343086193079\n"
     ]
    },
    {
     "name": "stderr",
     "output_type": "stream",
     "text": [
      "C:\\Users\\manue\\anaconda3\\envs\\TecnicasPrediccion\\lib\\site-packages\\pmdarima\\arima\\_validation.py:35: UserWarning: information_criterion cannot be 'oob' with out_of_sample_size = 0. Falling back to information criterion = aic.\n",
      "  warnings.warn('information_criterion cannot be \\'oob\\' with '\n"
     ]
    },
    {
     "name": "stdout",
     "output_type": "stream",
     "text": [
      "Parameters: (True, False, 'oob', 'mae', 5), MAPE: 0.08613343086193079\n"
     ]
    },
    {
     "name": "stderr",
     "output_type": "stream",
     "text": [
      "C:\\Users\\manue\\anaconda3\\envs\\TecnicasPrediccion\\lib\\site-packages\\pmdarima\\arima\\_validation.py:35: UserWarning: information_criterion cannot be 'oob' with out_of_sample_size = 0. Falling back to information criterion = aic.\n",
      "  warnings.warn('information_criterion cannot be \\'oob\\' with '\n"
     ]
    },
    {
     "name": "stdout",
     "output_type": "stream",
     "text": [
      "Parameters: (True, False, 'oob', 'mae', 6), MAPE: 0.08613343086193079\n"
     ]
    },
    {
     "name": "stderr",
     "output_type": "stream",
     "text": [
      "C:\\Users\\manue\\anaconda3\\envs\\TecnicasPrediccion\\lib\\site-packages\\pmdarima\\arima\\_validation.py:35: UserWarning: information_criterion cannot be 'oob' with out_of_sample_size = 0. Falling back to information criterion = aic.\n",
      "  warnings.warn('information_criterion cannot be \\'oob\\' with '\n"
     ]
    },
    {
     "name": "stdout",
     "output_type": "stream",
     "text": [
      "Parameters: (True, False, 'oob', 'mae', 7), MAPE: 0.08613343086193079\n"
     ]
    },
    {
     "name": "stderr",
     "output_type": "stream",
     "text": [
      "C:\\Users\\manue\\anaconda3\\envs\\TecnicasPrediccion\\lib\\site-packages\\pmdarima\\arima\\_validation.py:35: UserWarning: information_criterion cannot be 'oob' with out_of_sample_size = 0. Falling back to information criterion = aic.\n",
      "  warnings.warn('information_criterion cannot be \\'oob\\' with '\n"
     ]
    },
    {
     "name": "stdout",
     "output_type": "stream",
     "text": [
      "Parameters: (True, False, 'oob', 'mae', 13), MAPE: 0.09296675867542087\n"
     ]
    },
    {
     "name": "stderr",
     "output_type": "stream",
     "text": [
      "C:\\Users\\manue\\anaconda3\\envs\\TecnicasPrediccion\\lib\\site-packages\\pmdarima\\arima\\_validation.py:35: UserWarning: information_criterion cannot be 'oob' with out_of_sample_size = 0. Falling back to information criterion = aic.\n",
      "  warnings.warn('information_criterion cannot be \\'oob\\' with '\n"
     ]
    },
    {
     "name": "stdout",
     "output_type": "stream",
     "text": [
      "Parameters: (True, False, 'oob', 'mae', 52), MAPE: 0.050223996299127306\n"
     ]
    },
    {
     "name": "stderr",
     "output_type": "stream",
     "text": [
      "C:\\Users\\manue\\anaconda3\\envs\\TecnicasPrediccion\\lib\\site-packages\\pmdarima\\arima\\_validation.py:35: UserWarning: information_criterion cannot be 'oob' with out_of_sample_size = 0. Falling back to information criterion = aic.\n",
      "  warnings.warn('information_criterion cannot be \\'oob\\' with '\n"
     ]
    },
    {
     "name": "stdout",
     "output_type": "stream",
     "text": [
      "Parameters: (True, False, 'oob', 'mae', 53), MAPE: 0.10254744317528416\n"
     ]
    },
    {
     "name": "stderr",
     "output_type": "stream",
     "text": [
      "C:\\Users\\manue\\anaconda3\\envs\\TecnicasPrediccion\\lib\\site-packages\\pmdarima\\arima\\_validation.py:62: UserWarning: m (2) set for non-seasonal fit. Setting to 0\n",
      "  warnings.warn(\"m (%i) set for non-seasonal fit. Setting to 0\" % m)\n"
     ]
    },
    {
     "name": "stdout",
     "output_type": "stream",
     "text": [
      "Parameters: (False, True, 'aic', 'mse', 2), MAPE: 0.10646701531010522\n"
     ]
    },
    {
     "name": "stderr",
     "output_type": "stream",
     "text": [
      "C:\\Users\\manue\\anaconda3\\envs\\TecnicasPrediccion\\lib\\site-packages\\pmdarima\\arima\\_validation.py:62: UserWarning: m (3) set for non-seasonal fit. Setting to 0\n",
      "  warnings.warn(\"m (%i) set for non-seasonal fit. Setting to 0\" % m)\n"
     ]
    },
    {
     "name": "stdout",
     "output_type": "stream",
     "text": [
      "Parameters: (False, True, 'aic', 'mse', 3), MAPE: 0.10646701531010522\n"
     ]
    },
    {
     "name": "stderr",
     "output_type": "stream",
     "text": [
      "C:\\Users\\manue\\anaconda3\\envs\\TecnicasPrediccion\\lib\\site-packages\\pmdarima\\arima\\_validation.py:62: UserWarning: m (4) set for non-seasonal fit. Setting to 0\n",
      "  warnings.warn(\"m (%i) set for non-seasonal fit. Setting to 0\" % m)\n"
     ]
    },
    {
     "name": "stdout",
     "output_type": "stream",
     "text": [
      "Parameters: (False, True, 'aic', 'mse', 4), MAPE: 0.10646701531010522\n"
     ]
    },
    {
     "name": "stderr",
     "output_type": "stream",
     "text": [
      "C:\\Users\\manue\\anaconda3\\envs\\TecnicasPrediccion\\lib\\site-packages\\pmdarima\\arima\\_validation.py:62: UserWarning: m (5) set for non-seasonal fit. Setting to 0\n",
      "  warnings.warn(\"m (%i) set for non-seasonal fit. Setting to 0\" % m)\n"
     ]
    },
    {
     "name": "stdout",
     "output_type": "stream",
     "text": [
      "Parameters: (False, True, 'aic', 'mse', 5), MAPE: 0.10646701531010522\n"
     ]
    },
    {
     "name": "stderr",
     "output_type": "stream",
     "text": [
      "C:\\Users\\manue\\anaconda3\\envs\\TecnicasPrediccion\\lib\\site-packages\\pmdarima\\arima\\_validation.py:62: UserWarning: m (6) set for non-seasonal fit. Setting to 0\n",
      "  warnings.warn(\"m (%i) set for non-seasonal fit. Setting to 0\" % m)\n"
     ]
    },
    {
     "name": "stdout",
     "output_type": "stream",
     "text": [
      "Parameters: (False, True, 'aic', 'mse', 6), MAPE: 0.10646701531010522\n"
     ]
    },
    {
     "name": "stderr",
     "output_type": "stream",
     "text": [
      "C:\\Users\\manue\\anaconda3\\envs\\TecnicasPrediccion\\lib\\site-packages\\pmdarima\\arima\\_validation.py:62: UserWarning: m (7) set for non-seasonal fit. Setting to 0\n",
      "  warnings.warn(\"m (%i) set for non-seasonal fit. Setting to 0\" % m)\n"
     ]
    },
    {
     "name": "stdout",
     "output_type": "stream",
     "text": [
      "Parameters: (False, True, 'aic', 'mse', 7), MAPE: 0.10646701531010522\n"
     ]
    },
    {
     "name": "stderr",
     "output_type": "stream",
     "text": [
      "C:\\Users\\manue\\anaconda3\\envs\\TecnicasPrediccion\\lib\\site-packages\\pmdarima\\arima\\_validation.py:62: UserWarning: m (13) set for non-seasonal fit. Setting to 0\n",
      "  warnings.warn(\"m (%i) set for non-seasonal fit. Setting to 0\" % m)\n"
     ]
    },
    {
     "name": "stdout",
     "output_type": "stream",
     "text": [
      "Parameters: (False, True, 'aic', 'mse', 13), MAPE: 0.10646701531010522\n"
     ]
    },
    {
     "name": "stderr",
     "output_type": "stream",
     "text": [
      "C:\\Users\\manue\\anaconda3\\envs\\TecnicasPrediccion\\lib\\site-packages\\pmdarima\\arima\\_validation.py:62: UserWarning: m (52) set for non-seasonal fit. Setting to 0\n",
      "  warnings.warn(\"m (%i) set for non-seasonal fit. Setting to 0\" % m)\n"
     ]
    },
    {
     "name": "stdout",
     "output_type": "stream",
     "text": [
      "Parameters: (False, True, 'aic', 'mse', 52), MAPE: 0.10646701531010522\n"
     ]
    },
    {
     "name": "stderr",
     "output_type": "stream",
     "text": [
      "C:\\Users\\manue\\anaconda3\\envs\\TecnicasPrediccion\\lib\\site-packages\\pmdarima\\arima\\_validation.py:62: UserWarning: m (53) set for non-seasonal fit. Setting to 0\n",
      "  warnings.warn(\"m (%i) set for non-seasonal fit. Setting to 0\" % m)\n"
     ]
    },
    {
     "name": "stdout",
     "output_type": "stream",
     "text": [
      "Parameters: (False, True, 'aic', 'mse', 53), MAPE: 0.10646701531010522\n"
     ]
    },
    {
     "name": "stderr",
     "output_type": "stream",
     "text": [
      "C:\\Users\\manue\\anaconda3\\envs\\TecnicasPrediccion\\lib\\site-packages\\pmdarima\\arima\\_validation.py:62: UserWarning: m (2) set for non-seasonal fit. Setting to 0\n",
      "  warnings.warn(\"m (%i) set for non-seasonal fit. Setting to 0\" % m)\n"
     ]
    },
    {
     "name": "stdout",
     "output_type": "stream",
     "text": [
      "Parameters: (False, True, 'aic', 'mae', 2), MAPE: 0.10646701531010522\n"
     ]
    },
    {
     "name": "stderr",
     "output_type": "stream",
     "text": [
      "C:\\Users\\manue\\anaconda3\\envs\\TecnicasPrediccion\\lib\\site-packages\\pmdarima\\arima\\_validation.py:62: UserWarning: m (3) set for non-seasonal fit. Setting to 0\n",
      "  warnings.warn(\"m (%i) set for non-seasonal fit. Setting to 0\" % m)\n"
     ]
    },
    {
     "name": "stdout",
     "output_type": "stream",
     "text": [
      "Parameters: (False, True, 'aic', 'mae', 3), MAPE: 0.10646701531010522\n"
     ]
    },
    {
     "name": "stderr",
     "output_type": "stream",
     "text": [
      "C:\\Users\\manue\\anaconda3\\envs\\TecnicasPrediccion\\lib\\site-packages\\pmdarima\\arima\\_validation.py:62: UserWarning: m (4) set for non-seasonal fit. Setting to 0\n",
      "  warnings.warn(\"m (%i) set for non-seasonal fit. Setting to 0\" % m)\n"
     ]
    },
    {
     "name": "stdout",
     "output_type": "stream",
     "text": [
      "Parameters: (False, True, 'aic', 'mae', 4), MAPE: 0.10646701531010522\n"
     ]
    },
    {
     "name": "stderr",
     "output_type": "stream",
     "text": [
      "C:\\Users\\manue\\anaconda3\\envs\\TecnicasPrediccion\\lib\\site-packages\\pmdarima\\arima\\_validation.py:62: UserWarning: m (5) set for non-seasonal fit. Setting to 0\n",
      "  warnings.warn(\"m (%i) set for non-seasonal fit. Setting to 0\" % m)\n"
     ]
    },
    {
     "name": "stdout",
     "output_type": "stream",
     "text": [
      "Parameters: (False, True, 'aic', 'mae', 5), MAPE: 0.10646701531010522\n"
     ]
    },
    {
     "name": "stderr",
     "output_type": "stream",
     "text": [
      "C:\\Users\\manue\\anaconda3\\envs\\TecnicasPrediccion\\lib\\site-packages\\pmdarima\\arima\\_validation.py:62: UserWarning: m (6) set for non-seasonal fit. Setting to 0\n",
      "  warnings.warn(\"m (%i) set for non-seasonal fit. Setting to 0\" % m)\n"
     ]
    },
    {
     "name": "stdout",
     "output_type": "stream",
     "text": [
      "Parameters: (False, True, 'aic', 'mae', 6), MAPE: 0.10646701531010522\n"
     ]
    },
    {
     "name": "stderr",
     "output_type": "stream",
     "text": [
      "C:\\Users\\manue\\anaconda3\\envs\\TecnicasPrediccion\\lib\\site-packages\\pmdarima\\arima\\_validation.py:62: UserWarning: m (7) set for non-seasonal fit. Setting to 0\n",
      "  warnings.warn(\"m (%i) set for non-seasonal fit. Setting to 0\" % m)\n"
     ]
    },
    {
     "name": "stdout",
     "output_type": "stream",
     "text": [
      "Parameters: (False, True, 'aic', 'mae', 7), MAPE: 0.10646701531010522\n"
     ]
    },
    {
     "name": "stderr",
     "output_type": "stream",
     "text": [
      "C:\\Users\\manue\\anaconda3\\envs\\TecnicasPrediccion\\lib\\site-packages\\pmdarima\\arima\\_validation.py:62: UserWarning: m (13) set for non-seasonal fit. Setting to 0\n",
      "  warnings.warn(\"m (%i) set for non-seasonal fit. Setting to 0\" % m)\n"
     ]
    },
    {
     "name": "stdout",
     "output_type": "stream",
     "text": [
      "Parameters: (False, True, 'aic', 'mae', 13), MAPE: 0.10646701531010522\n"
     ]
    },
    {
     "name": "stderr",
     "output_type": "stream",
     "text": [
      "C:\\Users\\manue\\anaconda3\\envs\\TecnicasPrediccion\\lib\\site-packages\\pmdarima\\arima\\_validation.py:62: UserWarning: m (52) set for non-seasonal fit. Setting to 0\n",
      "  warnings.warn(\"m (%i) set for non-seasonal fit. Setting to 0\" % m)\n"
     ]
    },
    {
     "name": "stdout",
     "output_type": "stream",
     "text": [
      "Parameters: (False, True, 'aic', 'mae', 52), MAPE: 0.10646701531010522\n"
     ]
    },
    {
     "name": "stderr",
     "output_type": "stream",
     "text": [
      "C:\\Users\\manue\\anaconda3\\envs\\TecnicasPrediccion\\lib\\site-packages\\pmdarima\\arima\\_validation.py:62: UserWarning: m (53) set for non-seasonal fit. Setting to 0\n",
      "  warnings.warn(\"m (%i) set for non-seasonal fit. Setting to 0\" % m)\n"
     ]
    },
    {
     "name": "stdout",
     "output_type": "stream",
     "text": [
      "Parameters: (False, True, 'aic', 'mae', 53), MAPE: 0.10646701531010522\n"
     ]
    },
    {
     "name": "stderr",
     "output_type": "stream",
     "text": [
      "C:\\Users\\manue\\anaconda3\\envs\\TecnicasPrediccion\\lib\\site-packages\\pmdarima\\arima\\_validation.py:62: UserWarning: m (2) set for non-seasonal fit. Setting to 0\n",
      "  warnings.warn(\"m (%i) set for non-seasonal fit. Setting to 0\" % m)\n"
     ]
    },
    {
     "name": "stdout",
     "output_type": "stream",
     "text": [
      "Parameters: (False, True, 'bic', 'mse', 2), MAPE: 0.12350132219416243\n"
     ]
    },
    {
     "name": "stderr",
     "output_type": "stream",
     "text": [
      "C:\\Users\\manue\\anaconda3\\envs\\TecnicasPrediccion\\lib\\site-packages\\pmdarima\\arima\\_validation.py:62: UserWarning: m (3) set for non-seasonal fit. Setting to 0\n",
      "  warnings.warn(\"m (%i) set for non-seasonal fit. Setting to 0\" % m)\n"
     ]
    },
    {
     "name": "stdout",
     "output_type": "stream",
     "text": [
      "Parameters: (False, True, 'bic', 'mse', 3), MAPE: 0.12350132219416243\n"
     ]
    },
    {
     "name": "stderr",
     "output_type": "stream",
     "text": [
      "C:\\Users\\manue\\anaconda3\\envs\\TecnicasPrediccion\\lib\\site-packages\\pmdarima\\arima\\_validation.py:62: UserWarning: m (4) set for non-seasonal fit. Setting to 0\n",
      "  warnings.warn(\"m (%i) set for non-seasonal fit. Setting to 0\" % m)\n"
     ]
    },
    {
     "name": "stdout",
     "output_type": "stream",
     "text": [
      "Parameters: (False, True, 'bic', 'mse', 4), MAPE: 0.12350132219416243\n"
     ]
    },
    {
     "name": "stderr",
     "output_type": "stream",
     "text": [
      "C:\\Users\\manue\\anaconda3\\envs\\TecnicasPrediccion\\lib\\site-packages\\pmdarima\\arima\\_validation.py:62: UserWarning: m (5) set for non-seasonal fit. Setting to 0\n",
      "  warnings.warn(\"m (%i) set for non-seasonal fit. Setting to 0\" % m)\n"
     ]
    },
    {
     "name": "stdout",
     "output_type": "stream",
     "text": [
      "Parameters: (False, True, 'bic', 'mse', 5), MAPE: 0.12350132219416243\n"
     ]
    },
    {
     "name": "stderr",
     "output_type": "stream",
     "text": [
      "C:\\Users\\manue\\anaconda3\\envs\\TecnicasPrediccion\\lib\\site-packages\\pmdarima\\arima\\_validation.py:62: UserWarning: m (6) set for non-seasonal fit. Setting to 0\n",
      "  warnings.warn(\"m (%i) set for non-seasonal fit. Setting to 0\" % m)\n"
     ]
    },
    {
     "name": "stdout",
     "output_type": "stream",
     "text": [
      "Parameters: (False, True, 'bic', 'mse', 6), MAPE: 0.12350132219416243\n"
     ]
    },
    {
     "name": "stderr",
     "output_type": "stream",
     "text": [
      "C:\\Users\\manue\\anaconda3\\envs\\TecnicasPrediccion\\lib\\site-packages\\pmdarima\\arima\\_validation.py:62: UserWarning: m (7) set for non-seasonal fit. Setting to 0\n",
      "  warnings.warn(\"m (%i) set for non-seasonal fit. Setting to 0\" % m)\n"
     ]
    },
    {
     "name": "stdout",
     "output_type": "stream",
     "text": [
      "Parameters: (False, True, 'bic', 'mse', 7), MAPE: 0.12350132219416243\n"
     ]
    },
    {
     "name": "stderr",
     "output_type": "stream",
     "text": [
      "C:\\Users\\manue\\anaconda3\\envs\\TecnicasPrediccion\\lib\\site-packages\\pmdarima\\arima\\_validation.py:62: UserWarning: m (13) set for non-seasonal fit. Setting to 0\n",
      "  warnings.warn(\"m (%i) set for non-seasonal fit. Setting to 0\" % m)\n"
     ]
    },
    {
     "name": "stdout",
     "output_type": "stream",
     "text": [
      "Parameters: (False, True, 'bic', 'mse', 13), MAPE: 0.12350132219416243\n"
     ]
    },
    {
     "name": "stderr",
     "output_type": "stream",
     "text": [
      "C:\\Users\\manue\\anaconda3\\envs\\TecnicasPrediccion\\lib\\site-packages\\pmdarima\\arima\\_validation.py:62: UserWarning: m (52) set for non-seasonal fit. Setting to 0\n",
      "  warnings.warn(\"m (%i) set for non-seasonal fit. Setting to 0\" % m)\n"
     ]
    },
    {
     "name": "stdout",
     "output_type": "stream",
     "text": [
      "Parameters: (False, True, 'bic', 'mse', 52), MAPE: 0.12350132219416243\n"
     ]
    },
    {
     "name": "stderr",
     "output_type": "stream",
     "text": [
      "C:\\Users\\manue\\anaconda3\\envs\\TecnicasPrediccion\\lib\\site-packages\\pmdarima\\arima\\_validation.py:62: UserWarning: m (53) set for non-seasonal fit. Setting to 0\n",
      "  warnings.warn(\"m (%i) set for non-seasonal fit. Setting to 0\" % m)\n"
     ]
    },
    {
     "name": "stdout",
     "output_type": "stream",
     "text": [
      "Parameters: (False, True, 'bic', 'mse', 53), MAPE: 0.12350132219416243\n"
     ]
    },
    {
     "name": "stderr",
     "output_type": "stream",
     "text": [
      "C:\\Users\\manue\\anaconda3\\envs\\TecnicasPrediccion\\lib\\site-packages\\pmdarima\\arima\\_validation.py:62: UserWarning: m (2) set for non-seasonal fit. Setting to 0\n",
      "  warnings.warn(\"m (%i) set for non-seasonal fit. Setting to 0\" % m)\n"
     ]
    },
    {
     "name": "stdout",
     "output_type": "stream",
     "text": [
      "Parameters: (False, True, 'bic', 'mae', 2), MAPE: 0.12350132219416243\n"
     ]
    },
    {
     "name": "stderr",
     "output_type": "stream",
     "text": [
      "C:\\Users\\manue\\anaconda3\\envs\\TecnicasPrediccion\\lib\\site-packages\\pmdarima\\arima\\_validation.py:62: UserWarning: m (3) set for non-seasonal fit. Setting to 0\n",
      "  warnings.warn(\"m (%i) set for non-seasonal fit. Setting to 0\" % m)\n"
     ]
    },
    {
     "name": "stdout",
     "output_type": "stream",
     "text": [
      "Parameters: (False, True, 'bic', 'mae', 3), MAPE: 0.12350132219416243\n"
     ]
    },
    {
     "name": "stderr",
     "output_type": "stream",
     "text": [
      "C:\\Users\\manue\\anaconda3\\envs\\TecnicasPrediccion\\lib\\site-packages\\pmdarima\\arima\\_validation.py:62: UserWarning: m (4) set for non-seasonal fit. Setting to 0\n",
      "  warnings.warn(\"m (%i) set for non-seasonal fit. Setting to 0\" % m)\n"
     ]
    },
    {
     "name": "stdout",
     "output_type": "stream",
     "text": [
      "Parameters: (False, True, 'bic', 'mae', 4), MAPE: 0.12350132219416243\n"
     ]
    },
    {
     "name": "stderr",
     "output_type": "stream",
     "text": [
      "C:\\Users\\manue\\anaconda3\\envs\\TecnicasPrediccion\\lib\\site-packages\\pmdarima\\arima\\_validation.py:62: UserWarning: m (5) set for non-seasonal fit. Setting to 0\n",
      "  warnings.warn(\"m (%i) set for non-seasonal fit. Setting to 0\" % m)\n"
     ]
    },
    {
     "name": "stdout",
     "output_type": "stream",
     "text": [
      "Parameters: (False, True, 'bic', 'mae', 5), MAPE: 0.12350132219416243\n"
     ]
    },
    {
     "name": "stderr",
     "output_type": "stream",
     "text": [
      "C:\\Users\\manue\\anaconda3\\envs\\TecnicasPrediccion\\lib\\site-packages\\pmdarima\\arima\\_validation.py:62: UserWarning: m (6) set for non-seasonal fit. Setting to 0\n",
      "  warnings.warn(\"m (%i) set for non-seasonal fit. Setting to 0\" % m)\n"
     ]
    },
    {
     "name": "stdout",
     "output_type": "stream",
     "text": [
      "Parameters: (False, True, 'bic', 'mae', 6), MAPE: 0.12350132219416243\n"
     ]
    },
    {
     "name": "stderr",
     "output_type": "stream",
     "text": [
      "C:\\Users\\manue\\anaconda3\\envs\\TecnicasPrediccion\\lib\\site-packages\\pmdarima\\arima\\_validation.py:62: UserWarning: m (7) set for non-seasonal fit. Setting to 0\n",
      "  warnings.warn(\"m (%i) set for non-seasonal fit. Setting to 0\" % m)\n"
     ]
    },
    {
     "name": "stdout",
     "output_type": "stream",
     "text": [
      "Parameters: (False, True, 'bic', 'mae', 7), MAPE: 0.12350132219416243\n"
     ]
    },
    {
     "name": "stderr",
     "output_type": "stream",
     "text": [
      "C:\\Users\\manue\\anaconda3\\envs\\TecnicasPrediccion\\lib\\site-packages\\pmdarima\\arima\\_validation.py:62: UserWarning: m (13) set for non-seasonal fit. Setting to 0\n",
      "  warnings.warn(\"m (%i) set for non-seasonal fit. Setting to 0\" % m)\n"
     ]
    },
    {
     "name": "stdout",
     "output_type": "stream",
     "text": [
      "Parameters: (False, True, 'bic', 'mae', 13), MAPE: 0.12350132219416243\n"
     ]
    },
    {
     "name": "stderr",
     "output_type": "stream",
     "text": [
      "C:\\Users\\manue\\anaconda3\\envs\\TecnicasPrediccion\\lib\\site-packages\\pmdarima\\arima\\_validation.py:62: UserWarning: m (52) set for non-seasonal fit. Setting to 0\n",
      "  warnings.warn(\"m (%i) set for non-seasonal fit. Setting to 0\" % m)\n"
     ]
    },
    {
     "name": "stdout",
     "output_type": "stream",
     "text": [
      "Parameters: (False, True, 'bic', 'mae', 52), MAPE: 0.12350132219416243\n"
     ]
    },
    {
     "name": "stderr",
     "output_type": "stream",
     "text": [
      "C:\\Users\\manue\\anaconda3\\envs\\TecnicasPrediccion\\lib\\site-packages\\pmdarima\\arima\\_validation.py:62: UserWarning: m (53) set for non-seasonal fit. Setting to 0\n",
      "  warnings.warn(\"m (%i) set for non-seasonal fit. Setting to 0\" % m)\n"
     ]
    },
    {
     "name": "stdout",
     "output_type": "stream",
     "text": [
      "Parameters: (False, True, 'bic', 'mae', 53), MAPE: 0.12350132219416243\n"
     ]
    },
    {
     "name": "stderr",
     "output_type": "stream",
     "text": [
      "C:\\Users\\manue\\anaconda3\\envs\\TecnicasPrediccion\\lib\\site-packages\\pmdarima\\arima\\_validation.py:62: UserWarning: m (2) set for non-seasonal fit. Setting to 0\n",
      "  warnings.warn(\"m (%i) set for non-seasonal fit. Setting to 0\" % m)\n"
     ]
    },
    {
     "name": "stdout",
     "output_type": "stream",
     "text": [
      "Parameters: (False, True, 'hqic', 'mse', 2), MAPE: 0.12350132219416243\n"
     ]
    },
    {
     "name": "stderr",
     "output_type": "stream",
     "text": [
      "C:\\Users\\manue\\anaconda3\\envs\\TecnicasPrediccion\\lib\\site-packages\\pmdarima\\arima\\_validation.py:62: UserWarning: m (3) set for non-seasonal fit. Setting to 0\n",
      "  warnings.warn(\"m (%i) set for non-seasonal fit. Setting to 0\" % m)\n"
     ]
    },
    {
     "name": "stdout",
     "output_type": "stream",
     "text": [
      "Parameters: (False, True, 'hqic', 'mse', 3), MAPE: 0.12350132219416243\n"
     ]
    },
    {
     "name": "stderr",
     "output_type": "stream",
     "text": [
      "C:\\Users\\manue\\anaconda3\\envs\\TecnicasPrediccion\\lib\\site-packages\\pmdarima\\arima\\_validation.py:62: UserWarning: m (4) set for non-seasonal fit. Setting to 0\n",
      "  warnings.warn(\"m (%i) set for non-seasonal fit. Setting to 0\" % m)\n"
     ]
    },
    {
     "name": "stdout",
     "output_type": "stream",
     "text": [
      "Parameters: (False, True, 'hqic', 'mse', 4), MAPE: 0.12350132219416243\n"
     ]
    },
    {
     "name": "stderr",
     "output_type": "stream",
     "text": [
      "C:\\Users\\manue\\anaconda3\\envs\\TecnicasPrediccion\\lib\\site-packages\\pmdarima\\arima\\_validation.py:62: UserWarning: m (5) set for non-seasonal fit. Setting to 0\n",
      "  warnings.warn(\"m (%i) set for non-seasonal fit. Setting to 0\" % m)\n"
     ]
    },
    {
     "name": "stdout",
     "output_type": "stream",
     "text": [
      "Parameters: (False, True, 'hqic', 'mse', 5), MAPE: 0.12350132219416243\n"
     ]
    },
    {
     "name": "stderr",
     "output_type": "stream",
     "text": [
      "C:\\Users\\manue\\anaconda3\\envs\\TecnicasPrediccion\\lib\\site-packages\\pmdarima\\arima\\_validation.py:62: UserWarning: m (6) set for non-seasonal fit. Setting to 0\n",
      "  warnings.warn(\"m (%i) set for non-seasonal fit. Setting to 0\" % m)\n"
     ]
    },
    {
     "name": "stdout",
     "output_type": "stream",
     "text": [
      "Parameters: (False, True, 'hqic', 'mse', 6), MAPE: 0.12350132219416243\n"
     ]
    },
    {
     "name": "stderr",
     "output_type": "stream",
     "text": [
      "C:\\Users\\manue\\anaconda3\\envs\\TecnicasPrediccion\\lib\\site-packages\\pmdarima\\arima\\_validation.py:62: UserWarning: m (7) set for non-seasonal fit. Setting to 0\n",
      "  warnings.warn(\"m (%i) set for non-seasonal fit. Setting to 0\" % m)\n"
     ]
    },
    {
     "name": "stdout",
     "output_type": "stream",
     "text": [
      "Parameters: (False, True, 'hqic', 'mse', 7), MAPE: 0.12350132219416243\n"
     ]
    },
    {
     "name": "stderr",
     "output_type": "stream",
     "text": [
      "C:\\Users\\manue\\anaconda3\\envs\\TecnicasPrediccion\\lib\\site-packages\\pmdarima\\arima\\_validation.py:62: UserWarning: m (13) set for non-seasonal fit. Setting to 0\n",
      "  warnings.warn(\"m (%i) set for non-seasonal fit. Setting to 0\" % m)\n"
     ]
    },
    {
     "name": "stdout",
     "output_type": "stream",
     "text": [
      "Parameters: (False, True, 'hqic', 'mse', 13), MAPE: 0.12350132219416243\n"
     ]
    },
    {
     "name": "stderr",
     "output_type": "stream",
     "text": [
      "C:\\Users\\manue\\anaconda3\\envs\\TecnicasPrediccion\\lib\\site-packages\\pmdarima\\arima\\_validation.py:62: UserWarning: m (52) set for non-seasonal fit. Setting to 0\n",
      "  warnings.warn(\"m (%i) set for non-seasonal fit. Setting to 0\" % m)\n"
     ]
    },
    {
     "name": "stdout",
     "output_type": "stream",
     "text": [
      "Parameters: (False, True, 'hqic', 'mse', 52), MAPE: 0.12350132219416243\n"
     ]
    },
    {
     "name": "stderr",
     "output_type": "stream",
     "text": [
      "C:\\Users\\manue\\anaconda3\\envs\\TecnicasPrediccion\\lib\\site-packages\\pmdarima\\arima\\_validation.py:62: UserWarning: m (53) set for non-seasonal fit. Setting to 0\n",
      "  warnings.warn(\"m (%i) set for non-seasonal fit. Setting to 0\" % m)\n"
     ]
    },
    {
     "name": "stdout",
     "output_type": "stream",
     "text": [
      "Parameters: (False, True, 'hqic', 'mse', 53), MAPE: 0.12350132219416243\n"
     ]
    },
    {
     "name": "stderr",
     "output_type": "stream",
     "text": [
      "C:\\Users\\manue\\anaconda3\\envs\\TecnicasPrediccion\\lib\\site-packages\\pmdarima\\arima\\_validation.py:62: UserWarning: m (2) set for non-seasonal fit. Setting to 0\n",
      "  warnings.warn(\"m (%i) set for non-seasonal fit. Setting to 0\" % m)\n"
     ]
    },
    {
     "name": "stdout",
     "output_type": "stream",
     "text": [
      "Parameters: (False, True, 'hqic', 'mae', 2), MAPE: 0.12350132219416243\n"
     ]
    },
    {
     "name": "stderr",
     "output_type": "stream",
     "text": [
      "C:\\Users\\manue\\anaconda3\\envs\\TecnicasPrediccion\\lib\\site-packages\\pmdarima\\arima\\_validation.py:62: UserWarning: m (3) set for non-seasonal fit. Setting to 0\n",
      "  warnings.warn(\"m (%i) set for non-seasonal fit. Setting to 0\" % m)\n"
     ]
    },
    {
     "name": "stdout",
     "output_type": "stream",
     "text": [
      "Parameters: (False, True, 'hqic', 'mae', 3), MAPE: 0.12350132219416243\n"
     ]
    },
    {
     "name": "stderr",
     "output_type": "stream",
     "text": [
      "C:\\Users\\manue\\anaconda3\\envs\\TecnicasPrediccion\\lib\\site-packages\\pmdarima\\arima\\_validation.py:62: UserWarning: m (4) set for non-seasonal fit. Setting to 0\n",
      "  warnings.warn(\"m (%i) set for non-seasonal fit. Setting to 0\" % m)\n"
     ]
    },
    {
     "name": "stdout",
     "output_type": "stream",
     "text": [
      "Parameters: (False, True, 'hqic', 'mae', 4), MAPE: 0.12350132219416243\n"
     ]
    },
    {
     "name": "stderr",
     "output_type": "stream",
     "text": [
      "C:\\Users\\manue\\anaconda3\\envs\\TecnicasPrediccion\\lib\\site-packages\\pmdarima\\arima\\_validation.py:62: UserWarning: m (5) set for non-seasonal fit. Setting to 0\n",
      "  warnings.warn(\"m (%i) set for non-seasonal fit. Setting to 0\" % m)\n"
     ]
    },
    {
     "name": "stdout",
     "output_type": "stream",
     "text": [
      "Parameters: (False, True, 'hqic', 'mae', 5), MAPE: 0.12350132219416243\n"
     ]
    },
    {
     "name": "stderr",
     "output_type": "stream",
     "text": [
      "C:\\Users\\manue\\anaconda3\\envs\\TecnicasPrediccion\\lib\\site-packages\\pmdarima\\arima\\_validation.py:62: UserWarning: m (6) set for non-seasonal fit. Setting to 0\n",
      "  warnings.warn(\"m (%i) set for non-seasonal fit. Setting to 0\" % m)\n"
     ]
    },
    {
     "name": "stdout",
     "output_type": "stream",
     "text": [
      "Parameters: (False, True, 'hqic', 'mae', 6), MAPE: 0.12350132219416243\n"
     ]
    },
    {
     "name": "stderr",
     "output_type": "stream",
     "text": [
      "C:\\Users\\manue\\anaconda3\\envs\\TecnicasPrediccion\\lib\\site-packages\\pmdarima\\arima\\_validation.py:62: UserWarning: m (7) set for non-seasonal fit. Setting to 0\n",
      "  warnings.warn(\"m (%i) set for non-seasonal fit. Setting to 0\" % m)\n"
     ]
    },
    {
     "name": "stdout",
     "output_type": "stream",
     "text": [
      "Parameters: (False, True, 'hqic', 'mae', 7), MAPE: 0.12350132219416243\n"
     ]
    },
    {
     "name": "stderr",
     "output_type": "stream",
     "text": [
      "C:\\Users\\manue\\anaconda3\\envs\\TecnicasPrediccion\\lib\\site-packages\\pmdarima\\arima\\_validation.py:62: UserWarning: m (13) set for non-seasonal fit. Setting to 0\n",
      "  warnings.warn(\"m (%i) set for non-seasonal fit. Setting to 0\" % m)\n"
     ]
    },
    {
     "name": "stdout",
     "output_type": "stream",
     "text": [
      "Parameters: (False, True, 'hqic', 'mae', 13), MAPE: 0.12350132219416243\n"
     ]
    },
    {
     "name": "stderr",
     "output_type": "stream",
     "text": [
      "C:\\Users\\manue\\anaconda3\\envs\\TecnicasPrediccion\\lib\\site-packages\\pmdarima\\arima\\_validation.py:62: UserWarning: m (52) set for non-seasonal fit. Setting to 0\n",
      "  warnings.warn(\"m (%i) set for non-seasonal fit. Setting to 0\" % m)\n"
     ]
    },
    {
     "name": "stdout",
     "output_type": "stream",
     "text": [
      "Parameters: (False, True, 'hqic', 'mae', 52), MAPE: 0.12350132219416243\n"
     ]
    },
    {
     "name": "stderr",
     "output_type": "stream",
     "text": [
      "C:\\Users\\manue\\anaconda3\\envs\\TecnicasPrediccion\\lib\\site-packages\\pmdarima\\arima\\_validation.py:62: UserWarning: m (53) set for non-seasonal fit. Setting to 0\n",
      "  warnings.warn(\"m (%i) set for non-seasonal fit. Setting to 0\" % m)\n"
     ]
    },
    {
     "name": "stdout",
     "output_type": "stream",
     "text": [
      "Parameters: (False, True, 'hqic', 'mae', 53), MAPE: 0.12350132219416243\n"
     ]
    },
    {
     "name": "stderr",
     "output_type": "stream",
     "text": [
      "C:\\Users\\manue\\anaconda3\\envs\\TecnicasPrediccion\\lib\\site-packages\\pmdarima\\arima\\_validation.py:62: UserWarning: m (2) set for non-seasonal fit. Setting to 0\n",
      "  warnings.warn(\"m (%i) set for non-seasonal fit. Setting to 0\" % m)\n",
      "C:\\Users\\manue\\anaconda3\\envs\\TecnicasPrediccion\\lib\\site-packages\\pmdarima\\arima\\_validation.py:35: UserWarning: information_criterion cannot be 'oob' with out_of_sample_size = 0. Falling back to information criterion = aic.\n",
      "  warnings.warn('information_criterion cannot be \\'oob\\' with '\n"
     ]
    },
    {
     "name": "stdout",
     "output_type": "stream",
     "text": [
      "Parameters: (False, True, 'oob', 'mse', 2), MAPE: 0.10646701531010522\n"
     ]
    },
    {
     "name": "stderr",
     "output_type": "stream",
     "text": [
      "C:\\Users\\manue\\anaconda3\\envs\\TecnicasPrediccion\\lib\\site-packages\\pmdarima\\arima\\_validation.py:62: UserWarning: m (3) set for non-seasonal fit. Setting to 0\n",
      "  warnings.warn(\"m (%i) set for non-seasonal fit. Setting to 0\" % m)\n",
      "C:\\Users\\manue\\anaconda3\\envs\\TecnicasPrediccion\\lib\\site-packages\\pmdarima\\arima\\_validation.py:35: UserWarning: information_criterion cannot be 'oob' with out_of_sample_size = 0. Falling back to information criterion = aic.\n",
      "  warnings.warn('information_criterion cannot be \\'oob\\' with '\n"
     ]
    },
    {
     "name": "stdout",
     "output_type": "stream",
     "text": [
      "Parameters: (False, True, 'oob', 'mse', 3), MAPE: 0.10646701531010522\n"
     ]
    },
    {
     "name": "stderr",
     "output_type": "stream",
     "text": [
      "C:\\Users\\manue\\anaconda3\\envs\\TecnicasPrediccion\\lib\\site-packages\\pmdarima\\arima\\_validation.py:62: UserWarning: m (4) set for non-seasonal fit. Setting to 0\n",
      "  warnings.warn(\"m (%i) set for non-seasonal fit. Setting to 0\" % m)\n",
      "C:\\Users\\manue\\anaconda3\\envs\\TecnicasPrediccion\\lib\\site-packages\\pmdarima\\arima\\_validation.py:35: UserWarning: information_criterion cannot be 'oob' with out_of_sample_size = 0. Falling back to information criterion = aic.\n",
      "  warnings.warn('information_criterion cannot be \\'oob\\' with '\n"
     ]
    },
    {
     "name": "stdout",
     "output_type": "stream",
     "text": [
      "Parameters: (False, True, 'oob', 'mse', 4), MAPE: 0.10646701531010522\n"
     ]
    },
    {
     "name": "stderr",
     "output_type": "stream",
     "text": [
      "C:\\Users\\manue\\anaconda3\\envs\\TecnicasPrediccion\\lib\\site-packages\\pmdarima\\arima\\_validation.py:62: UserWarning: m (5) set for non-seasonal fit. Setting to 0\n",
      "  warnings.warn(\"m (%i) set for non-seasonal fit. Setting to 0\" % m)\n",
      "C:\\Users\\manue\\anaconda3\\envs\\TecnicasPrediccion\\lib\\site-packages\\pmdarima\\arima\\_validation.py:35: UserWarning: information_criterion cannot be 'oob' with out_of_sample_size = 0. Falling back to information criterion = aic.\n",
      "  warnings.warn('information_criterion cannot be \\'oob\\' with '\n"
     ]
    },
    {
     "name": "stdout",
     "output_type": "stream",
     "text": [
      "Parameters: (False, True, 'oob', 'mse', 5), MAPE: 0.10646701531010522\n"
     ]
    },
    {
     "name": "stderr",
     "output_type": "stream",
     "text": [
      "C:\\Users\\manue\\anaconda3\\envs\\TecnicasPrediccion\\lib\\site-packages\\pmdarima\\arima\\_validation.py:62: UserWarning: m (6) set for non-seasonal fit. Setting to 0\n",
      "  warnings.warn(\"m (%i) set for non-seasonal fit. Setting to 0\" % m)\n",
      "C:\\Users\\manue\\anaconda3\\envs\\TecnicasPrediccion\\lib\\site-packages\\pmdarima\\arima\\_validation.py:35: UserWarning: information_criterion cannot be 'oob' with out_of_sample_size = 0. Falling back to information criterion = aic.\n",
      "  warnings.warn('information_criterion cannot be \\'oob\\' with '\n"
     ]
    },
    {
     "name": "stdout",
     "output_type": "stream",
     "text": [
      "Parameters: (False, True, 'oob', 'mse', 6), MAPE: 0.10646701531010522\n"
     ]
    },
    {
     "name": "stderr",
     "output_type": "stream",
     "text": [
      "C:\\Users\\manue\\anaconda3\\envs\\TecnicasPrediccion\\lib\\site-packages\\pmdarima\\arima\\_validation.py:62: UserWarning: m (7) set for non-seasonal fit. Setting to 0\n",
      "  warnings.warn(\"m (%i) set for non-seasonal fit. Setting to 0\" % m)\n",
      "C:\\Users\\manue\\anaconda3\\envs\\TecnicasPrediccion\\lib\\site-packages\\pmdarima\\arima\\_validation.py:35: UserWarning: information_criterion cannot be 'oob' with out_of_sample_size = 0. Falling back to information criterion = aic.\n",
      "  warnings.warn('information_criterion cannot be \\'oob\\' with '\n"
     ]
    },
    {
     "name": "stdout",
     "output_type": "stream",
     "text": [
      "Parameters: (False, True, 'oob', 'mse', 7), MAPE: 0.10646701531010522\n"
     ]
    },
    {
     "name": "stderr",
     "output_type": "stream",
     "text": [
      "C:\\Users\\manue\\anaconda3\\envs\\TecnicasPrediccion\\lib\\site-packages\\pmdarima\\arima\\_validation.py:62: UserWarning: m (13) set for non-seasonal fit. Setting to 0\n",
      "  warnings.warn(\"m (%i) set for non-seasonal fit. Setting to 0\" % m)\n",
      "C:\\Users\\manue\\anaconda3\\envs\\TecnicasPrediccion\\lib\\site-packages\\pmdarima\\arima\\_validation.py:35: UserWarning: information_criterion cannot be 'oob' with out_of_sample_size = 0. Falling back to information criterion = aic.\n",
      "  warnings.warn('information_criterion cannot be \\'oob\\' with '\n"
     ]
    },
    {
     "name": "stdout",
     "output_type": "stream",
     "text": [
      "Parameters: (False, True, 'oob', 'mse', 13), MAPE: 0.10646701531010522\n"
     ]
    },
    {
     "name": "stderr",
     "output_type": "stream",
     "text": [
      "C:\\Users\\manue\\anaconda3\\envs\\TecnicasPrediccion\\lib\\site-packages\\pmdarima\\arima\\_validation.py:62: UserWarning: m (52) set for non-seasonal fit. Setting to 0\n",
      "  warnings.warn(\"m (%i) set for non-seasonal fit. Setting to 0\" % m)\n",
      "C:\\Users\\manue\\anaconda3\\envs\\TecnicasPrediccion\\lib\\site-packages\\pmdarima\\arima\\_validation.py:35: UserWarning: information_criterion cannot be 'oob' with out_of_sample_size = 0. Falling back to information criterion = aic.\n",
      "  warnings.warn('information_criterion cannot be \\'oob\\' with '\n"
     ]
    },
    {
     "name": "stdout",
     "output_type": "stream",
     "text": [
      "Parameters: (False, True, 'oob', 'mse', 52), MAPE: 0.10646701531010522\n"
     ]
    },
    {
     "name": "stderr",
     "output_type": "stream",
     "text": [
      "C:\\Users\\manue\\anaconda3\\envs\\TecnicasPrediccion\\lib\\site-packages\\pmdarima\\arima\\_validation.py:62: UserWarning: m (53) set for non-seasonal fit. Setting to 0\n",
      "  warnings.warn(\"m (%i) set for non-seasonal fit. Setting to 0\" % m)\n",
      "C:\\Users\\manue\\anaconda3\\envs\\TecnicasPrediccion\\lib\\site-packages\\pmdarima\\arima\\_validation.py:35: UserWarning: information_criterion cannot be 'oob' with out_of_sample_size = 0. Falling back to information criterion = aic.\n",
      "  warnings.warn('information_criterion cannot be \\'oob\\' with '\n"
     ]
    },
    {
     "name": "stdout",
     "output_type": "stream",
     "text": [
      "Parameters: (False, True, 'oob', 'mse', 53), MAPE: 0.10646701531010522\n"
     ]
    },
    {
     "name": "stderr",
     "output_type": "stream",
     "text": [
      "C:\\Users\\manue\\anaconda3\\envs\\TecnicasPrediccion\\lib\\site-packages\\pmdarima\\arima\\_validation.py:62: UserWarning: m (2) set for non-seasonal fit. Setting to 0\n",
      "  warnings.warn(\"m (%i) set for non-seasonal fit. Setting to 0\" % m)\n",
      "C:\\Users\\manue\\anaconda3\\envs\\TecnicasPrediccion\\lib\\site-packages\\pmdarima\\arima\\_validation.py:35: UserWarning: information_criterion cannot be 'oob' with out_of_sample_size = 0. Falling back to information criterion = aic.\n",
      "  warnings.warn('information_criterion cannot be \\'oob\\' with '\n"
     ]
    },
    {
     "name": "stdout",
     "output_type": "stream",
     "text": [
      "Parameters: (False, True, 'oob', 'mae', 2), MAPE: 0.10646701531010522\n"
     ]
    },
    {
     "name": "stderr",
     "output_type": "stream",
     "text": [
      "C:\\Users\\manue\\anaconda3\\envs\\TecnicasPrediccion\\lib\\site-packages\\pmdarima\\arima\\_validation.py:62: UserWarning: m (3) set for non-seasonal fit. Setting to 0\n",
      "  warnings.warn(\"m (%i) set for non-seasonal fit. Setting to 0\" % m)\n",
      "C:\\Users\\manue\\anaconda3\\envs\\TecnicasPrediccion\\lib\\site-packages\\pmdarima\\arima\\_validation.py:35: UserWarning: information_criterion cannot be 'oob' with out_of_sample_size = 0. Falling back to information criterion = aic.\n",
      "  warnings.warn('information_criterion cannot be \\'oob\\' with '\n"
     ]
    },
    {
     "name": "stdout",
     "output_type": "stream",
     "text": [
      "Parameters: (False, True, 'oob', 'mae', 3), MAPE: 0.10646701531010522\n"
     ]
    },
    {
     "name": "stderr",
     "output_type": "stream",
     "text": [
      "C:\\Users\\manue\\anaconda3\\envs\\TecnicasPrediccion\\lib\\site-packages\\pmdarima\\arima\\_validation.py:62: UserWarning: m (4) set for non-seasonal fit. Setting to 0\n",
      "  warnings.warn(\"m (%i) set for non-seasonal fit. Setting to 0\" % m)\n",
      "C:\\Users\\manue\\anaconda3\\envs\\TecnicasPrediccion\\lib\\site-packages\\pmdarima\\arima\\_validation.py:35: UserWarning: information_criterion cannot be 'oob' with out_of_sample_size = 0. Falling back to information criterion = aic.\n",
      "  warnings.warn('information_criterion cannot be \\'oob\\' with '\n"
     ]
    },
    {
     "name": "stdout",
     "output_type": "stream",
     "text": [
      "Parameters: (False, True, 'oob', 'mae', 4), MAPE: 0.10646701531010522\n"
     ]
    },
    {
     "name": "stderr",
     "output_type": "stream",
     "text": [
      "C:\\Users\\manue\\anaconda3\\envs\\TecnicasPrediccion\\lib\\site-packages\\pmdarima\\arima\\_validation.py:62: UserWarning: m (5) set for non-seasonal fit. Setting to 0\n",
      "  warnings.warn(\"m (%i) set for non-seasonal fit. Setting to 0\" % m)\n",
      "C:\\Users\\manue\\anaconda3\\envs\\TecnicasPrediccion\\lib\\site-packages\\pmdarima\\arima\\_validation.py:35: UserWarning: information_criterion cannot be 'oob' with out_of_sample_size = 0. Falling back to information criterion = aic.\n",
      "  warnings.warn('information_criterion cannot be \\'oob\\' with '\n"
     ]
    },
    {
     "name": "stdout",
     "output_type": "stream",
     "text": [
      "Parameters: (False, True, 'oob', 'mae', 5), MAPE: 0.10646701531010522\n"
     ]
    },
    {
     "name": "stderr",
     "output_type": "stream",
     "text": [
      "C:\\Users\\manue\\anaconda3\\envs\\TecnicasPrediccion\\lib\\site-packages\\pmdarima\\arima\\_validation.py:62: UserWarning: m (6) set for non-seasonal fit. Setting to 0\n",
      "  warnings.warn(\"m (%i) set for non-seasonal fit. Setting to 0\" % m)\n",
      "C:\\Users\\manue\\anaconda3\\envs\\TecnicasPrediccion\\lib\\site-packages\\pmdarima\\arima\\_validation.py:35: UserWarning: information_criterion cannot be 'oob' with out_of_sample_size = 0. Falling back to information criterion = aic.\n",
      "  warnings.warn('information_criterion cannot be \\'oob\\' with '\n"
     ]
    },
    {
     "name": "stdout",
     "output_type": "stream",
     "text": [
      "Parameters: (False, True, 'oob', 'mae', 6), MAPE: 0.10646701531010522\n"
     ]
    },
    {
     "name": "stderr",
     "output_type": "stream",
     "text": [
      "C:\\Users\\manue\\anaconda3\\envs\\TecnicasPrediccion\\lib\\site-packages\\pmdarima\\arima\\_validation.py:62: UserWarning: m (7) set for non-seasonal fit. Setting to 0\n",
      "  warnings.warn(\"m (%i) set for non-seasonal fit. Setting to 0\" % m)\n",
      "C:\\Users\\manue\\anaconda3\\envs\\TecnicasPrediccion\\lib\\site-packages\\pmdarima\\arima\\_validation.py:35: UserWarning: information_criterion cannot be 'oob' with out_of_sample_size = 0. Falling back to information criterion = aic.\n",
      "  warnings.warn('information_criterion cannot be \\'oob\\' with '\n"
     ]
    },
    {
     "name": "stdout",
     "output_type": "stream",
     "text": [
      "Parameters: (False, True, 'oob', 'mae', 7), MAPE: 0.10646701531010522\n"
     ]
    },
    {
     "name": "stderr",
     "output_type": "stream",
     "text": [
      "C:\\Users\\manue\\anaconda3\\envs\\TecnicasPrediccion\\lib\\site-packages\\pmdarima\\arima\\_validation.py:62: UserWarning: m (13) set for non-seasonal fit. Setting to 0\n",
      "  warnings.warn(\"m (%i) set for non-seasonal fit. Setting to 0\" % m)\n",
      "C:\\Users\\manue\\anaconda3\\envs\\TecnicasPrediccion\\lib\\site-packages\\pmdarima\\arima\\_validation.py:35: UserWarning: information_criterion cannot be 'oob' with out_of_sample_size = 0. Falling back to information criterion = aic.\n",
      "  warnings.warn('information_criterion cannot be \\'oob\\' with '\n"
     ]
    },
    {
     "name": "stdout",
     "output_type": "stream",
     "text": [
      "Parameters: (False, True, 'oob', 'mae', 13), MAPE: 0.10646701531010522\n"
     ]
    },
    {
     "name": "stderr",
     "output_type": "stream",
     "text": [
      "C:\\Users\\manue\\anaconda3\\envs\\TecnicasPrediccion\\lib\\site-packages\\pmdarima\\arima\\_validation.py:62: UserWarning: m (52) set for non-seasonal fit. Setting to 0\n",
      "  warnings.warn(\"m (%i) set for non-seasonal fit. Setting to 0\" % m)\n",
      "C:\\Users\\manue\\anaconda3\\envs\\TecnicasPrediccion\\lib\\site-packages\\pmdarima\\arima\\_validation.py:35: UserWarning: information_criterion cannot be 'oob' with out_of_sample_size = 0. Falling back to information criterion = aic.\n",
      "  warnings.warn('information_criterion cannot be \\'oob\\' with '\n"
     ]
    },
    {
     "name": "stdout",
     "output_type": "stream",
     "text": [
      "Parameters: (False, True, 'oob', 'mae', 52), MAPE: 0.10646701531010522\n"
     ]
    },
    {
     "name": "stderr",
     "output_type": "stream",
     "text": [
      "C:\\Users\\manue\\anaconda3\\envs\\TecnicasPrediccion\\lib\\site-packages\\pmdarima\\arima\\_validation.py:62: UserWarning: m (53) set for non-seasonal fit. Setting to 0\n",
      "  warnings.warn(\"m (%i) set for non-seasonal fit. Setting to 0\" % m)\n",
      "C:\\Users\\manue\\anaconda3\\envs\\TecnicasPrediccion\\lib\\site-packages\\pmdarima\\arima\\_validation.py:35: UserWarning: information_criterion cannot be 'oob' with out_of_sample_size = 0. Falling back to information criterion = aic.\n",
      "  warnings.warn('information_criterion cannot be \\'oob\\' with '\n"
     ]
    },
    {
     "name": "stdout",
     "output_type": "stream",
     "text": [
      "Parameters: (False, True, 'oob', 'mae', 53), MAPE: 0.10646701531010522\n"
     ]
    },
    {
     "name": "stderr",
     "output_type": "stream",
     "text": [
      "C:\\Users\\manue\\anaconda3\\envs\\TecnicasPrediccion\\lib\\site-packages\\pmdarima\\arima\\_validation.py:62: UserWarning: m (2) set for non-seasonal fit. Setting to 0\n",
      "  warnings.warn(\"m (%i) set for non-seasonal fit. Setting to 0\" % m)\n"
     ]
    },
    {
     "name": "stdout",
     "output_type": "stream",
     "text": [
      "Parameters: (False, False, 'aic', 'mse', 2), MAPE: 0.08613343086193079\n"
     ]
    },
    {
     "name": "stderr",
     "output_type": "stream",
     "text": [
      "C:\\Users\\manue\\anaconda3\\envs\\TecnicasPrediccion\\lib\\site-packages\\pmdarima\\arima\\_validation.py:62: UserWarning: m (3) set for non-seasonal fit. Setting to 0\n",
      "  warnings.warn(\"m (%i) set for non-seasonal fit. Setting to 0\" % m)\n"
     ]
    },
    {
     "name": "stdout",
     "output_type": "stream",
     "text": [
      "Parameters: (False, False, 'aic', 'mse', 3), MAPE: 0.08613343086193079\n"
     ]
    },
    {
     "name": "stderr",
     "output_type": "stream",
     "text": [
      "C:\\Users\\manue\\anaconda3\\envs\\TecnicasPrediccion\\lib\\site-packages\\pmdarima\\arima\\_validation.py:62: UserWarning: m (4) set for non-seasonal fit. Setting to 0\n",
      "  warnings.warn(\"m (%i) set for non-seasonal fit. Setting to 0\" % m)\n"
     ]
    },
    {
     "name": "stdout",
     "output_type": "stream",
     "text": [
      "Parameters: (False, False, 'aic', 'mse', 4), MAPE: 0.08613343086193079\n"
     ]
    },
    {
     "name": "stderr",
     "output_type": "stream",
     "text": [
      "C:\\Users\\manue\\anaconda3\\envs\\TecnicasPrediccion\\lib\\site-packages\\pmdarima\\arima\\_validation.py:62: UserWarning: m (5) set for non-seasonal fit. Setting to 0\n",
      "  warnings.warn(\"m (%i) set for non-seasonal fit. Setting to 0\" % m)\n"
     ]
    },
    {
     "name": "stdout",
     "output_type": "stream",
     "text": [
      "Parameters: (False, False, 'aic', 'mse', 5), MAPE: 0.08613343086193079\n"
     ]
    },
    {
     "name": "stderr",
     "output_type": "stream",
     "text": [
      "C:\\Users\\manue\\anaconda3\\envs\\TecnicasPrediccion\\lib\\site-packages\\pmdarima\\arima\\_validation.py:62: UserWarning: m (6) set for non-seasonal fit. Setting to 0\n",
      "  warnings.warn(\"m (%i) set for non-seasonal fit. Setting to 0\" % m)\n"
     ]
    },
    {
     "name": "stdout",
     "output_type": "stream",
     "text": [
      "Parameters: (False, False, 'aic', 'mse', 6), MAPE: 0.08613343086193079\n"
     ]
    },
    {
     "name": "stderr",
     "output_type": "stream",
     "text": [
      "C:\\Users\\manue\\anaconda3\\envs\\TecnicasPrediccion\\lib\\site-packages\\pmdarima\\arima\\_validation.py:62: UserWarning: m (7) set for non-seasonal fit. Setting to 0\n",
      "  warnings.warn(\"m (%i) set for non-seasonal fit. Setting to 0\" % m)\n"
     ]
    },
    {
     "name": "stdout",
     "output_type": "stream",
     "text": [
      "Parameters: (False, False, 'aic', 'mse', 7), MAPE: 0.08613343086193079\n"
     ]
    },
    {
     "name": "stderr",
     "output_type": "stream",
     "text": [
      "C:\\Users\\manue\\anaconda3\\envs\\TecnicasPrediccion\\lib\\site-packages\\pmdarima\\arima\\_validation.py:62: UserWarning: m (13) set for non-seasonal fit. Setting to 0\n",
      "  warnings.warn(\"m (%i) set for non-seasonal fit. Setting to 0\" % m)\n"
     ]
    },
    {
     "name": "stdout",
     "output_type": "stream",
     "text": [
      "Parameters: (False, False, 'aic', 'mse', 13), MAPE: 0.08613343086193079\n"
     ]
    },
    {
     "name": "stderr",
     "output_type": "stream",
     "text": [
      "C:\\Users\\manue\\anaconda3\\envs\\TecnicasPrediccion\\lib\\site-packages\\pmdarima\\arima\\_validation.py:62: UserWarning: m (52) set for non-seasonal fit. Setting to 0\n",
      "  warnings.warn(\"m (%i) set for non-seasonal fit. Setting to 0\" % m)\n"
     ]
    },
    {
     "name": "stdout",
     "output_type": "stream",
     "text": [
      "Parameters: (False, False, 'aic', 'mse', 52), MAPE: 0.08613343086193079\n"
     ]
    },
    {
     "name": "stderr",
     "output_type": "stream",
     "text": [
      "C:\\Users\\manue\\anaconda3\\envs\\TecnicasPrediccion\\lib\\site-packages\\pmdarima\\arima\\_validation.py:62: UserWarning: m (53) set for non-seasonal fit. Setting to 0\n",
      "  warnings.warn(\"m (%i) set for non-seasonal fit. Setting to 0\" % m)\n"
     ]
    },
    {
     "name": "stdout",
     "output_type": "stream",
     "text": [
      "Parameters: (False, False, 'aic', 'mse', 53), MAPE: 0.08613343086193079\n"
     ]
    },
    {
     "name": "stderr",
     "output_type": "stream",
     "text": [
      "C:\\Users\\manue\\anaconda3\\envs\\TecnicasPrediccion\\lib\\site-packages\\pmdarima\\arima\\_validation.py:62: UserWarning: m (2) set for non-seasonal fit. Setting to 0\n",
      "  warnings.warn(\"m (%i) set for non-seasonal fit. Setting to 0\" % m)\n"
     ]
    },
    {
     "name": "stdout",
     "output_type": "stream",
     "text": [
      "Parameters: (False, False, 'aic', 'mae', 2), MAPE: 0.08613343086193079\n"
     ]
    },
    {
     "name": "stderr",
     "output_type": "stream",
     "text": [
      "C:\\Users\\manue\\anaconda3\\envs\\TecnicasPrediccion\\lib\\site-packages\\pmdarima\\arima\\_validation.py:62: UserWarning: m (3) set for non-seasonal fit. Setting to 0\n",
      "  warnings.warn(\"m (%i) set for non-seasonal fit. Setting to 0\" % m)\n"
     ]
    },
    {
     "name": "stdout",
     "output_type": "stream",
     "text": [
      "Parameters: (False, False, 'aic', 'mae', 3), MAPE: 0.08613343086193079\n"
     ]
    },
    {
     "name": "stderr",
     "output_type": "stream",
     "text": [
      "C:\\Users\\manue\\anaconda3\\envs\\TecnicasPrediccion\\lib\\site-packages\\pmdarima\\arima\\_validation.py:62: UserWarning: m (4) set for non-seasonal fit. Setting to 0\n",
      "  warnings.warn(\"m (%i) set for non-seasonal fit. Setting to 0\" % m)\n"
     ]
    },
    {
     "name": "stdout",
     "output_type": "stream",
     "text": [
      "Parameters: (False, False, 'aic', 'mae', 4), MAPE: 0.08613343086193079\n"
     ]
    },
    {
     "name": "stderr",
     "output_type": "stream",
     "text": [
      "C:\\Users\\manue\\anaconda3\\envs\\TecnicasPrediccion\\lib\\site-packages\\pmdarima\\arima\\_validation.py:62: UserWarning: m (5) set for non-seasonal fit. Setting to 0\n",
      "  warnings.warn(\"m (%i) set for non-seasonal fit. Setting to 0\" % m)\n"
     ]
    },
    {
     "name": "stdout",
     "output_type": "stream",
     "text": [
      "Parameters: (False, False, 'aic', 'mae', 5), MAPE: 0.08613343086193079\n"
     ]
    },
    {
     "name": "stderr",
     "output_type": "stream",
     "text": [
      "C:\\Users\\manue\\anaconda3\\envs\\TecnicasPrediccion\\lib\\site-packages\\pmdarima\\arima\\_validation.py:62: UserWarning: m (6) set for non-seasonal fit. Setting to 0\n",
      "  warnings.warn(\"m (%i) set for non-seasonal fit. Setting to 0\" % m)\n"
     ]
    },
    {
     "name": "stdout",
     "output_type": "stream",
     "text": [
      "Parameters: (False, False, 'aic', 'mae', 6), MAPE: 0.08613343086193079\n"
     ]
    },
    {
     "name": "stderr",
     "output_type": "stream",
     "text": [
      "C:\\Users\\manue\\anaconda3\\envs\\TecnicasPrediccion\\lib\\site-packages\\pmdarima\\arima\\_validation.py:62: UserWarning: m (7) set for non-seasonal fit. Setting to 0\n",
      "  warnings.warn(\"m (%i) set for non-seasonal fit. Setting to 0\" % m)\n"
     ]
    },
    {
     "name": "stdout",
     "output_type": "stream",
     "text": [
      "Parameters: (False, False, 'aic', 'mae', 7), MAPE: 0.08613343086193079\n"
     ]
    },
    {
     "name": "stderr",
     "output_type": "stream",
     "text": [
      "C:\\Users\\manue\\anaconda3\\envs\\TecnicasPrediccion\\lib\\site-packages\\pmdarima\\arima\\_validation.py:62: UserWarning: m (13) set for non-seasonal fit. Setting to 0\n",
      "  warnings.warn(\"m (%i) set for non-seasonal fit. Setting to 0\" % m)\n"
     ]
    },
    {
     "name": "stdout",
     "output_type": "stream",
     "text": [
      "Parameters: (False, False, 'aic', 'mae', 13), MAPE: 0.08613343086193079\n"
     ]
    },
    {
     "name": "stderr",
     "output_type": "stream",
     "text": [
      "C:\\Users\\manue\\anaconda3\\envs\\TecnicasPrediccion\\lib\\site-packages\\pmdarima\\arima\\_validation.py:62: UserWarning: m (52) set for non-seasonal fit. Setting to 0\n",
      "  warnings.warn(\"m (%i) set for non-seasonal fit. Setting to 0\" % m)\n"
     ]
    },
    {
     "name": "stdout",
     "output_type": "stream",
     "text": [
      "Parameters: (False, False, 'aic', 'mae', 52), MAPE: 0.08613343086193079\n"
     ]
    },
    {
     "name": "stderr",
     "output_type": "stream",
     "text": [
      "C:\\Users\\manue\\anaconda3\\envs\\TecnicasPrediccion\\lib\\site-packages\\pmdarima\\arima\\_validation.py:62: UserWarning: m (53) set for non-seasonal fit. Setting to 0\n",
      "  warnings.warn(\"m (%i) set for non-seasonal fit. Setting to 0\" % m)\n"
     ]
    },
    {
     "name": "stdout",
     "output_type": "stream",
     "text": [
      "Parameters: (False, False, 'aic', 'mae', 53), MAPE: 0.08613343086193079\n"
     ]
    },
    {
     "name": "stderr",
     "output_type": "stream",
     "text": [
      "C:\\Users\\manue\\anaconda3\\envs\\TecnicasPrediccion\\lib\\site-packages\\pmdarima\\arima\\_validation.py:62: UserWarning: m (2) set for non-seasonal fit. Setting to 0\n",
      "  warnings.warn(\"m (%i) set for non-seasonal fit. Setting to 0\" % m)\n"
     ]
    },
    {
     "name": "stdout",
     "output_type": "stream",
     "text": [
      "Parameters: (False, False, 'bic', 'mse', 2), MAPE: 0.08613343086193079\n"
     ]
    },
    {
     "name": "stderr",
     "output_type": "stream",
     "text": [
      "C:\\Users\\manue\\anaconda3\\envs\\TecnicasPrediccion\\lib\\site-packages\\pmdarima\\arima\\_validation.py:62: UserWarning: m (3) set for non-seasonal fit. Setting to 0\n",
      "  warnings.warn(\"m (%i) set for non-seasonal fit. Setting to 0\" % m)\n"
     ]
    },
    {
     "name": "stdout",
     "output_type": "stream",
     "text": [
      "Parameters: (False, False, 'bic', 'mse', 3), MAPE: 0.08613343086193079\n"
     ]
    },
    {
     "name": "stderr",
     "output_type": "stream",
     "text": [
      "C:\\Users\\manue\\anaconda3\\envs\\TecnicasPrediccion\\lib\\site-packages\\pmdarima\\arima\\_validation.py:62: UserWarning: m (4) set for non-seasonal fit. Setting to 0\n",
      "  warnings.warn(\"m (%i) set for non-seasonal fit. Setting to 0\" % m)\n"
     ]
    },
    {
     "name": "stdout",
     "output_type": "stream",
     "text": [
      "Parameters: (False, False, 'bic', 'mse', 4), MAPE: 0.08613343086193079\n"
     ]
    },
    {
     "name": "stderr",
     "output_type": "stream",
     "text": [
      "C:\\Users\\manue\\anaconda3\\envs\\TecnicasPrediccion\\lib\\site-packages\\pmdarima\\arima\\_validation.py:62: UserWarning: m (5) set for non-seasonal fit. Setting to 0\n",
      "  warnings.warn(\"m (%i) set for non-seasonal fit. Setting to 0\" % m)\n"
     ]
    },
    {
     "name": "stdout",
     "output_type": "stream",
     "text": [
      "Parameters: (False, False, 'bic', 'mse', 5), MAPE: 0.08613343086193079\n"
     ]
    },
    {
     "name": "stderr",
     "output_type": "stream",
     "text": [
      "C:\\Users\\manue\\anaconda3\\envs\\TecnicasPrediccion\\lib\\site-packages\\pmdarima\\arima\\_validation.py:62: UserWarning: m (6) set for non-seasonal fit. Setting to 0\n",
      "  warnings.warn(\"m (%i) set for non-seasonal fit. Setting to 0\" % m)\n"
     ]
    },
    {
     "name": "stdout",
     "output_type": "stream",
     "text": [
      "Parameters: (False, False, 'bic', 'mse', 6), MAPE: 0.08613343086193079\n"
     ]
    },
    {
     "name": "stderr",
     "output_type": "stream",
     "text": [
      "C:\\Users\\manue\\anaconda3\\envs\\TecnicasPrediccion\\lib\\site-packages\\pmdarima\\arima\\_validation.py:62: UserWarning: m (7) set for non-seasonal fit. Setting to 0\n",
      "  warnings.warn(\"m (%i) set for non-seasonal fit. Setting to 0\" % m)\n"
     ]
    },
    {
     "name": "stdout",
     "output_type": "stream",
     "text": [
      "Parameters: (False, False, 'bic', 'mse', 7), MAPE: 0.08613343086193079\n"
     ]
    },
    {
     "name": "stderr",
     "output_type": "stream",
     "text": [
      "C:\\Users\\manue\\anaconda3\\envs\\TecnicasPrediccion\\lib\\site-packages\\pmdarima\\arima\\_validation.py:62: UserWarning: m (13) set for non-seasonal fit. Setting to 0\n",
      "  warnings.warn(\"m (%i) set for non-seasonal fit. Setting to 0\" % m)\n"
     ]
    },
    {
     "name": "stdout",
     "output_type": "stream",
     "text": [
      "Parameters: (False, False, 'bic', 'mse', 13), MAPE: 0.08613343086193079\n"
     ]
    },
    {
     "name": "stderr",
     "output_type": "stream",
     "text": [
      "C:\\Users\\manue\\anaconda3\\envs\\TecnicasPrediccion\\lib\\site-packages\\pmdarima\\arima\\_validation.py:62: UserWarning: m (52) set for non-seasonal fit. Setting to 0\n",
      "  warnings.warn(\"m (%i) set for non-seasonal fit. Setting to 0\" % m)\n"
     ]
    },
    {
     "name": "stdout",
     "output_type": "stream",
     "text": [
      "Parameters: (False, False, 'bic', 'mse', 52), MAPE: 0.08613343086193079\n"
     ]
    },
    {
     "name": "stderr",
     "output_type": "stream",
     "text": [
      "C:\\Users\\manue\\anaconda3\\envs\\TecnicasPrediccion\\lib\\site-packages\\pmdarima\\arima\\_validation.py:62: UserWarning: m (53) set for non-seasonal fit. Setting to 0\n",
      "  warnings.warn(\"m (%i) set for non-seasonal fit. Setting to 0\" % m)\n"
     ]
    },
    {
     "name": "stdout",
     "output_type": "stream",
     "text": [
      "Parameters: (False, False, 'bic', 'mse', 53), MAPE: 0.08613343086193079\n"
     ]
    },
    {
     "name": "stderr",
     "output_type": "stream",
     "text": [
      "C:\\Users\\manue\\anaconda3\\envs\\TecnicasPrediccion\\lib\\site-packages\\pmdarima\\arima\\_validation.py:62: UserWarning: m (2) set for non-seasonal fit. Setting to 0\n",
      "  warnings.warn(\"m (%i) set for non-seasonal fit. Setting to 0\" % m)\n"
     ]
    },
    {
     "name": "stdout",
     "output_type": "stream",
     "text": [
      "Parameters: (False, False, 'bic', 'mae', 2), MAPE: 0.08613343086193079\n"
     ]
    },
    {
     "name": "stderr",
     "output_type": "stream",
     "text": [
      "C:\\Users\\manue\\anaconda3\\envs\\TecnicasPrediccion\\lib\\site-packages\\pmdarima\\arima\\_validation.py:62: UserWarning: m (3) set for non-seasonal fit. Setting to 0\n",
      "  warnings.warn(\"m (%i) set for non-seasonal fit. Setting to 0\" % m)\n"
     ]
    },
    {
     "name": "stdout",
     "output_type": "stream",
     "text": [
      "Parameters: (False, False, 'bic', 'mae', 3), MAPE: 0.08613343086193079\n"
     ]
    },
    {
     "name": "stderr",
     "output_type": "stream",
     "text": [
      "C:\\Users\\manue\\anaconda3\\envs\\TecnicasPrediccion\\lib\\site-packages\\pmdarima\\arima\\_validation.py:62: UserWarning: m (4) set for non-seasonal fit. Setting to 0\n",
      "  warnings.warn(\"m (%i) set for non-seasonal fit. Setting to 0\" % m)\n"
     ]
    },
    {
     "name": "stdout",
     "output_type": "stream",
     "text": [
      "Parameters: (False, False, 'bic', 'mae', 4), MAPE: 0.08613343086193079\n"
     ]
    },
    {
     "name": "stderr",
     "output_type": "stream",
     "text": [
      "C:\\Users\\manue\\anaconda3\\envs\\TecnicasPrediccion\\lib\\site-packages\\pmdarima\\arima\\_validation.py:62: UserWarning: m (5) set for non-seasonal fit. Setting to 0\n",
      "  warnings.warn(\"m (%i) set for non-seasonal fit. Setting to 0\" % m)\n"
     ]
    },
    {
     "name": "stdout",
     "output_type": "stream",
     "text": [
      "Parameters: (False, False, 'bic', 'mae', 5), MAPE: 0.08613343086193079\n"
     ]
    },
    {
     "name": "stderr",
     "output_type": "stream",
     "text": [
      "C:\\Users\\manue\\anaconda3\\envs\\TecnicasPrediccion\\lib\\site-packages\\pmdarima\\arima\\_validation.py:62: UserWarning: m (6) set for non-seasonal fit. Setting to 0\n",
      "  warnings.warn(\"m (%i) set for non-seasonal fit. Setting to 0\" % m)\n"
     ]
    },
    {
     "name": "stdout",
     "output_type": "stream",
     "text": [
      "Parameters: (False, False, 'bic', 'mae', 6), MAPE: 0.08613343086193079\n"
     ]
    },
    {
     "name": "stderr",
     "output_type": "stream",
     "text": [
      "C:\\Users\\manue\\anaconda3\\envs\\TecnicasPrediccion\\lib\\site-packages\\pmdarima\\arima\\_validation.py:62: UserWarning: m (7) set for non-seasonal fit. Setting to 0\n",
      "  warnings.warn(\"m (%i) set for non-seasonal fit. Setting to 0\" % m)\n"
     ]
    },
    {
     "name": "stdout",
     "output_type": "stream",
     "text": [
      "Parameters: (False, False, 'bic', 'mae', 7), MAPE: 0.08613343086193079\n"
     ]
    },
    {
     "name": "stderr",
     "output_type": "stream",
     "text": [
      "C:\\Users\\manue\\anaconda3\\envs\\TecnicasPrediccion\\lib\\site-packages\\pmdarima\\arima\\_validation.py:62: UserWarning: m (13) set for non-seasonal fit. Setting to 0\n",
      "  warnings.warn(\"m (%i) set for non-seasonal fit. Setting to 0\" % m)\n"
     ]
    },
    {
     "name": "stdout",
     "output_type": "stream",
     "text": [
      "Parameters: (False, False, 'bic', 'mae', 13), MAPE: 0.08613343086193079\n"
     ]
    },
    {
     "name": "stderr",
     "output_type": "stream",
     "text": [
      "C:\\Users\\manue\\anaconda3\\envs\\TecnicasPrediccion\\lib\\site-packages\\pmdarima\\arima\\_validation.py:62: UserWarning: m (52) set for non-seasonal fit. Setting to 0\n",
      "  warnings.warn(\"m (%i) set for non-seasonal fit. Setting to 0\" % m)\n"
     ]
    },
    {
     "name": "stdout",
     "output_type": "stream",
     "text": [
      "Parameters: (False, False, 'bic', 'mae', 52), MAPE: 0.08613343086193079\n"
     ]
    },
    {
     "name": "stderr",
     "output_type": "stream",
     "text": [
      "C:\\Users\\manue\\anaconda3\\envs\\TecnicasPrediccion\\lib\\site-packages\\pmdarima\\arima\\_validation.py:62: UserWarning: m (53) set for non-seasonal fit. Setting to 0\n",
      "  warnings.warn(\"m (%i) set for non-seasonal fit. Setting to 0\" % m)\n"
     ]
    },
    {
     "name": "stdout",
     "output_type": "stream",
     "text": [
      "Parameters: (False, False, 'bic', 'mae', 53), MAPE: 0.08613343086193079\n"
     ]
    },
    {
     "name": "stderr",
     "output_type": "stream",
     "text": [
      "C:\\Users\\manue\\anaconda3\\envs\\TecnicasPrediccion\\lib\\site-packages\\pmdarima\\arima\\_validation.py:62: UserWarning: m (2) set for non-seasonal fit. Setting to 0\n",
      "  warnings.warn(\"m (%i) set for non-seasonal fit. Setting to 0\" % m)\n"
     ]
    },
    {
     "name": "stdout",
     "output_type": "stream",
     "text": [
      "Parameters: (False, False, 'hqic', 'mse', 2), MAPE: 0.08613343086193079\n"
     ]
    },
    {
     "name": "stderr",
     "output_type": "stream",
     "text": [
      "C:\\Users\\manue\\anaconda3\\envs\\TecnicasPrediccion\\lib\\site-packages\\pmdarima\\arima\\_validation.py:62: UserWarning: m (3) set for non-seasonal fit. Setting to 0\n",
      "  warnings.warn(\"m (%i) set for non-seasonal fit. Setting to 0\" % m)\n"
     ]
    },
    {
     "name": "stdout",
     "output_type": "stream",
     "text": [
      "Parameters: (False, False, 'hqic', 'mse', 3), MAPE: 0.08613343086193079\n"
     ]
    },
    {
     "name": "stderr",
     "output_type": "stream",
     "text": [
      "C:\\Users\\manue\\anaconda3\\envs\\TecnicasPrediccion\\lib\\site-packages\\pmdarima\\arima\\_validation.py:62: UserWarning: m (4) set for non-seasonal fit. Setting to 0\n",
      "  warnings.warn(\"m (%i) set for non-seasonal fit. Setting to 0\" % m)\n"
     ]
    },
    {
     "name": "stdout",
     "output_type": "stream",
     "text": [
      "Parameters: (False, False, 'hqic', 'mse', 4), MAPE: 0.08613343086193079\n"
     ]
    },
    {
     "name": "stderr",
     "output_type": "stream",
     "text": [
      "C:\\Users\\manue\\anaconda3\\envs\\TecnicasPrediccion\\lib\\site-packages\\pmdarima\\arima\\_validation.py:62: UserWarning: m (5) set for non-seasonal fit. Setting to 0\n",
      "  warnings.warn(\"m (%i) set for non-seasonal fit. Setting to 0\" % m)\n"
     ]
    },
    {
     "name": "stdout",
     "output_type": "stream",
     "text": [
      "Parameters: (False, False, 'hqic', 'mse', 5), MAPE: 0.08613343086193079\n"
     ]
    },
    {
     "name": "stderr",
     "output_type": "stream",
     "text": [
      "C:\\Users\\manue\\anaconda3\\envs\\TecnicasPrediccion\\lib\\site-packages\\pmdarima\\arima\\_validation.py:62: UserWarning: m (6) set for non-seasonal fit. Setting to 0\n",
      "  warnings.warn(\"m (%i) set for non-seasonal fit. Setting to 0\" % m)\n"
     ]
    },
    {
     "name": "stdout",
     "output_type": "stream",
     "text": [
      "Parameters: (False, False, 'hqic', 'mse', 6), MAPE: 0.08613343086193079\n"
     ]
    },
    {
     "name": "stderr",
     "output_type": "stream",
     "text": [
      "C:\\Users\\manue\\anaconda3\\envs\\TecnicasPrediccion\\lib\\site-packages\\pmdarima\\arima\\_validation.py:62: UserWarning: m (7) set for non-seasonal fit. Setting to 0\n",
      "  warnings.warn(\"m (%i) set for non-seasonal fit. Setting to 0\" % m)\n"
     ]
    },
    {
     "name": "stdout",
     "output_type": "stream",
     "text": [
      "Parameters: (False, False, 'hqic', 'mse', 7), MAPE: 0.08613343086193079\n"
     ]
    },
    {
     "name": "stderr",
     "output_type": "stream",
     "text": [
      "C:\\Users\\manue\\anaconda3\\envs\\TecnicasPrediccion\\lib\\site-packages\\pmdarima\\arima\\_validation.py:62: UserWarning: m (13) set for non-seasonal fit. Setting to 0\n",
      "  warnings.warn(\"m (%i) set for non-seasonal fit. Setting to 0\" % m)\n"
     ]
    },
    {
     "name": "stdout",
     "output_type": "stream",
     "text": [
      "Parameters: (False, False, 'hqic', 'mse', 13), MAPE: 0.08613343086193079\n"
     ]
    },
    {
     "name": "stderr",
     "output_type": "stream",
     "text": [
      "C:\\Users\\manue\\anaconda3\\envs\\TecnicasPrediccion\\lib\\site-packages\\pmdarima\\arima\\_validation.py:62: UserWarning: m (52) set for non-seasonal fit. Setting to 0\n",
      "  warnings.warn(\"m (%i) set for non-seasonal fit. Setting to 0\" % m)\n"
     ]
    },
    {
     "name": "stdout",
     "output_type": "stream",
     "text": [
      "Parameters: (False, False, 'hqic', 'mse', 52), MAPE: 0.08613343086193079\n"
     ]
    },
    {
     "name": "stderr",
     "output_type": "stream",
     "text": [
      "C:\\Users\\manue\\anaconda3\\envs\\TecnicasPrediccion\\lib\\site-packages\\pmdarima\\arima\\_validation.py:62: UserWarning: m (53) set for non-seasonal fit. Setting to 0\n",
      "  warnings.warn(\"m (%i) set for non-seasonal fit. Setting to 0\" % m)\n"
     ]
    },
    {
     "name": "stdout",
     "output_type": "stream",
     "text": [
      "Parameters: (False, False, 'hqic', 'mse', 53), MAPE: 0.08613343086193079\n"
     ]
    },
    {
     "name": "stderr",
     "output_type": "stream",
     "text": [
      "C:\\Users\\manue\\anaconda3\\envs\\TecnicasPrediccion\\lib\\site-packages\\pmdarima\\arima\\_validation.py:62: UserWarning: m (2) set for non-seasonal fit. Setting to 0\n",
      "  warnings.warn(\"m (%i) set for non-seasonal fit. Setting to 0\" % m)\n"
     ]
    },
    {
     "name": "stdout",
     "output_type": "stream",
     "text": [
      "Parameters: (False, False, 'hqic', 'mae', 2), MAPE: 0.08613343086193079\n"
     ]
    },
    {
     "name": "stderr",
     "output_type": "stream",
     "text": [
      "C:\\Users\\manue\\anaconda3\\envs\\TecnicasPrediccion\\lib\\site-packages\\pmdarima\\arima\\_validation.py:62: UserWarning: m (3) set for non-seasonal fit. Setting to 0\n",
      "  warnings.warn(\"m (%i) set for non-seasonal fit. Setting to 0\" % m)\n"
     ]
    },
    {
     "name": "stdout",
     "output_type": "stream",
     "text": [
      "Parameters: (False, False, 'hqic', 'mae', 3), MAPE: 0.08613343086193079\n"
     ]
    },
    {
     "name": "stderr",
     "output_type": "stream",
     "text": [
      "C:\\Users\\manue\\anaconda3\\envs\\TecnicasPrediccion\\lib\\site-packages\\pmdarima\\arima\\_validation.py:62: UserWarning: m (4) set for non-seasonal fit. Setting to 0\n",
      "  warnings.warn(\"m (%i) set for non-seasonal fit. Setting to 0\" % m)\n"
     ]
    },
    {
     "name": "stdout",
     "output_type": "stream",
     "text": [
      "Parameters: (False, False, 'hqic', 'mae', 4), MAPE: 0.08613343086193079\n"
     ]
    },
    {
     "name": "stderr",
     "output_type": "stream",
     "text": [
      "C:\\Users\\manue\\anaconda3\\envs\\TecnicasPrediccion\\lib\\site-packages\\pmdarima\\arima\\_validation.py:62: UserWarning: m (5) set for non-seasonal fit. Setting to 0\n",
      "  warnings.warn(\"m (%i) set for non-seasonal fit. Setting to 0\" % m)\n"
     ]
    },
    {
     "name": "stdout",
     "output_type": "stream",
     "text": [
      "Parameters: (False, False, 'hqic', 'mae', 5), MAPE: 0.08613343086193079\n"
     ]
    },
    {
     "name": "stderr",
     "output_type": "stream",
     "text": [
      "C:\\Users\\manue\\anaconda3\\envs\\TecnicasPrediccion\\lib\\site-packages\\pmdarima\\arima\\_validation.py:62: UserWarning: m (6) set for non-seasonal fit. Setting to 0\n",
      "  warnings.warn(\"m (%i) set for non-seasonal fit. Setting to 0\" % m)\n"
     ]
    },
    {
     "name": "stdout",
     "output_type": "stream",
     "text": [
      "Parameters: (False, False, 'hqic', 'mae', 6), MAPE: 0.08613343086193079\n"
     ]
    },
    {
     "name": "stderr",
     "output_type": "stream",
     "text": [
      "C:\\Users\\manue\\anaconda3\\envs\\TecnicasPrediccion\\lib\\site-packages\\pmdarima\\arima\\_validation.py:62: UserWarning: m (7) set for non-seasonal fit. Setting to 0\n",
      "  warnings.warn(\"m (%i) set for non-seasonal fit. Setting to 0\" % m)\n"
     ]
    },
    {
     "name": "stdout",
     "output_type": "stream",
     "text": [
      "Parameters: (False, False, 'hqic', 'mae', 7), MAPE: 0.08613343086193079\n"
     ]
    },
    {
     "name": "stderr",
     "output_type": "stream",
     "text": [
      "C:\\Users\\manue\\anaconda3\\envs\\TecnicasPrediccion\\lib\\site-packages\\pmdarima\\arima\\_validation.py:62: UserWarning: m (13) set for non-seasonal fit. Setting to 0\n",
      "  warnings.warn(\"m (%i) set for non-seasonal fit. Setting to 0\" % m)\n"
     ]
    },
    {
     "name": "stdout",
     "output_type": "stream",
     "text": [
      "Parameters: (False, False, 'hqic', 'mae', 13), MAPE: 0.08613343086193079\n"
     ]
    },
    {
     "name": "stderr",
     "output_type": "stream",
     "text": [
      "C:\\Users\\manue\\anaconda3\\envs\\TecnicasPrediccion\\lib\\site-packages\\pmdarima\\arima\\_validation.py:62: UserWarning: m (52) set for non-seasonal fit. Setting to 0\n",
      "  warnings.warn(\"m (%i) set for non-seasonal fit. Setting to 0\" % m)\n"
     ]
    },
    {
     "name": "stdout",
     "output_type": "stream",
     "text": [
      "Parameters: (False, False, 'hqic', 'mae', 52), MAPE: 0.08613343086193079\n"
     ]
    },
    {
     "name": "stderr",
     "output_type": "stream",
     "text": [
      "C:\\Users\\manue\\anaconda3\\envs\\TecnicasPrediccion\\lib\\site-packages\\pmdarima\\arima\\_validation.py:62: UserWarning: m (53) set for non-seasonal fit. Setting to 0\n",
      "  warnings.warn(\"m (%i) set for non-seasonal fit. Setting to 0\" % m)\n"
     ]
    },
    {
     "name": "stdout",
     "output_type": "stream",
     "text": [
      "Parameters: (False, False, 'hqic', 'mae', 53), MAPE: 0.08613343086193079\n"
     ]
    },
    {
     "name": "stderr",
     "output_type": "stream",
     "text": [
      "C:\\Users\\manue\\anaconda3\\envs\\TecnicasPrediccion\\lib\\site-packages\\pmdarima\\arima\\_validation.py:62: UserWarning: m (2) set for non-seasonal fit. Setting to 0\n",
      "  warnings.warn(\"m (%i) set for non-seasonal fit. Setting to 0\" % m)\n",
      "C:\\Users\\manue\\anaconda3\\envs\\TecnicasPrediccion\\lib\\site-packages\\pmdarima\\arima\\_validation.py:35: UserWarning: information_criterion cannot be 'oob' with out_of_sample_size = 0. Falling back to information criterion = aic.\n",
      "  warnings.warn('information_criterion cannot be \\'oob\\' with '\n"
     ]
    },
    {
     "name": "stdout",
     "output_type": "stream",
     "text": [
      "Parameters: (False, False, 'oob', 'mse', 2), MAPE: 0.08613343086193079\n"
     ]
    },
    {
     "name": "stderr",
     "output_type": "stream",
     "text": [
      "C:\\Users\\manue\\anaconda3\\envs\\TecnicasPrediccion\\lib\\site-packages\\pmdarima\\arima\\_validation.py:62: UserWarning: m (3) set for non-seasonal fit. Setting to 0\n",
      "  warnings.warn(\"m (%i) set for non-seasonal fit. Setting to 0\" % m)\n",
      "C:\\Users\\manue\\anaconda3\\envs\\TecnicasPrediccion\\lib\\site-packages\\pmdarima\\arima\\_validation.py:35: UserWarning: information_criterion cannot be 'oob' with out_of_sample_size = 0. Falling back to information criterion = aic.\n",
      "  warnings.warn('information_criterion cannot be \\'oob\\' with '\n"
     ]
    },
    {
     "name": "stdout",
     "output_type": "stream",
     "text": [
      "Parameters: (False, False, 'oob', 'mse', 3), MAPE: 0.08613343086193079\n"
     ]
    },
    {
     "name": "stderr",
     "output_type": "stream",
     "text": [
      "C:\\Users\\manue\\anaconda3\\envs\\TecnicasPrediccion\\lib\\site-packages\\pmdarima\\arima\\_validation.py:62: UserWarning: m (4) set for non-seasonal fit. Setting to 0\n",
      "  warnings.warn(\"m (%i) set for non-seasonal fit. Setting to 0\" % m)\n",
      "C:\\Users\\manue\\anaconda3\\envs\\TecnicasPrediccion\\lib\\site-packages\\pmdarima\\arima\\_validation.py:35: UserWarning: information_criterion cannot be 'oob' with out_of_sample_size = 0. Falling back to information criterion = aic.\n",
      "  warnings.warn('information_criterion cannot be \\'oob\\' with '\n"
     ]
    },
    {
     "name": "stdout",
     "output_type": "stream",
     "text": [
      "Parameters: (False, False, 'oob', 'mse', 4), MAPE: 0.08613343086193079\n"
     ]
    },
    {
     "name": "stderr",
     "output_type": "stream",
     "text": [
      "C:\\Users\\manue\\anaconda3\\envs\\TecnicasPrediccion\\lib\\site-packages\\pmdarima\\arima\\_validation.py:62: UserWarning: m (5) set for non-seasonal fit. Setting to 0\n",
      "  warnings.warn(\"m (%i) set for non-seasonal fit. Setting to 0\" % m)\n",
      "C:\\Users\\manue\\anaconda3\\envs\\TecnicasPrediccion\\lib\\site-packages\\pmdarima\\arima\\_validation.py:35: UserWarning: information_criterion cannot be 'oob' with out_of_sample_size = 0. Falling back to information criterion = aic.\n",
      "  warnings.warn('information_criterion cannot be \\'oob\\' with '\n"
     ]
    },
    {
     "name": "stdout",
     "output_type": "stream",
     "text": [
      "Parameters: (False, False, 'oob', 'mse', 5), MAPE: 0.08613343086193079\n"
     ]
    },
    {
     "name": "stderr",
     "output_type": "stream",
     "text": [
      "C:\\Users\\manue\\anaconda3\\envs\\TecnicasPrediccion\\lib\\site-packages\\pmdarima\\arima\\_validation.py:62: UserWarning: m (6) set for non-seasonal fit. Setting to 0\n",
      "  warnings.warn(\"m (%i) set for non-seasonal fit. Setting to 0\" % m)\n",
      "C:\\Users\\manue\\anaconda3\\envs\\TecnicasPrediccion\\lib\\site-packages\\pmdarima\\arima\\_validation.py:35: UserWarning: information_criterion cannot be 'oob' with out_of_sample_size = 0. Falling back to information criterion = aic.\n",
      "  warnings.warn('information_criterion cannot be \\'oob\\' with '\n"
     ]
    },
    {
     "name": "stdout",
     "output_type": "stream",
     "text": [
      "Parameters: (False, False, 'oob', 'mse', 6), MAPE: 0.08613343086193079\n"
     ]
    },
    {
     "name": "stderr",
     "output_type": "stream",
     "text": [
      "C:\\Users\\manue\\anaconda3\\envs\\TecnicasPrediccion\\lib\\site-packages\\pmdarima\\arima\\_validation.py:62: UserWarning: m (7) set for non-seasonal fit. Setting to 0\n",
      "  warnings.warn(\"m (%i) set for non-seasonal fit. Setting to 0\" % m)\n",
      "C:\\Users\\manue\\anaconda3\\envs\\TecnicasPrediccion\\lib\\site-packages\\pmdarima\\arima\\_validation.py:35: UserWarning: information_criterion cannot be 'oob' with out_of_sample_size = 0. Falling back to information criterion = aic.\n",
      "  warnings.warn('information_criterion cannot be \\'oob\\' with '\n"
     ]
    },
    {
     "name": "stdout",
     "output_type": "stream",
     "text": [
      "Parameters: (False, False, 'oob', 'mse', 7), MAPE: 0.08613343086193079\n"
     ]
    },
    {
     "name": "stderr",
     "output_type": "stream",
     "text": [
      "C:\\Users\\manue\\anaconda3\\envs\\TecnicasPrediccion\\lib\\site-packages\\pmdarima\\arima\\_validation.py:62: UserWarning: m (13) set for non-seasonal fit. Setting to 0\n",
      "  warnings.warn(\"m (%i) set for non-seasonal fit. Setting to 0\" % m)\n",
      "C:\\Users\\manue\\anaconda3\\envs\\TecnicasPrediccion\\lib\\site-packages\\pmdarima\\arima\\_validation.py:35: UserWarning: information_criterion cannot be 'oob' with out_of_sample_size = 0. Falling back to information criterion = aic.\n",
      "  warnings.warn('information_criterion cannot be \\'oob\\' with '\n"
     ]
    },
    {
     "name": "stdout",
     "output_type": "stream",
     "text": [
      "Parameters: (False, False, 'oob', 'mse', 13), MAPE: 0.08613343086193079\n"
     ]
    },
    {
     "name": "stderr",
     "output_type": "stream",
     "text": [
      "C:\\Users\\manue\\anaconda3\\envs\\TecnicasPrediccion\\lib\\site-packages\\pmdarima\\arima\\_validation.py:62: UserWarning: m (52) set for non-seasonal fit. Setting to 0\n",
      "  warnings.warn(\"m (%i) set for non-seasonal fit. Setting to 0\" % m)\n",
      "C:\\Users\\manue\\anaconda3\\envs\\TecnicasPrediccion\\lib\\site-packages\\pmdarima\\arima\\_validation.py:35: UserWarning: information_criterion cannot be 'oob' with out_of_sample_size = 0. Falling back to information criterion = aic.\n",
      "  warnings.warn('information_criterion cannot be \\'oob\\' with '\n"
     ]
    },
    {
     "name": "stdout",
     "output_type": "stream",
     "text": [
      "Parameters: (False, False, 'oob', 'mse', 52), MAPE: 0.08613343086193079\n"
     ]
    },
    {
     "name": "stderr",
     "output_type": "stream",
     "text": [
      "C:\\Users\\manue\\anaconda3\\envs\\TecnicasPrediccion\\lib\\site-packages\\pmdarima\\arima\\_validation.py:62: UserWarning: m (53) set for non-seasonal fit. Setting to 0\n",
      "  warnings.warn(\"m (%i) set for non-seasonal fit. Setting to 0\" % m)\n",
      "C:\\Users\\manue\\anaconda3\\envs\\TecnicasPrediccion\\lib\\site-packages\\pmdarima\\arima\\_validation.py:35: UserWarning: information_criterion cannot be 'oob' with out_of_sample_size = 0. Falling back to information criterion = aic.\n",
      "  warnings.warn('information_criterion cannot be \\'oob\\' with '\n"
     ]
    },
    {
     "name": "stdout",
     "output_type": "stream",
     "text": [
      "Parameters: (False, False, 'oob', 'mse', 53), MAPE: 0.08613343086193079\n"
     ]
    },
    {
     "name": "stderr",
     "output_type": "stream",
     "text": [
      "C:\\Users\\manue\\anaconda3\\envs\\TecnicasPrediccion\\lib\\site-packages\\pmdarima\\arima\\_validation.py:62: UserWarning: m (2) set for non-seasonal fit. Setting to 0\n",
      "  warnings.warn(\"m (%i) set for non-seasonal fit. Setting to 0\" % m)\n",
      "C:\\Users\\manue\\anaconda3\\envs\\TecnicasPrediccion\\lib\\site-packages\\pmdarima\\arima\\_validation.py:35: UserWarning: information_criterion cannot be 'oob' with out_of_sample_size = 0. Falling back to information criterion = aic.\n",
      "  warnings.warn('information_criterion cannot be \\'oob\\' with '\n"
     ]
    },
    {
     "name": "stdout",
     "output_type": "stream",
     "text": [
      "Parameters: (False, False, 'oob', 'mae', 2), MAPE: 0.08613343086193079\n"
     ]
    },
    {
     "name": "stderr",
     "output_type": "stream",
     "text": [
      "C:\\Users\\manue\\anaconda3\\envs\\TecnicasPrediccion\\lib\\site-packages\\pmdarima\\arima\\_validation.py:62: UserWarning: m (3) set for non-seasonal fit. Setting to 0\n",
      "  warnings.warn(\"m (%i) set for non-seasonal fit. Setting to 0\" % m)\n",
      "C:\\Users\\manue\\anaconda3\\envs\\TecnicasPrediccion\\lib\\site-packages\\pmdarima\\arima\\_validation.py:35: UserWarning: information_criterion cannot be 'oob' with out_of_sample_size = 0. Falling back to information criterion = aic.\n",
      "  warnings.warn('information_criterion cannot be \\'oob\\' with '\n"
     ]
    },
    {
     "name": "stdout",
     "output_type": "stream",
     "text": [
      "Parameters: (False, False, 'oob', 'mae', 3), MAPE: 0.08613343086193079\n"
     ]
    },
    {
     "name": "stderr",
     "output_type": "stream",
     "text": [
      "C:\\Users\\manue\\anaconda3\\envs\\TecnicasPrediccion\\lib\\site-packages\\pmdarima\\arima\\_validation.py:62: UserWarning: m (4) set for non-seasonal fit. Setting to 0\n",
      "  warnings.warn(\"m (%i) set for non-seasonal fit. Setting to 0\" % m)\n",
      "C:\\Users\\manue\\anaconda3\\envs\\TecnicasPrediccion\\lib\\site-packages\\pmdarima\\arima\\_validation.py:35: UserWarning: information_criterion cannot be 'oob' with out_of_sample_size = 0. Falling back to information criterion = aic.\n",
      "  warnings.warn('information_criterion cannot be \\'oob\\' with '\n"
     ]
    },
    {
     "name": "stdout",
     "output_type": "stream",
     "text": [
      "Parameters: (False, False, 'oob', 'mae', 4), MAPE: 0.08613343086193079\n"
     ]
    },
    {
     "name": "stderr",
     "output_type": "stream",
     "text": [
      "C:\\Users\\manue\\anaconda3\\envs\\TecnicasPrediccion\\lib\\site-packages\\pmdarima\\arima\\_validation.py:62: UserWarning: m (5) set for non-seasonal fit. Setting to 0\n",
      "  warnings.warn(\"m (%i) set for non-seasonal fit. Setting to 0\" % m)\n",
      "C:\\Users\\manue\\anaconda3\\envs\\TecnicasPrediccion\\lib\\site-packages\\pmdarima\\arima\\_validation.py:35: UserWarning: information_criterion cannot be 'oob' with out_of_sample_size = 0. Falling back to information criterion = aic.\n",
      "  warnings.warn('information_criterion cannot be \\'oob\\' with '\n"
     ]
    },
    {
     "name": "stdout",
     "output_type": "stream",
     "text": [
      "Parameters: (False, False, 'oob', 'mae', 5), MAPE: 0.08613343086193079\n"
     ]
    },
    {
     "name": "stderr",
     "output_type": "stream",
     "text": [
      "C:\\Users\\manue\\anaconda3\\envs\\TecnicasPrediccion\\lib\\site-packages\\pmdarima\\arima\\_validation.py:62: UserWarning: m (6) set for non-seasonal fit. Setting to 0\n",
      "  warnings.warn(\"m (%i) set for non-seasonal fit. Setting to 0\" % m)\n",
      "C:\\Users\\manue\\anaconda3\\envs\\TecnicasPrediccion\\lib\\site-packages\\pmdarima\\arima\\_validation.py:35: UserWarning: information_criterion cannot be 'oob' with out_of_sample_size = 0. Falling back to information criterion = aic.\n",
      "  warnings.warn('information_criterion cannot be \\'oob\\' with '\n"
     ]
    },
    {
     "name": "stdout",
     "output_type": "stream",
     "text": [
      "Parameters: (False, False, 'oob', 'mae', 6), MAPE: 0.08613343086193079\n"
     ]
    },
    {
     "name": "stderr",
     "output_type": "stream",
     "text": [
      "C:\\Users\\manue\\anaconda3\\envs\\TecnicasPrediccion\\lib\\site-packages\\pmdarima\\arima\\_validation.py:62: UserWarning: m (7) set for non-seasonal fit. Setting to 0\n",
      "  warnings.warn(\"m (%i) set for non-seasonal fit. Setting to 0\" % m)\n",
      "C:\\Users\\manue\\anaconda3\\envs\\TecnicasPrediccion\\lib\\site-packages\\pmdarima\\arima\\_validation.py:35: UserWarning: information_criterion cannot be 'oob' with out_of_sample_size = 0. Falling back to information criterion = aic.\n",
      "  warnings.warn('information_criterion cannot be \\'oob\\' with '\n"
     ]
    },
    {
     "name": "stdout",
     "output_type": "stream",
     "text": [
      "Parameters: (False, False, 'oob', 'mae', 7), MAPE: 0.08613343086193079\n"
     ]
    },
    {
     "name": "stderr",
     "output_type": "stream",
     "text": [
      "C:\\Users\\manue\\anaconda3\\envs\\TecnicasPrediccion\\lib\\site-packages\\pmdarima\\arima\\_validation.py:62: UserWarning: m (13) set for non-seasonal fit. Setting to 0\n",
      "  warnings.warn(\"m (%i) set for non-seasonal fit. Setting to 0\" % m)\n",
      "C:\\Users\\manue\\anaconda3\\envs\\TecnicasPrediccion\\lib\\site-packages\\pmdarima\\arima\\_validation.py:35: UserWarning: information_criterion cannot be 'oob' with out_of_sample_size = 0. Falling back to information criterion = aic.\n",
      "  warnings.warn('information_criterion cannot be \\'oob\\' with '\n"
     ]
    },
    {
     "name": "stdout",
     "output_type": "stream",
     "text": [
      "Parameters: (False, False, 'oob', 'mae', 13), MAPE: 0.08613343086193079\n"
     ]
    },
    {
     "name": "stderr",
     "output_type": "stream",
     "text": [
      "C:\\Users\\manue\\anaconda3\\envs\\TecnicasPrediccion\\lib\\site-packages\\pmdarima\\arima\\_validation.py:62: UserWarning: m (52) set for non-seasonal fit. Setting to 0\n",
      "  warnings.warn(\"m (%i) set for non-seasonal fit. Setting to 0\" % m)\n",
      "C:\\Users\\manue\\anaconda3\\envs\\TecnicasPrediccion\\lib\\site-packages\\pmdarima\\arima\\_validation.py:35: UserWarning: information_criterion cannot be 'oob' with out_of_sample_size = 0. Falling back to information criterion = aic.\n",
      "  warnings.warn('information_criterion cannot be \\'oob\\' with '\n"
     ]
    },
    {
     "name": "stdout",
     "output_type": "stream",
     "text": [
      "Parameters: (False, False, 'oob', 'mae', 52), MAPE: 0.08613343086193079\n"
     ]
    },
    {
     "name": "stderr",
     "output_type": "stream",
     "text": [
      "C:\\Users\\manue\\anaconda3\\envs\\TecnicasPrediccion\\lib\\site-packages\\pmdarima\\arima\\_validation.py:62: UserWarning: m (53) set for non-seasonal fit. Setting to 0\n",
      "  warnings.warn(\"m (%i) set for non-seasonal fit. Setting to 0\" % m)\n",
      "C:\\Users\\manue\\anaconda3\\envs\\TecnicasPrediccion\\lib\\site-packages\\pmdarima\\arima\\_validation.py:35: UserWarning: information_criterion cannot be 'oob' with out_of_sample_size = 0. Falling back to information criterion = aic.\n",
      "  warnings.warn('information_criterion cannot be \\'oob\\' with '\n"
     ]
    },
    {
     "name": "stdout",
     "output_type": "stream",
     "text": [
      "Parameters: (False, False, 'oob', 'mae', 53), MAPE: 0.08613343086193079\n"
     ]
    }
   ],
   "source": [
    "from itertools import product\n",
    "error_action=\"ignore\"\n",
    "\n",
    "seasonal = [True, False]\n",
    "stationary = [True, False]\n",
    "information_criterion = [\"aic\", \"bic\", \"hqic\", \"oob\"]\n",
    "method = [\"newton\", \"nm\", \"bfgs\", \"lbfgs\", \"powell\", \"cg\", \"ncg\", \"basinhopping\"]\n",
    "scoring = ['mse', 'mae']\n",
    "sp = [2, 3, 4, 5, 6, 7, 13, 52, 53]\n",
    "\n",
    "param_combinations = list(product(seasonal, stationary, information_criterion, scoring, sp))\n",
    "\n",
    "for params in param_combinations:\n",
    "    forecaster = AutoARIMA(\n",
    "        seasonal=params[0],\n",
    "        stationary=params[1],\n",
    "        information_criterion=params[2],\n",
    "#         method=params[3],\n",
    "        scoring=params[3],\n",
    "        sp=params[4],\n",
    "        suppress_warnings=True)\n",
    "    forecaster.fit(y_train)\n",
    "    y_pred = forecaster.predict(fh)\n",
    "    mape = mean_absolute_percentage_error(y_test[0:4], y_pred[0:4])\n",
    "#     mse = MeanSquaredError()\n",
    "#     mse = mse(y_test[0:5], y_pred[0:5])\n",
    "#     r2 = r2_score(y_test, y_pred)\n",
    "\n",
    "    print(f\"Parameters: {params}, MAPE: {mape}\")\n",
    "#     print(f'MSE: {mse}')\n",
    "#     print(f'R2 Score: {r2}')"
   ]
  },
  {
   "cell_type": "code",
   "execution_count": 12,
   "id": "75e167a0",
   "metadata": {},
   "outputs": [
    {
     "data": {
      "text/plain": [
       "AutoARIMA(sp=7, suppress_warnings=True)"
      ]
     },
     "execution_count": 12,
     "metadata": {},
     "output_type": "execute_result"
    }
   ],
   "source": [
    "forecaster = AutoARIMA(sp=7,suppress_warnings=True)\n",
    "forecaster.fit(y_train)"
   ]
  },
  {
   "cell_type": "code",
   "execution_count": 13,
   "id": "22e85574",
   "metadata": {},
   "outputs": [],
   "source": [
    "y_pred = forecaster.predict(fh)"
   ]
  },
  {
   "cell_type": "code",
   "execution_count": 14,
   "id": "941f2354",
   "metadata": {},
   "outputs": [
    {
     "name": "stdout",
     "output_type": "stream",
     "text": [
      "MAPE: 0.09396561977416398\n",
      "MSE: 231141428.67545834\n",
      "R2 Score: 0.4078782228516782\n"
     ]
    }
   ],
   "source": [
    "mape = mean_absolute_percentage_error(y_test[0:5], y_pred[0:5])\n",
    "mse = MeanSquaredError()\n",
    "mse = mse(y_test[0:5], y_pred[0:5])\n",
    "r2 = r2_score(y_test, y_pred)\n",
    "\n",
    "print(f'MAPE: {mape}')\n",
    "print(f'MSE: {mse}')\n",
    "print(f'R2 Score: {r2}')"
   ]
  },
  {
   "cell_type": "code",
   "execution_count": 15,
   "id": "66d80600",
   "metadata": {},
   "outputs": [
    {
     "name": "stdout",
     "output_type": "stream",
     "text": [
      "2024-01-05 12:46:03.406311\n",
      "2024-01-05 16:03:54.219421\n",
      "3:17:50.813110\n"
     ]
    }
   ],
   "source": [
    "final = datetime.datetime.now()\n",
    "duracion = final-principio\n",
    "print(principio)\n",
    "print(final)\n",
    "print(duracion)"
   ]
  }
 ],
 "metadata": {
  "kernelspec": {
   "display_name": "TecnicasPrediccion",
   "language": "python",
   "name": "tecnicasprediccion"
  },
  "language_info": {
   "codemirror_mode": {
    "name": "ipython",
    "version": 3
   },
   "file_extension": ".py",
   "mimetype": "text/x-python",
   "name": "python",
   "nbconvert_exporter": "python",
   "pygments_lexer": "ipython3",
   "version": "3.7.12"
  }
 },
 "nbformat": 4,
 "nbformat_minor": 5
}
