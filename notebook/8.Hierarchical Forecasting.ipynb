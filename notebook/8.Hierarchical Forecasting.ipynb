{
 "cells": [
  {
   "cell_type": "markdown",
   "id": "9e30366f",
   "metadata": {},
   "source": [
    "Tampoco se pude ejecutar porque no hay subdivisiones dentro de la venta de billetes"
   ]
  },
  {
   "cell_type": "code",
   "execution_count": null,
   "id": "06b21d36",
   "metadata": {},
   "outputs": [],
   "source": []
  }
 ],
 "metadata": {
  "kernelspec": {
   "display_name": "TecnicasPrediccion",
   "language": "python",
   "name": "tecnicasprediccion"
  },
  "language_info": {
   "codemirror_mode": {
    "name": "ipython",
    "version": 3
   },
   "file_extension": ".py",
   "mimetype": "text/x-python",
   "name": "python",
   "nbconvert_exporter": "python",
   "pygments_lexer": "ipython3",
   "version": "3.7.12"
  }
 },
 "nbformat": 4,
 "nbformat_minor": 5
}
