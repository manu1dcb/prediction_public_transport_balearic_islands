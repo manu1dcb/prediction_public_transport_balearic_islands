{
 "cells": [
  {
   "cell_type": "code",
   "execution_count": 1,
   "id": "07bdf1b1",
   "metadata": {},
   "outputs": [
    {
     "data": {
      "text/plain": [
       "datetime.datetime(2024, 1, 8, 20, 34, 7, 456651)"
      ]
     },
     "execution_count": 1,
     "metadata": {},
     "output_type": "execute_result"
    }
   ],
   "source": [
    "import time\n",
    "import datetime\n",
    "principio = datetime.datetime.now()\n",
    "principio"
   ]
  },
  {
   "cell_type": "code",
   "execution_count": 11,
   "id": "d3c9628b",
   "metadata": {},
   "outputs": [
    {
     "data": {
      "text/html": [
       "<div>\n",
       "<style scoped>\n",
       "    .dataframe tbody tr th:only-of-type {\n",
       "        vertical-align: middle;\n",
       "    }\n",
       "\n",
       "    .dataframe tbody tr th {\n",
       "        vertical-align: top;\n",
       "    }\n",
       "\n",
       "    .dataframe thead th {\n",
       "        text-align: right;\n",
       "    }\n",
       "</style>\n",
       "<table border=\"1\" class=\"dataframe\">\n",
       "  <thead>\n",
       "    <tr style=\"text-align: right;\">\n",
       "      <th></th>\n",
       "      <th>Billetes</th>\n",
       "    </tr>\n",
       "    <tr>\n",
       "      <th>Fecha</th>\n",
       "      <th></th>\n",
       "    </tr>\n",
       "  </thead>\n",
       "  <tbody>\n",
       "    <tr>\n",
       "      <th>2013-01-12</th>\n",
       "      <td>62614</td>\n",
       "    </tr>\n",
       "    <tr>\n",
       "      <th>2013-01-19</th>\n",
       "      <td>59301</td>\n",
       "    </tr>\n",
       "    <tr>\n",
       "      <th>2013-01-26</th>\n",
       "      <td>56391</td>\n",
       "    </tr>\n",
       "    <tr>\n",
       "      <th>2013-02-02</th>\n",
       "      <td>62981</td>\n",
       "    </tr>\n",
       "    <tr>\n",
       "      <th>2013-02-09</th>\n",
       "      <td>65258</td>\n",
       "    </tr>\n",
       "    <tr>\n",
       "      <th>...</th>\n",
       "      <td>...</td>\n",
       "    </tr>\n",
       "    <tr>\n",
       "      <th>2016-12-03</th>\n",
       "      <td>163841</td>\n",
       "    </tr>\n",
       "    <tr>\n",
       "      <th>2016-12-10</th>\n",
       "      <td>127511</td>\n",
       "    </tr>\n",
       "    <tr>\n",
       "      <th>2016-12-17</th>\n",
       "      <td>162260</td>\n",
       "    </tr>\n",
       "    <tr>\n",
       "      <th>2016-12-24</th>\n",
       "      <td>135565</td>\n",
       "    </tr>\n",
       "    <tr>\n",
       "      <th>2016-12-31</th>\n",
       "      <td>113289</td>\n",
       "    </tr>\n",
       "  </tbody>\n",
       "</table>\n",
       "<p>208 rows × 1 columns</p>\n",
       "</div>"
      ],
      "text/plain": [
       "            Billetes\n",
       "Fecha               \n",
       "2013-01-12     62614\n",
       "2013-01-19     59301\n",
       "2013-01-26     56391\n",
       "2013-02-02     62981\n",
       "2013-02-09     65258\n",
       "...              ...\n",
       "2016-12-03    163841\n",
       "2016-12-10    127511\n",
       "2016-12-17    162260\n",
       "2016-12-24    135565\n",
       "2016-12-31    113289\n",
       "\n",
       "[208 rows x 1 columns]"
      ]
     },
     "execution_count": 11,
     "metadata": {},
     "output_type": "execute_result"
    }
   ],
   "source": [
    "# Packages\n",
    "import pandas as pd\n",
    "import numpy as np\n",
    "import matplotlib.pyplot as plt\n",
    "from sktime.utils.plotting import plot_series\n",
    "import seaborn as sns\n",
    "from sktime.transformations.series.boxcox import LogTransformer\n",
    "from sktime.transformations.series.difference import Differencer\n",
    "from sktime.forecasting.base import ForecastingHorizon\n",
    "from sktime.forecasting.model_selection import temporal_train_test_split\n",
    "from sktime.forecasting.arima import AutoARIMA\n",
    "from sktime.performance_metrics.forecasting import mean_absolute_percentage_error\n",
    "from sktime.performance_metrics.forecasting import MeanSquaredError\n",
    "from sklearn.metrics import r2_score\n",
    "\n",
    "\n",
    "\n",
    "# Read Data\n",
    "data = pd.read_csv('../data/datos semanales.csv')\n",
    "data.set_index('Fecha', inplace=True)\n",
    "# transformer = LogTransformer()\n",
    "data.index = pd.to_datetime(data.index)\n",
    "# log_data = transformer.fit_transform(data)\n",
    "data"
   ]
  },
  {
   "cell_type": "code",
   "execution_count": 13,
   "id": "0bfc5c31",
   "metadata": {},
   "outputs": [
    {
     "data": {
      "text/html": [
       "<div>\n",
       "<style scoped>\n",
       "    .dataframe tbody tr th:only-of-type {\n",
       "        vertical-align: middle;\n",
       "    }\n",
       "\n",
       "    .dataframe tbody tr th {\n",
       "        vertical-align: top;\n",
       "    }\n",
       "\n",
       "    .dataframe thead th {\n",
       "        text-align: right;\n",
       "    }\n",
       "</style>\n",
       "<table border=\"1\" class=\"dataframe\">\n",
       "  <thead>\n",
       "    <tr style=\"text-align: right;\">\n",
       "      <th></th>\n",
       "      <th>Billetes</th>\n",
       "    </tr>\n",
       "    <tr>\n",
       "      <th>Fecha</th>\n",
       "      <th></th>\n",
       "    </tr>\n",
       "  </thead>\n",
       "  <tbody>\n",
       "    <tr>\n",
       "      <th>2013-01-06/2013-01-12</th>\n",
       "      <td>62614.0</td>\n",
       "    </tr>\n",
       "    <tr>\n",
       "      <th>2013-01-13/2013-01-19</th>\n",
       "      <td>59301.0</td>\n",
       "    </tr>\n",
       "    <tr>\n",
       "      <th>2013-01-20/2013-01-26</th>\n",
       "      <td>56391.0</td>\n",
       "    </tr>\n",
       "    <tr>\n",
       "      <th>2013-01-27/2013-02-02</th>\n",
       "      <td>62981.0</td>\n",
       "    </tr>\n",
       "    <tr>\n",
       "      <th>2013-02-03/2013-02-09</th>\n",
       "      <td>65258.0</td>\n",
       "    </tr>\n",
       "    <tr>\n",
       "      <th>...</th>\n",
       "      <td>...</td>\n",
       "    </tr>\n",
       "    <tr>\n",
       "      <th>2016-11-27/2016-12-03</th>\n",
       "      <td>163841.0</td>\n",
       "    </tr>\n",
       "    <tr>\n",
       "      <th>2016-12-04/2016-12-10</th>\n",
       "      <td>127511.0</td>\n",
       "    </tr>\n",
       "    <tr>\n",
       "      <th>2016-12-11/2016-12-17</th>\n",
       "      <td>162260.0</td>\n",
       "    </tr>\n",
       "    <tr>\n",
       "      <th>2016-12-18/2016-12-24</th>\n",
       "      <td>135565.0</td>\n",
       "    </tr>\n",
       "    <tr>\n",
       "      <th>2016-12-25/2016-12-31</th>\n",
       "      <td>113289.0</td>\n",
       "    </tr>\n",
       "  </tbody>\n",
       "</table>\n",
       "<p>208 rows × 1 columns</p>\n",
       "</div>"
      ],
      "text/plain": [
       "                       Billetes\n",
       "Fecha                          \n",
       "2013-01-06/2013-01-12   62614.0\n",
       "2013-01-13/2013-01-19   59301.0\n",
       "2013-01-20/2013-01-26   56391.0\n",
       "2013-01-27/2013-02-02   62981.0\n",
       "2013-02-03/2013-02-09   65258.0\n",
       "...                         ...\n",
       "2016-11-27/2016-12-03  163841.0\n",
       "2016-12-04/2016-12-10  127511.0\n",
       "2016-12-11/2016-12-17  162260.0\n",
       "2016-12-18/2016-12-24  135565.0\n",
       "2016-12-25/2016-12-31  113289.0\n",
       "\n",
       "[208 rows x 1 columns]"
      ]
     },
     "execution_count": 13,
     "metadata": {},
     "output_type": "execute_result"
    }
   ],
   "source": [
    "y = data.astype('float64').to_period('W-Sat')\n",
    "y"
   ]
  },
  {
   "cell_type": "code",
   "execution_count": 16,
   "id": "d494a7b1",
   "metadata": {},
   "outputs": [],
   "source": [
    "y_train, y_test = temporal_train_test_split(y, test_size=5)\n",
    "# log_y_train, log_y_test = temporal_train_test_split(y = log_data.astype('float64').to_period('w'), test_size=5)"
   ]
  },
  {
   "cell_type": "code",
   "execution_count": 17,
   "id": "0c8f9a32",
   "metadata": {},
   "outputs": [
    {
     "data": {
      "text/html": [
       "<div>\n",
       "<style scoped>\n",
       "    .dataframe tbody tr th:only-of-type {\n",
       "        vertical-align: middle;\n",
       "    }\n",
       "\n",
       "    .dataframe tbody tr th {\n",
       "        vertical-align: top;\n",
       "    }\n",
       "\n",
       "    .dataframe thead th {\n",
       "        text-align: right;\n",
       "    }\n",
       "</style>\n",
       "<table border=\"1\" class=\"dataframe\">\n",
       "  <thead>\n",
       "    <tr style=\"text-align: right;\">\n",
       "      <th></th>\n",
       "      <th>Billetes</th>\n",
       "    </tr>\n",
       "  </thead>\n",
       "  <tbody>\n",
       "    <tr>\n",
       "      <th>2013-01-06/2013-01-12</th>\n",
       "      <td>62614.0</td>\n",
       "    </tr>\n",
       "    <tr>\n",
       "      <th>2013-01-13/2013-01-19</th>\n",
       "      <td>59301.0</td>\n",
       "    </tr>\n",
       "    <tr>\n",
       "      <th>2013-01-20/2013-01-26</th>\n",
       "      <td>56391.0</td>\n",
       "    </tr>\n",
       "    <tr>\n",
       "      <th>2013-01-27/2013-02-02</th>\n",
       "      <td>62981.0</td>\n",
       "    </tr>\n",
       "    <tr>\n",
       "      <th>2013-02-03/2013-02-09</th>\n",
       "      <td>65258.0</td>\n",
       "    </tr>\n",
       "    <tr>\n",
       "      <th>...</th>\n",
       "      <td>...</td>\n",
       "    </tr>\n",
       "    <tr>\n",
       "      <th>2016-10-23/2016-10-29</th>\n",
       "      <td>279404.0</td>\n",
       "    </tr>\n",
       "    <tr>\n",
       "      <th>2016-10-30/2016-11-05</th>\n",
       "      <td>183583.0</td>\n",
       "    </tr>\n",
       "    <tr>\n",
       "      <th>2016-11-06/2016-11-12</th>\n",
       "      <td>184902.0</td>\n",
       "    </tr>\n",
       "    <tr>\n",
       "      <th>2016-11-13/2016-11-19</th>\n",
       "      <td>178948.0</td>\n",
       "    </tr>\n",
       "    <tr>\n",
       "      <th>2016-11-20/2016-11-26</th>\n",
       "      <td>169766.0</td>\n",
       "    </tr>\n",
       "  </tbody>\n",
       "</table>\n",
       "<p>203 rows × 1 columns</p>\n",
       "</div>"
      ],
      "text/plain": [
       "                       Billetes\n",
       "2013-01-06/2013-01-12   62614.0\n",
       "2013-01-13/2013-01-19   59301.0\n",
       "2013-01-20/2013-01-26   56391.0\n",
       "2013-01-27/2013-02-02   62981.0\n",
       "2013-02-03/2013-02-09   65258.0\n",
       "...                         ...\n",
       "2016-10-23/2016-10-29  279404.0\n",
       "2016-10-30/2016-11-05  183583.0\n",
       "2016-11-06/2016-11-12  184902.0\n",
       "2016-11-13/2016-11-19  178948.0\n",
       "2016-11-20/2016-11-26  169766.0\n",
       "\n",
       "[203 rows x 1 columns]"
      ]
     },
     "execution_count": 17,
     "metadata": {},
     "output_type": "execute_result"
    }
   ],
   "source": [
    "y_train"
   ]
  },
  {
   "cell_type": "code",
   "execution_count": 18,
   "id": "fc4dfbaf",
   "metadata": {},
   "outputs": [
    {
     "data": {
      "text/plain": [
       "(<Figure size 1600x400 with 1 Axes>, <AxesSubplot:>)"
      ]
     },
     "execution_count": 18,
     "metadata": {},
     "output_type": "execute_result"
    },
    {
     "data": {
      "image/png": "[encoded data removed]",
      "text/plain": [
       "<Figure size 1600x400 with 1 Axes>"
      ]
     },
     "metadata": {},
     "output_type": "display_data"
    }
   ],
   "source": [
    "plot_series(y_train, y_test, labels=[\"Train\", \"Test\"])"
   ]
  },
  {
   "cell_type": "code",
   "execution_count": null,
   "id": "e091d43c",
   "metadata": {},
   "outputs": [],
   "source": [
    "fh = np.arange(len(y_test)) + 1"
   ]
  },
  {
   "cell_type": "markdown",
   "id": "ee4afb06",
   "metadata": {},
   "source": [
    "Ahora sin log"
   ]
  },
  {
   "cell_type": "markdown",
   "id": "eb329927",
   "metadata": {},
   "source": [
    "Moldelo elegido: Parameters: (True, False, 'aic', 'mse', 52), MAPE: 0.050223996299127306"
   ]
  },
  {
   "cell_type": "code",
   "execution_count": null,
   "id": "2e3ac05d",
   "metadata": {},
   "outputs": [],
   "source": [
    "forecaster = AutoARIMA(\n",
    "        seasonal=True,\n",
    "        stationary=False,\n",
    "        information_criterion='aic',\n",
    "        scoring='mse',\n",
    "        sp=52,\n",
    "        suppress_warnings=True)\n",
    "forecaster.fit(y_train)"
   ]
  },
  {
   "cell_type": "code",
   "execution_count": null,
   "id": "7bc6718d",
   "metadata": {},
   "outputs": [],
   "source": [
    "y_train"
   ]
  },
  {
   "cell_type": "code",
   "execution_count": null,
   "id": "3eae2bf7",
   "metadata": {},
   "outputs": [],
   "source": [
    "fh = np.arange(len(y_test)) + 1  # forecasting horizon\n",
    "y_pred = forecaster.predict(fh)"
   ]
  },
  {
   "cell_type": "code",
   "execution_count": null,
   "id": "b8d1dae2",
   "metadata": {
    "scrolled": true
   },
   "outputs": [],
   "source": [
    "# Forecast Accuracy Plot\n",
    "# Plotting predictions and past data\n",
    "plot_series(y_train[\"2016-10\":], np.exp(y_pred),y_test, labels=[\"Billetes\", \"Billetes pred\", \"Billetes REAL\"])"
   ]
  },
  {
   "cell_type": "code",
   "execution_count": null,
   "id": "81e1f8e7",
   "metadata": {},
   "outputs": [],
   "source": [
    "y_train"
   ]
  },
  {
   "cell_type": "code",
   "execution_count": null,
   "id": "c972e049",
   "metadata": {},
   "outputs": [],
   "source": [
    "# Forecast Accuracy Plot\n",
    "# Plotting predictions and past data\n",
    "# Zoom 2013 -2021\n",
    "plot_series(y_train[\"2016-10\":], y_pred, y_test, labels=[\"Billetes\", \"Billetes pred\", \"Billetes REAL\"])"
   ]
  },
  {
   "cell_type": "code",
   "execution_count": null,
   "id": "662a7b85",
   "metadata": {},
   "outputs": [],
   "source": [
    "mape = mean_absolute_percentage_error(y_test[0:4], y_pred[0:4])\n",
    "mse = MeanSquaredError()\n",
    "mse = mse(y_test[0:4], y_pred[0:4])\n",
    "r2 = r2_score(y_test, y_pred)\n",
    "\n",
    "print(f'MAPE: {mape}')\n",
    "print(f'MSE: {mse}')\n",
    "print(f'R2 Score: {r2}')"
   ]
  },
  {
   "cell_type": "code",
   "execution_count": null,
   "id": "85f2504a",
   "metadata": {},
   "outputs": [],
   "source": [
    "final = datetime.datetime.now()\n",
    "duracion = final-principio\n",
    "print(principio)\n",
    "print(final)\n",
    "print(duracion)"
   ]
  }
 ],
 "metadata": {
  "kernelspec": {
   "display_name": "TecnicasPrediccion",
   "language": "python",
   "name": "tecnicasprediccion"
  },
  "language_info": {
   "codemirror_mode": {
    "name": "ipython",
    "version": 3
   },
   "file_extension": ".py",
   "mimetype": "text/x-python",
   "name": "python",
   "nbconvert_exporter": "python",
   "pygments_lexer": "ipython3",
   "version": "3.7.12"
  }
 },
 "nbformat": 4,
 "nbformat_minor": 5
}
