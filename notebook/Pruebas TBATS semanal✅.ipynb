{
 "cells": [
  {
   "cell_type": "code",
   "execution_count": 1,
   "id": "2de12518",
   "metadata": {},
   "outputs": [
    {
     "data": {
      "text/plain": [
       "datetime.datetime(2024, 1, 9, 20, 36, 39, 734967)"
      ]
     },
     "execution_count": 1,
     "metadata": {},
     "output_type": "execute_result"
    }
   ],
   "source": [
    "import time\n",
    "import datetime\n",
    "principio = datetime.datetime.now()\n",
    "principio"
   ]
  },
  {
   "cell_type": "code",
   "execution_count": 2,
   "id": "b30ef052",
   "metadata": {},
   "outputs": [
    {
     "name": "stderr",
     "output_type": "stream",
     "text": [
      "\n",
      "Bad key savefig.frameon in file C:\\Users\\manue\\anaconda3\\envs\\TecnicasPrediccion\\lib\\site-packages\\matplotlib\\mpl-data\\stylelib\\_classic_test.mplstyle, line 421 ('savefig.frameon : True')\n",
      "You probably need to get an updated matplotlibrc file from\n",
      "https://github.com/matplotlib/matplotlib/blob/v3.4.3/matplotlibrc.template\n",
      "or from the matplotlib source distribution\n",
      "\n",
      "Bad key verbose.level in file C:\\Users\\manue\\anaconda3\\envs\\TecnicasPrediccion\\lib\\site-packages\\matplotlib\\mpl-data\\stylelib\\_classic_test.mplstyle, line 472 ('verbose.level  : silent      # one of silent, helpful, debug, debug-annoying')\n",
      "You probably need to get an updated matplotlibrc file from\n",
      "https://github.com/matplotlib/matplotlib/blob/v3.4.3/matplotlibrc.template\n",
      "or from the matplotlib source distribution\n",
      "\n",
      "Bad key verbose.fileo in file C:\\Users\\manue\\anaconda3\\envs\\TecnicasPrediccion\\lib\\site-packages\\matplotlib\\mpl-data\\stylelib\\_classic_test.mplstyle, line 473 ('verbose.fileo  : sys.stdout  # a log filename, sys.stdout or sys.stderr')\n",
      "You probably need to get an updated matplotlibrc file from\n",
      "https://github.com/matplotlib/matplotlib/blob/v3.4.3/matplotlibrc.template\n",
      "or from the matplotlib source distribution\n"
     ]
    },
    {
     "data": {
      "text/html": [
       "<div>\n",
       "<style scoped>\n",
       "    .dataframe tbody tr th:only-of-type {\n",
       "        vertical-align: middle;\n",
       "    }\n",
       "\n",
       "    .dataframe tbody tr th {\n",
       "        vertical-align: top;\n",
       "    }\n",
       "\n",
       "    .dataframe thead th {\n",
       "        text-align: right;\n",
       "    }\n",
       "</style>\n",
       "<table border=\"1\" class=\"dataframe\">\n",
       "  <thead>\n",
       "    <tr style=\"text-align: right;\">\n",
       "      <th></th>\n",
       "      <th>Fecha</th>\n",
       "      <th>Billetes</th>\n",
       "    </tr>\n",
       "  </thead>\n",
       "  <tbody>\n",
       "    <tr>\n",
       "      <th>198</th>\n",
       "      <td>2016-10-29</td>\n",
       "      <td>279404</td>\n",
       "    </tr>\n",
       "    <tr>\n",
       "      <th>199</th>\n",
       "      <td>2016-11-05</td>\n",
       "      <td>183583</td>\n",
       "    </tr>\n",
       "    <tr>\n",
       "      <th>200</th>\n",
       "      <td>2016-11-12</td>\n",
       "      <td>184902</td>\n",
       "    </tr>\n",
       "    <tr>\n",
       "      <th>201</th>\n",
       "      <td>2016-11-19</td>\n",
       "      <td>178948</td>\n",
       "    </tr>\n",
       "    <tr>\n",
       "      <th>202</th>\n",
       "      <td>2016-11-26</td>\n",
       "      <td>169766</td>\n",
       "    </tr>\n",
       "    <tr>\n",
       "      <th>203</th>\n",
       "      <td>2016-12-03</td>\n",
       "      <td>163841</td>\n",
       "    </tr>\n",
       "    <tr>\n",
       "      <th>204</th>\n",
       "      <td>2016-12-10</td>\n",
       "      <td>127511</td>\n",
       "    </tr>\n",
       "    <tr>\n",
       "      <th>205</th>\n",
       "      <td>2016-12-17</td>\n",
       "      <td>162260</td>\n",
       "    </tr>\n",
       "    <tr>\n",
       "      <th>206</th>\n",
       "      <td>2016-12-24</td>\n",
       "      <td>135565</td>\n",
       "    </tr>\n",
       "    <tr>\n",
       "      <th>207</th>\n",
       "      <td>2016-12-31</td>\n",
       "      <td>113289</td>\n",
       "    </tr>\n",
       "  </tbody>\n",
       "</table>\n",
       "</div>"
      ],
      "text/plain": [
       "          Fecha  Billetes\n",
       "198  2016-10-29    279404\n",
       "199  2016-11-05    183583\n",
       "200  2016-11-12    184902\n",
       "201  2016-11-19    178948\n",
       "202  2016-11-26    169766\n",
       "203  2016-12-03    163841\n",
       "204  2016-12-10    127511\n",
       "205  2016-12-17    162260\n",
       "206  2016-12-24    135565\n",
       "207  2016-12-31    113289"
      ]
     },
     "execution_count": 2,
     "metadata": {},
     "output_type": "execute_result"
    }
   ],
   "source": [
    "import warnings\n",
    "warnings.filterwarnings('ignore')\n",
    "import pandas as pd\n",
    "from darts import TimeSeries\n",
    "data = pd.read_csv('../data/datos semanales.csv')\n",
    "series = TimeSeries.from_dataframe(data, 'Fecha', 'Billetes')\n",
    "data.tail(10)"
   ]
  },
  {
   "cell_type": "code",
   "execution_count": 3,
   "id": "11edc0d6",
   "metadata": {},
   "outputs": [],
   "source": [
    "# train, val = series.split_before(pd.Timestamp('2016-11-27'))\n",
    "\n",
    "data['Fecha'] = pd.to_datetime(data['Fecha'])\n",
    "\n",
    "fecha_corte = pd.to_datetime('2016-11-27')\n",
    "\n",
    "# Dividir en conjuntos de entrenamiento y prueba\n",
    "train, val = data[data['Fecha'] < fecha_corte], data[data['Fecha'] >= fecha_corte]"
   ]
  },
  {
   "cell_type": "code",
   "execution_count": 4,
   "id": "ef5e2eca",
   "metadata": {},
   "outputs": [],
   "source": [
    "# convertir pandas.core.frame.DataFrame en darts.timeseries.TimeSeries\n",
    "train = TimeSeries.from_dataframe(train, time_col='Fecha', value_cols='Billetes')\n",
    "val = TimeSeries.from_dataframe(val, time_col='Fecha', value_cols='Billetes')\n"
   ]
  },
  {
   "cell_type": "code",
   "execution_count": 5,
   "id": "efdcf0f6",
   "metadata": {},
   "outputs": [
    {
     "name": "stderr",
     "output_type": "stream",
     "text": [
      "The prophet module could not be imported. To enable support for Prophet model, follow the instruction in the README: https://github.com/unit8co/darts/blob/master/INSTALL.md\n"
     ]
    }
   ],
   "source": [
    "from darts.models import TBATS\n",
    "\n",
    "# Tu código aquí\n",
    "model = TBATS()"
   ]
  },
  {
   "cell_type": "code",
   "execution_count": 6,
   "id": "cfa5033a",
   "metadata": {},
   "outputs": [],
   "source": [
    "model.fit(train)\n",
    "forecast = model.predict(len(val))"
   ]
  },
  {
   "cell_type": "code",
   "execution_count": 7,
   "id": "46b286a5",
   "metadata": {},
   "outputs": [
    {
     "name": "stdout",
     "output_type": "stream",
     "text": [
      "model TBATS() obtains MAPE: 9.46%\n"
     ]
    }
   ],
   "source": [
    "from darts.metrics import mape\n",
    "print(\"model {} obtains MAPE: {:.2f}%\".format(model, mape(val, forecast)))"
   ]
  },
  {
   "cell_type": "markdown",
   "id": "28b895c2",
   "metadata": {},
   "source": [
    "Con parámetros: 9,46%\n",
    "\n",
    "Sin parámetros: 9,46%"
   ]
  },
  {
   "cell_type": "code",
   "execution_count": 8,
   "id": "461c46b5",
   "metadata": {},
   "outputs": [
    {
     "name": "stdout",
     "output_type": "stream",
     "text": [
      "2024-01-09 20:36:39.734967\n",
      "2024-01-09 20:37:06.501482\n",
      "0:00:26.766515\n"
     ]
    }
   ],
   "source": [
    "final = datetime.datetime.now()\n",
    "duracion = final-principio\n",
    "print(principio)\n",
    "print(final)\n",
    "print(duracion)"
   ]
  }
 ],
 "metadata": {
  "kernelspec": {
   "display_name": "TecnicasPrediccion",
   "language": "python",
   "name": "tecnicasprediccion"
  },
  "language_info": {
   "codemirror_mode": {
    "name": "ipython",
    "version": 3
   },
   "file_extension": ".py",
   "mimetype": "text/x-python",
   "name": "python",
   "nbconvert_exporter": "python",
   "pygments_lexer": "ipython3",
   "version": "3.7.12"
  }
 },
 "nbformat": 4,
 "nbformat_minor": 5
}
