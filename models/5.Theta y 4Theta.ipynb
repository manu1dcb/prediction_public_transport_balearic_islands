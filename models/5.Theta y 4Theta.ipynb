{
 "cells": [
  {
   "cell_type": "markdown",
   "metadata": {
    "id": "6edpRJYEIlKJ"
   },
   "source": [
    "# Modelos Theta y 4Theta"
   ]
  },
  {
   "cell_type": "markdown",
   "metadata": {
    "id": "YLY_dZHiWICt"
   },
   "source": [
    "# Modelos Theta"
   ]
  },
  {
   "cell_type": "code",
   "execution_count": 1,
   "metadata": {
    "colab": {
     "base_uri": "https://localhost:8080/"
    },
    "executionInfo": {
     "elapsed": 18103,
     "status": "ok",
     "timestamp": 1668531745999,
     "user": {
      "displayName": "Ricardo A. Queralt Sánchez de las Matas",
      "userId": "02726433029928487829"
     },
     "user_tz": -60
    },
    "id": "1Cvhy9KNWGXU",
    "outputId": "c69715b5-95db-4075-f8b6-2ecdd15f4e77"
   },
   "outputs": [
    {
     "ename": "ModuleNotFoundError",
     "evalue": "No module named 'google.colab'",
     "output_type": "error",
     "traceback": [
      "\u001b[1;31m---------------------------------------------------------------------------\u001b[0m",
      "\u001b[1;31mModuleNotFoundError\u001b[0m                       Traceback (most recent call last)",
      "Cell \u001b[1;32mIn[1], line 3\u001b[0m\n\u001b[0;32m      1\u001b[0m \u001b[38;5;66;03m# \u001b[39;00m\n\u001b[0;32m      2\u001b[0m \u001b[38;5;28;01mimport\u001b[39;00m \u001b[38;5;21;01mos\u001b[39;00m\u001b[38;5;241m,\u001b[39m \u001b[38;5;21;01msys\u001b[39;00m\n\u001b[1;32m----> 3\u001b[0m \u001b[38;5;28;01mfrom\u001b[39;00m \u001b[38;5;21;01mgoogle\u001b[39;00m\u001b[38;5;21;01m.\u001b[39;00m\u001b[38;5;21;01mcolab\u001b[39;00m \u001b[38;5;28;01mimport\u001b[39;00m drive\n\u001b[0;32m      4\u001b[0m drive\u001b[38;5;241m.\u001b[39mmount(\u001b[38;5;124m'\u001b[39m\u001b[38;5;124m/content/mnt\u001b[39m\u001b[38;5;124m'\u001b[39m, force_remount\u001b[38;5;241m=\u001b[39m\u001b[38;5;28;01mTrue\u001b[39;00m)\n\u001b[0;32m      5\u001b[0m nb_path \u001b[38;5;241m=\u001b[39m \u001b[38;5;124m'\u001b[39m\u001b[38;5;124m/content/notebooks\u001b[39m\u001b[38;5;124m'\u001b[39m\n",
      "\u001b[1;31mModuleNotFoundError\u001b[0m: No module named 'google.colab'"
     ]
    }
   ],
   "source": [
    "# \n",
    "import os, sys\n",
    "from google.colab import drive\n",
    "drive.mount('/content/mnt', force_remount=True)\n",
    "nb_path = '/content/notebooks'\n",
    "os.symlink('/content/mnt/My Drive/Colab Notebooks/Librerias', nb_path)\n",
    "#sys.path.insert(0, nb_path)  # or append(nb_path)\n",
    "sys.path.append(nb_path)  # or append(nb_path)"
   ]
  },
  {
   "cell_type": "code",
   "execution_count": null,
   "metadata": {
    "executionInfo": {
     "elapsed": 233,
     "status": "ok",
     "timestamp": 1668531757815,
     "user": {
      "displayName": "Ricardo A. Queralt Sánchez de las Matas",
      "userId": "02726433029928487829"
     },
     "user_tz": -60
    },
    "id": "3CrEfELLc65N"
   },
   "outputs": [],
   "source": [
    "import warnings\n",
    "warnings.filterwarnings('ignore')"
   ]
  },
  {
   "cell_type": "markdown",
   "metadata": {
    "id": "v8C3stPfIyKo"
   },
   "source": [
    "Es necesario tener instalado DARTS\n",
    "\n",
    "[Darts: https://unit8co.github.io/darts/index.html](https://unit8co.github.io/darts/index.html)\n"
   ]
  },
  {
   "cell_type": "code",
   "execution_count": null,
   "metadata": {
    "id": "WWiOlT2eX0XE"
   },
   "outputs": [],
   "source": [
    "#!pip install darts"
   ]
  },
  {
   "cell_type": "code",
   "execution_count": null,
   "metadata": {
    "executionInfo": {
     "elapsed": 4590,
     "status": "ok",
     "timestamp": 1668531771639,
     "user": {
      "displayName": "Ricardo A. Queralt Sánchez de las Matas",
      "userId": "02726433029928487829"
     },
     "user_tz": -60
    },
    "id": "j65O_uaPaz8o"
   },
   "outputs": [],
   "source": [
    "# Packages\n",
    "import pandas as pd\n",
    "import numpy as np\n",
    "import matplotlib.pyplot as plt"
   ]
  },
  {
   "cell_type": "markdown",
   "metadata": {
    "id": "lomkH7eJ3t_Q"
   },
   "source": [
    "- Utilizamos la libreria **darts**\n",
    "- Seleccionamos los datos de Lineas aereas"
   ]
  },
  {
   "cell_type": "code",
   "execution_count": null,
   "metadata": {
    "executionInfo": {
     "elapsed": 14516,
     "status": "ok",
     "timestamp": 1668531796675,
     "user": {
      "displayName": "Ricardo A. Queralt Sánchez de las Matas",
      "userId": "02726433029928487829"
     },
     "user_tz": -60
    },
    "id": "jGi0RgLRWR7V"
   },
   "outputs": [],
   "source": [
    "# %%\n",
    "from darts import TimeSeries\n",
    "from darts.datasets import AirPassengersDataset\n"
   ]
  },
  {
   "cell_type": "markdown",
   "metadata": {
    "id": "4Ml08bOd384-"
   },
   "source": [
    "- **Grafico de la Serie Temporal de lineas aereas**\n",
    "\n"
   ]
  },
  {
   "cell_type": "code",
   "execution_count": null,
   "metadata": {
    "colab": {
     "base_uri": "https://localhost:8080/",
     "height": 898
    },
    "executionInfo": {
     "elapsed": 444,
     "status": "ok",
     "timestamp": 1668531800376,
     "user": {
      "displayName": "Ricardo A. Queralt Sánchez de las Matas",
      "userId": "02726433029928487829"
     },
     "user_tz": -60
    },
    "id": "LSDivR0rWhkM",
    "outputId": "4b400b34-a7fd-4f49-b357-f75b248c9d6c"
   },
   "outputs": [],
   "source": [
    "\n",
    "# %%\n",
    "series = AirPassengersDataset().load()\n",
    "series\n"
   ]
  },
  {
   "cell_type": "code",
   "execution_count": null,
   "metadata": {
    "colab": {
     "base_uri": "https://localhost:8080/",
     "height": 396
    },
    "executionInfo": {
     "elapsed": 1202,
     "status": "ok",
     "timestamp": 1668531805892,
     "user": {
      "displayName": "Ricardo A. Queralt Sánchez de las Matas",
      "userId": "02726433029928487829"
     },
     "user_tz": -60
    },
    "id": "B4gHyV9b4gLF",
    "outputId": "e2a043cf-a472-4f71-8493-e323c9aaccc6"
   },
   "outputs": [],
   "source": [
    "#import matplotlib.pyplot as plt\n",
    "plt.rcParams[\"figure.figsize\"] = (12,6)\n",
    "series.plot()"
   ]
  },
  {
   "cell_type": "markdown",
   "metadata": {
    "id": "fBs6zqlnJTDH"
   },
   "source": [
    "- Diferentes formas de seleccionat TRAIN y TEST"
   ]
  },
  {
   "cell_type": "markdown",
   "metadata": {
    "id": "MNv06J41JeK4"
   },
   "source": [
    "\n",
    "\n",
    "```\n",
    "split_before\n",
    "```\n",
    "\n"
   ]
  },
  {
   "cell_type": "code",
   "execution_count": null,
   "metadata": {
    "colab": {
     "base_uri": "https://localhost:8080/",
     "height": 396
    },
    "executionInfo": {
     "elapsed": 5,
     "status": "ok",
     "timestamp": 1668531172701,
     "user": {
      "displayName": "Ricardo A. Queralt Sánchez de las Matas",
      "userId": "02726433029928487829"
     },
     "user_tz": -60
    },
    "id": "skiWSfU2XRaN",
    "outputId": "bf301c9b-187d-4a6d-9e32-250de446fa0f"
   },
   "outputs": [],
   "source": [
    "# %%\n",
    "series1, series2 = series.split_before(0.75)\n",
    "series1.plot()\n",
    "series2.plot()\n",
    "\n"
   ]
  },
  {
   "cell_type": "markdown",
   "metadata": {
    "id": "ufub0ERoJoiy"
   },
   "source": [
    "- Con el número de observaciones"
   ]
  },
  {
   "cell_type": "code",
   "execution_count": null,
   "metadata": {
    "colab": {
     "base_uri": "https://localhost:8080/",
     "height": 396
    },
    "executionInfo": {
     "elapsed": 1469,
     "status": "ok",
     "timestamp": 1668531194678,
     "user": {
      "displayName": "Ricardo A. Queralt Sánchez de las Matas",
      "userId": "02726433029928487829"
     },
     "user_tz": -60
    },
    "id": "Lk5FZQ1qXTgV",
    "outputId": "505cc16c-d6dd-4e4e-a20a-fdb50fb7c3a3"
   },
   "outputs": [],
   "source": [
    "\n",
    "# %%\n",
    "series1, series2 = series[:-36], series[-36:]\n",
    "series1.plot()\n",
    "series2.plot()\n"
   ]
  },
  {
   "cell_type": "markdown",
   "metadata": {
    "id": "7l_0LVjJJnFe"
   },
   "source": [
    "Con la fecha"
   ]
  },
  {
   "cell_type": "code",
   "execution_count": null,
   "metadata": {
    "colab": {
     "base_uri": "https://localhost:8080/",
     "height": 396
    },
    "executionInfo": {
     "elapsed": 1047,
     "status": "ok",
     "timestamp": 1668531814854,
     "user": {
      "displayName": "Ricardo A. Queralt Sánchez de las Matas",
      "userId": "02726433029928487829"
     },
     "user_tz": -60
    },
    "id": "DXnzUadvXVS7",
    "outputId": "3668a96a-5a03-405a-a408-088c86bb314b"
   },
   "outputs": [],
   "source": [
    "train, val = series.split_before(pd.Timestamp(\"19580101\"))\n",
    "train.plot(label=\"training\")\n",
    "val.plot(label=\"validation\")"
   ]
  },
  {
   "cell_type": "markdown",
   "metadata": {
    "id": "avmIDCOcJ2Wc"
   },
   "source": [
    "Comenzamos con el modelo THETA"
   ]
  },
  {
   "cell_type": "code",
   "execution_count": null,
   "metadata": {
    "colab": {
     "base_uri": "https://localhost:8080/"
    },
    "executionInfo": {
     "elapsed": 18,
     "status": "ok",
     "timestamp": 1668532004872,
     "user": {
      "displayName": "Ricardo A. Queralt Sánchez de las Matas",
      "userId": "02726433029928487829"
     },
     "user_tz": -60
    },
    "id": "P-dh96aKKR03",
    "outputId": "992c08b5-8148-4249-bef1-e54d1017adb9"
   },
   "outputs": [],
   "source": [
    "\n",
    "# %%\n",
    "from darts.models import Theta, FourTheta\n",
    "from darts.metrics import mape\n",
    "\n",
    "model =Theta(seasonality_period=12) # Supone Theta 2\n",
    "model.fit(train)\n",
    "forecast = model.predict(len(val))\n",
    "print(\"model {} obtains MAPE: {:.2f}%\".format(model, mape(val, forecast)))\n",
    "\n",
    "\n"
   ]
  },
  {
   "cell_type": "code",
   "execution_count": null,
   "metadata": {
    "colab": {
     "base_uri": "https://localhost:8080/",
     "height": 396
    },
    "executionInfo": {
     "elapsed": 855,
     "status": "ok",
     "timestamp": 1668532073345,
     "user": {
      "displayName": "Ricardo A. Queralt Sánchez de las Matas",
      "userId": "02726433029928487829"
     },
     "user_tz": -60
    },
    "id": "6PB1EEvIKR1G",
    "outputId": "0d3dc8be-ebb7-4290-ea28-67076689f49c"
   },
   "outputs": [],
   "source": [
    "# %%\n",
    "train.plot(label=\"train\")\n",
    "val.plot(label=\"true\")\n",
    "forecast.plot(label=\"prediction\")"
   ]
  },
  {
   "cell_type": "code",
   "execution_count": null,
   "metadata": {
    "executionInfo": {
     "elapsed": 2182,
     "status": "ok",
     "timestamp": 1668532184872,
     "user": {
      "displayName": "Ricardo A. Queralt Sánchez de las Matas",
      "userId": "02726433029928487829"
     },
     "user_tz": -60
    },
    "id": "al6RDppNKR1G"
   },
   "outputs": [],
   "source": [
    "\n",
    "# %%\n",
    "# Search for the best theta parameter, by trying 50 different values\n",
    "thetas = 2- np.linspace(-10, 10, 50)\n",
    "\n",
    "best_mape = float(\"inf\")\n",
    "best_theta = 0\n",
    "\n",
    "\n",
    "\n",
    "\n",
    "for theta in thetas:\n",
    "\n",
    "    model = Theta(theta)\n",
    "    model.fit(train)\n",
    "    pred_theta = model.predict(len(val))\n",
    "    res = mape(val, pred_theta)\n",
    "\n",
    "    if res < best_mape:\n",
    "        best_mape = res\n",
    "        best_theta = theta\n"
   ]
  },
  {
   "cell_type": "code",
   "execution_count": null,
   "metadata": {
    "colab": {
     "base_uri": "https://localhost:8080/"
    },
    "executionInfo": {
     "elapsed": 639,
     "status": "ok",
     "timestamp": 1668532194986,
     "user": {
      "displayName": "Ricardo A. Queralt Sánchez de las Matas",
      "userId": "02726433029928487829"
     },
     "user_tz": -60
    },
    "id": "bm7JUv4cKR1G",
    "outputId": "6750d409-2584-4c38-a839-1df491d8ec12"
   },
   "outputs": [],
   "source": [
    "thetas"
   ]
  },
  {
   "cell_type": "code",
   "execution_count": null,
   "metadata": {
    "colab": {
     "base_uri": "https://localhost:8080/"
    },
    "executionInfo": {
     "elapsed": 323,
     "status": "ok",
     "timestamp": 1668532219107,
     "user": {
      "displayName": "Ricardo A. Queralt Sánchez de las Matas",
      "userId": "02726433029928487829"
     },
     "user_tz": -60
    },
    "id": "MOXnYwZJNiiR",
    "outputId": "65f9ca8b-e1f3-479b-986b-1182ccabcd7d"
   },
   "outputs": [],
   "source": [
    "best_theta"
   ]
  },
  {
   "cell_type": "code",
   "execution_count": null,
   "metadata": {
    "colab": {
     "base_uri": "https://localhost:8080/"
    },
    "executionInfo": {
     "elapsed": 237,
     "status": "ok",
     "timestamp": 1668532298571,
     "user": {
      "displayName": "Ricardo A. Queralt Sánchez de las Matas",
      "userId": "02726433029928487829"
     },
     "user_tz": -60
    },
    "id": "sQqC0h57KR1H",
    "outputId": "955417e8-a555-4739-ced0-01b861170d33"
   },
   "outputs": [],
   "source": [
    "\n",
    "# %%\n",
    "best_theta_model = Theta(best_theta)\n",
    "best_theta_model.fit(train)\n",
    "pred_best_theta = best_theta_model.predict(len(val))\n",
    "\n",
    "print(\n",
    "    \"The MAPE is: {:.2f}, with theta = {}.\".format(\n",
    "        mape(val, pred_best_theta), best_theta\n",
    "    )\n",
    ")\n"
   ]
  },
  {
   "cell_type": "code",
   "execution_count": null,
   "metadata": {
    "colab": {
     "base_uri": "https://localhost:8080/",
     "height": 396
    },
    "executionInfo": {
     "elapsed": 5,
     "status": "ok",
     "timestamp": 1668532330496,
     "user": {
      "displayName": "Ricardo A. Queralt Sánchez de las Matas",
      "userId": "02726433029928487829"
     },
     "user_tz": -60
    },
    "id": "wPBA7nWfN517",
    "outputId": "adbae344-1223-4fe1-fe6c-f8fadce56f9e"
   },
   "outputs": [],
   "source": [
    "# %%\n",
    "train.plot(label=\"train\")\n",
    "val.plot(label=\"true\")\n",
    "pred_best_theta.plot(label=\"prediction\")"
   ]
  },
  {
   "cell_type": "code",
   "execution_count": null,
   "metadata": {
    "colab": {
     "base_uri": "https://localhost:8080/"
    },
    "executionInfo": {
     "elapsed": 308,
     "status": "ok",
     "timestamp": 1668532391573,
     "user": {
      "displayName": "Ricardo A. Queralt Sánchez de las Matas",
      "userId": "02726433029928487829"
     },
     "user_tz": -60
    },
    "id": "QFqS_89aKR1H",
    "outputId": "f04b6f5e-319e-483c-af88-4da017dff97f"
   },
   "outputs": [],
   "source": [
    "best_theta_model.model_params"
   ]
  },
  {
   "cell_type": "markdown",
   "metadata": {
    "id": "gkb33F4LORO7"
   },
   "source": [
    "# Modelo 4Theta"
   ]
  },
  {
   "cell_type": "code",
   "execution_count": null,
   "metadata": {
    "colab": {
     "base_uri": "https://localhost:8080/"
    },
    "executionInfo": {
     "elapsed": 257,
     "status": "ok",
     "timestamp": 1668532448491,
     "user": {
      "displayName": "Ricardo A. Queralt Sánchez de las Matas",
      "userId": "02726433029928487829"
     },
     "user_tz": -60
    },
    "id": "EPHvTAo5XdSo",
    "outputId": "b9c6ebb4-579e-423b-d174-bb6dc074d9bc"
   },
   "outputs": [],
   "source": [
    "model =FourTheta(seasonality_period=12)\n",
    "model.fit(train)\n",
    "forecast = model.predict(len(val))\n",
    "print(\"model {} obtains MAPE: {:.2f}%\".format(model, mape(val, forecast)))\n",
    "\n",
    "\n"
   ]
  },
  {
   "cell_type": "code",
   "execution_count": null,
   "metadata": {
    "colab": {
     "base_uri": "https://localhost:8080/",
     "height": 396
    },
    "executionInfo": {
     "elapsed": 843,
     "status": "ok",
     "timestamp": 1668532475575,
     "user": {
      "displayName": "Ricardo A. Queralt Sánchez de las Matas",
      "userId": "02726433029928487829"
     },
     "user_tz": -60
    },
    "id": "1ZinWvDWbTfr",
    "outputId": "2c3eaa88-9977-4555-f3fc-beda38c48c31"
   },
   "outputs": [],
   "source": [
    "# %%\n",
    "train.plot(label=\"train\")\n",
    "val.plot(label=\"true\")\n",
    "forecast.plot(label=\"prediction\")"
   ]
  },
  {
   "cell_type": "code",
   "execution_count": null,
   "metadata": {
    "id": "EP3vRmQ5mhaO"
   },
   "outputs": [],
   "source": [
    "from darts.utils.utils import SeasonalityMode, TrendMode, ModelMode\n",
    "theta_grid = {\n",
    "    #'theta':2- np.linspace(-10, 10, 10),\n",
    "    'theta':[-4,-3,-2,-1,1,2,3,4],\n",
    "    'model_mode': [ModelMode.ADDITIVE,ModelMode.MULTIPLICATIVE],\n",
    "    'season_mode': [SeasonalityMode.MULTIPLICATIVE,SeasonalityMode.ADDITIVE],\n",
    "    'trend_mode': [TrendMode.EXPONENTIAL,TrendMode.LINEAR]\n",
    "}\n",
    "\n",
    "best_grid_model=FourTheta.gridsearch(parameters=theta_grid,\n",
    "                                series=train,\n",
    "                                forecast_horizon=36, # 12\n",
    "                                start=0.5,\n",
    "                                last_points_only=False,\n",
    "                                metric=mape,\n",
    "                                reduction=np.mean,\n",
    "                                verbose=True,\n",
    "                                n_jobs=-1)\n",
    "\n",
    "best_grid_model"
   ]
  },
  {
   "cell_type": "code",
   "execution_count": null,
   "metadata": {
    "colab": {
     "base_uri": "https://localhost:8080/",
     "height": 396
    },
    "executionInfo": {
     "elapsed": 1548,
     "status": "ok",
     "timestamp": 1668533133656,
     "user": {
      "displayName": "Ricardo A. Queralt Sánchez de las Matas",
      "userId": "02726433029928487829"
     },
     "user_tz": -60
    },
    "id": "AD_8E3WBtDrg",
    "outputId": "9946f8c5-b727-45e3-e553-a34f95dabb2f"
   },
   "outputs": [],
   "source": [
    "modelo=FourTheta(theta=best_grid_model[1]['theta'],\n",
    "                 model_mode=ModelMode.ADDITIVE,\n",
    "                 season_mode=SeasonalityMode.MULTIPLICATIVE,\n",
    "                 trend_mode=TrendMode.LINEAR\n",
    "                 )\n",
    "modelo.fit(train)\n",
    "pred_modelo = modelo.predict(len(val))\n",
    "\n",
    "train.plot(label=\"train\")\n",
    "val.plot(label=\"true\")\n",
    "pred_modelo.plot(label=\"prediction\")"
   ]
  },
  {
   "cell_type": "code",
   "execution_count": null,
   "metadata": {
    "colab": {
     "base_uri": "https://localhost:8080/"
    },
    "executionInfo": {
     "elapsed": 417,
     "status": "ok",
     "timestamp": 1668533143962,
     "user": {
      "displayName": "Ricardo A. Queralt Sánchez de las Matas",
      "userId": "02726433029928487829"
     },
     "user_tz": -60
    },
    "id": "nolfAVZf1LqY",
    "outputId": "61c4f92f-ccce-4157-bff9-6b96e444f55b"
   },
   "outputs": [],
   "source": [
    "print(\"model {} obtains MAPE: {:.2f}%\".format(modelo, mape(val, pred_modelo)))"
   ]
  },
  {
   "cell_type": "code",
   "execution_count": null,
   "metadata": {
    "colab": {
     "base_uri": "https://localhost:8080/",
     "height": 396
    },
    "executionInfo": {
     "elapsed": 1136,
     "status": "ok",
     "timestamp": 1668533701823,
     "user": {
      "displayName": "Ricardo A. Queralt Sánchez de las Matas",
      "userId": "02726433029928487829"
     },
     "user_tz": -60
    },
    "id": "b7HcUeCsXaoT",
    "outputId": "15c426b2-f889-4302-a064-58759e255fd8"
   },
   "outputs": [],
   "source": [
    "\n",
    "# %%\n",
    "train.plot(label=\"train\")\n",
    "val.plot(label=\"true\")\n",
    "pred_modelo.plot(label=\"prediction 4Theta\")\n",
    "pred_best_theta.plot(label=\"prediction Theta\")\n",
    "\n",
    "#MANU: \n"
   ]
  },
  {
   "cell_type": "markdown",
   "metadata": {
    "id": "e8HoKhCjPZIB"
   },
   "source": [
    "# Cross Validation: Historical"
   ]
  },
  {
   "cell_type": "code",
   "execution_count": null,
   "metadata": {
    "colab": {
     "base_uri": "https://localhost:8080/",
     "height": 615
    },
    "executionInfo": {
     "elapsed": 1811,
     "status": "ok",
     "timestamp": 1668533963116,
     "user": {
      "displayName": "Ricardo A. Queralt Sánchez de las Matas",
      "userId": "02726433029928487829"
     },
     "user_tz": -60
    },
    "id": "ODVUeQbnXZzZ",
    "outputId": "feedff26-7424-40db-f2e7-4c474c31dd02"
   },
   "outputs": [],
   "source": [
    "\n",
    "\n",
    "# %%\n",
    "historical_fcast_theta = best_theta_model.historical_forecasts(\n",
    "    series, start=0.5, forecast_horizon=36, verbose=True, stride=1\n",
    ")\n",
    "\n",
    "series.plot(label=\"data\")\n",
    "historical_fcast_theta.plot(label=\"backtest 12-months ahead forecast (Theta)\")\n",
    "print(\"MAPE = {:.2f}%\".format(mape(historical_fcast_theta, series)))\n",
    "\n",
    "\n"
   ]
  },
  {
   "cell_type": "markdown",
   "metadata": {
    "id": "QtMsIpODSVS6"
   },
   "source": [
    "## BackTest"
   ]
  },
  {
   "cell_type": "code",
   "execution_count": null,
   "metadata": {
    "colab": {
     "base_uri": "https://localhost:8080/",
     "height": 841
    },
    "executionInfo": {
     "elapsed": 5038,
     "status": "ok",
     "timestamp": 1668534033913,
     "user": {
      "displayName": "Ricardo A. Queralt Sánchez de las Matas",
      "userId": "02726433029928487829"
     },
     "user_tz": -60
    },
    "id": "Lq3Qz-A8XY72",
    "outputId": "a1a670f2-7c66-4fb7-dc3c-d467b391e102"
   },
   "outputs": [],
   "source": [
    "\n",
    "# %%\n",
    "\n",
    "\n",
    "raw_errors = best_theta_model.backtest(\n",
    "    series, \n",
    "    start=0.4, \n",
    "    forecast_horizon=12, \n",
    "    metric=mape, \n",
    "    reduction=None, # None: return errors\n",
    "    verbose=True\n",
    ")\n",
    "\n",
    "from darts.utils.statistics import plot_hist\n",
    "\n",
    "plot_hist(\n",
    "    raw_errors,\n",
    "    bins=np.arange(0, max(raw_errors), 1),\n",
    "    title=\"Individual backtest error scores (histogram)\",\n",
    ")\n",
    "\n"
   ]
  },
  {
   "cell_type": "code",
   "execution_count": null,
   "metadata": {
    "colab": {
     "base_uri": "https://localhost:8080/"
    },
    "executionInfo": {
     "elapsed": 4046,
     "status": "ok",
     "timestamp": 1668534401580,
     "user": {
      "displayName": "Ricardo A. Queralt Sánchez de las Matas",
      "userId": "02726433029928487829"
     },
     "user_tz": -60
    },
    "id": "3-Oa8m0AXYGO",
    "outputId": "76b526ef-2fbd-4294-85ac-f69c14cd9a1e"
   },
   "outputs": [],
   "source": [
    "\n",
    "# %%\n",
    "average_error = best_theta_model.backtest(\n",
    "    series,\n",
    "    start=0.4,\n",
    "    forecast_horizon=12,\n",
    "    metric=mape,\n",
    "    reduction=np.mean,  # this is actually the default\n",
    "    verbose=True,\n",
    ")\n",
    "\n",
    "print(\"Average error (MAPE) over all historical forecasts: %.2f\" % average_error)\n",
    "\n",
    "\n"
   ]
  },
  {
   "cell_type": "code",
   "execution_count": null,
   "metadata": {
    "colab": {
     "base_uri": "https://localhost:8080/"
    },
    "executionInfo": {
     "elapsed": 237,
     "status": "ok",
     "timestamp": 1668534428540,
     "user": {
      "displayName": "Ricardo A. Queralt Sánchez de las Matas",
      "userId": "02726433029928487829"
     },
     "user_tz": -60
    },
    "id": "8CF_hAXe5hzl",
    "outputId": "e9bf40ed-0f1d-47a0-82a9-adbdc136fb97"
   },
   "outputs": [],
   "source": [
    "average_error"
   ]
  },
  {
   "cell_type": "code",
   "execution_count": null,
   "metadata": {
    "colab": {
     "base_uri": "https://localhost:8080/"
    },
    "executionInfo": {
     "elapsed": 534,
     "status": "ok",
     "timestamp": 1668534431826,
     "user": {
      "displayName": "Ricardo A. Queralt Sánchez de las Matas",
      "userId": "02726433029928487829"
     },
     "user_tz": -60
    },
    "id": "n73YQUpW5m21",
    "outputId": "d5f9c26b-1c27-447c-bd97-8a4fadf5d970"
   },
   "outputs": [],
   "source": [
    "raw_errors"
   ]
  }
 ],
 "metadata": {
  "colab": {
   "authorship_tag": "ABX9TyMKT/crMPDDjUroZG8pXOKw",
   "provenance": []
  },
  "kernelspec": {
   "display_name": "Python 3 (ipykernel)",
   "language": "python",
   "name": "python3"
  },
  "language_info": {
   "codemirror_mode": {
    "name": "ipython",
    "version": 3
   },
   "file_extension": ".py",
   "mimetype": "text/x-python",
   "name": "python",
   "nbconvert_exporter": "python",
   "pygments_lexer": "ipython3",
   "version": "3.11.4"
  }
 },
 "nbformat": 4,
 "nbformat_minor": 1
}
